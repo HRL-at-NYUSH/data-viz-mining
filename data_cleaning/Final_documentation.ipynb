{
  "nbformat": 4,
  "nbformat_minor": 0,
  "metadata": {
    "colab": {
      "name": "Final documentation.ipynb",
      "provenance": [],
      "collapsed_sections": []
    },
    "kernelspec": {
      "name": "python3",
      "display_name": "Python 3"
    },
    "language_info": {
      "name": "python"
    }
  },
  "cells": [
    {
      "cell_type": "code",
      "metadata": {
        "id": "EcIK3SiUF2XK"
      },
      "source": [
        "def assign_ward(df,ward):\n",
        "    region = []\n",
        "    for row in df.iterrows():\n",
        "        default = None\n",
        "        point = Point(row[1]['Longitutde'],row[1]['Latitude'])\n",
        "        for w in ward.iterrows():\n",
        "            if w[i]['geometry'].contains(point):\n",
        "                default = w[1]['name']\n",
        "                break\n",
        "        region.append(default)\n",
        "    df['Region']=region\n",
        "    return df"
      ],
      "execution_count": 1,
      "outputs": []
    },
    {
      "cell_type": "code",
      "metadata": {
        "colab": {
          "base_uri": "https://localhost:8080/"
        },
        "id": "tDDoOVxDGBIk",
        "outputId": "befed28f-c93a-441b-e6f6-0cdbfbc9710e"
      },
      "source": [
        "#@title\n",
        "import pandas as pd\n",
        "import numpy as np\n",
        "import matplotlib.pyplot as plt\n",
        "!pip install -U -q PyDrive\n",
        "from pydrive.auth import GoogleAuth\n",
        "from pydrive.drive import GoogleDrive\n",
        "from google.colab import auth\n",
        "from oauth2client.client import GoogleCredentials\n",
        "# Authenticate and create the PyDrive client.\n",
        "auth.authenticate_user()\n",
        "gauth = GoogleAuth()\n",
        "gauth.credentials = GoogleCredentials.get_application_default()\n",
        "drive = GoogleDrive(gauth)\n",
        "import scipy\n",
        "#@title\n",
        "myfile = drive.CreateFile({'id':'1IERVYlS-q_6B7V3kc7LnGnrD2Weiechk' })\n",
        "myfile.GetContentFile('geocoded_census_for_all_year.csv')\n",
        "df=pd.read_csv('geocoded_census_for_all_year.csv')\n",
        "print(\"All years data loaded finished!\")\n",
        "\n",
        "import matplotlib.pyplot as plt\n",
        "import pandas as pd\n",
        "import sklearn\n",
        "from sklearn.linear_model import LinearRegression"
      ],
      "execution_count": 2,
      "outputs": [
        {
          "output_type": "stream",
          "text": [
            "/usr/local/lib/python3.7/dist-packages/IPython/core/interactiveshell.py:2718: DtypeWarning: Columns (3,4,5,6,13,18,19,21,22,23,24,31,32,33,34,35,36) have mixed types.Specify dtype option on import or set low_memory=False.\n",
            "  interactivity=interactivity, compiler=compiler, result=result)\n"
          ],
          "name": "stderr"
        },
        {
          "output_type": "stream",
          "text": [
            "All years data loaded finished!\n"
          ],
          "name": "stdout"
        }
      ]
    },
    {
      "cell_type": "code",
      "metadata": {
        "colab": {
          "base_uri": "https://localhost:8080/"
        },
        "id": "LQaYU7kvLlaJ",
        "outputId": "b687505c-1b83-4e6f-fe79-2e9170ed7c99"
      },
      "source": [
        "data = pd.DataFrame(df)\n",
        "print(data)"
      ],
      "execution_count": 3,
      "outputs": [
        {
          "output_type": "stream",
          "text": [
            "                       DataId  RecordId  ...  Native Language Industry\n",
            "0               4242173-00709   1988726  ...              NaN      NaN\n",
            "1               4242173-00709  38791804  ...              NaN      NaN\n",
            "2               4242173-00709   2715277  ...              NaN      NaN\n",
            "3               4242173-00709   2715227  ...              NaN      NaN\n",
            "4               4242173-00709   2431387  ...              NaN      NaN\n",
            "...                       ...       ...  ...              ...      ...\n",
            "11871758  m-t0627-02672-01129  15948451  ...              NaN      NaN\n",
            "11871759  m-t0627-02630-00994  14988324  ...              NaN      NaN\n",
            "11871760  m-t0627-02630-00994  14988326  ...              NaN      NaN\n",
            "11871761  m-t0627-02630-00994  14988327  ...              NaN      NaN\n",
            "11871762  m-t0627-02630-00994  14988325  ...              NaN      NaN\n",
            "\n",
            "[11871763 rows x 37 columns]\n"
          ],
          "name": "stdout"
        }
      ]
    },
    {
      "cell_type": "code",
      "metadata": {
        "colab": {
          "base_uri": "https://localhost:8080/"
        },
        "id": "RrhWF374Ietq",
        "outputId": "8dff5f02-42cc-454e-8297-5f79ceb4f931"
      },
      "source": [
        "import numpy as np\n",
        "from shapely.geometry import Point\n",
        "from shapely.ops import cascaded_union\n",
        "!pip install geopandas\n",
        "import geopandas as gpd"
      ],
      "execution_count": 4,
      "outputs": [
        {
          "output_type": "stream",
          "text": [
            "Requirement already satisfied: geopandas in /usr/local/lib/python3.7/dist-packages (0.9.0)\n",
            "Requirement already satisfied: shapely>=1.6 in /usr/local/lib/python3.7/dist-packages (from geopandas) (1.7.1)\n",
            "Requirement already satisfied: pyproj>=2.2.0 in /usr/local/lib/python3.7/dist-packages (from geopandas) (3.1.0)\n",
            "Requirement already satisfied: pandas>=0.24.0 in /usr/local/lib/python3.7/dist-packages (from geopandas) (1.1.5)\n",
            "Requirement already satisfied: fiona>=1.8 in /usr/local/lib/python3.7/dist-packages (from geopandas) (1.8.20)\n",
            "Requirement already satisfied: six>=1.7 in /usr/local/lib/python3.7/dist-packages (from fiona>=1.8->geopandas) (1.15.0)\n",
            "Requirement already satisfied: attrs>=17 in /usr/local/lib/python3.7/dist-packages (from fiona>=1.8->geopandas) (21.2.0)\n",
            "Requirement already satisfied: click>=4.0 in /usr/local/lib/python3.7/dist-packages (from fiona>=1.8->geopandas) (7.1.2)\n",
            "Requirement already satisfied: click-plugins>=1.0 in /usr/local/lib/python3.7/dist-packages (from fiona>=1.8->geopandas) (1.1.1)\n",
            "Requirement already satisfied: setuptools in /usr/local/lib/python3.7/dist-packages (from fiona>=1.8->geopandas) (57.4.0)\n",
            "Requirement already satisfied: munch in /usr/local/lib/python3.7/dist-packages (from fiona>=1.8->geopandas) (2.5.0)\n",
            "Requirement already satisfied: cligj>=0.5 in /usr/local/lib/python3.7/dist-packages (from fiona>=1.8->geopandas) (0.7.2)\n",
            "Requirement already satisfied: certifi in /usr/local/lib/python3.7/dist-packages (from fiona>=1.8->geopandas) (2021.5.30)\n",
            "Requirement already satisfied: numpy>=1.15.4 in /usr/local/lib/python3.7/dist-packages (from pandas>=0.24.0->geopandas) (1.19.5)\n",
            "Requirement already satisfied: python-dateutil>=2.7.3 in /usr/local/lib/python3.7/dist-packages (from pandas>=0.24.0->geopandas) (2.8.2)\n",
            "Requirement already satisfied: pytz>=2017.2 in /usr/local/lib/python3.7/dist-packages (from pandas>=0.24.0->geopandas) (2018.9)\n"
          ],
          "name": "stdout"
        }
      ]
    },
    {
      "cell_type": "code",
      "metadata": {
        "id": "911naqroJ76t"
      },
      "source": [
        "myfile = drive.CreateFile({'id':'150ysLQV5pSpKgoZFTfCfGkwtP9Cdr6kl' })\n",
        "myfile.GetContentFile('Updated_Polygon-point.shp')"
      ],
      "execution_count": 5,
      "outputs": []
    },
    {
      "cell_type": "code",
      "metadata": {
        "id": "9v3LVTeHKLLn"
      },
      "source": [
        "import tqdm"
      ],
      "execution_count": 6,
      "outputs": []
    },
    {
      "cell_type": "code",
      "metadata": {
        "colab": {
          "base_uri": "https://localhost:8080/"
        },
        "id": "wd0356NFMn5U",
        "outputId": "5b5044ae-737b-4287-8657-568c4576899d"
      },
      "source": [
        "from google.colab import drive\n",
        "drive.mount('/content/gdrive')"
      ],
      "execution_count": 8,
      "outputs": [
        {
          "output_type": "stream",
          "text": [
            "Mounted at /content/gdrive\n"
          ],
          "name": "stdout"
        }
      ]
    },
    {
      "cell_type": "code",
      "metadata": {
        "id": "kpfM8ucaM5XL"
      },
      "source": [
        "t = '1sa5cDXxFIxhg_VAoaMPnvlUzSLH3Dy5A'"
      ],
      "execution_count": 9,
      "outputs": []
    },
    {
      "cell_type": "code",
      "metadata": {
        "colab": {
          "base_uri": "https://localhost:8080/"
        },
        "id": "thNzf6mQNdCB",
        "outputId": "ed3f886e-694c-4b8b-8d3f-85949e8edfe0"
      },
      "source": [
        "drive = GoogleDrive(gauth)\n",
        "wb = drive.CreateFile({'id':t})\n",
        "\n",
        "wb.GetContentFile('Workbook1.csv')\n",
        "wbf=pd.read_csv('Workbook1.csv')\n",
        "print(\"Workbook1 finished\")"
      ],
      "execution_count": 12,
      "outputs": [
        {
          "output_type": "stream",
          "text": [
            "Workbook1 finished\n"
          ],
          "name": "stdout"
        }
      ]
    },
    {
      "cell_type": "code",
      "metadata": {
        "colab": {
          "base_uri": "https://localhost:8080/",
          "height": 204
        },
        "id": "YE0jxU91NwUL",
        "outputId": "7602c165-23e3-475e-df2c-ed44d65bb499"
      },
      "source": [
        "wbf"
      ],
      "execution_count": 13,
      "outputs": [
        {
          "output_type": "execute_result",
          "data": {
            "text/html": [
              "<div>\n",
              "<style scoped>\n",
              "    .dataframe tbody tr th:only-of-type {\n",
              "        vertical-align: middle;\n",
              "    }\n",
              "\n",
              "    .dataframe tbody tr th {\n",
              "        vertical-align: top;\n",
              "    }\n",
              "\n",
              "    .dataframe thead th {\n",
              "        text-align: right;\n",
              "    }\n",
              "</style>\n",
              "<table border=\"1\" class=\"dataframe\">\n",
              "  <thead>\n",
              "    <tr style=\"text-align: right;\">\n",
              "      <th></th>\n",
              "      <th>testcol1</th>\n",
              "      <th>testcol2</th>\n",
              "      <th>testcol3</th>\n",
              "      <th>testcol4</th>\n",
              "      <th>testcol5</th>\n",
              "    </tr>\n",
              "  </thead>\n",
              "  <tbody>\n",
              "    <tr>\n",
              "      <th>0</th>\n",
              "      <td>a</td>\n",
              "      <td>0.082736</td>\n",
              "      <td>0.422523</td>\n",
              "      <td>0.232816</td>\n",
              "      <td>0.742332</td>\n",
              "    </tr>\n",
              "    <tr>\n",
              "      <th>1</th>\n",
              "      <td>b</td>\n",
              "      <td>0.995833</td>\n",
              "      <td>0.192117</td>\n",
              "      <td>0.796194</td>\n",
              "      <td>0.720152</td>\n",
              "    </tr>\n",
              "    <tr>\n",
              "      <th>2</th>\n",
              "      <td>c</td>\n",
              "      <td>0.836093</td>\n",
              "      <td>0.217002</td>\n",
              "      <td>0.727714</td>\n",
              "      <td>0.099062</td>\n",
              "    </tr>\n",
              "    <tr>\n",
              "      <th>3</th>\n",
              "      <td>d</td>\n",
              "      <td>0.983239</td>\n",
              "      <td>0.442213</td>\n",
              "      <td>0.254554</td>\n",
              "      <td>0.273998</td>\n",
              "    </tr>\n",
              "    <tr>\n",
              "      <th>4</th>\n",
              "      <td>e</td>\n",
              "      <td>0.619621</td>\n",
              "      <td>0.831332</td>\n",
              "      <td>0.889087</td>\n",
              "      <td>0.456719</td>\n",
              "    </tr>\n",
              "  </tbody>\n",
              "</table>\n",
              "</div>"
            ],
            "text/plain": [
              "  testcol1  testcol2  testcol3  testcol4  testcol5\n",
              "0        a  0.082736  0.422523  0.232816  0.742332\n",
              "1        b  0.995833  0.192117  0.796194  0.720152\n",
              "2        c  0.836093  0.217002  0.727714  0.099062\n",
              "3        d  0.983239  0.442213  0.254554  0.273998\n",
              "4        e  0.619621  0.831332  0.889087  0.456719"
            ]
          },
          "metadata": {},
          "execution_count": 13
        }
      ]
    },
    {
      "cell_type": "code",
      "metadata": {
        "id": "1UMz54ZXNxb8"
      },
      "source": [
        "wbf[\"new columns\"]=[0,1,2,3,4]"
      ],
      "execution_count": 14,
      "outputs": []
    },
    {
      "cell_type": "code",
      "metadata": {
        "colab": {
          "base_uri": "https://localhost:8080/",
          "height": 204
        },
        "id": "sCeiU7hJN1mT",
        "outputId": "6ab94f81-b0eb-401a-b27e-75f1a0169923"
      },
      "source": [
        "wbf"
      ],
      "execution_count": 15,
      "outputs": [
        {
          "output_type": "execute_result",
          "data": {
            "text/html": [
              "<div>\n",
              "<style scoped>\n",
              "    .dataframe tbody tr th:only-of-type {\n",
              "        vertical-align: middle;\n",
              "    }\n",
              "\n",
              "    .dataframe tbody tr th {\n",
              "        vertical-align: top;\n",
              "    }\n",
              "\n",
              "    .dataframe thead th {\n",
              "        text-align: right;\n",
              "    }\n",
              "</style>\n",
              "<table border=\"1\" class=\"dataframe\">\n",
              "  <thead>\n",
              "    <tr style=\"text-align: right;\">\n",
              "      <th></th>\n",
              "      <th>testcol1</th>\n",
              "      <th>testcol2</th>\n",
              "      <th>testcol3</th>\n",
              "      <th>testcol4</th>\n",
              "      <th>testcol5</th>\n",
              "      <th>new columns</th>\n",
              "    </tr>\n",
              "  </thead>\n",
              "  <tbody>\n",
              "    <tr>\n",
              "      <th>0</th>\n",
              "      <td>a</td>\n",
              "      <td>0.082736</td>\n",
              "      <td>0.422523</td>\n",
              "      <td>0.232816</td>\n",
              "      <td>0.742332</td>\n",
              "      <td>0</td>\n",
              "    </tr>\n",
              "    <tr>\n",
              "      <th>1</th>\n",
              "      <td>b</td>\n",
              "      <td>0.995833</td>\n",
              "      <td>0.192117</td>\n",
              "      <td>0.796194</td>\n",
              "      <td>0.720152</td>\n",
              "      <td>1</td>\n",
              "    </tr>\n",
              "    <tr>\n",
              "      <th>2</th>\n",
              "      <td>c</td>\n",
              "      <td>0.836093</td>\n",
              "      <td>0.217002</td>\n",
              "      <td>0.727714</td>\n",
              "      <td>0.099062</td>\n",
              "      <td>2</td>\n",
              "    </tr>\n",
              "    <tr>\n",
              "      <th>3</th>\n",
              "      <td>d</td>\n",
              "      <td>0.983239</td>\n",
              "      <td>0.442213</td>\n",
              "      <td>0.254554</td>\n",
              "      <td>0.273998</td>\n",
              "      <td>3</td>\n",
              "    </tr>\n",
              "    <tr>\n",
              "      <th>4</th>\n",
              "      <td>e</td>\n",
              "      <td>0.619621</td>\n",
              "      <td>0.831332</td>\n",
              "      <td>0.889087</td>\n",
              "      <td>0.456719</td>\n",
              "      <td>4</td>\n",
              "    </tr>\n",
              "  </tbody>\n",
              "</table>\n",
              "</div>"
            ],
            "text/plain": [
              "  testcol1  testcol2  testcol3  testcol4  testcol5  new columns\n",
              "0        a  0.082736  0.422523  0.232816  0.742332            0\n",
              "1        b  0.995833  0.192117  0.796194  0.720152            1\n",
              "2        c  0.836093  0.217002  0.727714  0.099062            2\n",
              "3        d  0.983239  0.442213  0.254554  0.273998            3\n",
              "4        e  0.619621  0.831332  0.889087  0.456719            4"
            ]
          },
          "metadata": {},
          "execution_count": 15
        }
      ]
    },
    {
      "cell_type": "code",
      "metadata": {
        "colab": {
          "base_uri": "https://localhost:8080/"
        },
        "id": "7N6ncCF2N25L",
        "outputId": "8a1f8f8c-a4df-40a2-9d34-b4fdd8906d8a"
      },
      "source": [
        "from google.colab import drive\n",
        "\n",
        "# Mount your Drive to the Colab VM.\n",
        "drive.mount('/gdrive')\n",
        "\n",
        "# Write the DataFrame to CSV file.\n",
        "with open('/gdrive/My Drive/foo.csv', 'w') as f:\n",
        "  wbf.to_csv(f)"
      ],
      "execution_count": 18,
      "outputs": [
        {
          "output_type": "stream",
          "text": [
            "Mounted at /gdrive\n"
          ],
          "name": "stdout"
        }
      ]
    },
    {
      "cell_type": "code",
      "metadata": {
        "colab": {
          "base_uri": "https://localhost:8080/"
        },
        "id": "F2jx-Js0OWrI",
        "outputId": "04833dd9-ba8b-4b5a-beaa-574c83411e69"
      },
      "source": [
        "g = data[data[\"Year\"]==1940][data[\"Gender\"]==\"Male\"][\"Occupation\"].value_counts()[0:900]"
      ],
      "execution_count": 36,
      "outputs": [
        {
          "output_type": "stream",
          "text": [
            "/usr/local/lib/python3.7/dist-packages/ipykernel_launcher.py:1: UserWarning: Boolean Series key will be reindexed to match DataFrame index.\n",
            "  \"\"\"Entry point for launching an IPython kernel.\n"
          ],
          "name": "stderr"
        }
      ]
    },
    {
      "cell_type": "code",
      "metadata": {
        "colab": {
          "base_uri": "https://localhost:8080/"
        },
        "id": "Vv-6SQdNR0Ud",
        "outputId": "071567b4-1ba0-4ac5-aaa5-beac38199a39"
      },
      "source": [
        "specific = data[data[\"Year\"]==1940][data[\"Gender\"]==\"Male\"]"
      ],
      "execution_count": 62,
      "outputs": [
        {
          "output_type": "stream",
          "text": [
            "/usr/local/lib/python3.7/dist-packages/ipykernel_launcher.py:1: UserWarning: Boolean Series key will be reindexed to match DataFrame index.\n",
            "  \"\"\"Entry point for launching an IPython kernel.\n"
          ],
          "name": "stderr"
        }
      ]
    },
    {
      "cell_type": "code",
      "metadata": {
        "colab": {
          "base_uri": "https://localhost:8080/",
          "height": 1000
        },
        "id": "hBfvV3xhlq5v",
        "outputId": "b001ee9e-6cab-4cc7-bfe1-470ca9028f20"
      },
      "source": [
        "specific"
      ],
      "execution_count": 63,
      "outputs": [
        {
          "output_type": "execute_result",
          "data": {
            "text/html": [
              "<div>\n",
              "<style scoped>\n",
              "    .dataframe tbody tr th:only-of-type {\n",
              "        vertical-align: middle;\n",
              "    }\n",
              "\n",
              "    .dataframe tbody tr th {\n",
              "        vertical-align: top;\n",
              "    }\n",
              "\n",
              "    .dataframe thead th {\n",
              "        text-align: right;\n",
              "    }\n",
              "</style>\n",
              "<table border=\"1\" class=\"dataframe\">\n",
              "  <thead>\n",
              "    <tr style=\"text-align: right;\">\n",
              "      <th></th>\n",
              "      <th>DataId</th>\n",
              "      <th>RecordId</th>\n",
              "      <th>HouseHoldId</th>\n",
              "      <th>Street Name</th>\n",
              "      <th>House Number</th>\n",
              "      <th>Dwelling Number</th>\n",
              "      <th>Family Number</th>\n",
              "      <th>Race</th>\n",
              "      <th>Gender</th>\n",
              "      <th>Age</th>\n",
              "      <th>Relationship</th>\n",
              "      <th>Marital Status</th>\n",
              "      <th>Occupation</th>\n",
              "      <th>Unemployment Duration</th>\n",
              "      <th>Attended School</th>\n",
              "      <th>Birthplace</th>\n",
              "      <th>Father Birthplace</th>\n",
              "      <th>Mother Birthplace</th>\n",
              "      <th>Can Read</th>\n",
              "      <th>Can Write</th>\n",
              "      <th>Year</th>\n",
              "      <th>Street Name V2</th>\n",
              "      <th>House Number V2</th>\n",
              "      <th>Address</th>\n",
              "      <th>Coordinates</th>\n",
              "      <th>Birth Country DV1</th>\n",
              "      <th>Father Birth Country DV1</th>\n",
              "      <th>Mother Birth Country DV1</th>\n",
              "      <th>Relationship V2</th>\n",
              "      <th>Line Number</th>\n",
              "      <th>Immigration Year</th>\n",
              "      <th>Naturalization Status</th>\n",
              "      <th>Can Speak English</th>\n",
              "      <th>Own or Rent</th>\n",
              "      <th>Farm or House</th>\n",
              "      <th>Native Language</th>\n",
              "      <th>Industry</th>\n",
              "    </tr>\n",
              "  </thead>\n",
              "  <tbody>\n",
              "    <tr>\n",
              "      <th>10039620</th>\n",
              "      <td>m-t0627-02677-00004</td>\n",
              "      <td>4323755</td>\n",
              "      <td>4323755</td>\n",
              "      <td>715 W 172nd</td>\n",
              "      <td>715</td>\n",
              "      <td>NaN</td>\n",
              "      <td>NaN</td>\n",
              "      <td>Black</td>\n",
              "      <td>Male</td>\n",
              "      <td>65.0</td>\n",
              "      <td>Head</td>\n",
              "      <td>Married</td>\n",
              "      <td>Ahp Home Supt</td>\n",
              "      <td>NaN</td>\n",
              "      <td>No</td>\n",
              "      <td>New Jersey</td>\n",
              "      <td>NaN</td>\n",
              "      <td>NaN</td>\n",
              "      <td>NaN</td>\n",
              "      <td>NaN</td>\n",
              "      <td>1940</td>\n",
              "      <td>715 W 172nd</td>\n",
              "      <td>715</td>\n",
              "      <td>NaN</td>\n",
              "      <td>NaN</td>\n",
              "      <td>United States</td>\n",
              "      <td>NaN</td>\n",
              "      <td>NaN</td>\n",
              "      <td>head</td>\n",
              "      <td>1.0</td>\n",
              "      <td>NaN</td>\n",
              "      <td>NaN</td>\n",
              "      <td>NaN</td>\n",
              "      <td>Rented</td>\n",
              "      <td>House</td>\n",
              "      <td>NaN</td>\n",
              "      <td>NaN</td>\n",
              "    </tr>\n",
              "    <tr>\n",
              "      <th>10039621</th>\n",
              "      <td>m-t0627-02677-00004</td>\n",
              "      <td>4323756</td>\n",
              "      <td>4323756</td>\n",
              "      <td>715 W 172nd</td>\n",
              "      <td>NaN</td>\n",
              "      <td>NaN</td>\n",
              "      <td>NaN</td>\n",
              "      <td>Black</td>\n",
              "      <td>Male</td>\n",
              "      <td>33.0</td>\n",
              "      <td>Head</td>\n",
              "      <td>Married</td>\n",
              "      <td>Ahp House Parter</td>\n",
              "      <td>NaN</td>\n",
              "      <td>No</td>\n",
              "      <td>North Carolina</td>\n",
              "      <td>NaN</td>\n",
              "      <td>NaN</td>\n",
              "      <td>NaN</td>\n",
              "      <td>NaN</td>\n",
              "      <td>1940</td>\n",
              "      <td>715 W 172nd</td>\n",
              "      <td>NaN</td>\n",
              "      <td>NaN</td>\n",
              "      <td>NaN</td>\n",
              "      <td>United States</td>\n",
              "      <td>NaN</td>\n",
              "      <td>NaN</td>\n",
              "      <td>head</td>\n",
              "      <td>2.0</td>\n",
              "      <td>NaN</td>\n",
              "      <td>NaN</td>\n",
              "      <td>NaN</td>\n",
              "      <td>Rented</td>\n",
              "      <td>House</td>\n",
              "      <td>NaN</td>\n",
              "      <td>NaN</td>\n",
              "    </tr>\n",
              "    <tr>\n",
              "      <th>10039622</th>\n",
              "      <td>m-t0627-02677-00004</td>\n",
              "      <td>4323757</td>\n",
              "      <td>4323757</td>\n",
              "      <td>715 W 172nd</td>\n",
              "      <td>NaN</td>\n",
              "      <td>NaN</td>\n",
              "      <td>3.0</td>\n",
              "      <td>White</td>\n",
              "      <td>Male</td>\n",
              "      <td>53.0</td>\n",
              "      <td>Head</td>\n",
              "      <td>Married</td>\n",
              "      <td>Whcheterer</td>\n",
              "      <td>NaN</td>\n",
              "      <td>No</td>\n",
              "      <td>Poland</td>\n",
              "      <td>Poland</td>\n",
              "      <td>Poland</td>\n",
              "      <td>NaN</td>\n",
              "      <td>NaN</td>\n",
              "      <td>1940</td>\n",
              "      <td>715 W 172nd</td>\n",
              "      <td>NaN</td>\n",
              "      <td>NaN</td>\n",
              "      <td>NaN</td>\n",
              "      <td>Poland</td>\n",
              "      <td>Poland</td>\n",
              "      <td>Poland</td>\n",
              "      <td>head</td>\n",
              "      <td>3.0</td>\n",
              "      <td>NaN</td>\n",
              "      <td>Naturalized</td>\n",
              "      <td>NaN</td>\n",
              "      <td>Rented</td>\n",
              "      <td>House</td>\n",
              "      <td>Jewish Yiddish</td>\n",
              "      <td>NaN</td>\n",
              "    </tr>\n",
              "    <tr>\n",
              "      <th>10039624</th>\n",
              "      <td>m-t0627-02677-00004</td>\n",
              "      <td>4323759</td>\n",
              "      <td>4323757</td>\n",
              "      <td>715 W 172nd</td>\n",
              "      <td>NaN</td>\n",
              "      <td>NaN</td>\n",
              "      <td>NaN</td>\n",
              "      <td>White</td>\n",
              "      <td>Male</td>\n",
              "      <td>15.0</td>\n",
              "      <td>Son</td>\n",
              "      <td>Single</td>\n",
              "      <td>NaN</td>\n",
              "      <td>NaN</td>\n",
              "      <td>Yes</td>\n",
              "      <td>New York</td>\n",
              "      <td>NaN</td>\n",
              "      <td>NaN</td>\n",
              "      <td>NaN</td>\n",
              "      <td>NaN</td>\n",
              "      <td>1940</td>\n",
              "      <td>715 W 172nd</td>\n",
              "      <td>NaN</td>\n",
              "      <td>NaN</td>\n",
              "      <td>NaN</td>\n",
              "      <td>United States</td>\n",
              "      <td>NaN</td>\n",
              "      <td>NaN</td>\n",
              "      <td>son</td>\n",
              "      <td>5.0</td>\n",
              "      <td>NaN</td>\n",
              "      <td>NaN</td>\n",
              "      <td>NaN</td>\n",
              "      <td>NaN</td>\n",
              "      <td>NaN</td>\n",
              "      <td>NaN</td>\n",
              "      <td>NaN</td>\n",
              "    </tr>\n",
              "    <tr>\n",
              "      <th>10039625</th>\n",
              "      <td>m-t0627-02677-00004</td>\n",
              "      <td>4323760</td>\n",
              "      <td>4323760</td>\n",
              "      <td>715 W 172nd</td>\n",
              "      <td>NaN</td>\n",
              "      <td>NaN</td>\n",
              "      <td>NaN</td>\n",
              "      <td>White</td>\n",
              "      <td>Male</td>\n",
              "      <td>43.0</td>\n",
              "      <td>Head</td>\n",
              "      <td>Married</td>\n",
              "      <td>Derrtict</td>\n",
              "      <td>NaN</td>\n",
              "      <td>No</td>\n",
              "      <td>New York</td>\n",
              "      <td>NaN</td>\n",
              "      <td>NaN</td>\n",
              "      <td>NaN</td>\n",
              "      <td>NaN</td>\n",
              "      <td>1940</td>\n",
              "      <td>715 W 172nd</td>\n",
              "      <td>NaN</td>\n",
              "      <td>NaN</td>\n",
              "      <td>NaN</td>\n",
              "      <td>United States</td>\n",
              "      <td>NaN</td>\n",
              "      <td>NaN</td>\n",
              "      <td>head</td>\n",
              "      <td>6.0</td>\n",
              "      <td>NaN</td>\n",
              "      <td>NaN</td>\n",
              "      <td>NaN</td>\n",
              "      <td>Rented</td>\n",
              "      <td>House</td>\n",
              "      <td>NaN</td>\n",
              "      <td>NaN</td>\n",
              "    </tr>\n",
              "    <tr>\n",
              "      <th>...</th>\n",
              "      <td>...</td>\n",
              "      <td>...</td>\n",
              "      <td>...</td>\n",
              "      <td>...</td>\n",
              "      <td>...</td>\n",
              "      <td>...</td>\n",
              "      <td>...</td>\n",
              "      <td>...</td>\n",
              "      <td>...</td>\n",
              "      <td>...</td>\n",
              "      <td>...</td>\n",
              "      <td>...</td>\n",
              "      <td>...</td>\n",
              "      <td>...</td>\n",
              "      <td>...</td>\n",
              "      <td>...</td>\n",
              "      <td>...</td>\n",
              "      <td>...</td>\n",
              "      <td>...</td>\n",
              "      <td>...</td>\n",
              "      <td>...</td>\n",
              "      <td>...</td>\n",
              "      <td>...</td>\n",
              "      <td>...</td>\n",
              "      <td>...</td>\n",
              "      <td>...</td>\n",
              "      <td>...</td>\n",
              "      <td>...</td>\n",
              "      <td>...</td>\n",
              "      <td>...</td>\n",
              "      <td>...</td>\n",
              "      <td>...</td>\n",
              "      <td>...</td>\n",
              "      <td>...</td>\n",
              "      <td>...</td>\n",
              "      <td>...</td>\n",
              "      <td>...</td>\n",
              "    </tr>\n",
              "    <tr>\n",
              "      <th>11871755</th>\n",
              "      <td>m-t0627-02672-01128</td>\n",
              "      <td>15948446</td>\n",
              "      <td>15948446</td>\n",
              "      <td>Post Avenue</td>\n",
              "      <td>NaN</td>\n",
              "      <td>NaN</td>\n",
              "      <td>NaN</td>\n",
              "      <td>White</td>\n",
              "      <td>Male</td>\n",
              "      <td>28.0</td>\n",
              "      <td>Head</td>\n",
              "      <td>Married</td>\n",
              "      <td>Por S Clerk</td>\n",
              "      <td>NaN</td>\n",
              "      <td>No</td>\n",
              "      <td>New York</td>\n",
              "      <td>NaN</td>\n",
              "      <td>NaN</td>\n",
              "      <td>NaN</td>\n",
              "      <td>NaN</td>\n",
              "      <td>1940</td>\n",
              "      <td>Post Avenue</td>\n",
              "      <td>NaN</td>\n",
              "      <td>NaN</td>\n",
              "      <td>NaN</td>\n",
              "      <td>United States</td>\n",
              "      <td>NaN</td>\n",
              "      <td>NaN</td>\n",
              "      <td>head</td>\n",
              "      <td>38.0</td>\n",
              "      <td>NaN</td>\n",
              "      <td>NaN</td>\n",
              "      <td>NaN</td>\n",
              "      <td>Rented</td>\n",
              "      <td>House</td>\n",
              "      <td>NaN</td>\n",
              "      <td>NaN</td>\n",
              "    </tr>\n",
              "    <tr>\n",
              "      <th>11871758</th>\n",
              "      <td>m-t0627-02672-01129</td>\n",
              "      <td>15948451</td>\n",
              "      <td>15948446</td>\n",
              "      <td>NaN</td>\n",
              "      <td>10</td>\n",
              "      <td>NaN</td>\n",
              "      <td>NaN</td>\n",
              "      <td>White</td>\n",
              "      <td>Male</td>\n",
              "      <td>14.0</td>\n",
              "      <td>Son</td>\n",
              "      <td>Single</td>\n",
              "      <td>NaN</td>\n",
              "      <td>NaN</td>\n",
              "      <td>Yes</td>\n",
              "      <td>New York</td>\n",
              "      <td>NaN</td>\n",
              "      <td>NaN</td>\n",
              "      <td>NaN</td>\n",
              "      <td>NaN</td>\n",
              "      <td>1940</td>\n",
              "      <td>Post Avenue</td>\n",
              "      <td>NaN</td>\n",
              "      <td>NaN</td>\n",
              "      <td>NaN</td>\n",
              "      <td>United States</td>\n",
              "      <td>NaN</td>\n",
              "      <td>NaN</td>\n",
              "      <td>son</td>\n",
              "      <td>43.0</td>\n",
              "      <td>NaN</td>\n",
              "      <td>NaN</td>\n",
              "      <td>NaN</td>\n",
              "      <td>NaN</td>\n",
              "      <td>NaN</td>\n",
              "      <td>NaN</td>\n",
              "      <td>NaN</td>\n",
              "    </tr>\n",
              "    <tr>\n",
              "      <th>11871759</th>\n",
              "      <td>m-t0627-02630-00994</td>\n",
              "      <td>14988324</td>\n",
              "      <td>162918521</td>\n",
              "      <td>10 Street</td>\n",
              "      <td>126</td>\n",
              "      <td>NaN</td>\n",
              "      <td>4</td>\n",
              "      <td>White</td>\n",
              "      <td>Male</td>\n",
              "      <td>21.0</td>\n",
              "      <td>Grandson</td>\n",
              "      <td>Single</td>\n",
              "      <td>Laborer</td>\n",
              "      <td>156</td>\n",
              "      <td>No</td>\n",
              "      <td>New York</td>\n",
              "      <td>NaN</td>\n",
              "      <td>NaN</td>\n",
              "      <td>NaN</td>\n",
              "      <td>NaN</td>\n",
              "      <td>1940</td>\n",
              "      <td>10 Street</td>\n",
              "      <td>126</td>\n",
              "      <td>NaN</td>\n",
              "      <td>NaN</td>\n",
              "      <td>United States</td>\n",
              "      <td>NaN</td>\n",
              "      <td>NaN</td>\n",
              "      <td>grand son</td>\n",
              "      <td>1.0</td>\n",
              "      <td>NaN</td>\n",
              "      <td>NaN</td>\n",
              "      <td>NaN</td>\n",
              "      <td>NaN</td>\n",
              "      <td>NaN</td>\n",
              "      <td>NaN</td>\n",
              "      <td>NaN</td>\n",
              "    </tr>\n",
              "    <tr>\n",
              "      <th>11871760</th>\n",
              "      <td>m-t0627-02630-00994</td>\n",
              "      <td>14988326</td>\n",
              "      <td>162918521</td>\n",
              "      <td>17 Street</td>\n",
              "      <td>458</td>\n",
              "      <td>NaN</td>\n",
              "      <td>1</td>\n",
              "      <td>White</td>\n",
              "      <td>Male</td>\n",
              "      <td>57.0</td>\n",
              "      <td>Boarder</td>\n",
              "      <td>Married</td>\n",
              "      <td>Helper</td>\n",
              "      <td>NaN</td>\n",
              "      <td>No</td>\n",
              "      <td>New York</td>\n",
              "      <td>NaN</td>\n",
              "      <td>NaN</td>\n",
              "      <td>NaN</td>\n",
              "      <td>NaN</td>\n",
              "      <td>1940</td>\n",
              "      <td>10 Street</td>\n",
              "      <td>126</td>\n",
              "      <td>NaN</td>\n",
              "      <td>NaN</td>\n",
              "      <td>United States</td>\n",
              "      <td>NaN</td>\n",
              "      <td>NaN</td>\n",
              "      <td>lodger</td>\n",
              "      <td>3.0</td>\n",
              "      <td>NaN</td>\n",
              "      <td>NaN</td>\n",
              "      <td>NaN</td>\n",
              "      <td>NaN</td>\n",
              "      <td>NaN</td>\n",
              "      <td>NaN</td>\n",
              "      <td>NaN</td>\n",
              "    </tr>\n",
              "    <tr>\n",
              "      <th>11871762</th>\n",
              "      <td>m-t0627-02630-00994</td>\n",
              "      <td>14988325</td>\n",
              "      <td>162918521</td>\n",
              "      <td>18 Street</td>\n",
              "      <td>432</td>\n",
              "      <td>NaN</td>\n",
              "      <td>2</td>\n",
              "      <td>White</td>\n",
              "      <td>Male</td>\n",
              "      <td>9.0</td>\n",
              "      <td>Son</td>\n",
              "      <td>Single</td>\n",
              "      <td>NaN</td>\n",
              "      <td>NaN</td>\n",
              "      <td>Yes</td>\n",
              "      <td>New York</td>\n",
              "      <td>NaN</td>\n",
              "      <td>NaN</td>\n",
              "      <td>NaN</td>\n",
              "      <td>NaN</td>\n",
              "      <td>1940</td>\n",
              "      <td>10 Street</td>\n",
              "      <td>126</td>\n",
              "      <td>NaN</td>\n",
              "      <td>NaN</td>\n",
              "      <td>United States</td>\n",
              "      <td>NaN</td>\n",
              "      <td>NaN</td>\n",
              "      <td>son</td>\n",
              "      <td>2.0</td>\n",
              "      <td>NaN</td>\n",
              "      <td>NaN</td>\n",
              "      <td>NaN</td>\n",
              "      <td>NaN</td>\n",
              "      <td>NaN</td>\n",
              "      <td>NaN</td>\n",
              "      <td>NaN</td>\n",
              "    </tr>\n",
              "  </tbody>\n",
              "</table>\n",
              "<p>898644 rows × 37 columns</p>\n",
              "</div>"
            ],
            "text/plain": [
              "                       DataId  RecordId  ...  Native Language Industry\n",
              "10039620  m-t0627-02677-00004   4323755  ...              NaN      NaN\n",
              "10039621  m-t0627-02677-00004   4323756  ...              NaN      NaN\n",
              "10039622  m-t0627-02677-00004   4323757  ...   Jewish Yiddish      NaN\n",
              "10039624  m-t0627-02677-00004   4323759  ...              NaN      NaN\n",
              "10039625  m-t0627-02677-00004   4323760  ...              NaN      NaN\n",
              "...                       ...       ...  ...              ...      ...\n",
              "11871755  m-t0627-02672-01128  15948446  ...              NaN      NaN\n",
              "11871758  m-t0627-02672-01129  15948451  ...              NaN      NaN\n",
              "11871759  m-t0627-02630-00994  14988324  ...              NaN      NaN\n",
              "11871760  m-t0627-02630-00994  14988326  ...              NaN      NaN\n",
              "11871762  m-t0627-02630-00994  14988325  ...              NaN      NaN\n",
              "\n",
              "[898644 rows x 37 columns]"
            ]
          },
          "metadata": {},
          "execution_count": 63
        }
      ]
    },
    {
      "cell_type": "code",
      "metadata": {
        "id": "ukN6io29XXeg"
      },
      "source": [
        "names =  [\"Keeping House\", \"At School\", \"At Home\", \"Keeps House\", \"Servant\", \"Laborer\", \"School\", \"Home\", \"Clerk In Store\", \"Tailor\", \"Carpenter\", \"Clerk\", \"Keep House\", \"Dress Maker\", \"Butcher\", \"House Keeping\", \"Dressmaker\", \"House Keeper\", \"Attends School\", \"Cigar Maker\", \"Painter\", \"Domestic Servant\", \"Attending School\", \"None\", \"Printer\", \"Seamstress\", \"Waiter\", \"Cook\", \"Laundress\", \"Domestic\", \"Baker\", \"No Occupation\", \"Housekeeper\", \"Machinist\", \"Segar Maker\", \"Tailoress\", \"Barber\", \"Lawyer\", \"Shoemaker\", \"Porter\", \"Housekeeping\", \"Cabinet Maker\", \"Blacksmith\", \"Coachman\", \"Plumber\", \"Truck Driver\", \"Driver\", \"Scholar\", \"Engineer\", \"Shoe Maker\", \"Bookkeeper\", \"Book Keeper\", \"Grocer\", \"School Teacher\", \"Sailor\", \"Goes To School\", \"Bartender\", \"Nurse\", \"House Work\", \"Salesman\", \"Musician\", \"Physician\", \"Policeman\", \"Stone Cutter\", \"Huckster\", \"Teacher\", \"Milliner\", \"Cooper\", \"Boarder\", \"Brick Mason\", \"Errand Boy\", \"Peddler\", \"Merchant\", \"Carman\", \"Piano Maker\", \"Dry Goods Clerk\", \"Student\", \"Sales Lady\", \"Car Driver\", \"Works In Store\", \"Truckman\", \"Longshoreman\", \"Operator\", \"Varnisher\", \"Plasterer\", \"Liquor Dealer\", \"Pedler\", \"Washing\", \"Saloon Keeper\", \"Upholsterer\", \"Tinsmith\", \"Book Binder\", \"Dress Making\", \"Housework\", \"Retail Grocer\", \"Fireman\", \"Watchman\", \"Waitress\", \"Janitor\", \"To School\", \"Confectioner\", \"Going To School\", \"Shirt Maker\", \"Clerk In Office\", \"Bar Tender\", \"Broker\", \"Seaman\", \"Teamster\", \"Living Home\", \"Without Occupation\", \"Music Teacher\", \"Retired Merchant\", \"Compositor\", \"House Painter\", \"Laundry\", \"Jeweler\", \"Boarding House\", \"Porter In Store\", \"Bar Keeper\", \"Brass Finisher\", \"K. House\", \"Go To School\", \"Tin Smith\", \"Retired\", \"Book Folder\", \"Stock Broker\", \"Stone Mason\", \"Inmate\", \"Hostler\", \"Pedlar\", \"Iron Moulder\", \"Silk Weaver\", \"Rag Picker\", \"Grocery Clerk\", \"Druggist\", \"Waiter In Hotel\", \"Wash Woman\", \"Paper Box Maker\", \"Dressmaking\", \"Builder\", \"Expressman\", \"Hatter\", \"Chambermaid\", \"Actor\", \"Cartman\", \"Shipping Clerk\", \"No Business\", \"Boiler Maker\", \"Artist\", \"Boarding\", \"Dom. Servant\", \"Moulder\", \"Sewing\", \"Office Boy\", \"Harness Maker\", \"Farmer\", \"Lager Beer Saloon\", \"Labourer\", \"Pupil\", \"Conductor\", \"Pupil-At School\", \"Gardener\", \"Cap Maker\", \"Works In Brewery\", \"Grocery Store\", \"Saleslady\", \"Machinest\", \"At College\", \"Boatman\", \"Works In Factory\", \"Brick Layer\", \"Cash Boy\", \"Mason\", \"Locksmith\", \"Cegar Maker\", \"Dentist\", \"Engraver\", \"Lithographer\", \"Clerk In Grocery\", \"Milk Dealer\", \"Doctor\", \"Washerwoman\", \"Washer Woman\", \"House Carpenter\", \"Tailoring\", \"Liquor Store\", \"Attend School\", \"Banker\", \"Clothing Cutter\", \"Wood Carver\", \"Actress\", \"Taylor\", \"Horse Shoer\", \"Photographer\", \"Drug Clerk\", \"Dry Goods\", \"Telegraph Operator\", \"Cutter\", \"Undertaker\", \"Hotel Keeper\", \"Works Silk Factory\", \"Storekeeper\", \"Works At Shoes\", \"Tending Store\", \"Shirt Making\", \"Buttonhole Maker\", \"Tool Maker\", \"Sewing Girl\", \"Silk Dyer\", \"Operator Machine\", \"Drygoods Clerk\", \"Do\", \"Works On Machine\", \"Cobbler\", \"Box Factory\", \"Shoe Factory\", \"Coat Presser\", \"Picture Frames\", \"Ice\", \"Works In Book Bindery\", \"Flax Mill\", \"Private\", \"Brewery Hand\", \"Market Man\", \"Boot And Shoe Maker\", \"Nickel Plater\", \"Fire Insurance\", \"Decorator\", \"Resturant\", \"Upholstery\", \"Keeps Bakery\", \"Commercial Traveller\", \"Keepg. House\", \"Works-Carpet Fac\", \"Provisions\", \"Coal Yard\", \"Works In Market\", \"C. Maid\", \"Keeps Cigar Store\", \"Fruit Vender\", \"Safe Maker\", \"Religious\", \"Shipping Merchant\", \"Portrait Painter\", \"Leather Dresser\", \"Jewler\", \"House Mover\", \"Keeps Ho.\", \"Artist Painter\", \"Dry Gds Clk\", \"Works In Candy Factory\", \"Hustler\", \"Works At Plumbing\", \"Grocer Retail\", \"Mason Builder\", \"Journeyman Butcher\", \"Theatrical Manager\", \"Segar Manufacturer\", \"Keepin House\", \"Pencil Factory\", \"Private Watchman\", \"Railroad Clerk\", \"Cigarettes\", \"Inventor\", \"Cigar\", \"Clerk-Dry Goods\", \"Works In Cotton Mill\", \"Opera Singer\", \"Laundryman\", \"Mattress Maker\", \"Milk\", \"Dry Good Merchant\", \"Keeps Home\", \"Bootmaker\", \"Telegraph Clerk\", \"Custom House Clerk\", \"Works In Hat Store\", \"Domestic Help\", \"Works In Tin Shop\", \"Stockbroker\", \"Works In Wood Yard\", \"Printing Office\", \"Clerk Boarder\", \"Retail Liquor Store\", \"Real Estate Clerk\", \"Drayman\", \"Deputy Sheriff\", \"Beer Bottler\", \"Grocer\\'S Clerk\", \"Works On Shirts\", \"Domestic Svt.\", \"Rider\", \"Card Cutter\", \"Pocket Books\", \"Stationery Store\", \"Fancy Goods Dealer\", \"Fan Maker\", \"Dry Good Store\", \"Wood Sawyer\", \"Liquor\", \"Works Silk Factory\", \"Storekeeper\", \"Works At Shoes\", \"Tending Store\", \"Shirt Making\", \"Buttonhole Maker\", \"Tool Maker\", \"Sewing Girl\", \"Silk Dyer\", \"Operator Machine\", \"Drygoods Clerk\", \"Do\", \"Works On Machine\", \"Cobbler\", \"Box Factory\", \"Shoe Factory\", \"Coat Presser\", \"Picture Frames\", \"Ice\", \"Works In Book Bindery\", \"Flax Mill\", \"Private\", \"Brewery Hand\", \"Market Man\", \"Boot And Shoe Maker\", \"Nickel Plater\", \"Fire Insurance\", \"Decorator\", \"Resturant\", \"Upholstery\", \"Keeps Bakery\", \"Commercial Traveller\", \"Keepg. House\", \"Works-Carpet Fac\", \"Provisions\", \"Coal Yard\", \"Works In Market\", \"C. Maid\", \"Keeps Cigar Store\", \"Fruit Vender\", \"Safe Maker\", \"Religious\", \"Shipping Merchant\", \"Portrait Painter\", \"Leather Dresser\", \"Jewler\", \"House Mover\", \"Keeps Ho.\", \"Artist Painter\", \"Dry Gds Clk\", \"Works In Candy Factory\", \"Hustler\", \"Works At Plumbing\", \"Grocer Retail\", \"Mason Builder\", \"Journeyman Butcher\", \"Theatrical Manager\", \"Segar Manufacturer\", \"Keepin House\", \"Pencil Factory\", \"Private Watchman\", \"Railroad Clerk\", \"Cigarettes\", \"Inventor\", \"Cigar\", \"Clerk-Dry Goods\", \"Works In Cotton Mill\", \"Opera Singer\", \"Laundryman\", \"Mattress Maker\", \"Milk\", \"Dry Good Merchant\", \"Keeps Home\", \"Bootmaker\", \"Telegraph Clerk\", \"Custom House Clerk\", \"Works In Hat Store\", \"Domestic Help\", \"Works In Tin Shop\", \"Stockbroker\", \"Works In Wood Yard\", \"Printing Office\", \"Clerk Boarder\", \"Retail Liquor Store\", \"Real Estate Clerk\", \"Drayman\", \"Deputy Sheriff\", \"Beer Bottler\", \"Grocer\\'S Clerk\", \"Works On Shirts\", \"Domestic Svt.\", \"Rider\", \"Card Cutter\", \"Pocket Books\", \"Stationery Store\", \"Fancy Goods Dealer\", \"Fan Maker\", \"Dry Good Store\", \"Wood Sawyer\", \"Liquor\", \"Paper Boxes\", \"Night Watchman\", \"Agent\", \"Restaurant\", \"Bank Clerk\", \"Box Maker\", \"Gilder\", \"Brewer\", \"Store Clerk\", \"Stableman\", \"Unemployed\", \"Gas Fitter\", \"Flower Maker\", \"Milkman\", \"Ship Carpenter\", \"Furrier\", \"Bricklayer\", \"Barkeeper\", \"Marble Cutter\", \"Clerk Dry Goods\", \"Washwoman\", \"Hair Dresser\", \"Domestic Serv.\", \"Drives Truck\", \"Letter Carrier\", \"Clergyman\", \"Real Estate\", \"Long Shoreman\", \"Junk Dealer\", \"Artificial Flowers\", \"Sales Woman\", \"Gardner\", \"Real Estate Agent\", \"Gentleman\", \"Grocery\", \"Police Officer\", \"Cook In Hotel\", \"Ny\", \"Works In Carpet Factory\", \"Coach Driver\", \"Florist\", \"Watch Maker\", \"Saleswoman\", \"Upholster\", \"Millinery\", \"Saloon\", \"Bookbinder\", \"Works In Silk Factory\", \"Cloak Maker\", \"Keeping H\", \"Coal Dealer\", \"Chamber Maid\", \"Washing &amp; Ironing\", \"Carver\", \"Candy Store\", \"Vest Maker\", \"Boot Black\", \"Cigar Packer\", \"Architect\", \"Weaver\", \"Works In Laundry\", \"Messenger\", \"Lives At Home\", \"Collector\", \"Carriage Maker\", \"Paper Hanger\", \"Express\", \"Carpet Mill\", \"Shoe Fitter\", \"Housewife\", \"Wheelwright\", \"Brush Maker\", \"Fresco Painter\", \"Att. School\", \"Clerk In Bank\", \"Fringe Maker\", \"Black Smith\", \"Wood Turner\", \"Domestic Ser\", \"Tobacco Stripper\", \"Clerk In Dry Goods\", \"Cigarette Maker\", \"Pocket Book Maker\", \"Express Driver\", \"Keeper Of House\", \"Marble Polisher\", \"Fruit Dealer\", \"Beer Saloon\", \"Works In Bakery\", \"Bookeeper\", \"Bakery\", \"Dyer\", \"News Dealer\", \"Sister Of Charity\", \"Lace Maker\", \"Civil Engineer\", \"Help\", \"Dry Goods Merchant\", \"D. Servant\", \"Keeping\", \"Editor\", \"Hotel Waiter\", \"Coat Maker\", \"Contractor\", \"Patient\", \"Horse Dealer\", \"Drives Wagon\", \"Car Man\", \"Works For Tailor\", \"Silk Factory\", \"Clothier\", \"Produce Dealer\", \"Cigar Store\", \"Ice Dealer\", \"Grocer Clerk\", \"Tailoring In Shop\", \"Makes Cigars\", \"Clerk In Dry Goods Store\", \"Maid\", \"Car Conductor\", \"Domestic Ser.\", \"Works In Piano Factory\", \"Livery Stable\", \"Gnl Servant\", \"Machine Operator\", \"Police\", \"Store Keeper\", \"Merchant Tailor\", \"Carriage Painter\", \"Cashier\", \"Fancy Store\", \"Cigar Maker In Shop\", \"Umbrella Maker\", \"Furniture Dealer\", \"Commission Merchant\", \"Shoe Store\", \"Express Man\", \"Fancy Goods\", \"Labor\", \"Corset Maker\", \"Jeweller\", \"Chair Maker\", \"Carpet Weaver\", \"Works In Cigar Factory\", \"Hotel Clerk\", \"Roofer\", \"Truck Man\", \"Real Estate Broker\", \"Cigar Dealer\", \"Rigger\", \"Coat Tailor\", \"Hack Driver\", \"Stevedore\", \"R.R. Clerk\", \"Janitress\", \"Steward\", \"Brass Moulder\", \"Tin Roofer\", \"Servant Domestic\", \"House\", \"Grocers Clerk\", \"Liquors\", \"Turner\", \"Shirt Cutter\", \"Dry Goods Salesman\", \"Stair Builder\", \"Segar Store\", \"Sewing Machine Operator\", \"Domestic Servt.\", \"Oyster Dealer\", \"Works In Hotel\", \"Segar Packer\", \"Basket Maker\", \"Traveling Agent\", \"House Wife\", \"Gold Beater\", \"Coat Finisher\", \"Cloth Cutter\", \"Tanner\", \"Fish Dealer\", \"Clothing Store\", \"Works In Shoe Factory\", \"Journalist\", \"Minister\", \"Frame Maker\", \"Glazier\", \"Silk Winder\", \"Pattern Maker\", \"House Servant\", \"Works At Flowers\", \"Clerk In Hotel\", \"In School\", \"Book Sewer\", \"Dry Good Clerk\", \"Asst.\", \"Auctioneer\", \"Stage Driver\", \"Junkman\", \"Works In Iron Foundry\", \"Prostitute\", \"Tobacconist\", \"Cash Girl\", \"Midwife\", \"Lives Home\", \"Cart Driver\", \"Works At Paper Boxes\", \"Keeps None House\", \"Clerk At Store\", \"Fruit Stand\", \"Dry Goods Store\", \"Oysterman\", \"Button Hole Maker\", \"Farm Hand\", \"Clothing\", \"Licensed Vender\", \"House Duties\", \"Parasol Maker\", \"Works Out\", \"Vender\", \"Optician\", \"Steam Fitter\", \"Glass Cutter\", \"Works In Tobacco Factory\", \"R. R. Clerk\", \"Tailoring For Shop\", \"Sail Maker\", \"Publisher\", \"Works In Paper Factory\", \"Sign Painter\", \"Chemist\", \"Cigar Box Maker\", \"Drives Cart\", \"Reporter\", \"Lace Work\", \"Shoe Cutter\", \"Furniture\", \"Silver Plater\", \"Works In Pencil Factory\", \"Hotel\", \"Cigar Mkr\", \"Lace Worker\", \"Boot &amp; Shoe Maker\", \"Keeping H.\", \"Carpet Factory\", \"Fur Sewer\", \"Stationer\", \"Shoe Dealer\", \"Iron Worker\", \"Type Setter\", \"Works In Tailor Shop\", \"Barber Shop\", \"Brickmason\", \"Attendant\", \"Works At Cigars\", \"Candy Maker\", \"Brewery\", \"Caulker\", \"Retail Grocery\", \"Speculator\", \"Real Estate Agt.\", \"Butler\", \"Clerk Store\", \"Retail Liquor Dealer\", \"Hod Carrier\", \"Iceman\", \"H Work\", \"Stable Man\", \"Liquor Saloon\", \"Book Agent\", \"Waiter In Restaurant\", \"Work In Store\", \"Clerk-Store\", \"Hardware\", \"Canal Boatman\", \"Dock Builder\", \"At Service\", \"Wife\", \"Wine Merchant\", \"Dress Mkr\", \"Telegraph Boy\", \"Artificial Flower Maker\", \"Works In Foundry\", \"Silversmith\", \"Stenographer\", \"Traveling Salesman\", \"Designer\", \"R.R. Conductor\", \"Service\", \"Clerks In Store\", \"Packer\", \"Going School\", \"Works In Flax Mill\", \"Dry Goods Dealer\", \"Telegraph Messenger\", \"Hat Maker\", \"Watchmaker\", \"Provision Dealer\", \"Law Student\", \"Book-Keeper\", \"Soldier\", \"Piano Tuner\", \"School Girl\", \"Works In Slaughter House\", \"Boot Maker\", \"Drives Ice Wagon\", \"White Washer\", \"Paper Stainer\", \"Importer\", \"Segars\", \"Clerk In Grocery Store\", \"Religions\", \"Copyist\", \"Governess\", \"Works In Box Factory\", \"Cotton Broker\", \"Boarding House Keeper\", \"Clerk In Clothing Store\", \"Days Work\", \"Tobacco\", \"Tailer\", \"Silver Smith\", \"Works At Feathers\", \"Works In Dry Goods Store\", \"Income\", \"Farm Laborer\", \"Hand\", \"Works In Gas House\", \"Wagon Driver\", \"Works In Carpet Fac\", \"Polisher\", \"Boilermaker\", \"Office Clerk\", \"Miller\", \"Cook In Restaurant\", \"Produce Merchant\", \"Works At Printing\", \"Miner\", \"Law Clerk\", \"Copper Smith\", \"Ice Man\", \"At. School\", \"Sexton\", \"Flowers\", \"Sales Man\", \"Keeps Boarders\", \"Detective\", \"Coppersmith\", \"Inmates-At School\", \"Att School\", \"Groom\", \"Caterer\", \"Printing\", \"Matron\", \"At Home Boarder\", \"Trunk Maker\", \"Pawn Broker\", \"Cigar Maker For Shop\", \"House Agent\", \"Canvasser\", \"Medical Student\", \"Porter In Hotel\", \"Feather Maker\", \"Kg. House\", \"Works In Stable\", \"Dom Servant\", \"Cigarmaker\", \"Servant-Cook\", \"Wood Engraver\", \"Works At Tobacco\", \"Works In Silk Mill\", \"Iron Foundry\", \"Works In Grocery\", \"Awning Maker\", \"Sailor At Sea\", \"Tobacco Dealer\", \"Produce\", \"Operator On Machine\", \"Insurance Agent\", \"Ship Caulker\", \"Pilot\", \"Works In Machine Shop\", \"Wks Cigar Maker\", \"Segar Dealer\", \"Self Supporting\", \"Day Laborer\", \"Plumbing\", \"Peddlar\", \"Retired Grocer\", \"Longshore\", \"Works In Restaurant\", \"Custom House\", \"Keeps Liquor Store\", \"Butter Dealer\", \"Restaurant Keeper\", \"Insurance Clerk\", \"Mechanic\", \"Carriage Trimmer\", \"Hotel Porter\", \"Works In Stocking Factory\", \"Glass Blower\", \"Keeps Saloon\", \"Entry Clerk\", \"Boat Builder\", \"Segar Mkr\", \"Butcher Store\", \"Carpet Sewer\", \"Clerk In Shoe Store\", \"College\", \"Keeps Candy Store\", \"Groceries\", \"Hat Trimmer\", \"Ship Joiner\", \"Segar Box Maker\", \"Necktie Maker\", \"Piano Factory\", \"Wire Worker\", \"Medical Doctor\", \"Hotel Cook\", \"Saddler\", \"Tailor Shop\", \"Hardware Clerk\", \"Cart Man\", \"Framer\", \"Keeps Boarding House\", \"Butcher Shop\", \"Pupil At School\", \"Keeps Grocery Store\", \"Lawyers Clerk\", \"Coach Man\", \"School Boy\", \"Cigar Manufacturer\", \"Domestic Servt\", \"Messenger Boy\", \"Feed Store\", \"Retail Liquors\", \"Horse Trainer\", \"Attdg. School\", \"Clerk In Post Office\", \"Retail Butcher\", \"Stonecutter\", \"Works In Paper Box Factory\", \"Foreman\", \"At House\", \"Apprentice\", \"Works In Paper Mill\", \"Wks Cigar Factory\", \"Lives Out\", \"Lock Smith\", \"Piano Teacher\", \"Sawyer\", \"Insurance\", \"Telegrapher\", \"Post Office Clerk\", \"Lather\", \"Servant Girl\", \"Works At Tailoring\", \"Organ Grinder\", \"Brakeman\", \"H Keeper\", \"Milk Business\", \"Feathers\", \"Works For Butcher\", \"Brokers Clerk\", \"Washer\", \"Telegraph\", \"Tramp\", \"Hall Boy\", \"Artifical Flowers\", \"Clerk In Book Store\", \"Clerk In Drug Store\", \"K House\", \"Embroidery\", \"Segarmaker\", \"Works In Corset Factory\", \"Keeps Store\", \"Students\", \"Keeps Restaurant\", \"Store\", \"No Employment\", \"Junk Man\", \"Embroiderer\", \"Boat Man\", \"K. H.\", \"Book Folding\", \"Shirtmaker\", \"Compositer\", \"Attends Store\", \"Tea Merchant\", \"Cook In Family\", \"Liquor Merchant\", \"Tends Store\", \"Oyster Saloon\", \"Deck Hand\", \"Clock Maker\", \"Pastry Cook\", \"Suspender Maker\", \"Variety Store\", \"Clerk In Tea Store\", \"Milk Man\", \"Lumber Dealer\", \"Domestic Service\", \"Works In Shoe Store\", \"Bootblack Or News Boy\", \"Works In Soap Factory\", \"Priest\", \"D Servant\", \"Manufacturer\", \"Kalsominer\", \"Slipper Maker\", \"Long Shore\", \"Button Maker\", \"Com. Merchant\", \"Bunch Maker\", \"Wholesale Grocer\", \"Travelling Agent\", \"Keeps Hs.\", \"Book Binding\", \"Long Shore Man\", \"Milk Store\", \"Picture Frame Maker\", \"Flour Merchant\", \"Domestic Work\", \"Mason &amp; Builder\", \"Horseshoer\", \"Carpet Layer\", \"Works In Saw Mill\", \"Ice Business\", \"Errands\", \"Book Publisher\", \"Works At Dressmaking\", \"Wks Brewery\", \"Iron Molder\", \"Carriage Driver\", \"Cabnet Maker\", \"House Builder\", \"Jewelry\", \"Iron Merchant\", \"Works In Tannery\", \"Works In Butcher Shop\", \"Furniture Store\", \"In Store\", \"Straw Sewer\", \"Works In Printing Office\", \"Clothing Clerk\", \"Keeps Laundry\", \"Laberer\", \"Works In Lumber Yard\", \"Washing &amp; C\", \"Waiter In Saloon\", \"Works In Sugar House\", \"Insurance Broker\", \"Hardware Store\", \"Apothecary\", \"Lodging House\", \"Unemploy\", \"Works In Grocery Store\", \"Wks In Foundry\", \"Lady\", \"Bookfolder\", \"Tobacco Factory\", \"Helps Keep House\", \"Laboror\", \"Keeping Boarders\", \"Clk. In Store\", \"Works At Lace\", \"Sister Of Mercy\", \"Clothing Dealer\", \"Works At Pianos\", \"Alongshore\", \"Salesman Dry Goods\", \"Paper Factory\", \"R. R. Conductor\", \"Laboring\", \"Tailores\", \"Crockery Store\", \"Private Lady\", \"Notary Public\", \"Brown Stone Cutter\", \"Hackman\", \"Factory Hand\", \"Tobacco Merchant\", \"Works In Fancy Store\", \"Paper Dealer\", \"Keeping Store\", \"Wine Dealer\", \"Confectionary\", \"Electrician\", \"Kitchen Servant\", \"Retail Liquor\", \"Sea Captain\", \"Press Feeder\", \"Clerk Grocery\", \"Sash &amp; Blind Maker\", \"Works In Hat Factory\", \"Fancy Goods Store\", \"Feather Curler\", \"Longshore Man\", \"Orderly\", \"Real Estate Agt\", \"General Housework\", \"Plaster\", \"Clerk In Law Office\", \"Currier\", \"Weigher\", \"In Indigent Asylam\", \"Works In Shoe Shop\", \"Steam Engineer\", \"Retired Mer.\", \"Salesman In Store\", \"Clk In Store\", \"Draughtsman\", \"Commercial Traveler\", \"Cigar Boxes\", \"General Laborer\", \"Accountant\", \"Millener\", \"Works In Flour Mill\", \"Boarder-Laborer\", \"Drives Express Wagon\", \"Pressman\", \"Clerk In Custom House\", \"Bill Poster\", \"Private Coachman\", \"Works In Drug Store\", \"Lager Beer\", \"Cashier In Store\", \"Bootblack\", \"Keeps Grocery\", \"News Agent\", \"Tassel Maker\", \"Shop Girl\", \"Sculptor\", \"Works At Dress Making\", \"Stationery\", \"Book Seller\", \"Hair Worker\", \"Wheel Wright\", \"Works In Stocking Fct.\", \"Goes Out Washing\", \"Sailmaker\", \"Lager Bier Saloon\", \"House Smith\", \"Proof Reader\", \"Capmaker\", \"Hairdresser\", \"Confectionery\", \"Car Builder\", \"Neck Tie Maker\", \"Coach Painter\", \"Keeps Fancy Store\", \"Jewelry Store\", \"Sewing Machine\", \"At Leisure\", \"Unoccupied\", \"Advertising Agent\", \"Junk\", \"Hardware Dealer\", \"Book Keeping\", \"Police Man\", \"Workingman\", \"Soap Maker\", \"Wash &amp; Iron\", \"Works At Jewelry\", \"Apprentice To Plumber\", \"Glove Maker\", \"Paver\", \"Works In Bag Factory\", \"Apprentice To Printer\", \"Works In Grain Elevator\", \"Coal Merchant\", \"Leather Dealer\", \"Finisher\", \"Paper Box Factory\", \"Rr Clerk\", \"Newsboy\", \"Beer Brewer\", \"Works On Lace\", \"Servant, Lives Out\", \"Household Duties\", \"Organ Builder\", \"Saleslady In Store\", \"Wagon Maker\", \"Rag Dealer\", \"Brewery Man\", \"Does Washing\", \"Tailor Cutter\", \"Works On Flowers\", \"Day Servant\", \"Grainer\", \"Leather Merchant\", \"Singer\", \"Pie Baker\", \"Drug Store\", \"Domestic S\", \"Retired Builder\", \"Missionary\", \"Public School Teacher\", \"Clerk In Hat Store\", \"Works In Shop\", \"Sales Lady In Store\", \"Block Cutter\", \"Cigar Mkr.\", \"Guilder\", \"Lumber Merchant\", \"Rag Sorter\", \"Wholesale Butcher\", \"Gold Cutter\", \"Joiner\", \"Errand Girl\", \"Cash Boy In Store\", \"Cigar Mfg.\", \"Drives A Truck\", \"Keeps Hotel\", \"Works In Coal Yard\", \"Brushmaker\", \"Money Broker\", \"Pupils\", \"Brass Polisher\", \"No Bus\", \"Envelope Maker\", \"Visitor\", \"Carpet Cleaner\", \"Miliner\", \"Keeping Home\", \"Wire Drawer\", \"Dress-Maker\", \"House Maid\", \"Drives Milk Wagon\", \"Washing And Ironing\", \"Works In Pottery\", \"Ticket Agent\", \"Hotel Servant\", \"Keeps Fruit Stand\", \"Surveyor\", \"Sugar House\", \"Laundry Man\", \"Clerk In P.O.\", \"Gas Works\", \"Railroad Laborer\", \"Clerk In Brokers Office\", \"Takes Washing\", \"Works At Tailor\", \"Works In Malt House\", \"Paper Ruler\", \"Domestic Svnt.\", \"Teacher Of Music\", \"House Framer\", \"Stationary\", \"Cigars\", \"Clothing Salesman\", \"Cabinet Mkr\", \"Boot Fitter\", \"Drover\", \"P. O. Clerk\", \"Lithograph\", \"Court Officer\", \"Works At Shirts\", \"Fire Department\", \"Works At Painting\", \"Public Porter\", \"Tends Bar\", \"Oyster Man\", \"Fringe\", \"Brothers\", \"Retired Butcher\", \"Satchel Maker\", \"Jockey\", \"Works In Clothing Store\", \"Works In Shirt Factory\", \"Do.\", \"News Boy\", \"Goes Out To Work\", \"Professor Of Music\", \"Cloth Merchant\", \"Traveler\", \"Works In Candy Store\", \"Stock Clerk\", \"Keeps Livery Stable\", \"No Work\", \"Wheelright\", \"Rr Conductor\", \"Potter\", \"Cracker Baker\", \"Crockery Dealer\", \"Drives A Wagon\", \"Meat Carver\", \"Author\", \"Carpenter &amp; Builder\", \"Retired Farmer\", \"Switchman\", \"Hat Store\", \"Bag Sewer\", \"Clerk - Store\", \"Helps Mother\", \"Presser\", \"Ladies Maid\", \"Organist\", \"House Cleaner\", \"Clerk In Hardware Store\", \"Sash Maker\"]"
      ],
      "execution_count": 41,
      "outputs": []
    },
    {
      "cell_type": "code",
      "metadata": {
        "id": "1mUorNpHhFy_"
      },
      "source": [
        "code = [6231,1225,8125,6231,9233,9134,1225,8125,4159,5414,5315,4159,6231,5414,5431,6231,5414,6231,9249,8111,5323,9233,9249,6121,5323,8137,9273,5435,9234,9233,5432,6231,6231,9134,8111,5414,6221,2419,5413,9260,6240,5442,5211,8239,5314,8222,8212,5312,5223,5413,4122,4122,1254,2314,9139,1225,9274,2231,9233,8134,3415,2211,3312,5312,8113,5313,5414,5442,6221,5312,5442,7124,7125,8212,5449,4159,6139,6139,8212,9260,9120,9260,6148,8139,5321,3239,7124,9260,8123,5412,5213,5423,5414,6144,1254,3313,9241,9273,6232,1225,5432,1225,5414,4159,9274,2444,8232,8239,8125,6231,2319,7125,5421,5323,9234,9134,1221,9260,8123,8125,9233,1225,5213,5423,3532,5312,6139,7124,5212,5411,9134,4159,2213,9273,5441,8121,5414,5319,8129,9233,3413,8239,4134,1150,5214,3411,9233,8114,8113,9219,5413,5111,9120,8139,3415,1225,5113,5419,2129,9260,8134,9134,7122,8232,9139,5312,4129,5312,5223,8111,2215,5449,3417,4159,9119,2211,8113,5315,5414,9260,9249,1131,5414,5442,3413,5414,5211,3417,4159,7130,7214,8129,6148,1221,9139,9260,5413,9260,5414,5419,5222,8113,8114,5223,4159,5223,5413,9134,3413,8125,5442,8111,5423,5414,2319,2129,7124,5413,8118,3313,5323,1223,5412,5432,3542,6231,2211,7130,9139,5419,9233,9260,5112,5223,8232,3411,8114,9134,6144,8123,3411,8119,9139,6139,8129,1254,5312,5431,1225,6219,6231,3413,9241,4159,8111,2426,8114,4133,9139,3413,9234,5412,9119,7125,1221,6211,4159,4159,9260,9233,9260,3532,9260,4129,4159,9260,4159,8211,9249,9134,4159,8129,9233,8114,8129,5423,1254,5449,5419,9260,8121,8114,9139,9260,5413,9260,5414,5419,5222,8113,8114,5223,4159,5223,5413,9134,3413,8125,5442,8111,5423,5414,2319,2129,7124,5413,8118,3313,5323,1223,5412,5432,3542,6231,2211,7130,9139,5419,9233,9260,5112,5223,8232,3411,8114,9134,6144,8123,3411,8119,9139,6139,8129,1254,5312,5431,1225,6219,6231,3413,9241,4159,8111,2426,8114,4133,9139,3413,9234,5412,9119,7125,1221,6211,4159,4159,9260,9233,9260,3532,9260,4129,4159,9260,4159,8211,9249,9134,4159,8129,9233,8114,8129,5423,1254,5449,5419,9260,8121,8114,8142,9241,2129,1223,4123,5419,5221,8111,4159,6139,5314,5419,8111,5315,5211,5312,5119,5414,4159,3413,6221,9233,8222,9139,2444,5319,9260,3239,8139,8134,5113,3544,9241,1254,3312,5435,5411,8213,5443,5224,3542,5412,5414,5423,9139,5224,9139,9233,1254,6145,9260,5419,8139,9134,2431,5411,9234,9211,8125,7122,5419,5323,3536,5315,5315,6144,5442,5449,5323,1225,4123,5411,5211,8121,9233,1254,4133,8111,5423,8212,6231,5312,5112,8111,5432,4122,5432,8114,3239,2231,5411,5319,9139,7130,9233,2471,9273,5414,4131,2129,6139,8211,8111,5414,8111,5449,3239,9260,8111,1254,5414,8111,4133,9233,8214,9233,9139,6139,9233,5223,3312,9260,1254,5323,4129,9260,8111,5419,3239,9249,9260,8111,5449,9111,5419,1254,5442,5411,9139,4159,5313,8229,9119,3239,8141,5414,8212,9260,4159,9273,6219,5212,5313,9233,9233,4159,8114,5221,5414,8134,5319,9260,8137,9233,3239,9279,9134,5449,6212,9233,5449,8137,8113,8114,5433,9260,5413,2471,8125,5419,5316,8113,5419,9233,8129,4159,1225,7111,4159,2113,3544,8212,9139,9139,2219,1254,4129,2232,8125,8239,8142,6231,4159,5112,9260,8117,8137,9111,2461,1224,9233,5419,8129,9112,2214,5314,5316,8111,4159,5414,5419,1259,9139,5323,2111,8139,8239,2471,5411,5413,1254,8118,9139,1221,8111,5411,5413,5315,8137,1254,1254,9234,5421,5414,6221,5312,3111,8129,5419,2129,5214,1254,3544,6240,4159,1254,9120,8114,8129,6139,8114,2129,9273,9260,4133,8232,5319,1121,9273,1254,5414,7214,5449,9139,5449,4217,3542,8113,3415,1121,9260,9134,1225,9139,7130,9211,5419,5224,3239,2419,4122,3311,5449,3413,5431,5413,8211,9273,8121,3536,6219,4159,3415,2317,9139,8113,1221,4159,8129,1254,5313,5449,8113,9260,2444,9111,5214,8114,8211,5411,1259,5214,4159,8114,5435,7125,8127,8122,4131,5213,8111,1225,6232,5322,9139,9274,9241,5213,1225,1225,6139,5436,1121,5312,6221,5419,7122,8111,3544,7121,6139,9279,5419,9233,6139,9233,9233,5449,8111,9139,9234,1254,5419,9139,1254,3532,5223,7121,5214,1161,5223,8111,3239,9134,5314,7124,1254,9260,9272,9233,9260,6240,8123,4132,5223,5412,9279,5411,5441,6232,4159,5236,8111,5431,8137,4159,7122,9260,1254,9139,5315,8111,5419,3413,8129,2211,5435,5413,5414,4159,8111,5111,1221,5431,1225,9260,4159,8111,9273,8114,9233,9211,9260,1254,6139,1225,4123,5431,8124,9139,3313,9233,3563,8121,3413,5249,5223,5313,8121,1150,7214,4123,8113,9233,5414,5221,8232,8123,9119,8113,5431,4159,8113,7214,9139,5442,8139,4159,4159,9233,5419,8232,9139,9260,2231,1223,9260,3562,8111,5419,8111,5423,9119,5421,9260,7125,5435,7125,9260,8222,8232,5224,5435,8137,9260,4159,8111,9111,9233,9260,5442,8114,2444,9233,5112,5413,9260,8129,1254,8111,1254,6212,8123,5423,9241,9260,5442,7125,9233,5312,5322,8121,8111,1259,5414,2129,5212,8214,5442,5319,9234,8114,5431,9260,9260,8126,2121,4159,1259,9134,9260,8114,9273,8111,3532,9260,3219,1221,9260,1121,2419,5423,1254,6231,9274,9260,5411,2231,3239,3415,9260,8134,9134,3415,5414,9260,2419,2419,5312,9139,9139,1254,9260,8142,9260,9273,5432,5241,9233,1254,2444,8125,4159,5449,5414,9260,8113,9260,6141,3544,1171,5214,4131,8114,8134,5242,5413,8124,1254,9260,9260,3122,3542,9134,1171,4122,5414,9139,9134,8211,9279,4159,9259,8239,9260,9120,4129,1254,1254,5411,3413,3411,5414,1254,7111,8113,9139,5411,1162,5419,9120,5211,4159,6232,6221,5432,5319,8137,5234,9260,9260,8137,2312,3543,3239,4122,8111,8113,8114,9234,8129,5314,8137,8142,9139,5323,8134,1254,8114,8125,9134,4159,7111,8111,5411,9233,9233,5449,9260,5232,1255,2129,9233,5414,8129,9233,3563,8113,3413,5432,9260,9233,5319,3239,1224,4159,9260,9260,8129,8111,5319,9111,8134,5431,8125,5315,5119,9260,8111,8222,1221,9260,5414,3532,8125,8213,5419,2231,9234,5414,8125,8117,5414,9233,8211,1254,5441,9134,9233,5112,2434,9233,9234,4123,8114,8234,4159,8139,5414,8113,8142,9233,2319,5111,1254,8111,8134,5442,8119,9119,4159,5421,4131,8129,3313,8129,9260,9274,8111,5411,2444,5431,5419,3441,9260,9139,5442,3231,4131,7125,3542,9260,4133,6139,8129,5442,3415,9260,5432,8137,8211,6145,3412,5315,5111,9241,9260,8137,4159,6122,8125,9233,3415,9233,4159,5419,3441,9260,9139,None,5442,3231,4131,7125,3542,9260,4133,6139,8129,5442,3415,9260,5432,8137,8211,6145,3412,5315,5111,9241,9260,8137,4159,6122,8125,9233,3415,9233,4159,5419]\n",
        "\n",
        "\n"
      ],
      "execution_count": 47,
      "outputs": []
    },
    {
      "cell_type": "code",
      "metadata": {
        "id": "cPQDzA-5kYk6"
      },
      "source": [
        "from tqdm import tqdm\n",
        "tqdm.pandas()"
      ],
      "execution_count": 49,
      "outputs": []
    },
    {
      "cell_type": "code",
      "metadata": {
        "id": "WV0w-q3Qk3xl"
      },
      "source": [
        "def change(text):\n",
        "  try:\n",
        "    p = names.index(text)\n",
        "    return code[p]//1000\n",
        "  except:\n",
        "    return None"
      ],
      "execution_count": 55,
      "outputs": []
    },
    {
      "cell_type": "code",
      "metadata": {
        "colab": {
          "base_uri": "https://localhost:8080/"
        },
        "id": "yyzt9e2clBS2",
        "outputId": "fcb0803d-9c59-4bd2-d429-25c891a37705"
      },
      "source": [
        "specific[\"Verified_Class\"]=specific[\"Occupation\"].progress_apply(change)"
      ],
      "execution_count": 64,
      "outputs": [
        {
          "output_type": "stream",
          "text": [
            "100%|██████████| 898644/898644 [00:13<00:00, 68499.16it/s]\n"
          ],
          "name": "stderr"
        }
      ]
    },
    {
      "cell_type": "code",
      "metadata": {
        "colab": {
          "base_uri": "https://localhost:8080/"
        },
        "id": "czTY7FiolXsJ",
        "outputId": "7df93eca-1e1e-4d43-fabe-ceeb8624031e"
      },
      "source": [
        "specific[\"Verified_Class\"].value_counts()"
      ],
      "execution_count": 67,
      "outputs": [
        {
          "output_type": "execute_result",
          "data": {
            "text/plain": [
              "9.0    99871\n",
              "5.0    68318\n",
              "8.0    56802\n",
              "4.0    31328\n",
              "2.0    18310\n",
              "3.0    16826\n",
              "6.0    15076\n",
              "1.0     8116\n",
              "7.0     4089\n",
              "Name: Verified_Class, dtype: int64"
            ]
          },
          "metadata": {},
          "execution_count": 67
        }
      ]
    },
    {
      "cell_type": "markdown",
      "metadata": {
        "id": "i3w-v-5kg-MA"
      },
      "source": [
        ""
      ]
    },
    {
      "cell_type": "markdown",
      "metadata": {
        "id": "3ShnfZu7i5Cs"
      },
      "source": [
        ""
      ]
    },
    {
      "cell_type": "code",
      "metadata": {
        "colab": {
          "base_uri": "https://localhost:8080/"
        },
        "id": "hVV_k1oMppIV",
        "outputId": "f9f5aff4-b78c-4979-affa-741cff807abf"
      },
      "source": [
        "sum(specific[\"Occupation\"].value_counts()[0:1000])/sum(specific[\"Occupation\"].value_counts())"
      ],
      "execution_count": 75,
      "outputs": [
        {
          "output_type": "execute_result",
          "data": {
            "text/plain": [
              "0.7751202112470932"
            ]
          },
          "metadata": {},
          "execution_count": 75
        }
      ]
    },
    {
      "cell_type": "code",
      "metadata": {
        "colab": {
          "base_uri": "https://localhost:8080/"
        },
        "id": "Osi5bGUTp__5",
        "outputId": "a642c694-bc9d-4038-cb39-6f233f05a6fb"
      },
      "source": [
        "sum(specific[\"Verified_Class\"].value_counts())/sum(specific[\"Occupation\"].value_counts())"
      ],
      "execution_count": 76,
      "outputs": [
        {
          "output_type": "execute_result",
          "data": {
            "text/plain": [
              "0.5073240920688431"
            ]
          },
          "metadata": {},
          "execution_count": 76
        }
      ]
    }
  ]
}