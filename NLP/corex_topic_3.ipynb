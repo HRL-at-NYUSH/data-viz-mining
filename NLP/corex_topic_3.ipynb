{
 "cells": [
  {
   "cell_type": "markdown",
   "metadata": {},
   "source": [
    "# Anchored CorEx: Topic Modeling with Minimal Domain Knowledge"
   ]
  },
  {
   "cell_type": "markdown",
   "metadata": {},
   "source": [
    "**Author:** [Ryan J. Gallagher](http://ryanjgallagher.github.io/)  \n",
    "\n",
    "**Last updated:** 03/22/2021"
   ]
  },
  {
   "cell_type": "markdown",
   "metadata": {},
   "source": [
    "This notebook walks through how to use the CorEx topic model code. This includes fitting CorEx to your data, examining the topic model output, outputting results, building a hierarchical topic model, and anchoring words to topics.\n",
    "\n",
    "Details of the CorEx topic model and evaluations against unsupervised and semi-supervised variants of LDA can be found in our TACL paper:\n",
    "\n",
    "Gallagher, Ryan J., Kyle Reing, David Kale, and Greg Ver Steeg. \"[Anchored Correlation Explanation: Topic Modeling with Minimal Domain Knowledge](https://www.transacl.org/ojs/index.php/tacl/article/view/1244).\" *Transactions of the Association for Computational Linguistics (TACL)*, 2017."
   ]
  },
  {
   "cell_type": "code",
   "execution_count": 1,
   "metadata": {},
   "outputs": [],
   "source": [
    "import numpy as np\n",
    "import scipy.sparse as ss\n",
    "import matplotlib.pyplot as plt\n",
    "\n",
    "import corextopic.corextopic as ct\n",
    "import corextopic.vis_topic as vt # jupyter notebooks will complain matplotlib is being loaded twice\n",
    "\n",
    "from sklearn.datasets import fetch_20newsgroups\n",
    "from sklearn.feature_extraction.text import CountVectorizer\n",
    "import pandas as pd\n",
    "%matplotlib inline"
   ]
  },
  {
   "cell_type": "markdown",
   "metadata": {},
   "source": [
    "## Loading the documents data"
   ]
  },
  {
   "cell_type": "markdown",
   "metadata": {},
   "source": [
    "We need to first load data to run the CorEx topic model. We'll use the 20 Newsgroups dataset, which scikit-learn provides functionality to access."
   ]
  },
  {
   "cell_type": "code",
   "execution_count": 2,
   "metadata": {},
   "outputs": [
    {
     "data": {
      "text/plain": [
       "['Skip to main content Search UPLOAD SIGN UP | LOG IN BOOKS VIDEO AUDIO SOFTWARE IMAGESABOUT BLOG PROJECTS HELP DONATE  CONTACT JOBS VOLUNTEER PEOPLE Search Metadata Search text contents Search TV news captions Search radio transcripts Search archived websitesAdvanced SearchSign up for freeLog inFull text of \"The practical cabinet maker and furniture designer\\'s assistant, with essays on history of furniture, taste in design, color and materials, with full explanation of the canons of good taste in furniture ..\"See other formats^ ',\n",
       " 'HISTORY OF FURNITURE, TASTE IN DESIGN, COLOR AND MATERIALS, WITH FULL EXPLANATION OF THE CANONS OF GOOD TASTE IN FURNITURE ',\n",
       " 'Together with Many Practical Directions for Making Cabinet Work Generally, and a Number of Pieces of Furniture in Particular, along with Hundreds of Recipes for Finishing, Staining, Varnishing, Polishing and Gilding all kinds of Cabinet Work :: :: :: ',\n",
       " 'Author of \"Practical Treatise on the Steel Sojmrk,\" \"Modern Carpentry,*\\' \"Hardwood Finisher, Wood-Carving,\" Etc., Etc. ',\n",
       " 'In preparing this work, I think it unnecessary to waste time and space in publishing a preface, which would at least occupy from three to five pages, and which at best, would be of little service to my readers ; so I will content myself, and perhaps serve my readers better by inserting in these remarks the gist of what would be expected to appear in a preface, along with other material that may be both interesting and useful. ',\n",
       " 'In these days, specialization in \"Furniture-making\" has in a great measure robbed the trade of many of its charms, as well as its claims to the dignified position it once held. ',\n",
       " 'In the \"good old times\" every man who could hold up his head and say truthfully \"I am a CabinetMaker,\" meant that he had given long years of apprenticeship to every branch and every detail of the business. His assertion, when interpreted, meant \"that he could take timber, saw it, plane it, mould it, glue it, veneer it, join it, carve it, finish it, and upholster it, all by hand.\" It meant a full knowledge of everything connected with the manufacture from the entrance to the yard and to that of the wareroom. What might be expected of such workmen, in the way of completeness ',\n",
       " 'and thoroughness, could be had for the hiring. Their experience was indelibly stamped upon their work. ',\n",
       " 'Invention has disarranged this most certainly. The labor-saving machinery of later years has dispensed with something of the old-time necessity. Circular saws, jig and band saws, stickers, planers, jointers, carvers, and the many contrivances, for economizing time, have made those long terms of apprenticeship in a measure, unnecessary, and to-day men are not Cabinet-Makers in the sense we have referred to, but they are competent to do either circular-sawing, band-sawing, moulding, or planing, etc., alone, and but little else. This subdivision of labor has been the outgrowth of the advance of invention. ',\n",
       " 'Often you will have among your applicants for work, men who belong to both classes — representatives of the \"old school\" as it were, and fledgelings who, having rubbed furniture three months in some manufactory, and consider themselves fit subjects for a diploma. It will be found to be advantageous to mix these two elements. Each has claims which are worthy of consideration. The former class, from having been drilled so faithfully in every department of the work; although, workmen of this class are apt to be wedded a little too firmly to the methods in use when they were apprentices. Workmen of the latter kind are progressive, and restless under restraint; perhaps a little too much so sometimes. But the two average well, and the ',\n",
       " 'The bench hands, bear in mind, must be men of experience, with this quality more or less extended as the quality of the work may require. In cases where most of the work is machine work, the manufacturer will readily perceive that he can, with advantage to himself, engage the services of a class of men whose knowledge is confined exclusively to the machine they pledge themselves to run. Migratory workmen are a curse to themselves and the manufacturer. They are the best examples of the saying: \"A rolling stone gathers no moss.\" ',\n",
       " 'The close subdivision of work in our best manufactories is conducive to uniform and generally good results, that is, that the tools and machines produced are of equable quality and uniform in build. ',\n",
       " 'The system that includes the individual workman only as the intelligent part of the machinery is admirable as making him an exact reproducing agent, and consequently aiding in uniform results ; but it is to be questioned whether it is the best plan to make intelligent practical machines. It may be that possible excellence by it will be sacrificed to tolerable uniformity. Good mechanics of fifty-five years ago have little sympathy with a system that lowers the status of mechanical conditions to the level of the machine attendant, or the monotonous worker at a single branch. This system is ',\n",
       " \"not consonant with the freedom of individual endeavour that seems to be a part of the American mechanics' aspirations. \",\n",
       " 'After all the old-time job shop was about as reasonable a school as the embryo mechanic could desire. The foreman of one of the best known establishments in this country recently died. In conversation long ago he stated that his intimate knowledge of the different departments of the work was got from his experience in a \"job shop,\" where he had a chance at everything, from the lathe to the carving room. He made his own drawings (sketches), and frequently made his own designs. These accomplishments may have been crude, but they gave him the idea of how a job should be done, as well as what was to be accomplished. He was an example of one sort of a practical mechanic, of which there should be more. ',\n",
       " 'Since the grand art movement, of which Victor Hugo\\'s \"Notre-Dame de Paris\" was the most brilliant expression, the taste for art objects has gradually developed with an intensity almost incredible. The stuffs, the china-ware, and above all the furniture of preceding centuries, are, now that they are old and battered, always sold for prices far higher, because of their excellence of construction and design. In this tendency it would be wrong to see nothing but a single fashion, a mania and an exaggeration, based upon fantasy and imitation; all the men of taste of one nation, ',\n",
       " 'or, we might well say, of all great nations in the world, could not possibly be deceived to this extent, and with this unanimity of their fantasy, had it not a solid and serious basis. And this fashion for antique furniture does not rest upon a very reasonable and very logical foundation, — at first in its disdain for phantom furniture, which, through the perfecting of wood-working machines, has arrived at the last degrees of veneer, scarcely presenting the slightest degree of solidity, the mahogany, oak, walnut, and rose-wood with which they are coated cracking at the slightest shock, and peeling off at the least change in the dampness or dryness of the weather. All the world, too, knows equally well that the homely furniture of thirty years ago, Queen Anne and Eastlake, is equally inelegant in appearance, and uncomfortable in use. There is, then, in the desire of purchasing antique furniture, the just idea of procuring articles altogether solidly built, the form of which is always, if not absolutely conformable to the rules of art, at least entirely different from the veneer articles which, from their nature, can only be subject to very limited number of combinations, and can never furnish to the taste of architects and designers the same resources as solid wood. A longing to escape from the cold and monotonous furniture of the preceding generation added to the renaissance movement of the year of 1800, caused a greedy demand for antique furniture to suddenly arise ; but when all of those arti',\n",
       " 'cles which had remained sound and solid were sold off, it was necessary to repair, restore, and strengthen those articles which were only discovered in fragments. ',\n",
       " 'While the introduction of machinery had had much to do with changing the character and working methods of the cabinet maker, it has proved a great boon to humanity generally, and has given to the masses, a class of furniture they never could have enjoyed but for the cheaper productions by the aid of power, and machines, and in these remarks, I do not wish to give the impression that machine made furniture is not good, or that it has not a beauty of its own, or that a majority of the designs are not graceful and well adapted to the days in which it was executed. In fact, I am of the belief that woodworking machinery has proved a blessing to both producer and user of cabinet work, while at the same time it has proved almost fatal to the distinctive and individual beauty of artistic handmade furniture. ',\n",
       " 'The object of the writer of this book, is to aid the young cabinet-maker — and the old one too — in obtaining a knowledge of the art from A to Z, and to enable him to take his material from the rough, and work it up until it reaches a finished state ready to take the place for which it was intended. I also purpose reproducing a number of designs of, what was generally considered to be some of the finest examples of furniture, from which the young workman and designer, may absorb inspiration and give to his work a charm ',\n",
       " 'and character to such work as he may undertake to execute, that can never be conveyed to articles made by the machine. ',\n",
       " \"It may be said, and with justice, that there is little or no demand for handmade art furniture, but I am persuaded this condition is occasioned because of the little of it there is jn the market, and the very high prices demanded for it by the owners. These high prices are placed on the articles, not by the maker, designer or workman, but by dealers, and the prices are often from four to five times the actual cost of the original work, and are only bought by rich people, whereas, if the prices were normal, the middle classes, whos'e taste is equal — and often superior — to that of the very rich, would indulge in handmade work to a very much larger extent than they now do. \",\n",
       " 'The bright sharp workman, of whom there are hundreds in our cabinet factories, who have been trained from the lumber yards to the running of the most delicate machinery in the shop, who by a little study, and a little practical work, may soon become able to make and finish furniture — by hand — of the finest sort, furniture too, that will find a ready market if the maker does his best. Many fine pieces of furniture have been made by advanced students after work-hours or during holidays. I have in mind at this writing, a splendid oak side-board, that was made in Newark, N. J., by a young man who was serving some years in a furniture ',\n",
       " \"shop, in that city, as an apprentice. The work was all done by hand, and in a shed in the rear of the house, polishing and all. The sideboard was intended for his father, but a wealthy neighbor of the latter, a man of taste, seeing the work before it was quite completed, offered to buy it, and thus, when finished was sold for the sum of $280.00. The materials, including mirrors, stained and leaded glass, hardware, and other stuff, all told, cost about $55.00. When it is considered, the work was done, nearly all after hours, between the fifteenth of October and the end of April, the amount was quite a comfortable addition to the young man's slender yearly salary. But the money gained, was but a fraction of the benefit he derived, as the experience, and the knowledge obtained in making the furniture, were worth to him many times the money he received for it. \",\n",
       " 'Of course, I do not think every apprentice, or even a large percentage of them, could make such pieces of furniture, or find purchasers for them after they were made, but every apprentice or student could make something, that would be useful and ornamental, and have a cash value, besides opening a way for the cultivation of a broader and more exact artistic taste. ',\n",
       " 'Taste was the founder of all our styles in furniture from the prehistoric log stool all the way down through the Egyptian, Babylonian, Chinese, Greek, Roman, Medieval, Byzantine, French, Gothic and the more ',\n",
       " 'modern styles of Chipendale, Shereton, Adams, and our colonial styles, and it is essential that every cabinetmaker who aspires to know his business, should cultivate taste, make himself conversant with the various styles, and be able at a glance to tell to what style, or on what lines any given piece of furniture is intended to represent. ',\n",
       " 'In this connection, I may say, it is proposed to lay before my readers a chapter or two on the various styles of furniture, with illustrations, explanations and some details. It is also intended to offer some instructions for performing such work as gilding, staining, polishing, and finishing the work complete. ',\n",
       " \"There are but a few books of value, on the art of cabinet-making, available to the American reader, though in French, and German, and even in Italian, there are quite a number, but most of their renderings would be of little use to the English or American workman, however, I will try and cull from them, whatever I deem suitable to these pages. The cullings from these works will consist mostly of illustrations, representing some of the best works of French, Italian, and German masters, with such explanations as may be necessary. The only American work, of a real practical nature, that I have any knowledge of is, first, Cabinet-maker's Companion, by J. Stokes, published by Henry Carey Baird, Philadelphia, Pa., 1870. This is an excellent little work and contains quite a number of good re\",\n",
       " 'ceipts on dyeing, staining, and other useful matter. Another book, a still more modern one by Alvan Crocker Nye, Ph. B. and deals nearly altogether with the constructional principle of cabinet-making, but it has little to say regarding the styles or historical peculiarities of furniture. This book is published by Wm. Comstock, New York, and is dated 1900. Some other Manuals are very good in their way, but they are written chiefly for boys who have had little or no experience in woodworking, and who may not intend making Cabinet-making a life work, are suited more for amateur workers rather than for those intending to follow woodworking for a living. These manuals however, will prove useful to every one who intends to work in wood, either professionally or a,s an amateur. ',\n",
       " 'There have been many essays on the art of furniture making, in our journals and art magazines, but these have generally been of an academic character, with a few exceptions, and have proved but of little service to the practical workman. ',\n",
       " 'A brief history of furniture and its growth, may not be out of place, though I do not purpose going into the subject at great length, so I will devote one illustrated chapter only to it. ',\n",
       " 'The first well-known reference to woodwork is to be found in the Book of Genesis in the instructions given to Noah to make an Ark of \"Gopher Wood,\" to make a window, to pitch it within and without with pitch, and to observe definite measurements. From the specific directions thus handed down to us we may gather that mankind had acquired at a very early period of the World\\'s history a knowledge of the different kinds of wood, and the use of the various tools. ',\n",
       " \"We know also, from the various bas-reliefs and papyri to be found in the World's museums, how advanced were the Old Egyptians in the arts of civilization, and that the manufacture of comfortable and even luxurious furniture was well known. It is quite evident the Hebrews must have had the best of workmen for their teachers and taskmasters to have enabled them to acquire sufficient skill and experience to carry out such precise instructions as were given for the building of the ark, and the erection of the Tabernacle, the latter of which was built some 1 500 years before Christ — as to the kinds of wood, measurements, ornaments, fastenings (loops and taches), curtains of linen, and coverings of dried skins. We have only to turn for \",\n",
       " 'a moment to the 25th chapter of Exodus to be convinced that all the directions there mentioned were given to a people who had considerable experience in the methods of carrying out work, which must have resulted from some generations of cabinet-makers, carpenters, joiners, weavers, dyers, goldsmiths, and other craftsmen. ',\n",
       " 'A thousand years before Christ, we have those descriptions of the building and fitting by Solomon of the glorious work of his reign, the great temple, and of his own, \"the King\\'s house,\" which gathered from different countries the most skilful artificers of the time, an event which marks an era of advance in \\'the knowledge and skill of those who were thus brought together to do their best work towards carrying out the grand scheme. It is worth while, too, when we are referring to Old Testament information bearing upon the subject, to notice some details of furniture which are given, with their approximate dates as generally accepted, not because there is any particular importance attached to the precise chronology of the events concerned but because, speaking generally, they form landmarks in the history of furniture. One of these is the verse (2 Kings chap, lv) which tells us the contents of the \"little chamber in the wall,\" when Elisha visited the Shunamite, about B. C. 895; and we are told of the preparations for the reception of the prophet: \"And let us set for him there a bed and a table and a stool ',\n",
       " 'and a candlestick.\" Another incident is some 420 years later, when, in the allusion to the grandeur of the Palace of Ahasuerus, we catch a glimpse of Eastern magnificence in the description of the drapery which furnished the apartment: \"Where were white, green, and blue hangings, fastened with cords of fine linen and purple, to silver rings and pillars of marble: the beds were of gold and silver, upon a pavement of red and blue and white and black marble.\" (Esther 1:6). ',\n",
       " 'There are, unfortunately, no trustworthy descriptions of ancient Hebrew furniture. The illustrations in Kitto\\'s Bible, Mr. Henry Soltau\\'s \"The Tabernacle, The Priesthood and the Offerings,\" and other similar books, are apparently drawn from imagination, founded on descriptions in the Old Testament. In these, the \"table for shew-bread\" is generally represented as having legs partly turned, with the upper portions square, to which rings were attached for the poles by which it was carried. As a nomadic people, their furniture would be but primitive, and we may take it that as the Jews and Assyrians came from the same stock, and spoke the same language, such ornamental furniture as there was would, with the exception of the representations of figures of men or of animals, be of a similar character. At least this is what Litchfield says, and he is no mean authority. ',\n",
       " 'Doubtless prehistoric men made use of stones, logs, or piled-up sods, for seats, and for spots to rest their ',\n",
       " 'heads ; the use of stones for pillows being quite common as late as early historic times. Be this as it may however, we find, the Egyptians had chairs, beds, tables and other furniture, some of which was highly wrought and ornamented, at least 4000 years before Christ, as shown by the monuments, and by the papyri that have come down to us. We also possess some fragments of bronze furniture of both Egyptian and Assyrian make. ',\n",
       " 'The British Museum and the Louvre contain a few Egyptian chairs or seats that have been made in ebony and ivory, which owe their preservation to the lasting nature of the material. ',\n",
       " \"Two Egyptian chairs or thrones are illustrated at Figs. 1 and 2, in the first part of this work. At Fig. 3, cabinet-makers are represented as occupied in chair making, the feet and legs of the chairs being designed from animals' limbs, and the stools on which the workmen are sitting are blocks of wood hollowed out at the top. The Egyptian couch was of a straight-lined design in the body with a curved head like an ordinary sofa, the legs, feet and other salient points being carved with heads, feet and tails of animals. \",\n",
       " 'Some boxes and coffers with gable tops dovetailed together, small toilet boxes having carved or painted decoration, and Mummy cases of cedar-wood having elaborate hieroglyphic decorations, may be seen in the British Museum and in the Louvre. Chariot and horse furniture are well represented in the reliefs and wall ',\n",
       " 'paintings. Egypt was famed for chariot building, and exported them in trade to the surrounding nations. We read that King Solomon imported his war-chariots from Egypt. ',\n",
       " 'If examples of Egyptian furniture are scarce, the furniture of Assyria is practically non-existent, as the climate of the latter country was not so dry or preservative as that of Egypt, so that all examples thathave not been wilfully destroyed have long ago perished. Many ornaments of bronze and of ivory decorations have been discovered that have been used as mountings to feet, ends of legs of seats, chairs, or thrones. The ',\n",
       " 'bas-reliefs of the latter enables us to form a fairly accurate judgment of the nature and style of Assyrian furniture, the decoration of which was of a heavier and coarser character than that of the more elegant Egyptian ( Fig. 4 and 5 ) . Forms and parts of animals ',\n",
       " 'were used by the Assyrians and nearly all Oriental nations as furniture decorations. The human figure was also used, but generally in the representation of slaves or conquered peoples, who were degraded to the position of bearing the weight of the seat or throne of the monarch. The Egyptian chairs had also carved human figures as captives tied under the seat. ',\n",
       " \"The furniture of the Hebrews was doubtless of the same kind as the Assyrian. From the description of King Solomon's throne it was apparently similar to those of the Assyrian kings. It had lions for the arm supports, and had six lions in gold and ivory on the six steps on either side of the throne. \",\n",
       " 'In the manufacture of the furniture of the nations of antiquity the principal materials were — in woods, ebony, rosewood, walnut, pine, teak, and, above all, cedarwood; ivory, gold, silver, bronze, and electrum were also much used for inlays and for solid mountings. ',\n",
       " 'The furniture and the chariots of the Greeks in their early period were simply copied from Egyptian and Asiatic sources, with less of the animal forms and more of plant forms as decorative details (Figs. 6, 7). Folding stools and chairs were made in wood and in metal and the backs of the chairs Fl ^ re 4 were upright, or nearly so ',\n",
       " '(Figs. 8, 9 and 10) ; couches resembling modern sofas, elaborate foot-stools, and arm-chairs with the sphinxes for the arms were made by the Greeks. ',\n",
       " 'In the British Museum are some small models of Greek chairs made in lead, and wooden boxes showing the dovetail construction. ',\n",
       " 'In the later Greek periods the furniture was inlaid with ivory, ebony, gold, and silver. Tripods were made of bronze, and had ornamented legs in the shapes of the limbs of lions, leopards, and sphinxes. The Roman bronze tripods were very similar to the Grecian ones ',\n",
       " 'in design, and were not only used for sacred purposes in the temples, but also to support braziers for heating purposes, or for burning perfumes in the houses of private people (Fig. 10). ',\n",
       " 'Hand-mirrors and cistae were made in great quantities in bronze or in other metal alloys, in silver, and ',\n",
       " 'sometimes in gold. The mirrors were polished on the face, and had often rich designs of figure subjects. The Greek cistae were cylindrical metal boxes that rested on feet designed from those of various animals, having a lid or cover, with a handle or knot usually of figure design, the whole surface of the body being covered with engraved figure compositions and ornamental borders. They were probably used to contain jewelry ',\n",
       " 'and trinkets. Some very fine specimens of these handmirrors and cistae may be seen in the British Museum. ',\n",
       " 'The furnishing of the houses of the Romans was very much of the same character as that of the Greeks ',\n",
       " 'The interior plan and aspects of the Roman houses were such as those of Pompeii and Herculaneum. Tables and tripods of bronze or braziers were supported ',\n",
       " 'on three legs, some of which were made with hinges for folding purposes (Fig. n), and others were of sphinx and animal forms of a rich design (Fig. 12). Lamp-stand designs were quaint and elegant and were ',\n",
       " 'made in bronze (Fig. 13). Candelabra of architectural design were carved in marble and were from six to ten feet in height (Fig. 15). ',\n",
       " 'The Romans highly prized and paid good sums for tables that were made from the pollard cross grain of different hard woods in which the knots and grain showed to advantage, the beauty of the wood being brought out by hand-polishing and by the staining it ',\n",
       " \"with various colored dyes. Bird's eye maple and the wood of the cedrus atlantica were much prized. The smaller tables, abaci, rested usually on one foot— monopodium — and larger tables had three or four legs, \",\n",
       " 'which had ivory claws or heads of animals as carved decoration (Fig. 14). Boxwood, beech, and palm, inlaid with ivory, ebony, and precious metals, were used in the materials of chairs and couches. The latter were often made in bronze (Figs. 15 and 16), and chairs of state were carved in marble, one of this kind being in the Louvre, a cast of which is now in the Kensington Museum (Fig. 17). The form of the Roman curule chair was like the letter X, and was so called because it ',\n",
       " \"could be folded and carried easily in the curules or chariots. It was used from the earliest times of the Romans down to modern days in Italy, and was often constructed of elephants' tusks, wood, or metal, with ivory feet. The curule chairs were carried about for outdoor use and for the theatre. The sella or bisellium. \",\n",
       " 'to seat two persons, was often a very ornate kind of seat with turned legs similar to the couches (Fig. 18). ',\n",
       " 'In the houses of the Romans a separate room or wardrobe was fitted up to keep the dresses and cloths of the family ; this room had cupboards with doors and shelves, drawers, and lockers. ',\n",
       " \"Portable coffers and chests were used, in which they packed their cloths and valuables when carrying them to and from their town and country houses. The Roman furniture and wooden construction of their houses were decorated with paintings and carvings of animals' heads, limbs, and feet, and with the usual architectural acanthus foliage — veneering of woods was an art in which the Romans were skilled; both large and small design in Tazsia work were the chief decorations of the best furniture. \",\n",
       " 'The representations we have of what was used by the Egyptians, the Greeks, and the Romans, are those only of the most finished and tasteful specimens; and, consequently, materials do not exist for the formation of a chronological series. But if we examine such as are of subsequent date in Europe, the reply will be found amply to repay the trouble. ',\n",
       " 'In endeavoring to obtain some little insight into the forms and materials of the furniture of ancient times, we are dependent on different sources, according to the country under consideration. If it be ancient Rome or Greece, the descriptions by the classical writers and the paintings at Pompeii are our chief authorities; if ancient Egypt, the paintings on the walls at Thebes and other places ; if in China or India, or Asia generally, the specimens still existing, for the Asiatics are more stationary in their usages than the inhabitants of any other quarter of the globe. Footstools seemed to have formed part of the furniture of a sitting-room; ',\n",
       " 'they were made both solid and open at the sides, and were covered at the top with leather or interlaced string. ',\n",
       " 'The distinction between a bed and a couch does not seem to have been very clearly marked. They had couches of wood with one end raised and receding in a graceful curve, with feet fashioned to resemble those of some wild animal. It is supposed that those couches had a rich covering by day and bedding by night. The use of wooden pillows was customary ; they were made of various materials, according to the rank of the possessor, and had a singular kind of cavity in which the head or the back of the neck might rest. Wicker bedsteads were sometimes made of palmbranches, forming a light kind of grating on which the bed and bedding were placed. The tables used were of various forms — round, square and ob',\n",
       " 'lar, and supported by a central pillar, which was often the figure of a man as a captive. Other tables had three or four legs, and the material of the tables themselves, though generally wood, was sometimes metal or stone. ',\n",
       " 'It is curious to remark that Egypt exhibited, three or four thousand years ago, articles of furniture bearing a much closer resemblance to those of modern Europe than Egypt does at the present day. The chairs of the early times might in many cases be readily mistaken for those now in use among ourselves; whereas the divans and cushions of modern Egypt, on which the natives indolently recline, belong to the oriental system of furniture. In Cairo no chambers are furnished as bed-rooms. The bed, in the day-time, is rolled up and placed on one side, or in an adjoining closet, which is a sleeping-place in the winter. In summer many persons sleep upon the house-tops. The furniture of a room is comprised pretty nearly by the mat or carpet spread upon the floor, and the divans or cushioned couches. For meals a round tray is brought in and placed upon a low stool, and the company sit round it on the ground. There is no fire-place, the room being warmed when necessary by charcoal burning in a chafing-dish. ',\n",
       " 'Passing from Egypt to China, we find, in treating of the furniture of a room, as in many other matters, how singularly isolated the Chinese are from the other ',\n",
       " 'nations of Asia, and how much more closely they resemble Europeans. The Chinese are the only Asiatic ',\n",
       " 'people who customarily use chairs; they resemble the solid and heavy chairs in fashion during the early part of the 1 8th century; (see illustration of Chinese chair). The seat of the chair has often a cushion, and the back a hanging of scarlet silk or woolen embroidered with silk. In the forms of their Figure 17 furniture the Chinese gen',\n",
       " 'erally avoid straight and uniform lines; even in their doorways, instead of a regular right-angled opening, they often have one presenting the form of a circle, or an oval, or a leaf, or a jar. These fanciful doorways, however, are only used when there are no doors, the opening being covered with hanging screens of silk or cloth, or with bamboo blinds, like those used in India. The Chinese beds are generally simple in form, with cotton or silk curtains in winter, and a fine mosquito-screen during the heat of summer; the bed of an individual among the middle classes usually consists of two or three boards laid upon a couple of narrow benches, a mat to lie upon, and four bamboo-sticks to support the mosquito-curtains. It may readily be sup',\n",
       " 'posed that in the original country of porcelain a very usual ornament of dwellings consists in vases and jars of that material, of which the antiquity is valued above ',\n",
       " 'every other quality. This taste has led to the manufacture of fictitious antiques, not only in porcelain, but in bronze and other substances — points in which strangers are lgure often very egregiously ',\n",
       " 'taken in at Canton. The shapes of their tripods and other ancient vessels, real or imitated, are often fantastical, and not unlike similar vestiges in Europe. ',\n",
       " 'The furniture, such as tables, chairs, beds, and the chariots of the Byzantine period, was like the architecture in having something of the classic Roman mixture with some Asiatic Greek forms in its design. Scarcely any remains of such are now in existence, although we have evidences of the extreme richness of the sumptuary furniture and vessels of the great houses and palaces of Constantinople, for owing to the decadence and destruction of the Roman empire in the provinces, the capital of the East became enriched by treasures of the Roman families, who naturally fled to Constantinople for protection for themselves and their valuable effects. ',\n",
       " 'different varieties of seats, chairs, and footstools, on which the consuls are seated, represented in the carving. Many originals of these and casts from others, are now in the Kensington Museum, London. ',\n",
       " 'The chair of St. Maximian, preserved at Ravenna, is covered with ivory carvings, and is one of the finest examples of Byzantine work. ',\n",
       " 'Much of the furniture of the early centuries of Christian art is represented in the Byzantine illuminated manuscripts. Beds and couches kept the old Roman forms with the turned legs. Chariots must have been used very much, as the old game of chariot racing was kept up by the Byzantines. The Iconoclasts of the Eastern Empire under Leo the Isaurian (A. D. 726) — ',\n",
       " 'whose injurious rule lasted about one hundred and twenty years — were responsible for much destruction ',\n",
       " 'of sumptuary furniture, as well as for other productions of an artistic nature, but at the same time they were the indirect means of causing a new development in art in the western parts of Europe, and more particularly in ',\n",
       " 'the Rhenish Provinces, by driving the Byzantine artists and craftsmen to these places, where they were welcomed by Charlemagne, and by his powerful nobles and churchmen. In the course of time they succeeded in founding the school of art known as Rhenish-Byzantine. The finest illustrations of this art are seen in the magnificent enamelled reliquaries or shrines. The giltbronze chair of Dagobert is of Romanesque design, and is one of the earliest pieces of furniture of the Middle Ages (see Fig. 19). Another mediaeval chair or throne is high seated, and exceedingly rich in design (Fig. 20). It is of Scandinavian origin, and is a good example of the Romanesque style of Northern Europe. Many forms of the Romanesque are seen in the furniture and carving of the Gothic style that immediately succeeded the former. ',\n",
       " 'During the Anglo-Saxon period in England the ordinary houses usually consisted of one room. Sometimes a shed-like structure was erected against the wall of the room to contain the bed of the mistress of the house, and as a rule the inmates slept on a large table placed in the center of the room, or on benches on which bags of straw were placed. Seats without backs, or stools, long settles or benches with backs and carved ends or arms, were the chief articles in furniture. ',\n",
       " 'After the Norman Conquest domestic improvements were multiplied, more rooms were added to the houses, such as the solar or upper room, and the parlor or ',\n",
       " 'talking room, and some of the rooms had fireplaces, but not chimneys. The principal room was the hall or assembly-room, which had a fireplace in the center, the smoke escaping through the lantern light in the roof. In the Norman times the principal additions to the furniture of English manor-houses and castles were the cupboard, presses or armoires, and chests. These pieces ',\n",
       " 'of furniture were introduced from France. Sometimes the portable presses and the chests were painted with tempera decorations, and were bound with wroughtiron clasps and hinges, which were just beginning to come into use. ',\n",
       " 'The bed-clothes and personal clothing of the nobles and rich landowners began to assume a rich character, and were often embroidered. ',\n",
       " 'Tapestry and painted cloth hangings were imported ; also pottery of an ornamental description was not only imported, but made in England at this time. All this ',\n",
       " 'applies to the homes of the rich only, for the poorer classes remained for a long period in a very primitive condition as regards their style of houses and their furniture. ',\n",
       " 'The construction of furniture and the panelling of chests began to exhibit some workmanlike appearances of good carpentry. Panels were placed in framework that was mortised and fastened with wooden pegs, which became the universal method of panelling throughout the Gothic period. Room paneling came into use in England in the early part of the thirteenth century, Figure 23 when pine timber was used at first ',\n",
       " 'for this work, but was displaced later by the more substantial oak. This oak panelling during the Gothic periods was often carved with elaborate tracery of an architectural character (Figs. 21, 22), and a common design was a carved imitation of a carefully folded textile, known as the \"linen panel\" (Fig. 23). ',\n",
       " 'Chests were used as tables, and the tops had inlaid checkers to be used as chessboards. They were also used as sideboards on which to place dishes of food, the dining-table being a board which was placed on trestles, that could be removed and packed away when not required (Figs. 24, 25). A crossed-legged chair and a three-legged stool is shown at Fig. 2j, which ',\n",
       " 'were common shapes in the fourteenth century. The illustration, Fig. 26, is that of a bedroom of the same ',\n",
       " 'period, and is taken from an English manuscript of the date of 1400. For these illustrations, and many others ',\n",
       " 'on the subject of furniture, we are indebted to the work of Mr. J. H. Pollen on \"Furniture and Woodwork.\" ',\n",
       " 'The bed in the latter illustration has a flat canopy, or tester, with embroidered hangings. The walls of the room are panelled, and the floor is in checkered par',\n",
       " 'quetry. There is a curious seat that is partly an open press, with pottery, and metal vases placed as decoration on the top. ',\n",
       " 'Chests, trunks, or bahuts, were at this period, and in the time of the Normans, the most important articles in furniture; they were often made with inlaid wood decorations, and had strapwork of iron and ornate ',\n",
       " 'hinges. They were the usual repositories of the household valuables, money, and other treasures, and were carried on horses or mules when the family moved about from place to place. By degrees the chest, with the addition of a back and arms, became the settles or principal seats in the living-room, and the back developed with an added hood or projecting covering into ',\n",
       " 'Another and later development of the chest was to raise it on legs, and to add a back arrangement to it, with shelves for the display of household plate, to which was given the name of dressoir, or dresser, the latter in time developing into the modern sideboard. ',\n",
       " \"Chests were also important articles of church furniture, in which the sacred vessels, treasures, books, and priests' garments couljd be locked up, and a particular \",\n",
       " 'form of chest kept in church vestries was the cope chest, which took the semicircular shape of the copes when laid out flat in these chests. Examples of these chests are still to be seen in some of the larger cathedrals. ',\n",
       " 'The coronation chair (Fig. 28) gives a good idea of a state chair of the early Gothic period in England. ',\n",
       " 'Carriages of the fourteenth century were used for the conveyance of women and children, but were not very common. They were longshaped covered vehicles on four wheels, with or without paneled sides, and were painted and decorated (Figs. 29, 30). Carts for carrying and for agricultural purposes were used in the Anglo-Saxon and Norman periods in England, and in France at the same dates; these were twowheeled vehicles, each being usually of one solid piece of wood. ',\n",
       " 'The Saracens were very ingenious in the using of wood, as in carpentry, carving, and turning in the lathe. Their ingenuity and skill in carpentry and turning is seen in the Meshrebiya work and lattice, and in the carvings of the pulpit and door panels. ',\n",
       " 'Regarding the furniture of the domestic dwellings of the Saracens, whether of Egypt, Arabia, or elsewhere, there was very little of a movable nature except the small tables and reading-desks. The tables of Saracenic design are usually small and of a greater height than width ( Fig. 31). These tables or kursys are sometimes panelled with turned, latticed, or carved decoration, having stalactites under the top, as in the illustration, ',\n",
       " 'or in the kursys of a lighter construction are generally inlaid with ivory, ebony, and mother-of-pearl. Some of the richest variety are hexagonal in shape, are inlaid with brass and silver filigree ornamentation, and are of splendid workmanship. The next important article in movable furniture is the Saracen reading-desk, which is made in the form of a camp-stool, with cross legs. It is usually inlaid and decorated like the tables. ',\n",
       " 'The divans are platforms raised slightly from the ground, and covered with cushions on the seats and backs. The carved cupboards or shelves on brackets ',\n",
       " 'placed behind and above the divans, on which vases and trays are kept for ornament or when not in use, complete the usual furniture. of the Saracenic livingroom. Seats or chairs or lattice-work (dikkas), on ',\n",
       " 'which the doorkeeper sits, are usually found in entrance-halls, and if we add the elaborate metal and colored-glass lamps, the vases, the large metal salvers or trays, and the rugs and carpets, the furniture of a Saracenic house is complete. ',\n",
       " 'In the early part of the fifteenth century and during the whole of the century the furniture of Europe generally was designed more or less on Gothic lines, but gradually the new forms that were now rapidly developing in the architecture of the Renaissance, but in a slower measure, began to assert themselves in furniture designs. Consequently, we find in many articles, such as armoires or presses, and cabinets, a mixture of style in the design — as, for instance, the upper panels would be in the Mediaeval, and the lower ones in the Renaissance style, or the general construction would be Gothic, and the details and decoration would be Italian. ',\n",
       " 'This was more often the case in the furniture and other art in Germany, where the Renaissance was tardily welcomed. ',\n",
       " 'Styles of design in furniture overlap each other so much, especially in the Renaissance period, that it became very difficult to assign a correct date to many pieces of important work. Gothic designs continued to be used during the sixteenth century, although the Renaissance had been developing for a hundred years ',\n",
       " 'earlier. The most authentic means of fixing the date is when certain work can be proved to have come from the hand of a particular artist, or when there is a record of its having been made for a king or some great person, for the style is not always a sure proof of the correct date. ',\n",
       " 'In the \"Quattrocento\" period (1400-1500), or fifteenth century, Italian furniture made for churches, palaces, or private houses, was usually decorated with paintings, sometimes on a gilt ground, which was prepared in a gesso material before the gold was applied, some parts of which had relief ornamentation. ',\n",
       " 'Reliquaries, altar-fronts, panels or cabinets, chests, and marriage coffers were decorated in this way. ',\n",
       " 'The work known as \"tarsia,\" or certosina work, was made in great perfection about this time in Italy. It is inlaid work of a geometric character in design, or is composed of floral ornament, and sometimes consists of representations of landscapes and buildings. This kind of inlay derived from Persian sources, was developed chiefly by the Venetians, and was used mostly by them in the decoration of their stalls, tables, chairs, cabinets, &c. Ebony, ivory, and metals were also employed in the Italian inlays of this period. ',\n",
       " 'The Italian cassoni, or marriage coffers, were the most ornate and most imposing articles of furniture of the fifteenth and sixteenth centuries. They were placed in the long halls and corridors of the palaces and great ',\n",
       " \"houses, and were usually given as presents to newly married couples. They were generally used as the receptacle for the bride's trousseau and other treasures. In the latter century they were carved in walnut with sculptural mythological subjects, and had endings or corners of half-figures and half-foliage, as caryatids, \",\n",
       " 'with feet designed from the claws of animals to raise them from the ground (Fig. 32). The carving was relieved by gilding in parts, and sometimes the whole of it was gilt. ',\n",
       " 'Other examples of an earlier date were covered with a finely modelled decoration of gesso work, and gilded, and in other cases the large panels in the front were painted with figure subjects in brilliant colors and heightened with gold. ',\n",
       " 'A less costly kind of marriage coffer was made in cypress-wood, and fitted up in the inside with drawers, having the decoration on the surface engraved or etched ',\n",
       " 'in brown lines, with the ground slightly recessed and punched or stamped with a fine ornamentation. ',\n",
       " 'In the Kensington Museum there is an extensive collection of Italian cassoni embracing all the above varieties. Chairs carved and gilt of the same style and period as the coffers were usually placed between the rows of the latter in the halls of the Italian palaces (Fig. 33). These chairs had their backs and legs richly carved, each part being made out of a single slab of wood. ',\n",
       " 'The pair of bellows (Fig. 34) is a further illustration of the design and excellence of workmanship as shown in the work of the wood carvers of Italy in the sixteenth century, or \"Cinquecento\" period. ',\n",
       " 'Another fine specimen of wood carving is the Italian stool (Fig. 35) of the same date, which is remarkable for its delicacy of treatment. ',\n",
       " 'Another form of chair of a rectangular character, with or without arms, having an embossed leather or velvet covering on the back and seat, with turned and carved legs and rails, was made in Italy about this time (Fig. 36) ; it was much used subsequently in Spain, France, and in England, and has continued to be in favor down to the present day. ',\n",
       " 'Cabinets were made in Italy and in France in which slabs of beautifully colored and veined marbles and rare stones were inserted as panels in various shapes, to which the name of \"pietradura\" work was given. ',\n",
       " 'In the seventeenth and eighteenth centuries painted plaques of porcelain took the place of these marbles. ',\n",
       " \"In England, France, Spain, and Germany, the great houses, both private and religious, and the king's palaces were elaborately furnished, and kept in a state of great splendor. \",\n",
       " 'Churches were also furnished with elaborate stalls, pulpits, and rich utensils, but in the latter the style of the designs was still Mediaeval. ',\n",
       " \"In the reigns of Henry VII. and Henry VIII. in England the style gradually altered to the Italian forms of the Renaissance, and great quantities of Italian, Flemish, and French furniture were largely imported. Jean de Mabuse and Torrigiano were employed as architects and sculptors by Henry VII. , and Holbein and some Italian artists designed furniture and goldsmith's work for Henry VIII. \",\n",
       " 'In France, during the reigns of Francois I., Catherine de Medici, and Henry II., a great activity took place in architecture and in all the industrial arts, in which that country was not only imitated, but sought to excel, the work of the Italian schools. ',\n",
       " \"As already mentioned, the French kings and Medicean princesses in the sixteenth century had invited from Italy Cellini, Primaticcio, II Rosso, Serlio, and others, who succeeded in founding the style of the Renaissance in France, and about the same time many French artists journeyed to Italy to acquire the newer style which had been evolved from the study of the old classic remains of that country. Among the names of the principal French artists, sculptors, and carvers of this period are those of Jean Goujon, Nicholas Bachelier of Toulouse, Jean Cousin, Germain Pilon, Philibert de L'Orme, Du Cerceau, who published \",\n",
       " 'designs for all kinds of decorations and carvings, and Hugues Sambin of Dijon. Most of these men were ',\n",
       " 'architects and also designers of the heavy and rich furniture that was characteristic of the French Renaissance. Some of these artists and their works have been noticed in the chapters on Renaissance architecture and metal work. The cabinet (Fig. 37) is a good example of the architecturic style of French furniture of the sixteenth century. French wood carving is distinguished from the ',\n",
       " 'Italian of this period by the great use of the cartouche and strap-work (Fig. 38), which was so characteristic of the Henri-Deux style. ',\n",
       " 'When the Renaissance had taken a firm root in Germany, the designers and carvers of altar-pieces and of furniture generally proved themselves thorough masters of the style, and were especially skilful in the carving of wood, both on a gigantic and on a minute scale. Whole fronts of houses were elaborately carved in designs consisting of figure work, animals, ornament, and grotesques of a quaint and humorous description, while exceedingly minute works of figure subjects and animals were carved in box and other woods with a delicacy and quaintness often excelling the ivory carvings of the Japanese. Escritoires, buffets, cabinets, and other furniture, were made and exported from Germany into Spain and other countries. ',\n",
       " 'Flemish and English furniture and carving were pretty much alike in the reigns of Elizabeth — the Tudor period of English art — and of James L, the Stuart of Jacobean. The pieces of carved furniture, both Flemish and English, were very solid and heavy both in the design and thickness of material, which was generally of oak or chestnut. So much Flemish furniture was imported into England at this time, and the Englishmade work, being so close in resemblance to the former, that a great difficulty is experienced in classifying examples of this period. The table, Fig. 39, and the socalled \"Great Bed of Ware,\" are examples of the furniture of the Elizabethan period (Fig. 40). ',\n",
       " 'duced in the first instance by the great importations from Italy and Germany, but under such excellent native carvers and designers as Felipe de Borgona (six',\n",
       " 'teenth century), and Berruguete (i 480-1 561), the style of the Renaissance soon spread from Toledo to Seville and Valladolid, where great quantities of carved and inlaid work and elaborate altar-pieces were executed during the prosperous Spanish period of the sixteenth century. ',\n",
       " 'During the same century Venice and Florence were famed for their marquetry — inlaid work of ivory and metal — in cypres s, walnut, and other woods, which art ',\n",
       " 'had been imported from Persia and India by the Venetians, and which spread rapidly through Europe until the furniture made with marquetry decoration by degrees supplanted the heavier classical architectural designs. ',\n",
       " 'Before leaving the Italian sixteenth-century work we must notice the mirrors, with their elaborately carved frames of Venetian design and manufacture. In this century Venice was renowned for the making of glass, for which it is still famous, and certain privileges were granted by the State exclusively to Venetian manufacturers of looking-glasses. Two Murano glass makers named Andrea and Dominico, who were the inventors, were granted in the year 1507 the sole privilege of making \"mirrors of crystal glass\" for a term of twenty years. Previous to this time the mirrors ',\n",
       " 'were made of various polished metals. The frames of the Venetian mirrors were often elaborately carved (Fig. 41), some of them being made in designs that were strictly architectural in character, representing a door, or window frame, with pilasters frieze, and cornice and sill or plinth. These carved frames were often part or wholly gilt, and were exported in considerable quantities. Pictures were framed in a similar way to the mirrors, and carved and gilt frames were soon used all over Europe as picture frames. Later on gilt furniture of all kinds was made in Venice and was in great favor in the other countries of the Continent. ',\n",
       " 'The manufacture of marquetry furniture by the Dutch in the seventeenth century has been mentioned as having helped in a great measure to change the style of furniture design from its former architectural character to a greater simplicity of construction. Large panel surfaces were used for the purpose of showing to greater advantage the rich and bright colors of different kinds of hard woods used in the marquetry. Both natural and stained varieties of various wood were arranged in the designs in juxta-position, and a free and picturesque kind of ornamental foliage was employed mixed with large tulips, roses, and birds in the Dutch marquetry decoration. Other materials such as ivory, ebony, and mother-of-pearl, were also used as inlays. In France a similar kind of marquetry ',\n",
       " 'was developed, but the design consisted more of figure subjects and imitations of ruins in landscapes. A complete change in the design of the furniture in the latter country was also effected by the same desire to get large surface on which the inlaid work could be seen to great advantage, and the spaces were not divided by architectural mouldings, and the pilasters, as they had been in the preceding earlier work. Towards the end of the sixteenth century, and during the earlier half of the seventeenth, the sumptuous furniture, the beds, and general furnishing of the better class of houses and palaces in France and other European countries, were characterized by the use of costly silk brocades, tissues, and embroidered coverings and hangings. ',\n",
       " 'By thus seeking to give the furniture an appearance of the richest possible kind, such articles as chairs, couches, and beds lost in a corresponding degree their elegance and former constructive beauty. Under their gorgeous Italian and Oriental velvet coverings, their framed construction ceased to be visible. The above pieces of furniture still retained their sumptuous upholstery during the reign of Louis XIV., but the tables, armoires. cabinets, book-cases, pedestals, clock-stands ',\n",
       " \"and cases, came under the influence of the architecture of the period, when the king's chief minister, Colbert, selected the best architects and cabinet-makers of the day to design the furniture for the palaces of the Tuileries, the Louvre, and Fontainebleau. \",\n",
       " 'The greatest name connected with the design and manufacture of the magnificent furniture of the Louis',\n",
       " 'Quatorze period is that of Andre-Charles Boulle, whose work is known under his name as \"Boulle.\" This celebrated furniture is an elaborate kind of marquetry of which the materials are rare woods, ebony, tortoiseshell, brass, mother-of-pearl, and white metal or tin. The mountings, mouldings, and other salient points are made in brass beautifully chased and finished, some of the mouldings being in the forms of masks, foliages, cartouches, and animals\\' heads and feet as termination. Andre-Charles Boulle was born in Paris in the year ',\n",
       " \"1642. His father, Pierre Boulle was also a distinguished ebeniste, or cabinet-maker, but his more eminent son possessed the artistic gift in a much higher degree. In addition to making his special marquetry from his own designs Boulle also executed a good deal of his best works from the design of Jean Berain ( 1636171 1 ), his chief collaborateur. Berain's designs were more Italian in style, more symmetrical in the composition of the ornament, and more correct from an architectural point of view, than those attributed to Boulle himself, whose designs had much of the looseness and freedom of the prevalent Louis Ouatorze. \",\n",
       " \"At the death of Jean Mace, the king's ebeniste, in 1672, who had formerly lived in the royal galleries of the Louvre, the logement and office of ebeniste to the king had become vacant, and Boulle on the recommendation of Colbert, minister to Louis XIV., was appointed as the successor of Mace, and was installed in his rooms in the Louvre in the year 1673. He na< ^ previously executed some important work for the king, and was known as the ablest ebeniste at that time in Paris. \",\n",
       " 'The origin of the Boulle marquetry can be traced to the Indian, Persian, and Damascus encrusted inlays in ivory, ebony, and metal, that found their way to Venice, Portugal, Spain, and France in the Middle Ages. These works consisted chiefly of caskets, coffers, and small pieces of furniture In the inventories of ',\n",
       " 'Charles V. of France (1380) mention is made of lecterns and coffers of inlaid ivory or bone, in ebony, and similar works are mentioned in the inventories of Charles VI. (1418), and of Anne of Brittany (1498). These are the earliest notices of marquetry furniture that was made in France, and was probably an imitation of Oriental work. ',\n",
       " \"In the Renaissance period Francois I. bought some magnificent furniture of Indian workmanship, inlaid with mother-of-pearl, from Portuguese merchants, and mention is made of chairs, tables, coffers, cabinets, and mirror-frames that belonged to Queen Marie de Medicis (1600), the Cardinal d'Amboise (1500), and other great persons of the French Court, all of which works were made in marquetry. \",\n",
       " 'In France before the sixteenth century, tortoiseshell, brass, tin, and exotic woods were used as inlays, in addition to the ivory, ebony, and nacre of the East. From this it will be seen that Boulle did not invent the celebrated marquetry that bears his name. He, however, brought this sumptuous form of cabinet work to great perfection, and under the patronage of Louis XIV. he had every opportunity to develop his artistic abilities to the utmost. ',\n",
       " 'The method of procedure in the making of the Boulle marquetry was, first, to prepare the veneers of wood, shell, tin, and brass of the same thickness, each having perfectly plain surfaces; these veneers were ',\n",
       " 'then glued together in pairs of opposite materials, according to the nature of the effect required in the ',\n",
       " 'finished work, and were held together firmly in a vice. The design was then traced on the surface of the upper leaf, and the veneers were then cut through the lines of ',\n",
       " 'the pattern with a burin, a sharp strong knife, or a fine saw; thus four pieces of marquetry were made at one cutting. When the plaque forming the design was composed of tin or brass, which was afterwards engraved or chased, it was technically called \"boulle\" ; and when the design was formed by the shell or ebony it was called \"counter\"; the two effects are together known as \"boulle and counter\" or premiere et contrepartie. ',\n",
       " 'A later kind of Boulle work, known as the Second Style, has the shell veneers laid on a clouded vermilion or on a gilt ground. ',\n",
       " 'Boulle was an artist of great excellence as a sculptor and chaser of metals; his mountings of foliage and masks which decorated his works are spirited in design and are skilfully chased and finished (Fig. 42). He executed a great number of costly pieces of his famous marquetry for Louis XIV. and the Dauphin of France, many of which found their way to England a century later. Examples of Boulle work fetch great prices when, as on rare occasions, they make their appearance in a sale. ',\n",
       " 'In Germany in the seventeenth century, the most prominent names as designers and makers of furniture are Philip Heinhofer, Baumgartner, and Hans Schwanhard. The former was the maker of the celebrated Pomeranian Cabinet (1611-1617) which is now in the Royal Museum at Berlin. ',\n",
       " 'In this century, in Italy, Andrea Brustolone (16701732) was noted as a carver, gilder, and cabinet-maker who worked in the extravagant style of the Louis Quinze (Louis XV.), and in the first half of the ',\n",
       " \"eighteenth century (1700-77) Pifetti, a Piedmontese cabinet-maker, was honored by the Italian Court, for which he executed many works in ivory carving and marquetry work in the style of Boulle. Many other cabinet-makers and carvers were employed to make furniture and to decorate the queen's palace at Turin, among whom may be mentioned the names of Galleti, the successor of Pifetti, and Maggiolino of Milan, who \",\n",
       " \"chiefly made a kind of marquetry in light woods. We are indebted to Mr. J. H. Pollen's handbook on furniture for some of these names, and a list of many others will be found at the end of his useful book. \",\n",
       " 'The French architect, Le Pantre (1617-82), designed furniture and decoration in the heavy classical style of the Roman antique, mixed with shell-work, grotesques, and little Cupids or \"putti,\" and also engraved and published a book of studies of Roman ornament from sketches that his master, Adam Phillipon, had made in Italy. He worked with Le Brun, the painter and director of the decoration at Versailles. Le Brun\\'s own work was heavy and dull, although he aimed at grandeur and gorgeousness of effect. He was director of the Gobelins tapestry manufactory, and his style of work was in harmony with the pompous ideas of Louis the \"Grand Monarch.\" Madame de Maintenon says in one of her letters to a friend, that Louis was so fond of symmetry and stateliness in his architecture, as in other things, that he would have you \"perish in his symmetry,\" for he caused his doors and windows to be constructed in pairs opposite to one another, which gave to everybody who lived in his palaces their death of cold by draughts of air. ',\n",
       " 'In this century and early in the following one, the art of wood carving was greatly developed in England, chiefly owing to the genius of Grinling Gibbons and to the influence of Sir Christopher Wren, the style de',\n",
       " 'veloped being a more or less realistic or baroque form of the Renaissance (Figs. 44 and 45). Gibbons carried ',\n",
       " 'out some of his carvings to an astonishing degree of realism: bouquets of flowers, festoons of fruit and flowers, birds, figures, and drapery were executed by him in the highest possible relief, which looked de',\n",
       " \"tached from the ground, and yet they usually formed a part of the solid wood with the background. Ornament was carved with a singular crispness, and apparently without any hesitation on the part of the carver. Though we may condemn the florid looseness of the style of Gibbons, we must admire the dexterity of workmanship and general technical excellence imparted to everything he touched. Some of his best work may still be seen at Chatsworth, Petworth House in Sussex, Lyme Hall in Cheshire, St. Paul's Cathedral, and Trinity College Chapel at Oxford. \",\n",
       " \"Under the Regency of Philippe d'Orleans in France (17 1 5-1 723) decoration and ornament assumed a light and fanciful character, very naturalistic, but still having some classic details; of this style Claude Gillot is the chief exponent. Watteau, his pupil, made a great name as a painter of pastoral scenes, fetes galantes, and all kinds of light and daintily-treated subjects of a theatrical and artificial kind of composition. His color was silvery and harmonious, and sometimes he decorated furniture with pastoral scenes. \",\n",
       " 'The Rococo style had begun under the Regency, if not earlier, and such men as Oppenort, the De Cottes, father and son, Francois de Cuvillies, the Italians Bernini and Borromini, and lastly the great apostle of the Rococo, Meissonier, were all designers of furniture or architects who belonged to the period of Louis XV., and who executed works that reflected the loose and ',\n",
       " 'unrestrained character of the times (1723-1774). Chinese and naturalistic elements were grafted on, or mixed with, the former Louis Quatorze, with an addition of still life that did duty for architectural form in objects of pottery and metal work, and a combination of shell work; all these elements made up the style known under the different names of rococo, rocaille, baroque, or Louis Quinze. ',\n",
       " 'Furniture was made with curved and swelling panels to show to more advantage the marquetry, or paintings on gold grounds ; these kinds of panels and friezes were known as \"bombe.\" ',\n",
       " 'It is said that the Italian architects, Bernini and Borromini, were the first to introduce the rococo style into France, but no designer went so far in the wilderness of its vagaries as the French Meissonier. His ornament furnishes a perfect example of the want of balance and symmetry. He designed for furniture, woodwork, silver-smithery, and modelled decoration, all of which work illustrated the broken shell-shaped panels with frilled and scalloped edgings and curved mouldings. ',\n",
       " 'Rooms were lined with looking-glasses having these rocaille mouldings, which were well adapted to show to the best advantage the glitter of the gold leaf that was used inordinately on the furniture and decoration of the Louis-Ouinze period. ',\n",
       " 'were the usual color decorations of ceilings, furniture, carriages, and a host of minor articles such as fans, etuis, snuff-boxes, &c. The latter smaller articles, as well as the state, carriages, were decorated with paint',\n",
       " 'ings in what was known as the Vernis-Martin style. Martin was a decorator of carriages and an heraldic painter, who invented the particular hard varnish or lacquer which bears his name. It was quite likely that this was as near as possible a successful imitation of the Japanese gold lacquer that decorated the articles which were at this period imported from Japan by the Dutch and Portuguese traders into Europe. Carriages, tables, cabinets, and especially smaller articles like snuff-boxes and needle-cases, were painted and decorated in \"Vernis-Martin.\" Some of the smaller objects were beautifully mounted in chased gold. ',\n",
       " 'It was quite a common practice to cover or to panel furniture with plaques of Japanese lacquer, and to mount them in chased metal or ormoulu decorations. A unique commode is illustrated at Fig. 47, made from panels of very old Japanese lacquer and highly decorated with ormoulu mounts by Caffieri, a skilled chaser of the Louis-Quinze period. ',\n",
       " 'In the latter half of the eighteenth century an improvement in the design of furniture and of ornament generally crept in, owing to the study of the ornamentation and design of the classic objects that had been found in the buried cities of Herculaneum and Pompeii. These cities had been discovered in 171 3, and about forty or fifty years later books were published illustrating the buried remains, which helped to change ',\n",
       " 'The prevailing taste was then apparently gratified by the mixture or grafting of a certain quality of classic forms with the former frivolous style of the Louis Quinze. ',\n",
       " 'The style in furniture and in ornament now developed into what is known as the \"Louis Seize\\'* (Louis XVI.), and consisted in its ornament of a composition of then scrolls, garlands, bows and quivers of arrows, ribbons and knots, medallions with classic cameo-cut subjects. Mouldings were fine and delicately ornamented and of straight line variety; in fact, the straight line now reasserted itself in architecture and furniture design (see Figs. 48, 49), in refreshing and healthy contrast to the tottering and riotous curves of Louis XV. and the Du Barry period. ',\n",
       " 'Some of the most beautiful furniture expressive of the utmost elegance was made by Riesner and David, and was decorated with ormoulu mounts by Gouthiere for the Queen Marie Antoinette. Riesner and Gouthiere were the ablest men of their time, who generally worked together in the making and decorating of the finest furniture of this period. There is in the Jones Collection at South Kensington some of the very finest examples of this furniture, much of which was made for Marie Antoinette (Figs. 50, 51). ',\n",
       " 'woods, such as tulip-wood, holly, maple, laburnum, purple-wood, and rosewood, for his marquetry work, and used oak for the linings and foundations. ',\n",
       " 'The best pieces of David and Riesner were usually mounted in ormoulu or bronze-gilt metal by Gouthiere, who has never been equalled as a founder and chaser ',\n",
       " 'of this class of work. Prieur was also a good chaser of the Louis Seize period. Delafosse was an architect and designer of furniture and decoration of the period, whose designs were of a more heavy and classical kind. Cauvet was a German who worked in Paris, and designed graceful arabesques and figure work, and who published a book of designs. Lalonde designed work that might be classed in the same category as that of Cauvet, and Salembier was a prolific designer of a light and free kind of arabesque. Many of his designs for silk may be seen in the fabric at the Silk Museum in the Bourse at Lyons. Le Notre designed for furniture, carving, and was also famed with La Quintinie as a designer of the state and public gardens. ',\n",
       " 'In Italy the prevailing ornament in furniture and decoration was more classical than in France. Piranesi, Albertolli, Pergolese, and Bartolozzi are names of the principal designers of this country in the eighteenth century, most of whom published extensive works on ornament. The latter two were brought to England by the brothers John and Robert Adam (17281792), who had travelled in Italy, bringing also with them classical ideas, which they developed in England, and which influenced to a great extent the style of architecture and furniture design in this country. The Adelphi building and the houses in Portland Place were built from designs by the Adams. ',\n",
       " '&c., were made from their designs. Fine mouldings, medallions, rosettes, light garlands, capitals in classic form, fluted pilasters and columns, were all designed by them with the utmost restraint in style — even to coldness. ',\n",
       " 'Thomas Chippendale was a famous cabinet-maker of the eighteenth century. His furniture, or even any good imitation of it, fetches a good price at the present time. He published a book on furniture design and interior decoration in the year 1764. His sons are supposed to have made nearly all the best of the mahogany furniture known as \"Chippendale.\" ',\n",
       " 'The parlor chairs (Figs. 52 and 53) are good examples of Chippendale furniture, and the chairs made ',\n",
       " 'well-known cabinet-makers, who made excellent mahogany furniture in the last century, both of whom published works on the subject at the latter end of the century. ',\n",
       " 'The names of Gillow, Lichfield, Lock, and Copland are those of eminent cabinet-makers and decorators of ',\n",
       " 'In France, after the Revolution (1792), more decided phase of the dry and heavy classicisms was apparent in the furniture design and decoration of the period ( 1801 ). This return to the classic heaviness has been attributed to the influence of the academic painter David, but is more likely to have been a pandering to the national worship of Napoleon and the French Empire. It seemed to have been the universal desire to make everything echo or reflect in some measure the glory of the Emperor Napoleon I. The meanest thing had some symbol or allusion by the way of decoration that should remind everybody of the greatness of the new monarch and of the French Empire, and consequently the heavy and ponderous style of that period was known as the \"Empire Style.\" The furniture of the Empire was usually made in mahogany, decorated with mountings in brass or bronze, of sphinxes, griffins, Roman emblems, and antique scrollery. ',\n",
       " 'Percier and Fontaine are names of French cabinetmakers and designers who worked in the Empire style, and who published a book of their designs. (Fig. 55.) ',\n",
       " 'In England the style was copied, and endless imitations of the French fashion in tables, sofas, chairs, cabinets, and clocks were designed after the same antique ideals. ',\n",
       " 'century the mediaeval Gothic style was partly revived in architecture and in furniture, mainly owing to the efforts of W. Pugin, the architect. He designed many ',\n",
       " 'pieces of furniture, and published a work consisting of Gothic designs in the year 1835. Notwithstanding the efforts of Pugin and some other eminent architects and \"purists,\" no particular lasting impression was made in this direction. ',\n",
       " \"If we except a few of the best cabinet-makers' shops, where in the present day some furniture of good design \",\n",
       " 'is made, the majority of such work is now made by machinery, or is often too much the work of the upholsterer, and is consequently less artistic and more mechanical in both design and construction. ',\n",
       " 'Some of the most beautiful of Japanese and Chinese manufacture is made in carved wood and lacquered in black or red. Cabinets with drawers and quaintly contrived cupboards and recesses (Fig. 55) are made by the Japanese, finished in lacquers, and inlaid with ivory and mother of pearl. The Chinese are especially skilled in carving red lac-work. Some vases of great dimensions and of exquisite workmanship in this material may be seen in the various Museums. Lac-work is also executed with great skilfulness by the natives of India. Bracelets, armlets, or golias, are made of lac in various colors, the golden decorations of which are made from tinfoil and varnished with a yellow varnish made of myrrh, copal, and sweet oil boiled together. Boxes, bedposts, and other furniture, made in wood or papiermache, are lacquered and decorated with flat renderings of flowers and convenFigure 5: ',\n",
       " 'tional shapes of animals and birds (Figs. 56, 57). All kinds of toys, weights and measures, cooking utensils, circular playing-cards, turnery, etc., are objects in small wares made in the choicest lac-work of India. ',\n",
       " 'In looking back through the past ages, since the days of the supremacy of the Roman Empire, and after listening to the wonderful tales of the magnificent luxury and extreme prodigality of the sovereigns who reigned, and of the Lords and Ladies who lived in those times, we are led to suppose that the furniture of these palaces was of a kind that if it could be restored to its original splendour would strike our eyes in this present generation as something great in architectural beauty and dazzling in its gorgeousness. ',\n",
       " 'We have learned to look with longing eyes on the Ottoman Empire as the place where luxurious ease has reached the highest attainable point within the limits of human skill, and think that the harem of the Turkish Vizier must be a sort of fairy palace lined with silk and satin, and full of couches so soft and easy that to recline on them is enough to send one to sleep. ',\n",
       " 'If the truth were told, not one person in ten has anything like a proper idea of what furniture was in days gone by; and stranger yet, except in a few instances, people know very little about the finest furniture of the present day. One shop will turn out a bedstead, an',\n",
       " 'other a set of frames, and so on, but the people that make them seldom see them after they are finished, and in a house that is carpeted, curtained, and completely furnished, and if they did, would scarcely recognize them as the results of their handiwork. ',\n",
       " 'The majority of people obtain their ideas of furniture, modern as well as ancient, from reading, and twothirds of the descriptions of furniture that are written are fabrications of some fertile brain that does not know a sideboard with a glass in it from a bureau. Therefore when we read accounts of ancient furniture and its great superiority over that in use now, first see whence the authority comes before believing it all. We have seen accounts of the magnificence of the furniture of the Romans in the time of Constantine ; of the tables and chairs inlaid with gold, silver, and precious stones ; of ease and barbaric splendour that was startling; whereas the same chairs and tables were as uncouth and cumbersome and uncomfortable as most people believe them to be comfortable and elegant. They may have been heavy with gems, but the gems were beautiful — not the chairs. ',\n",
       " 'In the twelfth and thirteenth centuries more attention was paid to the architectural part of furniture than at any time before or since, but they lacked comfort, and we owe it to the French that instead of following the true principles of architecture and endeavouring to furnish luxury with art, they adopted a gaudy tinsel ',\n",
       " 'style that had no art and little comfort. Marie Antoinette set a fashion of glitter and glare, and in her time more money was spent in gorgeous furniture than at any other since the dark ages, not even excepting the shoddy time within our own recollection. ',\n",
       " 'Although there is much fault to be found with modern furniture, at no time has it been any better than it is now, to meet the wants of the people — and while we condemn the want of architectural merit, much, particularly in the richer classes, of the present day, is superior to that of the ancients. The furniture of the twelfth and thirteenth centuries had artistic merit and but little comfort, and was so rude in construction that the beauty of design was lost in the rough, unfinished look it presented, while today high finish, elegance of construction, and inviting look of comfort, do much to retard the introduction of pure architecture. When these two things, art and comfort, are combined, as they well may be, and soon will be, for we are glad to see the inclination in that way, it will be said years hence that the people of the nineteenth century were the first to turn out perfect furniture. We ought more properly to have said in the latter part of the nineteenth century, for perhaps nothing could be much An Old Cradle worse than the furniture of the earlier part, particu',\n",
       " 'lady here in our own land, for we had a mixture of the French, always bad, of the English, that was nondescript, and of the Puritans, that was — what shall we call it ? let it be nameless ; — we all know how it looked, and none would now care to use it. ',\n",
       " 'The sumptuous furniture of old, is of itself sufficient to prove the truth of the statement which has been made as to the advances made during the period of wealth and luxury. One could not desire to see a more beautiful bedroom, for instance, than that in which James I. of England was accustomed to sleep during his visits to Knole, in Kent, and which is, to our minds, only the more attractive for a kind of grave stateliness that pervades the whole. The mothers of the present day may, perhaps, feel interested in knowing what kind of article a cradle was about three centuries ago; it was a species of box, or coffer on rockers, decorated elaborately with carvings. In later times French feeling crept into our furniture and, to our thinking, by no means improved it. ',\n",
       " 'Illustrations of the elaborate and highly decorated character of the furniture belonging to the sixteenth and seventeenth centuries, are shown in our pages, from which our readers may derive some useful and suggestive hints from these reproductions. ',\n",
       " 'There is, we know, of great power in this world, a certain fascinating spirit, called fashion; which controls the fancy, and compels it to a predilection, and, at ',\n",
       " 'its pleasure, to a change of predilection, for forms and colors, and practices, quite independently of reason, and not seldom in the most direct opposition to commonsense. . ',\n",
       " 'Fashion nevertheless is sometimes a brainless spirit, if the expression may be allowed of spirit; and without sense of good or evil. It will ally itself with taste, whether good or bad, and with moral order, good or bad. Among the Greeks of old, connecting itself with good taste (we wish we could add good morals) in its progress towards perfection, and maintaining the alliance, when perfection was attained. Fashion was of inestimable value. In some instances Fashion has been found capable of fixing a good moral order; and then of course it has been of worth still far more transcendant. But this brainless spirit, perhaps oftener has made bad taste immovable; of which the Chinese afford a great example. ',\n",
       " 'But, among the Greeks, in architecture, in literature, even in dress, things were so settled, that one general character of Grecian taste has been the allowed criterion of perfection, for now about three thousand years. How was it that the spirit of fashion, among them, held such persevering connection with the spirits of common sence and good taste? Could it be because women were so excluded from general society as to have little influence in directing Fashion, or in supporting her in her wayward fancies? Surely the spirit of steadiness is not ',\n",
       " 'alien from the English character : in graver matters we know it to be eminent. The famous \"Nolumus leges Angliae mutari,\" has been persevered in for centuries; and we may hope will be persevered in as long as the world shall last, or as long as it shall please providence that the English nation exist. But in matters of taste, certainly it has not been so. ',\n",
       " 'There is not a demon more adverse to good taste than the spirit of Novelty. In matters of taste, as in almost everything, there are commonly many wrong ways for one right. Now the spirit of Novelty allows readily the passing from wrong to right ; but at no rate, the perseverance in right; whence wrong must, many times to one, with him, prevail. With this spirit, fashion has long, in this country, but especially of late days, held close alliance. Fashion has no will of her own ; but Novelty, though ever-changing, has, for the moment, a most determined one. Thus, Fashion still appearing the imperial lady, and Novelty but her minister, he easily leads her his own way. ',\n",
       " 'In what high estimation both these whimsical spirits are held very extensively, net to say universally, among the ladies, is enough known. The ladies even in America rarely have their natural good taste improved, but often much perverted by education. Taught from infancy to revere the majesty of Fashion and to consider her sovereignty as not to be even decently opposed, with a living feeling for the charms of Novelty, they set ',\n",
       " \"about their imperial business of furnishing a house. Ranging the fashionable upholsterers' warehouses, they feel themselves as in a sea of delights, but as in a vessel with a port to seek. Without a compass they look to Fashion as their polar star, their sails are filled by Novelty, and they give the helm to fancy. \",\n",
       " 'The sky is clear, the weather most temperate; but under license of Fashion, Novelty, with his handmaid Variety, dispensing the winds, they are ever shifting. Fancy, distracted, grows giddy; her nerves falter, her hand shakes, her eyes twinkle, and she can no longer by day take the height of the sun, or by night with any certainty discover her polar star, a changeling polar star, Fashion. Thus distressed, the lady seeks advice from experience, and the cabinet-maker or upholsterer is called to her assistance. ',\n",
       " \"Beyond all others the spirit of Novelty and Variety are objects of the upholsterer's workshop. He professes infinite reverence for Fashion. But his loyalty is for the fashion that may happen to reign for the day : nor is it, like the Vicar of Bray's, an ever acquiescing loyalty; on the contrary, he is ever aiming at revolution. The lady is aware of the unsteadiness of the reign of Fashion ; and not less anxious than the upholsterer to be prepared to adore the rising sun; but with this difference : he is always ready for revolution ; she devotes herself more to the present power, and dreads changes. in which others may be before her. Not wholly un\",\n",
       " 'aware then of hazard in committing herself to his advice, having made her inquiries, and gained all attainable information, her purpose is to direct her upholsterer; but he is versed in the ways of leading her. ',\n",
       " 'It behooves the cabinet-maker and upholsterer much to have talent in matters of taste, and to cultivate it so as to distinguish good from bad ; but more, it behooves him to know the weak points in human nature. Nothing so advantageous for him as to gain prevalence for a new fashion of very bad taste ; and the more grossly bad the surer and greater his benefit ; because the easier will be the task to bring about another change ; for of all things change is most beneficial to him. ',\n",
       " 'The upholsterer\\'s interest then is in direct opposition to the architect\\'s credit. Put him into command in a room, and his first purpose must be to overwhelm the architect\\'s work. What are elegancies in stucco, stone, or marble to him? For daylight indeed he is a little dependent; he must have windows from the architect; and till stoves were brought into use he wanted him also for the chimney. But for candlelight, \"Give me a barn,\" he says, \"and I will so throw my many-folded drapery, suspended on my golden thyrsus-fashioned poles, that nothing shall be seen needing the architect\\'s art to supply.\" ',\n",
       " 'To proceed with this subject, I will venture only to state a principle or two, which I trust you will admit, and I hope you will recommend to the ladies. When a ',\n",
       " \"house is ready for the furnisherif it has any decoration of architecture fit to be seen, and not rather 'deserving to be treated as the upholsterer, would' very properly treat the barn, the style of that decoration should be respected in the design of the furniture. Either all should be upholstery, or the upholstery should be subordinate to the architecture, and harmonize with it. Can it be requisite — I fear it may — to superadd, that the furniture should harmonize with itself through all its parts; that gaudy and ill assorted colors, awkward forms, and even elegant forms and foldings, in that kind of display which may deserve the epithet meretricious, however warranted by thefashion of the day, should be avoided. With what ideas do that nakedness of the female figure, and that abundant complexity, that mystery of folding, of the drapery about the room to receive such figures, as we have been accustomed to see, harmonize ? Fashion indeed is powerful, and sometimes grossly perverse. What could be reasonably done with the human head during the century and more of the successive fashions of the full bottomed wig, the aile-de-pigeon hair-dressing, and all that intervened and followed, till wigs and elaborate hair-dressing were both abolished ? Fashion, it must be confessed, has a strange power of fascination, which even strong minds have difficulty wholly to resist, even when that power is exerted most in opposition to evident reason. But it is only when a fashion has obtained universal and lasting prevalence that rea\",\n",
       " 'son is so compelled to submit to it. Generally large choice is open. Reason and better taste may well venture upon opposition to partial and ephemeral absurdities, and, with due exertion, would prevent their gaining any overbearing ascendency. ',\n",
       " 'The present rage for old articles of household use, table decoration, and personal adornment is a whim of fashion, in many instances the coveted articles having no element of propriety in our modern life. Very few of them are valuable in the light of sentiment, having no association with beloved friends or with historical events. ',\n",
       " \"But apart f r om these considerations the love for genuine old relics of furniture, especially, has an excellent reason for its being. There are really valuable and useful articles of household economy which unreasoning style has relegated to the second-hand furniture store, to the attic, or to the barn, or perhaps ruthlessly destroyed, and which have been replaced by modern articles far inferior. The present spring seat sofa with its tufted cushions and tortoise back seat is not half so inviting and restful' as the old-fashioned, flat seated, broad sofa, long enough to receive a six-footer, and broad enough to hold him safely if sleep overtook him. Many of these articles are of solid w r ood with no suspicion of veneering, and their forms are really more elegant than those of to-day. Modern veneered and upholstered furniture requires repairing every few \",\n",
       " \"years, or is worn beyond revamping within the recollection of a ten year old child. It is a source of regret that with the rage for antique furniture there is not also a demand for old time honesty in workmanship. In spite of the sneer against the old style straight backed chairs, most of the old style furniture was made for convenience. There never was a more convenient article of furniture than the old desk and drawers comA win e Cabinet bined — drawers below a folded-back desk, the back being pigeon holed, and the desk on hinges to be let down to form a writing shelf, and projecting far enough forward to give room for the writer's knees. The cupboard was another useful article for the kitchen or dining room. It contained two or more wide drawers, with doors above them opening on shelves and racks, the whole standing on legs high enough to admit of sweeping under the cupboard. Memory recalls one, the framing and ends being of white walnut or hickory and the door panels and drawer fronts of cherry, both native woods, the creamy white of the hickory contrasting finely with the warm wine red of the cherry. These colors were set off by pendent pulls and door key escutcheon of polished ungilded brass that could be repolished and kept from the dilapidated appearance of \",\n",
       " 'the warm gilded brass of the present. Such an article of furniture would give an air of substantial comfort to any modern home. ',\n",
       " 'The inferiority of modern made furniture cannot properly be attributed to machine duplicated work ; it is as possible to make first class work by duplicating by machinery as by hand ; else our hand tools and machine tools would be much more costly than they are. But it is undeniable that most of the furniture made within the memory of the elderly portion of the present generation compares favorably with that now made, in durability and integrity of workmanship. In these qualities it would be well if our manufacturers shared in the rage for the antique. ',\n",
       " 'Mediaeval furniture — Mobilia, as it is rightly styled — is one of the rarest manifestations of art-work or handicraft. Our knowledge of it is principally from pictures, illustrated MSS. and carvings. Contrary to the received opinion of some of the acknowledged authorities on Mediaeval art, we are convinced that there would be no difficulty in producing a very complete history of mobilia, the material for which could be drawn from the sources indicated. We see many modern specimens of both a bad and vitiated class of works, made at a time when splendid decoration reigned in place of art, and indeed no such thing as art existed. From this period we moderns have borrowed almost all our models, it being precisely the most unhappy choice we ',\n",
       " 'could have made, not only on account of the amount of useless, expensive, and vulgar decoration it has led us into, but because the mere system of construction adopted is false, and so far, happily, insuring no lasting durability to the products of such workmanship. The furniture of every country has echoed in its form and decoration the character and spirit of the art then prevailing. In Egypt, of old, the tables, seats, couches, etc., preserved in the British Museum and other collections, testify to this; one or two things copied in bronze or marble from Greek works of this class, express exactly the same kind of thing, and point out by the extreme chastity of their forms, the peculiar idiosyncrasy of that nation, no less than by the skillful manner in which they are put together, the mechanical ability of the workman. Our knowledge of Roman doings in this matter is derived from similar sources. One or two examples of curule chairs that might have belonged to Pro-Consuls of Gaul or elsewhere, do indeed remain, with strange legends attached to them, and saints and monarchs of very questionable verity or appropriateness. Upon Pompeian pictures, bronzes, etc., we must rely, without which we should be more ignorant of these things than of the seemingly much more perishable and fragile manufactures in glass and earthenware, or even iron, of which such innumerable specimens exist. We have as many remains of Assyria as of old Rome. There is no doubt from the gorgeous illuminations of the ',\n",
       " 'period of the lower Empire, that the furniture then in use was, characteristically wrought, of extraordinary splendour, gilded, incrusted, and inlaid with ivory and jewels to a degree that quite marred its artistic beauty. Of this, much purified by Italian taste, some slight ',\n",
       " 'traces are to be found in the Venetian works, affected as they were in this, as in other things, by oriental neighborhood and associations. The Venetians improved these works, be it understood, and chastened, while they truly enriched the tawdry over decoration of the Greeks.. Their conquest in the islands and commercial seats in so many parts of the Byzantine Empire, brought them in contact with more than one point of its character. Of constructional felicity there is almost none in Byzantine examples of which we have knowledge. ',\n",
       " 'In Europe, in the middle ages, the character of mobilia was ever that of current architecture, then the art to which all the other major as well as minor arts were subordinated, — that fact of their subordination being one to be ever most needfully borne in mind by the student of archaeological science and mediaeval art. We find this leading fact constantly forgotten by writers on the arts. To furniture particularly, painting became serviceable, the thirteenth, fourteenth, and fifteenth centuries never missing an opportunity of employing that art in this way. Hence, several painters began life as decorators, as many more were sculptors who began as goldsmiths. Marquetry was another most effective means of decoration, becoming estimable from an early period of these epochs by the careful method of its execution, and, later, from the fine forms and colors its patterns displayed. In the sixteenth century much beautiful work was produced, its early decades being, indeed, to be regarded as the culminating period in furniture designing. Colors due to the above means, or rich velvets and silks, brocaded or woven with gold thread, took precedence in characteristic ornamentation at a somewhat late portion of this era. But carving, as so many French and German works testify, was largely employed. Both these characters ran into ruinous riot in the next epoch, and lavish magnificence took the place of beautiful design, the use of things themselves becoming hidden under a desire to waste all the ',\n",
       " 'costliness and folly of extravagant ornamentation upon them. At this time began the still existing mania for furniture made for show ; and to be shut up in a room, wastefully decorated with merely costly ornaments, intended to be seen only, and but sparingly brought into use. It was the \"bright poker\" idea at its maddest. Hence we now find reception rooms that were too fine for use, and frail furniture neither man nor woman dared to intrust their persons upon. More sumptuosity and ridiculous degradation of taste burst out under Louis XIV., when those preposterously tawdry gewgaws that are to be seen here and there in sale rooms, when some old household is broken up, overloaded with tortoise shell, brass, sham jewelry, and vile carvings, and generally made to imitate something that had not the remotest resemblance to the real nature of article in question, but preferably that farthest from it. Thus a cabinet or \"armoire\" faced the world with an extravagant architectural frontage, and a chest of drawers was a miniature frontage. As was to be expected from the political state of the time, the most hideous of these monFigure 58 strosities came, not from ',\n",
       " 'France, where the taste for these originated, but from servile Germany, whose craftsmen vied with each other in the cities of Nuremburg, Augsburg, and Dres',\n",
       " 'den, as to who should make the most monstrous foolery at the most wasteful cost. Italy, as usual, before her utter degradation kept to the fashions of an earlier date or improved by her native gift of taste, upon that current in such a manner that something of her old inheritance is seen even at this time. ',\n",
       " \"Later in the seventeenth century especially, this whimsicality took a new bent, and a queer hothouse sort of life, a meretricious vitality, such as disease often has, broke out, and the Louis XV. fashion got into vogue, when oddly shaped forms, mouldings and inlays were employed, and flat surfaces bore the works of men's lives — not of their minds, but of their patient dull drudgery at outre and elaborate combinations of art — necessarily, therefore, devoid of real taste and common sense. Incrustations of brass, copper, tin, and even silver were engraved by the burin to imitate relief or actual mouldings. Wreaths, termed masks — not the pretty Amorini of an earlier age — were attached to the articles, their office being almost invariably to hide some dishonesty of construction or to give a curve to some weak angle or strengthen some spindling line, to the eye at least, but not in fact. Indeed it is notably a marked characteristic of this class of works that all their tendencies are to be willfully false. One sees at once that the craftsman does not err in ignorance of the demands of his duty because things which might, constructionallv employed, give real strength when needed, although of \",\n",
       " \"a supplementary sort, willfully give only the look of strength, and, as if by malicious intention to lie for lying's sake, neglect their duty when it \\\\yere easier to do it honestly than to fail or neglect. Thus it is in the major art of that time; thus it was in life, among the leaders, at least; thus it was upon everything that lies upon the surface of that rotten era, that nothing but the fiery ruin of revolution could purge pure. \",\n",
       " 'Mere costliness is no element of art or good taste. We have seen very handsome chairs sold at a price that would condemn them in the eyes of untrained wealth, just as we have seen on the tea-table of the poor and lowly, low cost china that would put to blush — if it was possible — much of the high priced porcelain that decorates the cabinets of the wealthy. ',\n",
       " 'The perfecting of many processes of manufacture has placed at the disposal of artists and ornamental designers means for the reproduction and multiplication of their works, of which they have not been slow to avail themselves. As a class they undoubtedly occupy more definitely the position of leaders or teachers ; and we are fairly entitled to hope that by this teaching the standard of public taste has been raised. The soil to be cultivated is rank with weeds, and the intelligent laborers are few. Our manufactures are in advance of our taste. The conditions of art and manufacture in the Middle Ages are in our day reversed : then there was a Raphael to design, but no Minton to reproduce skillfully ',\n",
       " 'and at a cheap rate the pattern example ; now we have the power of cheap reproduction, but not many designs worth reproducing; so we wisely store our museums with all the best examples of human invention, and thus provide ourselves at once with a standard, and with a check upon any vain ideas we may be disposed to entertain of our intellectual superiority and advanced taste. ',\n",
       " \"Never in the world's history were the means of spreading a taste for art among the people as abundant. The productions of our manufacturers are placed before us with cheapness and certainty, and where bad taste in designs is to be noted, the fault can hardly be laid at the door of the producer, who, in many cases failing to secure the services of an original or even capable designer, is driven to pander to a taste which he would willingly enough direct if he could. We have so-called schools of design, instituted expressly to provide our manufacturers with intelligent designers; and we are able, by means of lithographic printing and photo engraving, to distribute cheaply and make common property throughout the length and breadth of the land the finest examples of all good art, in whatever form it may have appeared. Yet, after all, in the comprehension of good design, in appreciation of beautiful form, in sentiment of color, we are but a barbarous people as compared with any Eastern nation, or with our own Gothic ancestors. The best that can be said of us is \",\n",
       " 'that we feel our inferiority when we look at an Indian shawl, at a Moorish pitcher, a Persian rug, or a Chinese vase. We try unsuccessfully to reproduce them ; we do actually reproduce the ceramic ware of the 16th century, and glory in it; while we vainly strive to copy the mediaeval stained-glass windows, and are driven to confess that a people who flourished before the foundation of Rome were capable of designing a gold setting for a brooch which puts all our barbarous efforts to shame. ',\n",
       " 'The spread of art is one thing; the advance is another. With our eyes open, it would be vain to deny that throughout the kingdom a new taste has arisen, and a desire among all classes of the people to appropriate some form of art is evident. But taste implies only accuracy of judgment, not that power of execution which follows in its wake. The taste of the man who knows is not that of the man who does. ',\n",
       " 'The first-named may be considered as a bon vivant, who is fond of the dishes before him, and distinguishes nicely what is savoury and delicious, or flat and insipid in the ingredients of each ; while the second may be regarded as the cook, who, from knowing what things will mix well together, and distinguishing by a nice taste, when he has arrived at that happy result, is able to compose such exquisite mixtures. ',\n",
       " 'In the construction and ornamentation of furniture, as of buildings, grounds, clothing, and of everything\" ',\n",
       " 'else of a material character, external to ourselves, several things are to be considered in their relation to our needs, comfort, and enjoyment. The mere necessaries of life are really very few, though even these may be multiplied by habit, education, and circumstance. The man of thorough culture and high civilization certainly needs many things which the savage can do without and which would be even an incumbrance to him. But if these, increased in number as they are by artificial circumstances, are fully supplied, we are not, and ought not to be, satisfied. We may and should consider what is adapted to promote our comfort and gratify our taste, ministering appropriately, in both directions, to our enjoyment. For our present purpose and in connection with cabinet and upholstery work, it will be sufficient to consider three things — Novelty, Taste and Utility. ',\n",
       " 'i. Novelty. — This is always a source of pleasure, affording a healthful excitement to the mind. This is the reason of the frequently sudden and extreme changes in fashion, of the desire to visit localities and scenes which are new and strange to us, and of the effort to secure for the gratification of all the senses ever new means of pleasure and excitement. The conservative critic may find fault with this universal tendency to innovation, but it will excite and exert its influence so long as the human mind tires of sameness, and seeks for change. We desire repose and permanency of con',\n",
       " 'ditions and surroundings only when we have ceased to acquire and develop, and our powers have begun to decline with the coming on of old age. This quality of novelty is one which all who would cater for the popular taste and, by so doing, secure and maintain a successful business, must aim at in connection with other qualities of excellence. It is also unquestionably true that the desire and effort for novelty leads sometimes to the adoption of styles and ornaments which are unsymmetrical and incongruous, and though striking and sometimes even almost pleasing to those who crave that which is startling and outre, they will greatly offend good taste. There are certain established principles which are the basis of all correct procedure, and any rule of mechanical practice, or even what has come to be an established custom may be departed from or neglected, so that there is no infringement of these fixed principles, among which may be named fitness, utility, propriety. If, in seeking novelty, the artist-mechanic introduces that which is in violation of the principles of unity and harmony, he will forfeit his claim to be called in any sense an artist. Let him rather search for the union of novelty with other beauties, with a constant consideration of a reference to fundamental principles., and to this end it will be well that he should thoroughly study the details of the works of ancient art, whether of the Gothic and other mediaeval styles, or of the more remote classical. From these may be gathered ',\n",
       " 'suggestions which, by exact reproduction or suitable combination, will afford designs, which may be applied to modern uses with excellent effect for internal finishing and furniture. ',\n",
       " '2. We consider, in the next place, the element of Taste in construction and ornamentation. It has been well said that \"art can lend to an object a value, greater than that of the material and workmanship of which it consists, even when the object is formed of precious materials, as of rare marbles, scarce woods, or \\'silver or gold/ \\' And, where the material is of less intrinsic value, yet more will depend on art and the taste displayed in figure and ornament. The beautiful, the tasteful has a commercial value — a remark as true of the goods named in the opening sentence of this article, as of those in any line of manufacture. It follows, then, that the manufacturer, who can in the highest degree secure that the productions of his establishment shall be in the greatest degree tasteful, and worthy to be styled beautiful, will in this fact secure no mean advantage in the busy arena of competition. Expenditure in the employment of designers who shall be true artists, even though it may seem hardly necessary or profitable, may prove to be really wise in principle, and most satisfactory in results. The workman also may, with great benefit to himself, study these works thus greatly enhancing the value of his labor, and become more than a mechanic, for he that can, in a novel form or one that ',\n",
       " 'is original with himself, form a chair or a table, which, either as a whole or in its details, is really tasteful — \"a thing of beauty\" — is truly an artist. If he has the laudable ambition in this manner to rise above his fellows, let him acquaint himself with the laws of beauty, so that he shall be able at once to see the difference, and the reason of it, between the beautiful and the ugly, the graceful and the deformed, the refined and the coarse. Let him study the works of art of all ages, in the great variety of subjects to which art has been applied, and he will not only have opened to him new and most fruitful sources of pleasures, but will add, to mere skill in the use of tools, the development of a talent that shall command its price. ',\n",
       " '3. The other point which we proposed to consider was — Utility. This may appear to be independent in some measure of the considerations before named, yet a manifest adaptation to the purpose for which it is designed will be an element in the decision of the question whether it is tasteful or not. Such is the constitution of the human mind that what might, aside from any consideration of its use, seem to be without form or comeliness, assumes a certain appearance of beauty, when it seems to be precisely fitted to the convenience of the user. It is also clear that the purpose for which an object is intended should be met in its structure and form, and no adjunct, for the sake merely of decoration, should be permitted to interfere with its utility, or be ',\n",
       " 'inconsistent with the position which it occupies in relation to the whole subject or article. The material should be studied with its adaptability to those forms ',\n",
       " 'which are essential to the use of the article which is to be manufactured. It should not be assumed that, because certain forms and decorations may be appropriate to one material, they would be equally adapted to, and look equally well in, another material entirely different in its character. One of the essentials of a good design ',\n",
       " 'in industrial art is the adaptation of the natural characteristics of the materials in which the design is to be realized. The form, also, must in every case subserve the purpose for which the article is to be made, the lines being as graceful and as true in the relative proportions of the parts as will be consistent with the convenience of the person who may use the article. When, however, the objection is made to a chair or to a lounge that one cannot sit or rest easily and comfortably upon it, it is not a sufficient answer that the form of the one is graceful and all its lines those of beauty, and that the other is tasteful in design, and that in material and covering there is harmony both of proportions and of colors. They are articles not to be looked at — not that merely or chiefly — but to be used, and in their very form should be suggestive of rest, refreshment, repose. Other illustrations might be given of this point ; these, however, will suffice to illustrate the position that, whenever utility is sacrificed to novelty or to ornamental appearance, however pretty, the article is badly designed, and the art or skill exercised upon it has been practically thrown away. ',\n",
       " 'Words are more or less indefinite in their meaning, and admit of wider and more comprehensive translation, according to their context with other words, or their association with ideas previously existing in the minds of their hearers. Among them all, there are perhaps none more difficult to explain than the word style, ',\n",
       " 'by Webster, we shall find how large is its range, how wide its divergence from any center that can be marked out for it. Walker puts among other things as its signification \"manner of writing,\" with regard to language; manner of speaking, appropriate to particular character ; title, appellation. All this may be right ; at any rate is enough for him who is not required to go into lengthy definitions, but merely to throw out such suggestions as will, when united with others, be the seed of future comprehension. ',\n",
       " 'I think we may acknowledge style to be the instrument of power by which we convey emphasis of expression in our work, and render intelligible forms which would otherwise be both meaningless and purposeless. There is another word which artists are in the habit of associating, and even confusing with style, Manner, which when repeated again and again is designated as mannerism, a feature by which we are too often enabled to distinguish the productions of one man, and even of one age, from those of another; but there is a wide difference between it and style. Style advances whatever it is attached to, makes its intentions more evident, increases the force of its expression, as well as frees it from impurities which in no way help the object it has in view ; while manner, or mannerism, on the contrary, serves no good purpose, is, in fact, most frequently merely the mirror in which the artist, or may be the period at which he lived, is unconsciously reflected. ',\n",
       " 'That style and manner are frequently so mingled one with another as to render it difficult to separate them, or to distinguish which is which, I will confess; but the simple text I have here put to you will, I think, if carefully attended to, though perhaps not serving as an exact definition, show what is style and what is not, and even tell in what proportion mannerism, if any, is introduced. ',\n",
       " 'This question the student will do well to constantly consider, as it tends to elevate what he may send forth, and keep it free from much that is detrimental to excellence, though at the same time highly seductive to the young mind. I wish to be the more impressive in this advice, because I cannot help fancying that at this moment there is a more than usual quantity of mannerism passing for style in the world of Art, and that students are mistaking one for the other, and running after the wrong thing, by affecting peculiarities and imitating weaknesses belonging to past ages, and quite out of place in the present day. I am not saying this in any invidious spirit; on the contrary, I am ready to acknowledge that many fine works are put forth among us, that carry out with powerful emphasis the spirit that is within them, simply because the treatment of every part is in unison with that spirit, and serves to elucidate the meaning intended by the sculptor ; but the weed of mannerism is growing at the same time among us — mannerism, I fancy, not derived even from the best ',\n",
       " 'Style is the gold that is the mark of genius, and mannerism the color by which you distinguish from whence it comes. All that relates to style is derived from the most profound knowledge. ',\n",
       " 'With some style implies simple excellence of treatment in contradiction to the absence of that quality, and they read it as a mannerism always the same, and equally applicable to the carrying out in Art of all subjects — they talk of a Classical style and think this is the only adjunct that can properly be attached to it. There are other meanings to the word than this, or rather its meaning is capable of great extension. There is the Severe style, perhaps pretty much, though not quite the same thing as the Classical; then there is the Gothic style, which, clinging to a certain extent to the Classical, has its own peculiar mode of expression. Then, again, the simple and the Florid styles, which, it is not too much to say, are directly opposed to each other; and the Domestic style, which contradicts and entirely sets at defiance the Classical ; and we might even add to them the Grotesque style, which hardly claims relationship with any of them. We will endeavour to explain the difference between them and the requirements of each. ',\n",
       " 'The classical style would be the line we should adopt in our work when the subject to be treated belongs to ',\n",
       " 'the classical days of old — when it associates itself with the grand old bards whose distant footsteps echo through the corridors of time, or whose conceptions are of that lofty nature that they admit of no minute detail, or dwelling on petty things. Our illustrations of them should then be in the same style, severe and simple, not ',\n",
       " 'like everyday Nature, but like a something which we all of us, more or less, endeavour to conceive, and even long to be about us; but which can only exist ideally within ourselves, more or less clear, according as we are capable of entering into the feeling of the poet, or of becoming part of it ourselves. ',\n",
       " 'The error modern imitators of Greek Art generally commit is exaggerating the tendency to straight lines and the repetition of them. ',\n",
       " 'The Gothic style, as we have said before, retains some connection with the Classic by preserving its quiet ',\n",
       " 'simplicity as well as its grace of line. That it has much of mannerism cannot be denied, arising, often from the mistake of the workers in it, who have fancied that rudeness and exaggeration of form necessarily belonged to it. This peculiarity, however, appertains only to the more decayed periods, and not to the time when it rose into beauty and fine art, as in the 13th century. That it had then and has now a style of its own is certain, for it had to express and does express the tone and feeling of a religion quite distinct from that of the Greeks — less earthly or sensuous, more pure and ethereal, more divine. We are now speaking, of course, of monumental and religious Art, the only things in which the Gothic is appropriate. In a domestic or homely sphere it always appears to be out of place and unsuited to the purpose. ',\n",
       " 'The Gothics were greater architects than the Greeks, in a way, but it would be idle to assert that they were as good sculptors; there is no reason, however, why the finest works should not be combined with the Gothic style, for they can be made quite compatible with it. ',\n",
       " 'Even the Florid style, which, from our dislike to it as somewhat debasing Art, we feel much inclined to stigmatize with the title of mannerism, is sometimes admissible ; in fact, must be acknowledge to be, under some circumstances, the most appropriate — for instance in the decoration of the theatre, the ball-room, and other places of amusement. Surely when so placed it is ',\n",
       " 'more in unison than any other with that elevation of the spirits which is supposed to pervade the scene. ',\n",
       " 'The severe, unaffected Classical style would be a damper on our enjoyment under such circumstances, when we are not looking coldly on at real life, but taking, so to speak, a glance at it through a colored glass or our imagination. ',\n",
       " 'Shakespeare, in his poetic drama of \"The Tempest,\" seems to give us a view of it in this florid style. He elevates by his poetical imagination the scenes he portrays, and so leads us away into a realm of ideality more florid, more enjoyable than the reality we are compelled every day to take part in. You must do the same with your art, or at any rate furnish your portion in that enjoyment, and you will do it best by bending it to the same feeling. ',\n",
       " 'It is under such influences that high and ornamental sculpture most frequently join hands together, and are present, not as real personages, or as representatives of particular ideas, but as decorations of a scene created for the transient pleasure of the moment. Your lines may now flow with greater freedom, your figures perform their parts with less reserve than on other occasions, your style may in short be florid. It is here, if anywhere, that color may be introduced into your statues, as well as into the ornaments about them. The danger is of their becoming sensuous; but the refinement, whether of design or execution, which you will ',\n",
       " 'introduce, will keep that down in the same way as the great dramatist has done in the fairy tale I have just alluded to. There are scenes and characters in that which connect it with the lower features of humanity, and so preserve a relationship to the real, which no imaginative work, whether of Art or Literature, should be entirely without ; whilst there are others, the creation of poetic fancy, which serve to lift us upwards into the realms of ideality; and make us the better for the enjoyment we receive. You will say we are soaring into the region of rhodomontade and losing the practical; but we may tell you that you need not feel yourself so strictly bound by rule in this style as in the others ; your forms are not required to be so true to the modesty of Nature as they are generally ; they may be made more elective by a departure from truth, or at any rate an exaggeration of fact. With those proportions which Nature has given to different objects of her creation you may deal freely, altering them to suit your own ; _ k rposes of expression or effect. We will put before you Cellini, as the highest example in this walk of Art. Strictly speaking he is an ornamentalist ; but he sometimes attempts high Art, where there is often with him a lack of correct proportion — for instance, in his statue of Perseus, where the over ornamentation hardly hides from a practical eye the want of proper balance of parts. Sometimes, indeed, in his metal works he uses his freedom as a license which serves the stvle to which his ',\n",
       " 'work belongs, and so answers the purpose he has in view ; he is rarely, if ever, quite natural, though always florid in his style, and always effective. ',\n",
       " 'It will be impossible in a work of this kind, to write at length on the various styles, so we will content ourselves with touching on some of those styles which seem to have been much in favor at certain periods. To go into this matter extensively would require several volumes of greater dimensions than the present one. ',\n",
       " 'As with all the arts, crafts and sciences, we get all our glimmerings from, or through the Egyptians, so everything pertaining to the earliest examples of furniture come to us from that source. ',\n",
       " 'Many people imagine that the habit of sitting down, as practiced in this country and Europe, is a universal human habit, old as the race itself, and in no way associated with civilization. Investigations, however, have shown that the habit is acquired, and marks the highest notch of civilization and advancement ; indeed, it is estimated that not more than 10 per cent of the human family practice sitting on the civilized plan. ',\n",
       " 'Men who do not sit have two attitudes for resting; women use one of their own. Squatting on the heel is favored in India and China. In this position the weight of the body falls upon the toes, and to keep the balance comfortably the arms must hang over the knees, the hands dangling. The cross-legged attitude is general from Siam eastward, through the Malay countries. In ',\n",
       " 'the jungle men crouch, the knees raised, the arms folded over them and the chin resting on the arm. The women ',\n",
       " 'of that region rest upon the floor sideways, thus throwing the weight on the outer part of one thigh, not a very comfortable posture to a civilized Caucasian., ',\n",
       " 'As civilization advanced in Egypt the use of furniture became more and more necessary. First the rulers began with thrones and seats of honor for the kings and nobles; then the rich merchants followed, providing themselves with furniture less costly, perhaps, but equally as useful as that owned and used by State officials. The working classes and the poor were doubtless content to sit down on their mats of papyri stalks, under the shelter of their rough cabins of mud. The rich of the dynasties, dating from the twelfth to the thirtieth, furnished their houses with very costly furniture, which consisted principally of rich beds, or couches with their beds, or mattresses, pillows and cushions, and wooden head-rests, footstool stands, tables and chairs, both with high and low back; or folding stools, like the Greek okladias, boxes or chests for holding clothes and other objects. From the earliest period high-backed and other chairs were in use, and at the time of the eighteenth and nineteenth dynasties were imported as tribute from Ethiopia. Pillows of stone, wood and other objects were also of great antiquity, and are represented in coffins of the sixth and following dynasties. They exhibit a great variety of shape, consisting of a curved semi-elliptical portion, adapted to hold the back of the head, supported by a column or other contrivance resting on a base or pedestal. For furniture, various woods were employed — ebony, acacia or soft cedar, sycamore and others of species not determined; ivory, both of ',\n",
       " 'the hippopotamus and the elephant, and used for inlaying, as also were glass pastes, and specimens of marquetry are not uncommon. In the paintings in the tombs gorgeous pieces of gilded furniture are depicted. For cushions and mattresses, linen cloth, feathers of water fowl and colored stuffs appear, to have been used, while seats have plaited bottoms of linen cord or tanned and dyed leather thrown over them. Sometimes the skins of panthers were used for the purpose. On the whole an Egyptian house was lightly furnished and not encumbered with so many articles as are in use at the present day. For carpets they used mats of plain fiber, on which children and servants sat, or rather squatted. ',\n",
       " 'The chest shown at Fig. 58 seems to have been a very popular piece of furniture, as numbers are found depicted on the tombs and monuments. The bedstead and ivory headrest shown in Fig. 59 were also common articles of furniture with the rulers and with the rich, and many of them were finely upholstered with handsome and costly fabrics. ',\n",
       " 'The fragments of a chair shown in Fig. 60 — are still in existence, and preserved in the British Museum, and show the remains of the veritable chair used as a throne by Queen Hatasu, a royal lady who made things lively for a while in the valley of the Nile some 1600 years before Christ and twenty-nine years before Moses. This is, so far as we know, the most venerable piece of wooden furniture in the world. There is in the Louvre, ',\n",
       " \"France, a metal chair, decorated and incrusted with mosaics, that is older by 400 years than the one exhibited. Hatasu's chair or throne, or rather what remains of it — as it is in a dilapidated condition and has to be secured with brass bands — is made of what appears to be lignum-vitse, is of a dark color, like cocus wood, and is inlaid over all the carved portions with gold plates. The two sacred serpents, shown on the two uprights at the back, however, are not treated so, but, as the detail illustrates, with little silver rings sunk all over them ; probably a conventional rendering of the snake skin. \",\n",
       " 'The five articles of furniture exhibited in the group, Fig. 61, showing a stool, stand for a vase, workman\\'s stool, head-rest and vase on a stand, are from photos of the originals in the British Museum. They are Egyptian examples and are more than 3000 years old. Nothing can be more suitable for its purpose than the \"workman\\'s stool.\" The seat is precisely like that of a modern kitchen chair (all wood), slightly concaved to promote the sitter\\'s comfort, and supported by three legs curving outwards. This is simple, convenient and admirably adapted to long service. Besides these examples, there are jn the museum several seats formed with cross legs on the principle of our common campstool, and all are well made and have the lower parts of their legs carved as heads of geese, with inlayings of ',\n",
       " 'There are in the various museums many articles of luxury and comfort taken from Egyptian tombs, which demonstrate the extraordinary state of civilization and culture attained by these ancient people, that aid us in forming a picture of their domestic habits. Boxes, chests, tables and shelves in great variety have been unearthed, \"some inlaid with various woods and with little squares of bright turquoise blue pottery let in as a relief; others veneered with ivory; wooden spoons carved in most intricate designs, of which one, representing a girl among lotus flowers, is a work of great artistic skill; boats of wood, head-rests and carved models of parts of houses and granaries, together with writing materials, different kinds of tools and implements and quantities of personal ornaments and requisites.\" ',\n",
       " 'Indeed the more we know of the Egyptians the more w r e are led to believe that long before Greece or Rome were known they enjoyed a remarkably high state of civilization and learning, with all their accompanying advantages. ',\n",
       " 'A figure given (in group) exhibit two very old chairs and a couple of Egyptian chairmakers at work, with some of the tools and materials scattered about on the floor. Here we see a square, a couple of adzes, and a drill in the hands of one of the workmen, who is bor',\n",
       " 'ing a hole in the chair by using a bow to turn the drill. These tools are very much like the tools in use today. Several finished chair legs are seen on the wall. This carving on the walls of a tomb, was executed between two and three thousand years ago. ',\n",
       " 'Furniture used by the Chaldeans, the Assyrians, Babylonians, Hebrews and other old nations, was of similar type to the Egyptian, as may be seen by referring to a number of illustrations shown, also examples of Greek and Roman furniture are given. ',\n",
       " 'Some of the chairs shown are fine examples, and both are constructed on Egyptian and other lines. Later styles, or rather examples of later styles, are shown in Figs. 19, 20, the coronation chair, 28, and others shown in the first chapter. ',\n",
       " 'The Gothic style in furniture began during the reign of Louis VIII, and St. Louis (Louis IX) — 1223-1270; the style growing out of the Byzantine style of Architecture, and was introduced by the artists and craftsmen brought to France from Constantinople by the returning crusaders. ',\n",
       " 'The thirteenth and fourteenth centuries had been remarkable for a general development of commerce ; merchants had traded extensively with the East, and had grown opulent, and their homes naturally displayed signs of wealth and comfort that in former times had been impossible to any but princes and rich nobles. ',\n",
       " 'quarters a taste for high and rich colorings and we have the testimony of an old writer who describes the interior of the Hotel de Beheme, which, after being the residence of several great personages, was given by Charles VI. in 1388 to his brother the Duke of Orleans. \"In this palace was a room used by the Duke, hung with cloth of gold, embroidered with windmills. There were besides rich carpets with gold flowers, cushions of cloth of gold, and summer carpets of Arragon leather.\" ',\n",
       " 'As we approach the end of the fourteenth century we find canopies added to the \"chairs,\" which were carved in oak and chestnut and sometimes elaborately gilded and picked out in color. The canopied seats were bulky and throne-like constructions, and were abandoned toward the end of the fifteenth century, for a somewhat smaller and less massive seat. ',\n",
       " 'The high-backed chair shown in Fig. 62 is a sample of this style. Chairs, tables, beds and fittings were all made in this style and the interiors were rich in carvings, massive but stiff and informal. Plate I, exhibits a chamber in this style of the period of Louis XI, which shows a bed and several pieces of furniture. Fig. 63 shows a German chamber of a somewhat later date. The French carved bed with canopy, Fig. 64, is of the period of Louis XIV. It is an example that was much followed, and the fashion lasted well into the period of Louis the XVI. A gradual change in French furniture took place during the reign of Louis XVI, and the orna',\n",
       " 'mentation assumed the style as shown in Plate II. French furniture was continually changing in style, and we have early and late French, Louis Seize, and Empire styles, each of these having their changes, imitations and modifications. ',\n",
       " 'Gilt wood, Chinese lacquers and their imitations by means of the varnish to which Robert Martin gave his name, are the preferred materials. Bronze mountings, set in the panels, and cut out in highly elaborate patterns, decorate the cabinets of Cafneri. The marquetry work of Boulle, made to conform with the prevailing style is continued by the heirs of the celebrated workman. ',\n",
       " 'The ornamentation that is peculiar to the style of Louis XV. modifies the old elements and introduces new ones. A narrow but very much lengthened acanthus takes the place of the rich and broad acanthus of the Louis XIV. ',\n",
       " 'This new form becomes associated with shells, rocaille, perforated stones. The development of the natural science, interest in which is manifested by the gathering of collections of shells, etc., has a share, together with the popularity of Dresden China, in bringing about the triumph of the style rocaille. ',\n",
       " \"An interior of the style Louis XV. also includes the decorative Chinese fancies, the carved elephants of Caffieri's clocks; 'then the characters of Italian comedy, reminiscences of Watteau, and the little love sports met \",\n",
       " 'with pretty much everywhere, in Tapestry, ceramic jewelry, snuff-boxes, bon-bonnieres, fans, transom panels, screens, and the many quaint and curious fancies peculiar to that era. ',\n",
       " 'The cabinets, Figs. 65 and 66, and carved walnut bed, Fig. 67, of the fifteenth and sixteenth centuries are good examples of the work of those periods and offer many suggestions to designers, carvers and workmen. The bed shown in Fig. 68, was used by Pope Pius VII, at Fontainbleau, and is rich in decoration and costly drapery. ',\n",
       " 'Plate III shows a whole series of details in Louis Seize style, from which the cabinet-maker may garner ',\n",
       " 'many good things for nearly all purposes. Fig. 69 shows a cabinet in this style which is elaborately finished and decorated with gold. It is a thing of beauty ',\n",
       " 'and was purchased for the museum at a cost of $7,500. The table shown at Fig. 70 is a fine specimen of the style Louis Seize and is beautifully carved. Fig. 71 shows a good old-fashioned commode ornamented lavishly with gilt, bronze and inlay ; the Louis Seize chairs illustrated in Fig. 72 are good examples of the period. They are finished in blue and gold and are very dainty pieces of furniture. These illustrations are drawn from photos of the originals now in the Cluny museum. A most beautiful piece of work is a little ebony cabinet, Fig. J2> — now m tne Kensington museum, which was made by the celebrated French cabinet-maker, Boulle. It is beautifully inlaid in the most exquisite designs and made nearly two hundred years ago. ',\n",
       " 'Boulle, not to mention many others of the earlier period, was an artist ; he conceived his own designs, he drew them out (the patent is given him in his name not only as a cabinet-maker, but as an architect and sculptor), he executed everything with his own hands; he was a chaser, engraver, and gilder ; he was, as we see, a man of cultivated tastes into the bargain.\" When we add to his merit as a designer, and a delicate appreciator of the work of others, his merit as a good workman whose productions, without need of repair, are as stout in the present day, after two hundred years of use as they were the day they were made, it may be fairly conceded, even by the sternest rigorist, that Andre Boulle worked in what is understood as\\' the true spirit. Not ',\n",
       " 'only in its construction, but in every feature, in the choice of the materials, in the chasing and gilding and the marquetry, his work will be found to be of the most honest kind, very different to the modern rubbish that passes under the name, where false tortoise shell, made of horn or gelatine ; false mother-of-pearl, box or horn instead of ivory ; brass or even zinc lacquered ornament tacked on to the ill-made joinery usurp the place of true work, whose only fault was that it was produced in a period when the traditions of art were on the decline. When Boulle used wood it was ebony, which the cabinet makers, his successors, on the plea of its difficulty in working, in taking the glue or varnish — Boulle never used varnish — and other reasons, replaced with stained pear-wood. In the choice of his woods Boulle showed the extremest care, and one of his severest blows was his loss, by the fire that destroyed his collection of prints, of a qauntity of rare woods which he had, we learn from the inventory he made at the time, long stored by to season. The bronze he used was honestly chiselled and chased and gilt, not lacquered, and each ornament was a design not stamped out. ',\n",
       " \"The secrets of Boulle's skill may be said to have died with their inventor, for though the traditions were continued, the sobriety and the grandiose style of the master will be found to be sadly wanting in all the work of his imitators. So much was this recognized that, throughout the last century, in all the sale catalogues the works \",\n",
       " \"by Boulle himself are conspicuously marked, more than one collector made it his specialty to gather specimens of the great cabinet maker's work. \",\n",
       " 'Boulle died at the age of eighty-two (February 29, 1732) at his house in the Louvre, and was buried in the ',\n",
       " \"neighboring church of Saint Germain L'Auxerrois, leaving two sons to combine, only in name it is true, the traditions which he had in a measure positively created. One of the sons, employed at the Sevres manufactory, was, it would appear, the first to introduce, in the decoration of furniture, the use of porcelain. \",\n",
       " 'Plate IV shows a couple of tables of the style of Louis XVI, which contain a number of very useful suggestions, suggestions that will be utilized in the manu',\n",
       " 'During the Marie Antoinette period, the most extravagant furniture was made and the most extravagant ',\n",
       " 'prices were paid for it, and some very handsome specimens were turned out. The little writing table shown in Fig. 74, was specially designed and made for the Queen, and cost a very large sum of money. This table is now in England and was bought some years ago for $37,000, an enormous amount of money for so small a piece of furniture. An English writer who was at the sale, in speaking of it, says : \"It amused me to notice ',\n",
       " 'that it required a special attendant to guard this little specimen, so many were crowding round to inspect it. ',\n",
       " 'It was literally mobbed as I tried to get a glimpse of it for my note book, and the adjectives showered upon 1; by the upper ten were the most expressive I have ever heard applied to furniture. It was oblong in shape, with a drawer fitted with inkstand, writing-slide, and shelf beneath an oval medallion of a trophy, and flowers on the top, and trophies with four medallions round the ',\n",
       " 'sides. This was stamped J. Riesner, and branded underneath with cypher of Marie Antoinette and Garde Meuble de la Reine. This really beautiful article of fur',\n",
       " 'niture was exhibited in 1862 at the South Kensington Loan Exhibition. Three thousand guineas was the first bid for it, but it soon ran up to 4,500 guineas, at which price some dispute arose as to whose bid it was. This was settled by $25,000 being offered, and the bidding continued till the price reached $30,500, when, amid much applause, it became the property of Mr. Wer',\n",
       " 'theimer. I anticipated that this little gem would realize a large sum, but the amount obtained for it is certainly fabulous. I can say, however, that the beauty of the workmanship must be seen to be believed.\" ',\n",
       " 'Fig. 75 illustrates a bed introduced by Queen Marie Antoinette. This bed became quite popular for a time, but ran out of vogue during the revolution after which the Empire Style was introduced, when beds were specially designed for warriors, judges, statesmen and successful leaders; many of the beds were heaps of silly ornament and cumberous and rich draperies. This phase of the Empire style did not last long, however, but gave place to a more sensible practice of construction and ornamentation. The two Plates, V and VI, show details and ornamentation in the better days of the Empire style. Plate V showing some of the best examples of the period. ',\n",
       " 'The French revolution brought with it many good things — as well as bad, and it was really a blessing in disguise in many ways inasmuch as it cleared the way for better things among which may be mentioned the Empire style as represented in the illustrations and Plates shown herewith. ',\n",
       " 'Among the many decorations in this style, quivers, torches, and armorial trophies were freely made use of, and this tendency to make ornament subservient to the general form, of which it should always be only the complement and accessory, so far from diminishing in ',\n",
       " 'the next age, became accentuated, as the following illustrations of \"Empire\" will demonstrate. It had forced itself into fashion, and opened up fresh fields ',\n",
       " 'and pastures new for the courageous decorator. Its promoters had gone to draw inspiration from the philosophical world of antiquity, and they studiously attempted to revive antique rules, traditions and customs, many of which were inconsistent with modern life. The broad-backed chair (Fig. 76) makes a fine looking, comfortable seat. Cleverly hollowed out to catch the back and support the shoulders, it proffers the acme of comfort, without, at the same time, being stuffy. ',\n",
       " 'Passing to Fig. yy, we find a form of couch which was at one time very popular in this country. It reminds one of the old \"high-low\" designs which used to be the fashion in the \"early fifties,\" and there is no doubt that this choice of a resting pad proves a comfort to the sitter who is dainty in the matter of position. ',\n",
       " 'This design, which is without a back, is evidently for use rather than display. Before passing from this design we cannot help noticing the increased opportunities which it gives to the chair or settee frame maker, as he has been too much in the habit of hiding his work with ostentatious upholstery. The small table (Fig. 78) is for decorative rather than useful purposes. The design, if well executed, adds unusual classic dignity to the center of a room, or as a choice corner-piece. This belongs to the class erstwhile known as the \"loo\" table, and has been in the background of late years. It is ',\n",
       " 'still in vogue in its larger forms as a dining-table, and those who still possess one will enthusiastically tell you that for a small dinner party there is nothing compar',\n",
       " \"able with our circular friend. The outward bend and consequent placing of one's neighbors right and left, in a position where conversation is enjoyable, renders the round table unrivalled for the party of six or eight. \",\n",
       " 'There is a sturdiness about German furniture, that does not obtain in French or in the furniture of other Latin races, as may be seen in the examples shown on Plate VII, where five pieces of German Renaissance are illustrated. True, these pieces are not so dainty, or so exquisitely beautiful as much of the French work, yet, ',\n",
       " 'they have a dignity of their own, and the carvings are stronger and more vigorous than those of French pro',\n",
       " 'duction. The Frontispiece of this work shows a very fine example of German work, and is quite modern, both in style and construction. ',\n",
       " 'The German bed shown at Fig. 79 is quite a solid looking piece of furniture, but has an inviting and comfortable appearance. ',\n",
       " 'The two old German chairs shown at Figs. 80 and 81, are comfortable even if they are heavily built and ponderous looking. They are substantial and strong. The little table, Fig. 82, is characteristic of old time German work. The bed shown in Fig. 83 is drawn from a photo taken of the bed used by Napoleon, and his consort, the unfortunate Josephine. It is said to be a very comfortable bed to rest in and there are many like it still used in France. ',\n",
       " 'The sturdy old chair shown in Fig. 84, is from Spain. In form, the chair is of course, common enough; but a new idea may be gathered from the upholstery. It consists of stout velvet, stuffed properly with feathers, and quilted after down-quilt fashion. It is fastened to the walnut framing with \"extra size\" brass studs, and some neglige trellis fringe is added to finish. It seems to me that such quilted upholstery might be applied to many modern chairs where shallow stuffing is desirable. If hair is substituted for feathers, a comfortable and pleasing result could be obtained without the stuffiness and fragility of bottoming. Altogether this old chair looks commanding as the center-piece in the large glass case in which it is preserved. ',\n",
       " 'We may now safetly turn to English, and American furniture, and its makers, of the eighteenth, and the latter part of the seventeenth centuries, which were the periods of the most artistic work. In the earliest work, the lingering of Gothic and early Renaissance principles of construction gave a respose of line and appearance of stability and permanence often lacking in French ',\n",
       " 'furniture of the same time. French eighteenth-century furniture, though in reality very substantially built, is apt to have a fragile appearance, and every one knows that the grace and freedom of its curves are only to be had at the cost of a considerable loss of strength. In keeping to simpler and more rigid forms the English and American makers were preserving good traditions, and if their ornamental systems were seldom appropriate or in pure taste, at least good workmanship and careful finish cannot be denied them. ',\n",
       " 'large bookcase, Fig. 85, as will be seen by the plan, is very simple in construction ; but what a hotch-potch the designer has made of Gothic-looking clustered columns, false pediment with olive mouldings, and classic ',\n",
       " 'aeroteria. The other bookcase, Fig. 86, solid shelves alternating with closed cupboards, is again of sensible general design; but, though its proportions are much ',\n",
       " 'better, there is a mixture of ornamental motives which strikes the eye as incongruous. The pretty rococo crestings, to which, if cast in brass or gilt, no one need object as a finish for the top of the piece, are still not in keeping with the severe geometrical tracery of the panels and sash lines. The two end cupboards especially are out of all harmony with the center form of the pediments. ',\n",
       " 'The two night tables by Ince and Mayhew, Fig. 89, show, that to the right the pure French style; that to ',\n",
       " 'the left the English taste in an uncommonly straightforward example. Nothing has here been borrowed of the French but its lightness and finish. The geometrical tracery is not put out of countenance by the very discreet introduction of rococo foliage scrolls at the feet and supporting the raised parts of the slight rail. One feels how much more comfortable an object it is than ',\n",
       " 'its neighbor, which, though really as soundly built, has an air of being in full dress, and not to be familiarly treated. The supper Canterbury and stand by Sheraton ',\n",
       " 'are likewise simple and of a sturdy elegance. It is in such pieces as these that we have the best work by the best workmen. A father and son, under the firm title of Win. Loyd & Son, Boston, Mass., made a lot of work of this kind before the revolution, and many pieces of this work found their way into Philadelphia and the south as far as Georgia ; and was quite common in the ',\n",
       " 'New England States, New York, and New Jersey. Odd pieces are occasionally found in some of the old colonial houses. This work may be known by the two letters L and B, which are usually found burned in some out of the way place on the specimen. The letters were rudely cut in the brand. ',\n",
       " 'Chippendale the greatest English designer and cabinet maker revolutionized the styles of furniture and introduced many new features that seemed to take hold ',\n",
       " 'of the people and stay by them, and his contemporaries and immediate followers kept the public favor by designing on lines somewhat similar to those of the master. Along with the meritorious things Chippendale designed there came a lot of stuff that was frivolous and ',\n",
       " 'almost absurd and showed how the artist must have been lost in the struggle after novelties. His imitators were as faulty in many of their productions, and Sheraton, Heppelwhite, Mayhew, Ince, and even the Adam brothers, left much work behind them that had but little merit. I do not wish it to be inferred that I am ',\n",
       " \"inveighling against the artistic merits of Chippendale and his coadjutors, I only speak of his shortcomings as a reminder,that even Homer himself sometimes nods. The chairs and table shown in Fig. 90 are fine examples of the masters' work and are really handsome designs, and paragons of good construction and faithful workmanship. \",\n",
       " \"We show two plates — Nos. VIII and IX of Chippendale designs, which, with what we have shown in the foregoing pages, will enable our readers to recognize this master's work at sight. Plate VIII, illustrates some of his best work, especially the chair backs shown at 11 and 12. The other backs shown 1, 3 and 9 are not so chaste but are favorites with some people. The designs shown on Plate IX, are very clever, and in some instances, beautiful but are not by any means up to the best standard of Chippendale's work. \",\n",
       " 'Perhaps on the whole, Sheraton, was as popular as any of the great English masters, and in our opinion, ',\n",
       " 'justly so, for his work was, in many instances, as chaste in design, as finely finished and much more substantial in construction than the work turned out by Chippendale or Heppelwhite. Sheraton succeeded Chippendale ',\n",
       " 'in fashionable esteem, and was a more sober and elegant designer. His pieces never offend the eye, but, on the other hand, they are not so characteristic as those of his less artistic predecessor. The double chair, Fig. 91, covered with a piece of Aubusson tapestry, is in his style, though it may not be of his make. He was very ingenious in inventions of the sort, and numerous contrivances for getting double service out of chairs and tables, are ascribed to him. The sofa, Fig. 92, is an excellent example of the same taste, for the alliance of straight lines with refined curves, on which his fame chiefly rests; indeed, reticence in ornament was his study. ',\n",
       " 'The sofa shown in Fig. 93, is a dainty work both in design and finish, and is a typical Sheraton. The two ',\n",
       " \"settles shown at Fig. 94 and 95, are Sheraton's work and are good examples of his style on furniture of this \",\n",
       " 'kind. They are evidently derived from the sofa of the period, diminished in size and robbed of its back. ',\n",
       " 'of its class, well worthy of reproduction, notwithstanding that the center-table is at present out of favor. The diagram, Fig. 97, explains the somewhat unusual construction, and shows how the problem of drawers in a circular plan has been solved. The fictitious quadrant',\n",
       " 'drawers are really little cupboards, as is indicated in the working drawing. That any manufacturer to-day would invest the labor needed to make this table properly, is perhaps, doubtful; yet the elements of its construction deserves study and adaptation. ',\n",
       " \"The little table, and the arm-chair shown at Fig. 98, are fine chaste specimens of the Sheraton period and could well afford to be imitated. If space allowed we would very much like to publish three or four plates of Sheraton's designs, but we have already devoted more space than we first intended, so in this case we offer one Plate, X, which shows up quite a number of Sheraton's \",\n",
       " 'best designs ; and these, along with the figured illustrations, will, we think, make sufficient exhibits for one purpose. ',\n",
       " \"Plates XI and XII show some fine examples of Heppelwhite's work. These are choice specimens of this style, and show up some very good work. Plate XII exhibits six sideboards, four pedestals, and a tea chest by Heppelwhite. The dimensions of the sideboards \",\n",
       " 'are :— Length, from 5^ ft. to 7 ft. ; height, 3 ft. ; depth, 28 in. to 32 in. The notes referring to Nos. 5, 8, 9, and 1 1 state that \"the ornaments to the fronts . . . may be carved, painted, or inlaid with various colored woods.\" The pedestals were made of the same height as the sideboards, were generally about 16 in. or 18 in. ',\n",
       " 'square, and were often surmounted by vases from 2 ft. to 2 ft. 3 in. high. The ornamentation of the tea chest may, according to Heppel white\\'s book, either be inlaid, or \"painted and varnished.\" ',\n",
       " 'Heppelwhite, while he did not reach the height in public esteem that Chippendale and Sheraton did, his work was much sought for and enormous prices were paid for examples, and to-day, when fashion has changed somewhat, well authenticated examples command prices that place them beyond the reach of or',\n",
       " \"dinary purses. Cases are quoted where a single chair brought as much as 200' dollars. The designs which we illustrate could, probably, be reproduced for one\",\n",
       " 'third of that sum, and with the carving omitted for still less. That is assuming that costly wood, like rosewood or mahogany, is exacted, and providing for the very best workmanship; quite as artistic results may be obtained as in those of the originals. ',\n",
       " 'The most notable difference between the chairs of Heppelwhite and Chippendale is that the latter affected the large square backs and ultra-French details never ',\n",
       " 'to the taste of Heppelwhite, who in his own book says : \\'\\'Our idea of the useful, in such articles as are generally serviceable in real life, is to unite elegance and utility, and blend the useful with the agreeable\"; this as he elsewhere points out, was better attained by allowing ',\n",
       " 'English taste and workmanship full play, than alien styles too literally with many anacronisms. The four Heppelwhite arm chairs shown in Fig. 99 are fair samples of the style and show in them, the peculiar characteristics of the Heppelwhite treatment. ',\n",
       " 'The general dimensions of Heppelwhite\\'s chairs are 19 or 20 inches for the width of the front; for the depth of the seat and length of seat frame, 17 inches each, and the total height about 3 ft. 1 in. He especially prided himself on the painted \"japanned\" decoration in his actual productions ; yet in writing he disclaimed the mere novelty of such fugitive decorations and most strongly recommended the more durable method of in',\n",
       " 'laying, although he confesses the former was pretty enough while it lasted. This divergence between theory and practice has always ruled in furniture, for, chosen ',\n",
       " 'solely for its fashion and appearance by most buyers, no absurd innovation has failed to find a responsive purchaser. ',\n",
       " 'Perhaps, of all the styles of furniture known, there is not one of them that appeals to the refined artistic feelings more than that evolved by the Adam Brothers ',\n",
       " '— Richard and James — who, in their early youth, became recognized as masters of elegant design. At this date, it is practically impossible to obtain a copy of their works, and to look them over Students are obliged to go to some National Library. There are copies we believe in the Lennox Library, New York, but we do not know of any other original work of theirs in the United States or even of copies of them. Examples of the work of these two men are scarcely ever found in the market, but when such is the case, the demand for fhem is so great that ridiculously high prices are paid for their possession. The efforts of these designers were secured altogether by royalty and the Nobility, and this accounts largely for the scarcity of examples. ',\n",
       " 'Plates XIII and XIV, show a few examples of work in this style. Plate XIII shows a number of details for furniture and general house finish. Plate XIV shows a portion of an octagon Boudoir in this style, with several pieces of furniture and fittings. This style is better known as \"The Adam\\'s Classic Style,\" and is very beautiful indeed. ',\n",
       " 'With this (Plate XIV) we will close this essay on \"style,\" as those we have mentioned cover pretty nearly all those various modes of construction and decoration worthy of the name of \"style.\" ',\n",
       " 'We have not said much of the \"Gothic Style\" for this is not supposed to be employed — only for church work, though sometimes it is made use of in dwellings for ',\n",
       " 'the clergy, or similar purposes. We may have more to say of \"Gothic,\" later on. The \"New Art\" or \"Art Nouveau,\" which was in such vogue a few years ago, was simply a \"fad,\" and is now dead, and properly so — and is not likely to be even resurrected. We devote one Plate, XV, to this fad, so that posterity may have some idea as to what \"Art Nouveau\" was, \"once upon a time.\" ',\n",
       " 'dreams or not ; Yet I dyd see soe vyvydly what I wyll eke rehearse, I wyst some lesson there must be yn thys, my humble ',\n",
       " \"Yt soe befell upon a daye ye desygn I'd conceyve, I drew yt not for Art, buy paye, my fortune to ret rye ve ; I took yt to a fact'ry wyght, syth he was kynd to me, I thought he eke yn kyndness myght some meryt yn yt see. \",\n",
       " '\"The Mission fad, is nearly as unartistic as the \"Art Nouveau\" and because of its easy construction, is likely to become more popular. This should be called \"The carpenter style,\" for every carpenter having a fair knowledge of his trade, should be able to make almost any kind of \"Mission Furniture.\" This style has no Artistic merit other than its simplicity and honesty. ',\n",
       " 'On plate XV, a number of picturesque examples of \"Swiss work\" is shown. We offer these examples because of their artistic features, and their appropriateness for articles of furniture for sea or lakeside cottages, or bungalows. All these articles shown are easily made and as easily kept clean if left in a natural condition. ',\n",
       " 'Fig. ioo shows an old Scandinavian choir which exhibits good solid workmanship. Fig. 101 shows a room ',\n",
       " 'fitted up in oriental style with a few pieces of oriental furniture shown where some idea as to the shape and style of decoration of such furniture may be gleaned. Fig. 1 02, shows an ebony \\'Koran\" holder, from ',\n",
       " 'The chairs shown in Fig. 104, are of old German type and are, without doubt, a pair of cosy, comfortable chairs. The woodwork on them seems to be ash, but is ',\n",
       " 'dark with age. The stiff prim looking chair shown in Fig. 105, is of old Dutch parentage, and has a stately, if not a lordly appearance. ',\n",
       " 'Fie. 106, shows another old Dutch chair, with cabriole legs. This is rather a pretentious affair. The Italian chair shown at Fig. 107 is of late Italian Renaissance style and is overloaded with unnecessary and ',\n",
       " 'frivolous carvings. It is a comfortable chair to sit in but is unwieldly and ponderous. Fig. 108, exhibits a neat German chair suitable for a library, den or even a hall. The carving on it, is chaste and excellently wrought. ',\n",
       " 'the most dainty pieces of furniture in existence. It was probably made by Oeban or Riesner and shows the most exquisite workmanship. As a mere matter of value it would probably fetch about thrice its weight in gold. It is throughout a model of the finest art workmanship, within and without; the beautiful marquetry panels ; the elaborately chased metal mounts ; the choice little porcelain requisites might each form the subject of a special essay. The table has only to be seen to be coveted. We are convinced that nothing we have seen of this description before or after, can compare in elegance and beauty with this little escritoire, once used by Marie Antoinette. ',\n",
       " 'The table shown in Fig. no, is German, and has a massive characteristic look, it is intended for library purposes. Fig. 1 1 1 shows a work table made for the ',\n",
       " 'ill-fated Marie Antoinette and is considered a gem in its way and has a value far beyond the reach of ordinary mortals. ',\n",
       " 'The table shown in Fig. 112, is in Mahogany and was executed for the war department, Washington. D. C. It is a fine specimen of American workmanship. It was made in Boston, Mass. The dainty little writing desks shown in Figs. 113 and 1 14, are of French manufacture of the period of Marie Antoinette, and were the forerunners of many of the present beautiful writing desks that are being made now by the thousands in ',\n",
       " 'some of our Cabinet factories. They are worth imitating as they contain many features of beauty and good taste. ',\n",
       " 'Stepping from chairs and tables to cabinets we have a large field to gather from, but it is not our intention ',\n",
       " 'to deal at length with these articles, so a few examples must suffice. The Cabinet — or Armoire, as it is called in French — shown in Fig. 115 is said to be one of the finest pieces of woodwork in the world. It was designed ',\n",
       " 'by Berain, and executed by Boulle, for Louis XIV. The delicacy and beauty of the coloring of the inlaid brass work, in metal of two tints, the boldness of the arabesque work, and the fine proportions and unusual ',\n",
       " 'The German cabinet shown in Fig*. 116, is a very fine example of workmanship, and nearly equals the French work in Artistic merit. The cabinet shown at Fig. 117, is not given for its beauty, but because of the usefulness, and combined purposes. It is in Queen Anne style and may prove suggestive, if nothing more. ',\n",
       " 'two very fine cabinets well suited to receive curios and artistic trinkets. They are artistically designed. ',\n",
       " 'Wall, or hanging cabinets, are very useful articles of furniture, and designs for them are numerous — ',\n",
       " 'many of which are good — but we give a few herewith, which we think possess several good features. The two designs shown at Fig. 120 are very simple but very effective. The same may be said of the three designs shown in Fig. 121. These latter may be used for cabinets to hang on a flat wall, or for corner cabinets. ',\n",
       " 'The Gothic style followed the Romanesque or roundarched. In France and England it developed towards the end of the twelfth century. In this country the Decorated Gothic was the second stage (during the fourteenth century), and the Perpendicular Gothic followed in the fifteenth. ',\n",
       " 'The Moorish or Saracenic developed in the eighth century. It was the style of the Mohammedans. A feature of the style is its extraordinary geometrical combinations. The Alhambra (Granada), built in the thirteenth century, is considered the most perfect specimen of architecture in this style. ',\n",
       " 'Francis I. belongs to the Early French Renaissance ( 1 515-1549). It is freely ornamented Gothic, developing under Italian influence. Its feature is a minuteness of detail. The palace of Fontainebleau was built in this style by Francis I. ',\n",
       " 'Henry II. (Middle French Renaissance), who followed Francis L, developed the existing style along lines of greater purity, more closely resembling the original Italian. Many of the details in this style are applicable to modern requirements. ',\n",
       " 'Henri IV. brings us to the period of the Late French Renaissance ( 1 589-1610). A study of the illustrations following will clearly show the tendency of the time, preparing the way for the magnificence of the Louis XIV. style (treated later). ',\n",
       " 'Louis XIV. ( 1 643-1 715). Magnificence in decorative designing. The era of Chas. le Brun, Andre Chas. Boulle, Jean Berain, Jean Le Pautre, and Daniel Marot. ',\n",
       " 'Louis XV. (1723-1774), Rococo period. The leading men of the time are Watteau, Nicholas Pineau, Jacques Caffieri, Jules Aurele Meissonier, Jacques Blondel, Denizol, Chas. Cressent, Oeben, Tessier, and Martin (originator of Vernis-Martin panels). ',\n",
       " 'Louis XVI. (1774-1792-), Era of daintiness and grace. Rococo ornament suppressed. The boudoir supersedes the salon. The leading men were Gouthiere, David Roentgen, and Riesner. ',\n",
       " 'The Empire was a return, under Napoleon, to the classic styles of Greece and Rome. Details include decorated cornices, caryatides, pilasters, etc. ',\n",
       " 'The English Renaissance was introduced at the beginning of the Sixteenth Century. The Elizabethan was its \"golden age.\" The details on Page 121 are from the chimney-piece in the library at Holland House, the fretwork is from Audley End, and the carved panel is at the South Kensington Museum. ',\n",
       " 'Chippendale (1754) needs little comment. His designs include French details, and also show signs of Chinese influence. ',\n",
       " 'Sheraton ( 1751) is too well known to need description. The details given in this style are illustrative of all phases of his work. ',\n",
       " 'Adam (1773) details are architectural, the furniture of the Brothers Adam being chiefly constructed to harmonize with the buildings in which it was to be used. ',\n",
       " \"In a simple treatise it is quite impossible to conveyany adequate idea of the art of cabinet-making. So much could be said that it is most difficult to know what to leave out, and however fully this subject may be enlarged upon, the broad fact that but one-half has been told must remain. Further, a budding cabinetmaker will learn more during the first twelve months of his apprenticeship than all the text-books in the country can teach him. The old Roman motto, Ezperientia docet, is truer to-day than ever. Experience has been, and will be, the best teacher ; but just as it is possible to start in life with better prospects upon the solid foundations laid by one's forebears, so by the aid of a few practical suggestions may a youth be helped upward on the ladder of perfection. The cabinet-maker must always strive after excellence. There is absolutely no room for men who are only halfmasters of their craft ; the net result of incompetence is a general leveling of the highest to the least efficient, a diminution of the rate of wages, and a disastrous lowering of the quality of work. The various styles of workmanship should incite the cabinet trade of today to patient and thoughtful work. It may be urged — and possibly truly — that these master-pieces of which we speak were not the daily product of the age which produced them. That inferior work was then produced \",\n",
       " 'may be admitted; but the mere fact that time has wrought its destruction should be sufficient evidence that this class of work is not such as the twentiethcentury cabinet-maker should imitate. ',\n",
       " 'And here one word to the journeyman of to-day. The apprentice working under your superintendence will be exactly as you make him. Men are copyists ever, and youth is the most impressionable period. See to it, then, that your work be such as the novice treading in your footsteps may safely follow. And let the apprentice benefit by his master\\'s experience, commencing where the latter leaves off, and thus raising the handicraft to a higher level of excellence. The only true way to success is that the heart be in the work; toiling not merely for the \"standard wage,\" nor creating a piece of work only to \"sell/\\' but to last. ',\n",
       " 'Just as to-morrow is the child of to-day, so is the journey-man the fulfilment of the apprenticeship. The groundwork of early days is the foundation upon which the after-work stands, and if the first be faulty then is there but inefficiency hereafter. One word as to the influence of trades-unionism upon the cabinet trade — it has its strong and weak points. On the one hand it demands, and rightly, from the master a standard rate of wage, which is beneficial insomuch ;that it puts all union shops on the same level, and prevents that \"cutting\" policy which is alike disastrous to good work and sound finance. On the other hand it gives no guarantee ',\n",
       " 'of efficiency in the worker ; good and bad are linked in one union, with the result that the least efficient are often out of work and maintained at the expense of their more skilled brothers. The remedy for this seems to lie here : let no man be made a member until he has passed through a satisfactory apprenticeship, and proved himself to be thoroughly acquainted with his trade, and capable of honestly earning the wage demanded; then would the term \"union man\" be understood to mean skill and efficiency, and be as proud a possession of the man earning it as a degree to a college graduate. ',\n",
       " 'Possibly it may be thought that the proceeding lines have savoured too much of the ethics of labor — of work in its highest and ideal form — rather than of the practical teaching of a competing age. But there is a danger that in the mad rush for cheap and badly manufactured furniture the true constructive art may be lost, and a race of men produced wedded to one job, year in and year out, and turning out work bearing neither the stamp of individuality nor the spirit of good workmanship. ',\n",
       " 'Where a draughtsman is not employed, the usual method of setting out work is to make a full-size detail from the scale-drawing supplied.. This is done most conveniently upon 36-inch lining-paper strained upon a board, say 7 ft. x 4 ft. This size will be found to be large enough for most jobs, which need only be drawn ',\n",
       " 'in the majority of cases to the center line, thus showing half the width of the job, the other half being a repeat. The thickness-sections, for the sake of clearness, may be put in with blue or red pencil. Having accomplished this, the next proceeding will be to take off the drawing the various sizes of the several pieces of wood, allowing sufficient margin for finishing to the net sizes, and for the length of tenons, &c. Many of the small pieces can be obtained from the \"scrap\"-room, where all sorts of ends, strips, &c, are stored in their respective classes, thus saving the cutting of a large board for the purpose of an odd rail or so, which might render it useless by reason of a corner having been cut away. ',\n",
       " 'Tools. — The trade of to-day is so much the product of machine labor, that in a fully-equipped shop, where furniture is made to \"stock\" designs, the manual work is little more than that of fitting together the various parts. It is, however, still necessary that the craftsman should be fully acquainted with the use of the tools usually associated with the cabinet-maker\\'s bench. The following list includes all those commonly required, but special tools may be necessary in certain cases : ',\n",
       " 'CABINET MAKERS\\' JOINTS, &c. What may be termed \"edge-joints\" are a necessity in cabinet-making, because timber is not always obtainable wide enough for the counter-top or panel desired; and if it were so, the cost would prohibit its general use; but more because a jointed top or panel will stand much better than a single piece, and this is the chief thing to be aimed at. There is a tendency in some quarters to avoid jointing, but the policy is an unsound one. Again, in the case of oak panelling, a much better effect can be obtained by a jointed panel — throwing all the figures to the center line — than by a single unjointed board. The chief objection to jointing seems to lie in the idea that sooner or later the joint will give; it may, just as anything is likely to happen in badly-constructed work, but given thoroughly dry and seasoned timber, a sound method of jointing, and a good workman to do it, nothing need be feared. The ',\n",
       " 'necessity for jointing will, of course, be governed by the width of the timber employed. It may, however, be taken as a general rule that nothing wider than 13 or 14 inches should be used in a single piece, except in the case of countertops, which often run 3 feet 6 inches to 4 feet wide, and should only have one joint. ',\n",
       " 'There are several methods of jointing which we will now consider in detail: (1) Glue joint; (2) Giue-anddowel; (3) Tongue-and-groove (or rebate); and (4) Double groove and loose tongue. ',\n",
       " 'The Glue Joint shown in Fig. 123 is perhaps the commonest of cabinet joints for such work as bears no weight, — that is, perpendicular work, as carcase ends. The method of making the joints is briefly thus : The two boards are shot with a trying or jointing plane until the surface edges are absolutely true; one piece is placed in the bench-cramp, the other being held so that ',\n",
       " 'the two edges are together; run thin glue along the joint, then work the loose board backwards .and forwards along its fellow until the superfluous glue is extracted; the joint should now be allowed to set. If the work has been well done the wood is much more likely ',\n",
       " 'to break at some other point than the joint. Complete success depends upon two factors — true jointing with the plane, and good glue. There are so many good makes of the latter that there should be no difficulty whatever in obtaining it. Remember that the best glue is always the cheapest, for two reasons — its adhesive qualities and capacity for absorption of water. Good glue should take up its own weight of water, i. e., i lb. of glue in the oake should produce 2 lbs. weight in liquid ',\n",
       " 'form. The joint to be glued should be thoroughly warmed, as this makes the glue much more adhesive than if applied to a cold surface. ',\n",
       " 'addition of a series of dowels placed along the joint, the object being to ensure greater strength for such purposes as a countertop. The dowels may be ft inch or y 2 inch in diameter, according to the thickness of the timber to be jointed. They should be placed (say) 12 inches apart and bored in 1 inch deep, the end of the dowel glued and knocked in with a framing hammer, then sawn off to the depth of the corresponding hole, and the ends of the dowels rounded over; glue both edges of the joint, the dowels, and dowel-holes, knock down, and cramp up. The superfluous glue will thus be ',\n",
       " 'The Tongue-and-Groove Joint, Fig. 125, possesses advantages not found in the preceding ones, viz. a greater strength, and should the joint \"give,\" the presence of the tongue prevents light from showing through. With ',\n",
       " 'a pair of match-planes make a groove on one piece onethird the width of the timber used, by half an inch deep, and make a corresponding tongue on the other piece. When this has been done, fit the two together, seeing that the tongue will move freely along the groove, then glue and rub together as in Fig. 123, and cramp up. ',\n",
       " 'In the Double Groove and Loose Tongue (Fig. 126) — the main idea seems to be that when jointing two soft-woods together a hard-wood tongue (which should be cut across the grain) may be inserted, rendering the ',\n",
       " 'joint less liable to snap than if a tongue were cut on the soft-wood itself and lengthways with the grain. Proceed as in Fig. 125, only making two grooves, each the same width and depth; glue the joints and loose tongue ; rub, and cramp up. ',\n",
       " 'We have previously spoken of straight jointing for panels, carcass ends, &c, but the methods described are not suitable for the joints of pieces meeting at an angle, as in the framing of a door or of panelling. Joints of this kind may be considered under four heads: (1) Dovetailing ; ( 2 ) Mortise-and-tenon ; ( 3 ) Dowel ; and (4) Mitre. Two broad principles would seem to govern these, viz. that the wood employed be absolutely dry, and that the joint be true. Any deviation from either of these fixed rules must result in failure; and the second is to a large extent dependent on the first, for however good the workmanship may be, if the wood be unseasoned shrinkage must inevitably occur, with the result that it is almost impossible to put the work right when once the job has been framed up. Hence the necessity of insisting that absolutely dry stuff is an essential in the cabinet trade. ',\n",
       " '1. Dovetailing*— Fig. 127, is undoubtedly the joint par excellence for cabinet work ; it takes three forrns. No. 1 represents the ordinary open dovetail. Each piece to be^ clp-vetailed is marked with a gauge and regulator, spacing the dovetails according to the width of wood to be jointed. This form is used wherever the ',\n",
       " 'construction is hidden from view, its defect being that the ends of the dovetail are cut completely through, thus showing, if exposed, the end grain of the \"keys\" of the other piece. When this is not desired the dovetail is made as No. 2. All dovetails should be cut wedge-shaped, so that when glued and hammered they will tighten up, and when smoothed down present a perfect joint. ',\n",
       " 'The overlapping or concealed dovetail (No. 2) is used in drawer fronts, where it is desirable to conceal the mode of construction. The dovetail is cut entirely through the side, but only two-thirds through the front ; the joint, therefore, is visible on the end only and not on the front. This is an absolute necessity in the case of veneering, for which purpose an absolutely flat surface must be obtained, otherwise the \"keys\" would show through the thin veneer and spoil the whole effect. The jointing up and finishing is precisely the same as in No. 1. ',\n",
       " 'The mitre-dovetailed (No. 3) is adopted for fine work where it is undesirable to show the dovetail either on front or side, and consists of a dovetail having a mitre on each outside edge; the finished joint appears as a single mitre without disclosing the dovetail within. ',\n",
       " 'The Mortise-and-Tenon is the most satisfactory joint for two pieces in the same plane meeting at an angle ; it takes a variety of forms (Fig. 128). The main point to be borne in mind is that the parts to form the ',\n",
       " 'joint be cut true; otherwise, either the tenon will be slack and the joint useless, or too tight and will split open the mortise. ',\n",
       " 'tenon will be slightly wedged. Other methods of fixing the joints are : ( i ) to make the mortise large enough to admit of a wedge being driven in on each side the tenon, which effectually \"keys\" it; in this case the tenon is usually put in dry, that is without glue; and (2) to split open the tenon with a chisel, and insert a wedge in the center and drive home. The danger of ',\n",
       " 'this method is that the tenon is liable to be necked off at the shoulder, while in the former case the rail may be split. If the mortise and tenon are fitted true, no wedging should be necessary. ',\n",
       " 'The thickness of the tenon should be one-third that of the rail and the width not more than 4 inches. If a wider rail has to be used, it would be better to make two mortises and tenons, as shown in Nos. 4 and 5. ',\n",
       " 'can be made as shown, or of the full width between the grooves, which are made on either side for the purpose of receiving the panels. ',\n",
       " 'mortises. These should be cut slightly deeper than the tenon, the joint being glued up and cramped. ',\n",
       " 'Nos. 4 and 5. — Methods of framing wide rails by means of double-tenons, suitable for doors where wide rails are necessary. No. 4 is usually called a gunstock joint. ',\n",
       " 'In framing angles having moulds on one or both edges, the moulds may be intersected either by mitring or scribing. In the mitred joint, the moulds are cut down at an angle of 45 degrees to the mortise-hole, and the moulds adjoining the tenon are cut to fit. The only danger in this method is that, if the wood is wet the mitre will dry in, leaving an open space impossible to deal with. ',\n",
       " 'The process of scribing (Fig. 130) is to cut under one of the rails to the pattern of the other which it is ',\n",
       " 'intended to join ; but this cannot so easily be done with mouldings containing many members, as it would be too costly. It, however, has the advantage that, if shrinkage occurs, the joint can be knocked up again, which would be impossible in the former case. ',\n",
       " 'although not invariably. Fig. 131 shows a scribed joint for panel-mouldings. The vertical moulding C is cut away at A to fit on to the horizontal moulding D. The thick line AB shows the line the scribe will make at the point of intersection. ',\n",
       " '3. Dowel-Joint (Fig. 132) though often adopted, as it economizes labor, is not as satisfactory as the mortiseand-tenon. The dowels, which are usually }i inch in diameter, often shrink, causing the joint to \"give.\" If the dowels are of beech and the timber dry, the joint should be satisfactory. The usual method of setting out a doweljoint is to cut a piece of paper the size of the rail and prick through the centers required according to ',\n",
       " 'the number of dowels desired. These are afterwards marked upon the timber itself. If the wood is not more than i inch thick, the dowels should be set out in the center of the rail in a straight line ; if thicker wood is used, put the dowels in zigzag fashion, which is the better way where it can be managed. ',\n",
       " 'Where small sizes are used, the joint at the angle formed by two pieces not in the same plane is usually mitred. The construction of the joint is thus hidden. No. i, Fig. 133, shows an ordinary mitre at an angle of 45 degrees, such as is used in the framing of a plinth or cornice frieze; the joint is strengthened by a block inside. No. 2 represents the same method, with the additional safeguard of keys ; this would be adopted in the case of thin wood where the mitre surface is very ',\n",
       " 'small, and where there is consequently a liability to break ; the keys are usually put in with veneer, a saw-cut being all that is necessary for their insertion. Glue is run in and the joint levelled off. No. 3 is a variation of No. i. ',\n",
       " 'Fig. 134, shows an angle framed by dowels, having on the one edge a bead, which breaks the joint; this would be used in framing a pilaster upon the end of a carcass. ',\n",
       " 'No. 1, Fig. 136, shows the method of framing a through rail intersected into a center leg, not more than three inches square. No. 2 shows the construction if the center leg is above that size, and is not mortised or dowelled. No. 3 is copied from an old card-table ; the shouldering and dovetailing of the rail show advantages over No. 1, ',\n",
       " 'A cornice may be worked out of the solid piece or built up in various pieces. The latter form is usually adopted by cabinet-makers, except for small cornices. No. i, Fig. 137, shows a built-up mould; the pieces ',\n",
       " 'should be glued and screwed together, blocks being put at the back to give additional strength. No. 2 shows a solid hardwood moulding faced upon softwood, the mould having a rebate for the insertion of a dentil (shown by dotted lines), egg-and-dart, or other ornament. ',\n",
       " 'Ofttimes the cabinet-maker is left to design the mouldings, in which case it is absolutely necessary that he be thoroughly conversant with the mouldings of the particular style or period in which he is working, as a Gothic mould would be out of place upon a Renaissance piece of work, and a Jacobean cornice upon a Sheraton ',\n",
       " 'job. If the designer is not conversant with the grammar of ornament, all kinds of incongruous mixtures are ',\n",
       " 'created, neither true to style nor beautiful. The same remarks apply also to carving and turnery, and as there ',\n",
       " 'are so many text-books of style published, there is absolutely no excuse for ignorance in this matter. ',\n",
       " 'Another point upon which a word may be said is the proportioning of mouldings one to the other in the building-up of a cornice. Let it be supposed that one has to be stuck by hand. It is frequently possible to pick out a series of stock members all the same size, Figure 139 ',\n",
       " 'and to strike out a variety of cornices by ringing the changes on them. The result, however, will be a moulding as shown in No. 1, Fig. 138, where all the members, a,b,c,d,e,f, are of equal depth. This is both incorrect and inelegant ; no moulding made up of a series of members should have any two in conjunction of the same depth, but the proportion should be varied after the manner shown in No. 2, the effect of which — it will be at once apparent — is much better than No. 1. ',\n",
       " 'In cabinet-work the methods of hanging a door, table-leaf, &c, to its corresponding part, are simple, and the foundation of the joint varies but little, though in the case of hanging a door with heavy projecting moulding and cornice upon the face, special long-shouldered butts would be used. The main point in all hangings by ',\n",
       " 'means of hinges is to see that each hinge bears its due proportion of weight, thus avoiding strain and consequent friction and possibly breakage. ',\n",
       " 'Hinges may be of cast or malleable iron, steel, brass, copper, gun-metal, or a combination of metals, such as brass with steel washers ; for heavy work these washers should always be used, the wearing parts being stronger. ',\n",
       " 'The earliest form of hinge seems to have been in the form of an oak pin (A Fig. 139) shaped from the rail itself, and working in a socket cut into the cross rail above, the doors being framed up with the job itself; the form is common in fifteenth and sixteenth century woodwork. Later, the influence of Flemish work. is ',\n",
       " 'apparent, and the pinjoint gives place to wrought-iron hinges placed upon the face of the door and frame with artistic effect, and attached by means of large-headed hails (Fig. 140). During the Queen Anne and Chippendale periods, the hinges were delicately made of cast brass and fixed by screws. ',\n",
       " 'The ordinary way of hanging by butts is shown in No. 1, Fig. 141, the rebate is not carried through the wood, and the knuckle projects on the front side. If this is not desired, the hinges must be fixed flush, and a bead of the. same thickness as the knuckle run down ',\n",
       " 'to make a better finish. When a lid is to be hinged, it would be done as in No. 2, the overhang at the back being, in the case of a small lid, sufficient to serve as a stop when the lid is open. ',\n",
       " 'In hanging a table-leaf, many forms may be adopted. No. 1, Fig. 142, shows a beaded and rebated joint, the center of the hinge being directly under the joint. Exccpt for dust-proof or light-tight purposes, the rebate is not necessary. This joint would open to 90 degrees. Should the leaf or door require to fold back behind the other part, the hinp-e should be placed as shown in No. 2, the dotted lines showing the position of the leaf when ',\n",
       " 'folded back. Another form of leaf hanging is that known as a \"rule joint,\" which is shown closed in No. 3, and open in No. 4. This has the advantage of concealing the hinge, and making a better finish when open ',\n",
       " 'than otherwise would be the case ; the joint is somewhat difficult to get true, but always repays the labor in effect. A variation of this joint is shown in No. 5. ',\n",
       " '.Carcass doors are generally hung as shown in No. 1, Fig. 143, a bead the size of the knuckle being run down to break the joint, and the hinge rebated into the ',\n",
       " 'door its entire thickness. No. 2 shows the method of hanging on to the ends of a carcass* where the full clearance of the door is desired, such as would be the case in a cupboard fitted with sliding trays. No. 3 shows the same method, but with air-tight bead for a cabinet or show-case. ',\n",
       " 'Center hanging, as for wardrobe doors, is shown in Nos. 4 and 5, the door being set back in a rebate, or having a pilaster planted on to hide the joint. Sometimes this joint is made on the rule principle, but this adds to the expense. ',\n",
       " 'Special hinges, such as are made for card-tables, bureaus, pianos, &c, while varying in shape and size to suit requirements, are fitted in exactly the same manner as the foregoing illustrations indicate. ',\n",
       " 'It is not our intention to offer much in the line of practical examples, showing details, dimensions of materials and methods of making such examples ; but it is thought a few instances specified in full, may prove of use to the apprentice and younger workmen, who may, want to \"make things\" during their leisure hours, or at odd times. We start off with a piece of work in the socalled mission style and which is easy to make. This makes a good table for a library, a den or an office. Besides fulfilling its purpose as a library table, it can be used as a bookcase, where the library is very small, and for a writing desk. The writing materials can be kept in the drawer and the absence of a lower shelf makes it possible to put the feet well under the table without interference. ',\n",
       " 'The best lumber to use is oak, plain or quartered, as suits the convenience and pocket-book of the builder. Order it from the mill as follows and insist on its being well sanded before you accept it, as this greatly lessens the labor involved in its building. ',\n",
       " 'Three-eighth inch dowel pins should be used to fasten the shelves and top onto the legs, and if you run them through the legs, cover the ends with wooden buttons. The drawer linings can be nailed in place as the nailheads will not show, and the other pieces can be screwed in place. ',\n",
       " 'If desired, birch or other hard-wood may be used in lieu of oak, and the whole may be stained to suit the taste. ',\n",
       " 'The illustrations show the method of construction and positions of rails, &c, and as they are all figured, showing lengths and positions, there will be no trouble in laying the table out or assembling the parts. ',\n",
       " 'Fig. 144, shows a general plan and sideelevation, and Fig. 145 shows end elevation, whileFig> 146, gives a perspective view of the finished work. ',\n",
       " '147. This table is quite simple and may be easily made by an apprentice or any person who understands the use of ordinary woodworking tools. The table is equally suitable for use in the parlor, library or living room. ',\n",
       " 'Fig. 148 is the side plan and dimensions of the table. The bottom footboard can be made twelve inches wide and held in place with three round-head brass screws at each end, which will make it very strong and neat in appearance. ',\n",
       " 'Fig. 149 shows all dimensions and specifications for the ends. The top and bottom rails are ]/% inch thick, while the slats are only % inch. ',\n",
       " 'The top is held to the frame by glueing cleats on the inside of the top rails, then running screws through them into the top. ',\n",
       " 'All the joints are tenon and mortise and glued. The ends are glued and clamped first, then the top side, rails, while the bottom foot -board comes last. ',\n",
       " 'These two examples exhibit the whole method of Mission furniture construction, and are quite sufficient to serve our purposes. ',\n",
       " 'The sideboard which is shown in perspective without the drawers by Fig. 1 50, has been designed specially for those with limited experience, and in its construction mortises, tenons, and dovetails are avoided. For fixing the various parts, glue and nails are only required. ',\n",
       " 'Planed pine boarding as used for building purposes, will be found suitable; and when finished the job may be stained and varnished to suit. Fig. 151, is a half front elevation, and Fig. 152, end elevation, each drawer to scale. ',\n",
       " 'The measurements may be taken from these two Figures, but for simplicity the finished sizes of the various pieces of wood are as follows: i-in. stuff (finishing about % in. thick), top A (Fig. 151 and 152), 4 ft. 6 in. by 1 ft. 8 in. ; ends B, 3 ft. by 1 ft. 5 in. ; bottom C, 3 ft. io^4 in. by 1 ft. 5 in. ; upper ends D, 2 ft. 6 in. by S l / 2 in. ; cornice E, 4 ft. 5 in. by 10^2 in. ; pediment F, 4 ft. by 6 in. (widest part) ; drawers bearer G, 3 ft. ioy 2 in. by 3% in. ; division H between drawers, 1 ft. 5 in. by 4^2 in. ; brackets J, 6 in. by 5 in. ; shaped span-rail K, 3 ft. 10^2 in. by 3 in. ; and corner shelves, 11 in. by 7 in. The pieces of ^4-in. stuff are: For the doors (made of three thicknesses of stuff), four stiles L, 2 ft. 1 in. by 3 in.; four cross rails 1 ft. $% in. by 3 in., and for the back face of the doors, four ',\n",
       " 'stiles i ft. 7^/2 in. by 2^4 in., and four cross rails i ft. 1 1 34 in. by 2j4 in. The J^-in. stuff required (finishing about yi in.) is: Two door panels, i ft. yYi in. by i ft. ',\n",
       " 'SH in. wide; carcass back M (Fig. 152), sufficient matchboarding -3 ft. high at the ends and 4 ft. in width ; for drawer fronts, two pieces N (Fig. 153), 1 ft. io}i in. by 4 J / 2 in.; two pieces O (Fig. 153), 1 ft. 10^ in. by 4 T / 2 in.; for the drawer sides P (Fig. 154), four pieces 1 ft. 4% in. rjy 4 l / 2 in.; drawer backs Q (Fig. ',\n",
       " '154), two pieces 1 ft. io}i in. by $ l / 2 in. ; for the upper part of the sideboard (made up of three thicknesses of stuff), two front stiles R (Fig. 151), 2 ft. 6 in. by 2*4 in. ; two inner stiles S, 1 ft. 4 in. by 2j4 in. ; cross rails T, 3 ft. 6 in. by 3% in. ; cross rails U and V, 3 ft. 6 in. by 2% in. ; panel W, 3 ft. 6 l / 2 in. by 6]/ 2 in. ; ',\n",
       " 'panel X, 1 ft. 4>4 in. by 1 ft. 4 J / 2 in. by 8^2 in. For inner layer Y and back layer Z (see Figs. 155 and 156, and 157), allow the stiles and rails to be % in. narrower than the front layer R, S, T, U, and V (Fig. 151). The shaped headings of the panels in the doors and top part are % in. thick. The top and ends being wider than the usual width of deal boards, these will have to be jointed and glued. White wood or pine can be obtained wide enough without joining; both woods are very suitable for varnishing. ',\n",
       " 'In beginning the construction, the wood should be first planed to thickness, then the front edges, next the ends squared up, and finally taken to width. The bottom C is fixed with 2 J / 2 -in. oval nails driven through the ends B. Oval nails have small heads and are less un',\n",
       " 'sightly when the work is filled up for varnishing or polishing. Next the bearer G and then top A are nailed in the same way. When nailing, if the nails are driven ',\n",
       " 'slantwise, alternately leaning towards the front and back, they will act like dovetails, and prevent the top from lifting or the ends drawing away from the bot',\n",
       " 'torn. The latter may also be prevented by screwing a strip to the under side of the bottom C and to the ends as shown in Fig. 158. Note that the top projects ',\n",
       " 'ij4-in. nails. The outer edges M (Fig. 152) should be worked half-round in section with a smoothing plane and course glasspaper; it will then look like a bead moulding worked on the back edges of the ends. ',\n",
       " 'The doors made up of two thicknesses may next be taken in hand. Fig. 159 shows the stiles L fixed with glue and nails to the back cross rails ; the front rails and back stiles are next fitted. Note that the back stiles and rails are % in. narrower than the front, so as to provide a rebate for the panels; see Fig. 160, which is an enlarged section of the door, stiles, and panel. When the doors are together, the shaped headings may be fitted; or for a better construction, the stiles and top rail could be rebated to receive it. ',\n",
       " \"The drawer sides are nailed to the inner front O (Fig. 153) and back Q (Fig. 154). Strips A '(Fig. 154) are nailed to the sides for the bottom to rest on, the latter passing under the back O. The outer drawer front N is nailed to the drawer sides and glued to O. Of course, this method of construction is only to avoid dovetailing and ploughed grooves for the bottom. \",\n",
       " 'The framing of the top part (Fig. 161) is fitted between ends D (Figs. 151 and 152) and under the shelf E, and rests on the top A. The method of construction is similar to the doors, the joints of the outer face being as shown in Fig. 151. The middle portion Y ',\n",
       " 'is as shown in Fig. 161, and the back face Z (Figs. 155, 156, and 157) the same as the front face in Fig. 151. The center mirror may be of bevelled-edge or plain silvered plate; or if desired a wood panel could be fixed. The half circular headings are fixed as described for the doors. The corner shelves, ends D, and shelf E are fixed to the framing with 2-in. nails. ',\n",
       " 'to the lower by driving screws through the under side of the top A into the ends D, also into the back framing ',\n",
       " '( Fig. 1 6 1 ) . Suitable brass or copper handles for doors and drawers will add to the appearance of the sideboard. ',\n",
       " 'dissolved in hot water; less potash for oak than for walnut or mahogany. The correct shade may be got by experimenting on an odd piece of wood. When the stain is dry, give a coating of glue size. Then thin coats of varnish. When all parts show a gloss, put aside for twenty-four hours, then glasspaper, and apply the finishing coats of varnish or French polish. Bismarck brown added to the varnish will give mahogany color. ',\n",
       " 'We show herewith in Figs. 162, 163, 164 and 165, part elevations and details of two low-cost sideboards, to make will be excellent practice for the younger workmen. ',\n",
       " \"Fig. 162 includes center and two small side mirrors in upper part and three drawers, two cupboards and center recess in lower part. Height from A to B, 12 in.; B to C, 2 ft. 9 in. ; C to D, 3 ft. 3 in. ; cupboard door, say, 23 in. by 17 in.; depth of drawers, 5 in. outside. Turning is introduced, with alternative details for selection. Note swell and taper to turned column B, C, 2 J4in. swell, and see end elevation at Fig. 164, with 3^in. column receded. Corner B, with dentils and frieze, about 4 in. ; lined up top C, 2 24 in. moulded; 1 in. solid fronts to drawers, faced with y 2 in. moulded and mitred strips. One 5-in., or two 3^2-in. lacquered brass handles. Hobbs' four lever locks. Panel at E may repeat on end, less capping: Shelf inside cupboard, 1 in. moulded thumb; 2-in. brass butt hinges; i-in. \",\n",
       " \"ends, and I ft. 9 in. back to front; i%-in. posts; i-in. door stiles and rails ; bottom under drawers through to back; flush framed back, }i in., let in rebates; i-in. bevel to mirror, ij^-in. framing to back. Fig. 2 all cupboard doors, wood panels moulded; center mirror, 24 in. by 28 in.; back above F, 13^ in. high; F to G, 3 ft. 1 in. ; upper door I, 19 J/2 in. by 1 1 in. ; inside depth, Sy 2 in.; lower side door, 2 ft. 6]/ 2 in. by 14 in. If a leaf is cut in posts as indicated, it will ensure a good effect. The columns supporting upper cupboard will rest on toes at G, returning to intersect with base moulding of back. The sideboard upper backs is fixed to lower carcass by dowelling into top, and also by continuing the uprights, some 9 in. or 12 in., below top to be screwed to carcass back. Either canted, as shown, or quadrant corners would be suitable for center mirror. All shelves are indicated by an outlined base. Fig. 165 gives a few details: — A refers to (Fig. 162) section, i}i in., with top turning enlarged (J) ; K, small spindles in lower carcass ; B, enlarged detail for cornice frieze and column in Fig. 162 and cornice, etc., F (Fig. 163). The pattern shown in detail at L may be carved in frieze with good effect. M, section for moulding round center mirror; N, alternative to lesser columns at C (Fig. 164) ; O, dotted line of shelf (Fig. 162) ; C, G, detail for table top (Figs. 162 and 163) of i-in. stuff lined up; D, detail for Fig. 162 at floor line, iy 2 -'m. section. Door frames should be mortised \",\n",
       " 'right through, as at P, and moulded oriels, the geometrical framing being mitred up and turned in to intersect to patterns shown. A section through lower carcass occurs at Q for pilasters and plain moulded panels front and ends. Another method is indicated by cut at R suitable for plain ends, vertical grain, or a 9-in. upper end rail, with panelling to match E (Fig. 162). ',\n",
       " 'The half-Front elevation and details of sideboard in Fig. 166 is a little more pretentious than those preceding it, and of course will tax the skill of the workman proportionately, but we do not think it beyond the ability of the ordinary trained workman. The elevation sections and details have all been drawn to scale, and are, therefore, measurable. ',\n",
       " 'Fig. 166 shows the half elevation. Fig. 167 shows section of lower portion and mirror portion of upper works. Fig. 167, is the upper part of board in section. The mouldings in section require no explanations. ',\n",
       " \"Cabinet-makers as a rule do not often have calls to make Grandfather's clock cases, but, it does sometimes fall to the lot of the workman to make a case, so it may not be amiss to give one or two simple designs on this work, giving dimensions and style of finish. The proper material to be employed in making this case is mahogany, but of course, walnut or quartered oak — darkened — will answer very well, but in either case, good workmanship and fine finish will be necessary to give the clock an artistic appearance. \",\n",
       " 'The sizes given in this example are suitable for a clock with 12 in. dial, and the remarks which follow should render the setting out a simple matter. (A) The clock case Fig. 169, consists of sides, front, and corner only, so that it may be pushed on from the front, along the moulding E, the back ends of sides being rebated to fit over the back — an arrangement which renders the clock easily accessible. Height through center of dial from bottom of door to top of cornice, 25^2 in. Height of door in center, 21 in. ; the rise being 4^4 in. ; width, 15J4 in. ; frame, 1^8 in., out of j4-in. stuff, and glazed. The door shuts on to an inner frame of same size, out of }4-in. stuff, well screwed, with glued blocks. The ends, Sy 2 in. wide (cut out in center, and glazed, as G), and continued through cornice up to springing of top curve ; frieze and cornice are built up thereon. The top or \"roof\" of case is built up of >£-in. stuff, bradded or screwed to upper member of cornice, and to top back rail on case cut to same curve, both being rebated for the purpose. The cornice projects 1 % in. over sides, being supported by columns tapering from % in. to 1 in. diam. These may either be plain or mounted, with brass Corinthian capitals and bases, the shafts then being reeded. The upper finials are also of brass, and impart a most pleasing finish to the top. It should be added that the clock movement rests upon ledges about 4 J / 2 in. high, which also serves as guides to the loose case*, and steady it when in position. Body ',\n",
       " 'of clock (B) : This is constructed of J^-in. stuff — front framed (dowelled or rebated 15 in. wide) into ij/4. in. posts, the outer corners of which are canted to receive ij4 m turned pillars. Sides 7 in. wide, rebated flush into posts and top and bottom rails, and also rebated to receive back. Hide joints of rebates ',\n",
       " \"with a scratched brad. Back of 34 -in. stuff shaped at top to fit upper curve. Stiffen the joints with wellfitting blocks along the inner angles, using good strong glue for the purpose. The body B beds down about 6 in. lower than the upper moulding of the base F ; sides (9 in. wide), front (19 in. wide), and back of which are rebated together and blocked. All mouldings are, of course, mitred round sides and front only. The door B (of y^-'m. stuff), is rebated to shut on to front, frame, and projects J4 i n only. The moulding and carved fans at C might be further embellished by an \",\n",
       " 'London, whose name is engraved on the dial between V. and VII. and over the figures registering the date of the month. A minute dial occupies the upper portion ',\n",
       " 'of the main dial, which is entirely of brass, the numeral disc being raised about an eighth of an inch above the central portion. The minutes are numbered throughout the circumference over the hours, and these latter are divided by fleur-de-lis. The hands are of beautiful design in steel, and the clock case is in oak. The ball ',\n",
       " 'terminals are gilt, and screw into little wooden bases, as shown. At either angle beyond the dial are spandrels of cast-brass ornament in coarse style, representing two cupids bearing crossed sceptres and supporting a regal crown. The screw which fixes this ornament has a Tudor rose for its head, and forms the center of the composition. ',\n",
       " 'The object, in the present design, is to make a corner chair capable of affording support to the shoulders; and in this respect the design annexed is somewhat original. The selection of the wood for same is a matter of taste; black walnut, mahogany (stained dark), rosewood, or dull black are all suitable. To save expense, it might, moreover, be made without the underframing or listing shown, although the strength would be reduced without it. But our purpose for the moment is, \"how to make,\" and a few practical hints may be useful on that point. The first business is to produce the moulds to working drawing shown, and as an inch scale is adopted, this should be a simple matter. Then get out the four legs — i. e., two long and two short. The two long legs must be out of 2 in. wood, to allow of throw over scroll at top; iy 2 in. wood will do nicely for the short ones. The seat rails must be 2 in. solid wood, and beech cannot be used except for blocking, as all the wood is more or less seen. The back might be i)A in. wood, to allow, when the top is glued on, for shaping back and front to bring it in a line with the top. The top would take a piece of 4^2 in. wood, to allow for sweep. Of course where several chairs are made, the tops can be marked one into the other, and thus waste of timber avoided ; 1 J4 m wood will be stout enough for the arms and brackets. The splat ',\n",
       " 'Drawer Making and Fitting. It is often said that a man who can make and fit a drawer well can make almost anything in constructive ',\n",
       " 'woodwork. This is probably true, with some reservations, for it is generally accepted as a good test of a man\\'s skill, and we have no doubt that beginners find it one of the most difficult things to tackle, especially in the preparation and \"setting out.\" The general method is as follows, applied to an average sized drawer: — Carefully select the stuff — i. e., y 2 in., finishing Y% in., for sides and back ; Y% in. or %. in. for the bottom, and I in., to finish % in. or J4 in., for the front. All the stuff should be dry and clean, as well as straight and even in the grain, and each piece must be planned up true and gauged to an equal thickness. Care must be ',\n",
       " 'A handy and general workshop method is shown in Figs. 172 and 173, marked on the front of the drawer, ',\n",
       " 'and the back of the back, and (2) on the front end of the sides. These marks indicate the outside and bottom edge of each piece, as well in the giving the number; and if this simple rule is applied there should be no mistake made. Where a set of drawers are the same depth, the same number should be written on the bearer or carcase. In all cases an allowance must be made on the width and length of the front and sides for fitting, and l /$ in. is ample for this ; but the sides can be squared on the shooting board at each end to the length required. It is never a good plan to let a drawer stop on to the back of a job, so the sides should be at least j4 in. or J4 in. less in length than the inside of the carcase. ',\n",
       " 'After preparing the stuff, the next job is to fit it. Carefully joint one end of the front, and fit it to the corresponding end of the opening ; then mark off length ',\n",
       " 'at the other end, and fit tightly in the same, but leave the top edge until the final fit of the drawer. Then \"run\" or fit the sides in — remembering the marks — taking care they fit tight from end to end, and then plane the ends of the back to fit the opening in the same way as the front. The stuff is now ready for gauging and the cutting gauge is the best of the two to use. Gauge the lap on the ends of the front first (see distance A on Fig. 174), and then on both sides of the front ends of the sides (see A, Fig. 175). Then set the gauge to the thickness of the sides, and strike a line from the ends on the inside face of the front (see B, Fig. 174) ; and this same line must be gauged from the end and on both sides of the back. Lastly, the thickness of the back must be gauged in a like manner from the back ends of the sides. It will be noted that, even if a dozen drawers are to be made, the gauge is shifted only three times, and only twice if the back is the same thickness as the sides, which should always happen when the wood is obtainable. In gauging the thicknesses, care must be taken to set the gauge a little under, but never over, or a bad fit is bound to follow. It also might happen that the best planed stuff will \"cast,\" and the sides may cast hollow in the length; whenever this does occur the round side should always be put outside. ',\n",
       " 'The stuff is now ready for setting out and cutting the dovetails. Men of experience are able to just mark ',\n",
       " 'off distances and cut the dovetails quickly and regularly. To those who are less skilled and beginning, a good and simple method is shown in Fig. 176. On the front end of one of the sides square down — with pencil — the lines 1 and 2, % in. from each edge, and then divide the space between these lines for the required number of dovetails. The lines will then become the center of the pins. To set out the dovetails, mark i-i6th in. each side of the line at the top and l /$ in. at the bottom; join these points, and the dovetails are given. The same method can be adopted on the fronts if the holes are to be cut first. There are various methods and many opinions as to which should be done first, but the safest course is to use the one you know and can best apply to the work at hand. We know of no simpler way of setting out dovetails than the one explained ; and it will be noted that the half pin on the outside is left strong enough, whilst the spacing of the pins is regular and at a suitable angle. ',\n",
       " 'In many cases when a drawer sticks it will be found that the place in which it slides, or ought to slide, is the part that requires most attention. ',\n",
       " 'A drawer to run well must be perfectly parallel back and front all around, except that the sides and top and bottom may be eased off to the extent of 1/16 in. to }£ in. at the extreme ends, this easing off to extend to about y 2 in. from the end. For small drawers much less will be sufficient; large drawers may have a little more taken off. ',\n",
       " 'The runners, that is, the wood against which the drawer slides in its receptacle, should not be quite parallel, but a little wider at the back, or the drawer will never run well. Here again it is impossible to give exact measurements. A drawer 1 ft. wide, 6 in. high, and 1 ft. 6 in. long would require the space at the back to be about % in. wider and higher than the front. ',\n",
       " 'One great fault with drawers is that they \"wind,\" that is, if placed on a perfectly flat table, all four corners will not touch the level surface. This is most difficult to rectify. The cause may be bad workmanship or unseasoned wood which has twisted in drying. The high parts may be planed off, but then the drawer will be small, and must be made up to its proper size by gluing on strips of wood ; or the receptacle may be reduced in size. The latter is usually the easier to do. ',\n",
       " 'Suppose that the top long drawer of the 4-ft. chest of drawers which has stuck half-way is to be rectified. Do not use too much force in pulling the handles, or they may come off, or the whole front come away from the sides. Unscrew the back from the carcase, and while a helper pulls at the handles, gently tap the ends at the back with a hammer, a piece of wood being interposed endwise of the grain to act as a punch. Take care to hit the end of the drawer that is farthest in. If this does not move the drawer, it may be necessary to remove the partition between the drawers by sliding it out, and then the runners at the sides of the carcase, by gently prising them out, first previousl yremoving the screws if necessary. ',\n",
       " 'The drawer must be badly jammed if it still remains fixed, and removal to a warmer room had better be tried, and a little time allowed before resorting to stronger measures. ',\n",
       " 'When the drawer is removed, first replace the partition and runners, and ascertain whether the latter are wider apart at the back than at the front. This is best done by cutting a strip of wood the exact length of the opening of the front, and sliding it to the back. If not, the runners must be reduced. Or it may happen that there is no runner, or that it has been forced out of place. ',\n",
       " 'Having got the runners parallel, except for the little play mentioned, next see that they are straight from ',\n",
       " 'back to front; the sides of the carcase may have bulged and bent them. Afterwards do the top and bottom in a similar way. Before and during the process of adjustment, see that the runners do not wind with the front. This can be ascertained by placing the eye about 3 in. from the front of the bottom rail on which the drawer slides and level with it, and observing that the runner ends are in the same plane, by looking first at one end and then the other without moving the eye. This requires practice, and is termed \"taking it out of wind.\" Repeat the process for the under side of the top rail, and adjust the runners as required. ',\n",
       " 'Having got the carcase right, next examine the drawer itself for winding, and whether it is parallel and straight from back to front. If the sides bulge, they can sometimes be knocked in a little. If not, the surplus must be planed off, first making a pencil mark where the parts are not to be planed. ',\n",
       " 'Now try the drawer to see if it will run in. If it goes half way, take off a little with a plane (or scraper if the wood is hard) where it is tight. Run it in and out several times, and see where it shines, and carefully remove the shine. Avoid taking any off the edge of the front as long as possible, or it will be too small and a bad fit. In shutting or opening a well-fitting drawer, a little friction should be felt for the whole length. ',\n",
       " 'The sides and top and bottom edges should next be well smoothed with middle and fine sand paper until ',\n",
       " 'they shine. Finally they and the runners should be rubbed with spermaceti wax, and then with a linen rag, using plenty of pressure. Spermaceti sometimes crumbles away when used. If so, melt it at a low heat in a jar, pour into a cardboard box, and keep it there, cutting down the edges as required. Nothing need be added when using on wood ; but for the joints of brass mathematical instruments, add 10 per cent of vaseline. ',\n",
       " \"Veneering which we will first deal with, consists of laying an expensive or highly figured wood upon a foundation of a cheaper or more common wood. It does not always meet with approval, the prevailing idea being that if a piece of cabinet-work is veneered it is cheap; but a moment's consideration would convince the most incredulous that the finest effects in the works are to be obtained only by this process. It is a fact also that veneering gives greater strength to articles of furniture than if they were solidly made. Among the valuable woods for the purpose many are obtained from the far East, even the remote Siam and the Philippines furnishing supplies. Some of the most exquisitely colored and figured woods are only obtainable in small pieces, and are used for ornamental inlay designs, in devising and applying which the Hollanders are so expert that cabinets, tables, desks and other articles thus treated by them are imported here and find ready sale. \",\n",
       " 'The best figured and most ornamental wood is usually to be found at the butt end of the tree, though good mottle may be obtained at the junction of the trunk and limbs. In buying timber for veneering purposes, only long experience can determine its quality and worth ; the external appearance is not always a true index of the internal, and it is often a matter of chance, ',\n",
       " '\"Sawn.\" — This term is applied to all veneers that are cut by saw. The log is placed upon a travelling platform, the fine saws being set in a vertical frame and cutting the veneers simultaneously through the log. The usual number of veneers to the inch is ten, but, if desired, twelve may be obtained; the latter are, however, thin, and not so serviceable. The veneers are numbered consecutively, so that \"match\" veneers may easily be determined. The ends should be bound with muslin to prevent splitting. Veneers to be in proper workable order must be kept in a damp place; they are then much more pliable, and less liable to crack. The waste of timber in cutting by this method is, roughly speaking, about $i of an inch per inch of thickness. ',\n",
       " '\"Knife-cut.\" — By this method there is no waste whatever. The log, having been opened up, is steamed, and, while saturated with moisture, placed under the knife. This works horizontally, and takes off the thinnest shaving possible. The usual number of veneers obtained per inch of thickness is from thirty-six to forty ; they are therefore almost as thin as paper, and not at all reliable for hard wear or subsequent scraping and repolishing. Knife-cut veneers should only be used on ',\n",
       " 'those parts of a job that are not liable to constant wear; the only advantage — and that a doubtful one — which they possess is that the veneer will \"lie\" more readily upon a sweep or on the flat owing to its thinness, and ',\n",
       " 'with a reduction in time there is a corresponding abatement in price. Apart from economic reasons, a \"sawn\" veneer should always be used. ',\n",
       " 'Veneering. — Any wood is suitable for veneering upon, but those usually selected are of the \"bay-wood\" or pines. The foundation, having been faced up, is \"toothed\" by a special hand plane, thus imparting a rough surface to the wood which will enable the glue to adhere more firmly. A solution of size and water used hot is next applied and allowed to dry. The heart side of a board should always be veneered upon, and the ',\n",
       " 'reverse side damped with water to prevent the board going round when sized. Lay the board face down until ready for veneering. The veneer may now be laid, and can be done in two ways — by hand or machine. ',\n",
       " 'For small works, mouldings, or sweeps, use the former method ; for panels, carcase ends, etc., the latter. ',\n",
       " 'Process i. — Quickly brush over with hot glue, taking care to spread it evenly. The veneer may then be laid down, pressed by hand to remove the air, and squeezed down by means of a \"caul,\" removing all blisters and superfluous glue. A weighted board then should be placed on the job until the following day. ',\n",
       " 'In the case of sweeps, either a steel bow-cramp contracted to the shape, or a wooden template secured by means of cramps, should be used. ',\n",
       " 'this purpose is shown at Fig. 172 and comprises an iron framework with perforated cast top, a series of gasburners running at intervals of 9 inches or so the length of the machine, and over this an iron plate covered by a sheet of zinc. The gas having been turned on and the plate heated, the job to be veneered is laid on the machine, and cramps are then placed across and tightened down by means of set-screws, until the air between the foundation and the veneer is excluded, and ',\n",
       " 'the superfluous glue squeezed out. This may be easily ascertained by a tap on the panel, a hollow sound indicating that the veneer is not bedded. When the veneer has been laid, turn off the gas and leave the job to cool naturally, say, through the night, the cramps remaining ',\n",
       " 'on. After standing for three days, the work may be finished off. It will be found that some of the glue has oozed through the pores of the veneer, while a general roughness is apparent. Proceed with an ordinary iron scraper or iron plane to smooth down (the latter is better if the veneer is thick enough, as the scraper may get too warm and soften the glue beneath), and finish with sand-paper upon a cork rubber. The job is then ready for the polisher. ',\n",
       " 'The butt-joint (Fig. 178) is a most effective way of veneering a drawerfront or panel. Take two \"match\" veneers — that is, consecutive members — as cut from the log, cut through each where it is desired to butt, thus ',\n",
       " 'making them \"rights\" and \"lefts,\" the figure falling equally from the central joint. The veneer is then laid upon the foundation, and a few needle points or tacks placed on each side the joint, a strip of brown paper being glued upon the same to hold it in position. When dry, lay as before described. ',\n",
       " 'Fig. 179. — A more elaborate way of panelveneering is to use four match veneers quartered. All the joints must be pasted. ',\n",
       " 'Fig. 180. — Still more elaborate is the addition of cross-banding, which is laid by hand after the center is completed. ',\n",
       " 'Fig. 181. — The addition of a stringing is often advantageous to break the line of junction and throw up the center, a narrow band of the veneer being removed for this purpose by means of a cutting gauge. ',\n",
       " 'Fig. 182. — If there is a defect or hole in a veneer, a new piece should be inserted matching the curl or mottle of the wood, the edges of which should be cut to the shape of the curl or follow the line of the grain. If this is done, detection is almost impossible; on no account insert a square piece, as the hard lines thus produced are most objectionable. ',\n",
       " \"This most important branch of the wood-working trade seldom gets the attention it deserves, the common idea being that there is nothing in polishing demanding skill or judgment, or even worth the trouble of knowing. No greater mistake than this could be made. Polishers have in their hands the making or marring of the finished piece of furniture from the cabinet-maker's bench. Briefly, the process of Frenchpolishing consists in the application of various gums, lacs, etc., dissolved in spirit, in order to give to the wood a surface or polish (bright or dull as required) which not only preserves the wood, but brings out the beauty of the grain. \",\n",
       " 'Workshop and Fittings. — The workshop should be a large well-ventilated building, with a north light for preference and also top lights. It should be kept heated to a given temperature, say 60 degrees F , and be maintained at this heat night and day. Hot-water pipes around the walls, with regulating valves, will probably give the best results; steam-pipes may be used, but do not maintain such an equable temperature. A small enclosed coke-stove or gas-burner is an essential for the purpose of melting wax, obtaining hot water, etc. ',\n",
       " 'The room should be free from dust, as any particles floating in the air and settling on a job in process, are bound to be worked up into it, producing a cloudy ef',\n",
       " 'feet. There should also be a smaller room leading from the main shop for \"Fumigating;\" this must be air-tight, and have a pane of glass inserted in one of the upper panels of the door for observation purposes. ',\n",
       " 'Trestles are required varying in height from 9 inches to 30 inches, and loose tops of different lengths and widths for placing on them. Several wooden battens covered with felt to protect a job are also necessary. ',\n",
       " 'Materials. — It need hardly be said that upon the quality of the materials used in polishing depends very largely the ultimate results, good or bad. And here, as in other branches of trade, the best is always the cheapest. It will be found a mistake to lay in too much stock, as polish quickly evaporates and other materials deteriorate, but rather to buy small quantities of lac, spirit, &c, and mix fresh as required. ',\n",
       " 'Not much in the way of plant is needed to fit a polishing shop : — say, half a dozen pint (and a few larger) stoppered bottles for polish, glaze, finish, varnish, &c. ; a few jars of stain, oil, fillers; and tin canisters for keeping rubbers, more valued by the polisher than any part of his kit. ',\n",
       " 'How to make a rubber. — Get a piece of clean white or gray wadding, remove the skin from it, and roll it into an Qgg shape, then cover the same with a thin linen rag strained tightly over the wadding, holding the ends in the palm of the hand, the two forefingers and thumb bedding themselves on the extremity of the rubber, flat',\n",
       " 'ten the under side or polishing surface, and you will have an oval flat of, say, 3 by 2 inches. The proper size of the rubber depends upon the polisher himself and the class of work engaged on. ',\n",
       " 'If new linen or calico prints be used, they should be washed to remove all trace of lime or dressing, and be as soft and pliable as possible. A different rubber should be used for different polishes, and they are so easy and inexpensive to make, there is no reason why work should be clouded through dirty rubbers. Cleanliness and good polishing go hand in hand. When the rubber is finished with, it should be kept in an air-tight canister. It will thus keep soft, and may be used repeatedly. Failure to do this will result in hardness, which renders it useless. We are now ready to commence work and proceed to the first page, viz : — ',\n",
       " 'Filling-in. — This consists of coating the surface of the wood with a filler, which closes or fills up the grain, thus making it possible to get a perfectly smooth surface for polishing and also saving time and material in the afterwork. Upon the efficiency of the filling-in depends the result of the finished job. There are many good fillers on the market, any one of which might be equally well adopted, but it is much better that the polisher should make his own polishes, &c, and many men prefer to do so. Consequently no two polishers use exactly the same formula, but work upon receipts best adapted to their own particular style. Before filling-in, the work ',\n",
       " 'should be as finely papered down as possible. Too much stress cannot be laid on this point, for if well done at first much after-labor will be saved. The filler can then be put on with a flannel, and rubbed into the grain of the wood until the pores are filled up, then wipe all off and paper down. This will be found necessary, because the filler will have raised the grain. When dry, the work will be ready for the next process, bodying-up. ',\n",
       " 'The following fillers will be found useful. The exact proportions can be ascertained when mixing, remembering that the filler must just be of the consistency to work freely. ',\n",
       " 'Fillers. — (i) Spirit varnish laid on with a brush; this forms a good quick filler. Two coats should be given. ',\n",
       " '(2) Size. — Ordinary glue size may be used as a filler in the case of hard-grained wood, and will answer the purpose. ',\n",
       " '(4) Whiting and Linseed-oil. — Mix these together into a paste and apply with a flannel. This is a filler generally adopted. ',\n",
       " 'The disadvantage in Nos. 3 and 4 is that there is a great liability to get the job greasy, which will afterwards work its way through the polish, giving the surface a cobweb effect which is known as \"sweating.\" ',\n",
       " 'and apply to the job, and rub off as quickly as possible. This filler is undoubtedly the cleanest and most effectual that can be used, and entirely obviates \"sweating.\" ',\n",
       " '(6) Whiting and Turpentine. — Mix into a paste, and apply as before. This is preferred by many to No. 5. ',\n",
       " 'Thus far these fillers are in the white, and suitable only for such woods as ash, maple, satinwood, birch, &c. In the case of dark-colored woods the filler should be tinted with rose-pink or Venetian red ; ebonized work, lamp-black; oak, walnut woods, &c, chromes, ochres, and umbers according to the tone required. ',\n",
       " 'Bodying-up. — We now come to the second stage of polishing. The wood having been papered down with fine old glass paper, take a rubber, previously described, and sprinkle a little polish onto it from the stock bottle ; then cover over with a rag, holding the ends tightly in the palm of the hand, and tap the rubber against the palm of the other hand, which will cause the polish to distribute itself over the whole rubber; put a spot of linseed-oil on with the finger, and the rubber is ready for work. Commence very lightly at one corner of the work, if it be a panel or carcase end, and by a series of motions forming interlacing curves, gradually work over the entire surface, never lifting the rubber until at the edge of the job. Care must be taken not to have the rubber too full of polish, or to press on the work too hard, in which case the polish will ooze out of the rubber and leave nasty ridges on the job ; the idea is how ',\n",
       " 'best to cover the entire work evenly. Having done this, let the job stand as long as possible — a few days will do no harm, — -the shellac will then have sunk into the wood, the spirit evaporating. This will present a dull appearance, and feel rough to the touch. We then proceed to paper down again, in fact too much stress cannot be placed upon the value of judicious sand-papering. After this the operation is repeated until a good body of polish is obtained on the work. Be very sparing of using oil; though this eases the rubber, it ruins the \\'job ultimately. After another papering or pumice-stoning down we can pass to the final stage, spiriting-off. It may be asked, how many times is it necessary to go over the work ? This very much depends on the wood worked upon. It will be anything from three to six times, the object being to obtain a body, hard and that will not sink. Much of the modern work is completely ruined to-day because it is \"rushed.\" Time is not allowed between the rubbers, consequently no proper foundation is obtained, and in six months\\' time the job requires redoing. The method described above will apply equally to either light, or dark woods, the difference being in the polish used rather than the method. Spiriting-off. — This process may be called the most difficult portion of French-polishing, and when once proficient in this a man may be said to know his trade. The process is similar to bodying-up, with this exception, that towards the last \"spirits\" only are used on ',\n",
       " 'the rubber. This has the effect of polishing the \"lac\" put on during bodying-up, and giving to the work a fine, hard, bright surface ; the oil previously worked in is spirited out. ',\n",
       " 'Commence by using, say, two parts of polish to one of spirit, then equal parts, afterwards two of spirit to one of polish, and thus gradually reducing the polish to nil, and using only pure spirit. The rubber and motions are as previously described. A clean rubber should be used when pure spirit only is used, and a series of straight motions taken instead of the circular ones, running the same direction as the grain of the wood. ',\n",
       " 'Small mouldings, angles, awkward corners, &c, which would be very difficult to spirit off in the ordinary way, may be done by \"glazing.\" Applied with a rubber and worked straight along the moulds, this glaze quickly dries, and has the same appearance as if spirited-off. It is, however, softer, and will not stand wear. Much of this work could be obviated if the polisher were given the job in pieces; for instance, mouldings mitred around panels should be polished in long lengths, and cut and fitted afterwards, thus avoiding nasty corners. Turned work is better polished in the lathe, before being framed up. Panels should be polished before framing up, or if beaded in, left loose for that purpose. ',\n",
       " 'difficulty in mixing polishes, and every man should be able to do so, the process simply consisting in dissolving shellac in methylated spirit. This latter should be bought at 60 over-proof, stored in a cool place, and tightly sealed, as it soon evaporates. ',\n",
       " 'Shellac is orange in color; the lighter the color the purer the quality. It is in small flakes, and requires crushing before dissolving in the spirits. This would be used for ordinary polish. If, however, a clear or white polish is desired, then bleached shellac is used. This is in lumps, and must be crushed before using. This lac must be kept in water. Coloring pigments can be added to any polish to intensify it as desired, such as Bismarck or Vandyke brown. These polishes should be mixed cold — the shellac will take a little longer to dissolve, but the operation is much safer, — then strain through muslin, and put in stoppered bottles. ',\n",
       " 'Brown Polish. — (1) 1 pint methylated spirit, 4 oz. orange shellac, Yi oz. sandarac; or (3) 1 pint methylated spirit, 4 oz. orange shellac, y 2 oz. sandarac, 94 oz. benzoin. ',\n",
       " 'Glaze. — 1 pint methylated spirits, 6 oz. benzoin, Yi oz. of sandarac can be added for harding purposes. ',\n",
       " 'preparations which are used to restore furniture which has already been polished, but has through neglect or other cause become cloudy. The first thing to be done in a case of this kind is to thoroughly wash the woodwork with a flannel soaped with curd soap and warm water; by this means all dirt and grease will be removed. After wiping down with a soft dry duster, apply one or other of the following revivers, and polish off with another clean duster. Much of the old polish will thus be brought back. ',\n",
       " 'Reviver No. i. — Take equal parts of methylated spirit, linseed-oil, and malt vinegar. Mix well and shake before using. ',\n",
       " \"Reviver No. 2. — Turpentine, 1 quart ; bees'-wax, V\\\\ lb. ; curd soap, 2 oz. ; water, 1 quart. Dissolve the bees'wax in the turpentine by moderate heat ; shred the curd soap in the water and boil ; then while both are hot mix together. This will set in a light paste, and prove an excellent polisher. \",\n",
       " 'Repairs. — When a bruise has to be made good upon a job the best plan to adopt is as follows : — Raise the bruise by means of a hot iron placed upon a damp cloth. This, unless the wood is broken, will lift it to its original level, it may then be sand-papered off and polished. ',\n",
       " 'Bleaching. — It sometimes happens that some parts of the wood are darker than the rest, in which event it is most important that the darker parts be reduced to ',\n",
       " 'the lighter. This result is produced by bleaching. Dissolve i oz. of oxalic acid in half a pint of water, and apply with a rag; when dry, paper down, and if the density is not sufficiently reduced, repeat the operation until the desired result is obtained. ',\n",
       " 'Sweating-out. — When too much oil has been used on the job, the surface presents a cobweb appearance which gradually increases and eats the polish away. When first detected, it may be removed with warm water, soap, and flannel; but when of long standing, nothing can be done to remove it except repolishing. ',\n",
       " 'This is the process of treating oak with ammonia, darkening it by this means to any required shade. This result can be achieved in two ways. ',\n",
       " '(1st.) Natural fumigation, that is, exposing the oak work in a sealed chamber to the fumes of ammonia until the required density is obtained. ',\n",
       " 'The ammonia used should be a solution of ammonia gas in water, and should have a specific gravity of 880. This must, on account of its volatile nature, be kept in a well-stoppered bottle. ',\n",
       " 'Process 1. — To fumigate by this means a separate chamber is required. This may be an ordinary room or a fuming-cabinet built in the corner of the polishing shop. In either case it must be air-tight, and the door opening into it should have a square of glass for observation purposes. When the oak work has been placed within it, take, say 1 pint of ammonia and fill about a dozen saucers placed upon the floor. The door must then be closed, and sealed up by means of brown paper pasted round the joints. The process of fuming then begins, and can be watched through the glass until the desired shade is obtained. The smaller the chamber the quicker will the work be done; the time may vary from six to twelve hours according to the strength ',\n",
       " 'of the ammoniated atmosphere. Practice alone will determine the time for opening the chamber. This is the only reliable and safe way of fumigating; in fact all other processes are but imitations of it, and the product of \"cheapness and rush.\" ',\n",
       " 'The advantages of this process are : ( i ) that as no liquid touches the job the grain is not raised, consequently sand-papering is avoided; (2) the ammonia fumes penetrate deeper into the wood than by outward application; (3) the exact density can be more easily determined. ',\n",
       " 'The disadvantages are : ( 1 ) This process requires a separate room for the purpose; (2) It takes much more time than is required by the direct application of ammonia. ',\n",
       " 'In connection with natural fuming it will be noticed that some parts of the job may not \"take\" at all. This often arises from the fact that various oaks have been used in its construction. Thus \"Oak grown in one part of America may be susceptible to the fumes, while oak grown in another state, will not.\" Those parts which have not \"taken\" must then be treated by Process 2, and care must be exercised that the resultant color may be the same. Let the ammonia for this purpose be very weak. Let it dry before applying another coat (if necessary), as it is much easier to intensify than to bleach, and nothing looks worse than a patchy job. ',\n",
       " 'Process 2. — This consists in the application of liquid ammonia (.880 spec, grav.) direct on to the work. It is usually applied with a sponge or rag. Water may be added to weaken the solution if only a light tint is desired. The wood immediately darkens upon the surface, but allowances should be made for its drying lighter. The objection to this process is that it raises the grain, which entails sand-papering down, while process No. 1 does not. This necessarily takes away much of the sharpness of the mouldings, the fillets suffering most of all. In this case it will be found that the work does not take the dye evenly, and the same shading or toning to a color will be found necessary to produce a good result. ',\n",
       " 'In either process the job should be in the white, that is, without brass or copper work or silvered plates, as these are liable to be affected by the ammonia fumes. ',\n",
       " 'Finishing. — The work, having been fumed by either of the foregoing processes, is now ready for finishing, and the usual way is either of the following: — (1) Egg-shell finish ; (2) Wax finish. ',\n",
       " '(1) Apply a thin rubber of ordinary polish to the job, and dull down with powdered pumice-stone and a stiff brush. This will give a dull shine without in any way filling the grain of the wood. (2) Dissolve pure bees\\'-wax in turpentine, and apply with a rag, rubbing well in, and obtaining a polish by \"elbow grease.\" This is a more tedious process than the former, but much ',\n",
       " \"more satisfactory, as this process can be carried on after the job has left the polisher's hands and the polish will constantly improve. \",\n",
       " 'Mahogany is the only other wood that will \"fume.\" It assumes a purple tint, and should be treated in the same manner as oak. ',\n",
       " 'This method of producing a polish was undoubtedly the earliest adopted by cabinetmakers, and is best suited to the finishing of dark oak, chestnut, and some other woods. The advantage appears to consist in the fact that the process is never complete, and, like Tennyson\\'s \"Brook,\" may go on forever. Much of the beauty of a piece of sixteenth-century carved oak is due to the polishing, — the result of years of rubbing — by use. ',\n",
       " \"In wax-polishing two ingredients only are necessary, bees'-wax and turpentine. The wax should be melted, and sufficient turpentine added to form an easy workable paste ; do not heat the turpentine or pour it into the melted wax while the latter is still on the fire, as it is highly inflammable. As all the turpentine must evaporate before the polishing is complete — leaving the wax to act as both filler and polisher, — no more should be added at the commencement than necessary, otherwise the work will be prolonged. If the stock sets hard it can be softened again by warming, but it is better to mix it in small quantities as required. The safest method of warming or melting all ingredients in the polish-shop is by steam, using a kettle or double pan, such as the cabinet-makers use for glue. This point is one not lost sight of by insurance companies. \",\n",
       " 'In applying the wax-polish no skill is required, but \"elbow-grease\\'\\' and patience are absolutely necessary. ',\n",
       " 'We will suppose that we are polishing an oak wainscoting, which has been previously fumed and stained. If the latter, we shall rub down with ^sand-paper; if the former, this will be unnecessary. By means of a flannel boss we apply the wax-polish, rubbing the panels in circular motion till every part receives an equal polish. The work may now with advantage be laid aside until the next day, when the process may be repeated. Let \"a little and often\" be the motto, — a little, in order that no clogging of wax occurs in the corners and mouldings, all the wax being rubbed in until an even bright surface is obtained, free from all tackiness or finger marking ; and often, so that each thin coat may have a chance to sink into the grain and by the evaporation of the turpentine harden. Remember that the polish is produced not by the amount of wax used but by \"elbow-grease.\" ',\n",
       " 'If preferred, a piece of felt glued to a wooden block may be used ; a stiff flat bristle brush is often used for polishing a carved panel or turned work. ',\n",
       " 'Thus far we have spoken of wax-polishing as applied to oak, and it is questionable whether it can be applied with equal success to other woods ; stained ash is perhaps the next best wood to oak for this method of polishing. ',\n",
       " 'Floors are often treated in this way, including parquet surrounds, plain stained surrounds, or entire floors. Hard-wood floors are usually without previous ',\n",
       " 'staining, as each polishing darkens the floor until a rich tone results. The method is as previously described, except that for floors a box-polisher is used, which is weighted. This is a wooden case (say) 12x8x6 inches, weighted inside with iron or lead to 14 lbs, ; attached to this is a handle 6 feet long, working on a swivel, and thus allowing a sweep of 6 feet or so in each direction, in other words a clear swing of 12 feet or more. Upon the bottom of this case tack a piece of clean felt and proceed to polish. ',\n",
       " 'The wax must previously have been rubbed on the floor with a flannel, and the first part of the polishing done with a weighted brush having a surface of 12x8 inches, and fitted with a swinging handle. This will evenly spread the wax and take up all superfluous quantities; it will also produce a certain amount of polish which can afterwards be brought up to a great brilliancy by the finishing felt polisher. This method would also be used in preparing the floor of a ballroom, which might afterwards be kept in condition by the sprinkling and rubbing-in of French chalk. ',\n",
       " 'If wax polishing was the original method of treating oak, it may be said with equal truth that oil-polishing was the method of finishing mahogany in. the days when French-polishing was unknown; in fact, it is questionable whether any of the seventeenth and eighteenth-century work was dealt with in any other manner. Chippendale, Sheraton, and their contemporaries certainly adopted it as best suited to their work, and the untouched jobs handed down prove their decision to have been right. ',\n",
       " \"The great objection to oil-polishing is the length of time required to produce a good result; in fact, the longer you go on, the better it is. This fact has in these days of speed completely put oil-polishing in the background; the manufacturer wants a speedy return for his capital, and the public require their furniture the day after they give the order, so that it is impossible to have a job in the polisher's hands a month, and speedier methods have consequently been adopted. \",\n",
       " 'It is unquestionable that oil-polishing will bring up the figure of mahogany and enrich its color better than any other method, and if time permits, it is, for large work (such as panelling, dadoes, doors, screens, counter tops, &c), the very best way of polishing. ',\n",
       " 'upon the wood with raw linseed-oil, this being continually rubbed in with a flannel or felt pad. Let the operation be repeated day by day until a polish results. The process is, like wax-polishing, extremely tedious and laborious. Oil-polish can always be revived years afterwards by the same process, and a little judicious rubbing will keep the work constantly up to the mark. ',\n",
       " 'The rage for effect at low cost has necessitated the staining of white woods to imitate the more expensive ones, and the bulk of the so-called walnut or dark mahogany fittings are but the product of the polisher who, with dexterous hand, produces the required deception. The woods commonly used for stained work are birch, canary wood, yellow pine, and other woods. ',\n",
       " 'Stains should be placed on the wood direct before any size or filling has been applied. They may be applied in warm or cold water, diluted to their proper strength. A sponge is the best medium, and care should be taken that the stain floods the wood equally. When dry, the work should be sand-papered carefully — as the wet stain raises the grain — and a smooth surface obtained, then proceed with the finishing off as previously described. Aniline dyes are much used, and can be obtained in any shade in addition to the following. Let the stain be weak ; it is easier to apply a second coat than lighten the first. ',\n",
       " 'Walnut. — (i) Vandyke brown, J4 lb.; ammonia .880, 1 pint; water, 1 quart; (2) bichromate of potash, 4 oz. ; water, 1 quart. ',\n",
       " 'Apply the stain to the wood with a sponge or rag, rubbing over the work until an even surface is obtained. Allow the stain to dry (which will raise the grain) then paper down, and proceed to finish by varnishing. This may be done in either oil or spirit, but the process is the same, except that for oil varnish a bristle brush may be used, while for spirit a camelhair brush is desirable. After the first coat by either method, the work should be rubbed down before a second or finishing coat is applied. If an extra fine surface is required, paper down again after the second coat, and apply a third. Oil varnish would be used for such work as would be exposed to the weather, spirit varnish for indoor or protected woodwork. ',\n",
       " 'Spirit Varnish. — 1 lb. orange shellac, 6 oz. sandarac, 2 oz. hard resin, and 2 quarts meth. spirit. ',\n",
       " 'Clear Spirit Varnish. — 8 oz. sandarac, 1 quart meth. spirit, }i pint of turpentine; this should stand and be strained through muslin to take out all sediment. ',\n",
       " 'Spirit Varnish. — 1 / 2 lb. orange shellac, 1 oz. resin, 1 oz. sandarac, and 1 pint meth. spirit ; this makes a hard, quick-setting varnish. ',\n",
       " 'In No. i, Fig. 183, is an illustration of a completed revolving book-case of the ordinary type. It stands 3 or 4 feet high, and is about 20 inches square. A plan of the base on which the book-case revolves is shown on No. 2. This is made of two pieces of wood 2^2 inches wide and i l /> inches thick. These are joined together by halving, and have rounded ends. Four castors are fixed at the base, one near each corner. The top is made of i l / 2 inch boards doweled together, and the edge moulded and a rebate cut on the under side. The top may also be made of a 3/2-inch board with a ij^-inch moulding fitted round the edge, and another J^-inch board fastened below, thus saving material and effecting lightness. No. 3 is a section of the book-case showing the details of construction of the top and bottom and the method of attaching the revolving part to the base, A being the top, B F and B F two of the laths which keep the books in position, and H the fixed base (shown in No. 2). The base of the revolving part is made of 1 ^2 -inch boards, C, which have a rebate cut round the lower edge to receive the i-inch plinth, D D, which is mitred at the corners and fastened into the rebate. The lower edge of the plinth is rebated and a thin board, E, fixed into it. ',\n",
       " 'No. 4 is a perspective view of the frame to which the shelves are fastened. It is made of four boards of equal ',\n",
       " 'width and thickness joined by grooves and overlapping so that a square tube is formed. These boards must be of such a width that, when fastened in their places, the ',\n",
       " 'width of the frame is the same as that of the base, C (No. 3). The middle part of the frame should be i 1 /* inch longer than the rest, and fit into the center of C. Another way of fastening the shelves, which requires less material, is to make a square tube, and attach the shelves to this. . Strips of wood 2 or 3 inches wide are fastened along the top and bottom of each shelf in the ',\n",
       " 'position in which the boards (No. 4) would come. These strips keep the books in position at one end of each row, and the laths (B F and B F, No. 3) at the other end. ',\n",
       " 'The method of pivoting the revolving part is shown in No. 3. A circular pillar, I, is turned to fit the interior of the square tube,, and the lower end is turned down to form a pivot which fits the hole in the fixed base, H ; a little above the pivot a groove is cut in the pillar, forming a neck which works in a hole cut in a piece of i-inch board, G, which is attached to the ',\n",
       " 'under side of C. This piece of wood is sawn in half, the two halves placed in position on the pillar, and then glued together again. The pillar extends to within about i foot of the top of the tube. A steel spindle, K, with a pointed top is screwed into the upper end, and ',\n",
       " 'Fig. 183 this spindle pivots in the under side of a metal plate, L, which is attached to a block of wood, M. The latter should exactly fit the tube, and is attached to it by screws. ',\n",
       " 'The revolving apparatus can also be made by fastening two or more castors or wheels to the lower side of the base. These castors roll over a metal plate fastened to the upper side of the fixed base. The latter is attached to the revolving part by a spindle, which passes through the frame and the base, and is secured by nuts. ',\n",
       " 'When the top and bottom has been attached to the tube, and the shelves are in their places, the laths B F and B F (No. 3) are attached to the shelves, and also ',\n",
       " 'essentially the same. Sometimes the revolving part is made shorter, and legs added to the fixed base. They are also made to contain only one tier of books, so that they can stand on the table. Fixed book-stands are also made with shelves arranged similarly to the revolving book-cases. ',\n",
       " 'Chairs. — Although chairs have an infinite variety of form, as we have shown, they are constructed on nearly the same principles. No. i, Fig. 184, is an illustration of the framework of a chair suitable for a sitting-room. The hind part consists of two long pieces of squared stuff, to which are mortised two horizontal upper rails forming the back, a third at the level of the seat, and a fourth below. These back legs are usually curved backwards above and below the seat, so that the chairback has a slight slope and so that the feet are spread out sufficiently to prevent tilting. The front legs are joined by two rails, and are also fastened to the back by the same number. The tenons of the upper rails may come up. flush with the top of the leg, as shown in the illustration, or can be fitted into an ordinary mortise. The width of the rails at the level of the seat depends upon the nature of the upholstery; if springs are to be fitted, they are about three inches wide. The bottom rails are omitted in some chairs of heavy build, or the side pairs of legs are connected by rails and the middle of these joined by a cross-piece. ',\n",
       " 'All the parts of bedroom chairs, with the exception of the backs, are, as a rule, turned. The two back legs project above the seat to form the back, and are joined by two horizontal bars, which are slightly curved and joined to the vertical pieces by shallow mortises cut ',\n",
       " 'in the latter. The joint is further strengthened by screws passed from the front through counter-sunk holes, ',\n",
       " 'the heads being afterwards covered by small turned beads glued in, or if the chair is to be painted, the holes can be filled with wooden plugs. The lower rails are turned, and their rounded ends fit into corresponding ',\n",
       " 'holes bored in the legs, where they are secured by glue. Sometimes only the front legs are turned, the back legs ',\n",
       " 'Figure 184a being left square and bent slightly outwards. The seats of such chairs are made of four flat pieces of wood ',\n",
       " 'about I inch thick mortised together, the front and back pieces overlapping the other two, and the back piece being shorter than that at the front. The corners and edges are slightly rounded, and sometimes the front piece is curved, as are also the sides. The front legs fit into the holes bored in the under side of the seat, and the back legs are fitted to the seat by grooves y 2 inch deep cut in the former. Rounded backs are made by cutting the upper ends of the back legs to form part of a circle, and fitting across these a curved piece of wood. This is attached by mortise-and-tenon joints, or by dowels. The lower cross-bar is cut in a similar manner, so that, when the four are joined together, the back has the form of a segment of a circle or ellipse. ',\n",
       " 'Drawing-room chairs are framed in a somewhat similar manner. Turned or fretted bars are sometimes inserted in the back, either horizontally or vertically, or part of the back is upholstered. The legs are squared, tapered, and slightly curved ; or they are also turned and fluted, or left plain and carved. ',\n",
       " 'No. 2, Fig. 184, shows the frame work of an armchair. The only difference between this and No. 1 is that the back is higher, the seat larger, and four extra rails forming the arms are added. The latter may be upholstered, or not, according to the design of the chair; turned spindles are sometimes inserted between them and the seat. The back of the arm-chair is sometimes slightly curved, and the seat may be made ',\n",
       " 'oak, the legs being square and tapering, the side and back rails flat, and the latter slightly curved. The wood may be darkened with ammonia, or stained darkgreen, and the seat upholstered in leather. The backs of chairs of this type are not upholstered, but are generally made with top and bottom rails, the intermediate ',\n",
       " 'In office chairs and others of a similar type the four legs are mortised to the wooden seat, which is made slightly hollow towards the middle part. The curved back is made up of several pieces, which are cut to form a curve and mortised or doweled together. It is attached to the seat by a series of turned or square vertical bars fixed by mortises, the two at the ends in front being stouter than the others. An extra piece of curved wood with a rounded edge is sometimes fixed to the middle part of the top of the back to serve as a shoulder-rest. When the seat is made to swivel round, the legs bend inwards, and meet at a small block of wood faced with metal, upon which the seat revolves. Office chairs are sometimes slightly upholstered instead of being left altogether plain. ',\n",
       " 'The framework of an easy-chair is almost the same as that of an arm-chair, but the side rails which support the seat are much wider, the legs are shorter and thicker, and the seat stretches farther back. The back is not so high, and is made to slope slightly. The space between the arms and seat may be left open, filled with carved or turned work, or covered with upholstery. Some settees are made after the manner of large easy-chairs, wide enough to contain two or three persons; the framework of such is the same, but the seat and back are strengthened by additional crosspieces. ',\n",
       " 'Music Stools. — These are made either with a fixed top, or with a top that can be raised. The former have four legs and the top is round or square. The legs sometimes slope slightly outwards towards the feet to obtain greater stability. In the plainer kind of stool, ',\n",
       " \"y 2 -'mch boards with moulded edges, and of round, square, or oblong shape. If round, it is turned on the lathe out of one piece. If it is to be upholstered, a ^-inch rebate is cut all round, and the upholstery is fastened to it with brass-headed nails and finished off with gimp. The legs are either square or turned, and are screwed into the under side \",\n",
       " 'of the seat ; they are strengthened near the lower ends by turned cross-rails. The coarse screws cut at the top of the legs are not turned on the lathe when they are being shaped, but are made subsequently with the aid of a \"box-screw.\" This is a rectangular block of wood with a handle at either end, and pierced by a hole in which a female screw corresponding to the male screw is cut. The top end of the leg is turned down for about Ij4 or 2 inches till it fits into one end of the hole, when it is pushed in and turned round at the same time, the screw being cut by a small knife inside. This method of joining legs is only used for light pieces of furniture and fancy tables, the legs beingusually attached by mortise-and-tenon joints. ',\n",
       " 'Stools with movable seats have a stout turned pillar to with three curved feet are fastened by mortise-andtenon joints, meeting it about 6 inches from the ground. The top of the pillar is cut off flat and a hole 9 inches deep bored down it. A steel female screw is fixed into this, and a corresponding male screw about 9 inches long is fastened to the under side of the top. The latter is always circular and upholstered. ',\n",
       " 'Sofas and Settees. — The framework of a sofa is shown in No. 1, Fig. 185. The four legs, which are represented simply as square blocks of wood, are fitted to the front and back rails with mortise-and-tenon joints. The upper part where the mortises are cut is generally made pretty stout to ensure strength, and ',\n",
       " 'any resulting clumsiness is concealed by the upholstery. The lower part is tapered, carved, or turned. The front and back rails are strengthened by an additional crosspiece placed midway, and a similar cross-piece is fitted to the back, which is otherwise similar to the arm of an easy-chair. A method of fastening the head of the sofa is shown in the illustration; it consists of two rails mortised to the front and back legs in a slanting position, and strengthened by two cross-pieces. These rails are generally carved, and the front edges of both moulded. The outside of the front rail may also be carved. The top rail of the back is sometimes curved downwards until it meets the back rail of the lower frame, being made of two or more pieces mortised or doweled together. The space between the two is sometimes rilled with turned bars. In order to obtain lightness, each pair of legs is sometimes joined by two slight rails placed 2 or 3 inches apart instead of by a solid rail. ',\n",
       " 'The framework of the simple square settee is shown in No. 2, Fig. 185. As all the woodwork of this is usually hidden by upholstery which reaches nearly down to the floor, it is made of common wood and receives no high degree of finish. The four legs are turned at the lower end and left square at the upper. The four rails which form the seat are mortised into the sides of the legs, as are also the three rails which form the back and ends. ',\n",
       " 'The back can be further strengthened, if necessary, by inserting two diagonal bars. These settees are made in a great variety of forms, from that above described to the lighter and more elegant pieces of furniture which are embellished with turned work and only partly upholstered. Sometimes the four legs which form the end-pieces are turned and the seat-frame inserted in notches cut in these, and so upholstered that the lower part of the latter and all the legs are visible. ',\n",
       " 'Settees for billiard-rooms are framed similarly to arm-chairs (see No. 2, Fig. 184). They are generally made about 6 or 7 feet long, and either straight or bent to suit corners. The woodwork of a billiard-room settee is shown in Fig. 186. The parts are more massive than those of ordinary settees. The legs are made of 3-in. scantling, those at the front being turned, whilst the other pair are bent slightly backwards. The settee stands on a platform about 8 inches high, and of such and sides. The two front corners of the platform are slightly rounded. When the settee is not intended to be placed on a platform, the legs are made longer and a foot-rest is fastened to the front about 6 inches from the floor. This is made of i-inch stuff with rounded edges ; it is fastened at the back into grooves cut in the front legs, and in front is supported on stout turned feet. ',\n",
       " 'Seats for railway-stations, waiting-rooms, public offices, &c, are made in the same manner as billiard',\n",
       " 'or settle in darkened oak, suitable for a hall. The sides are made of ij/2 or 2-inch stuff, and grooves are cut in them to receive the seat, which is the same thickness. The seat is y 2 inch less in width than the sides, and comes up flush at the front, thus leaving a space Yi inch wide for the back. It may be attached to the sides by cutting at each end a rounded tenon 2 inches wide. These tenons project about ij^ inch through mortises cut in the end-pieces. Half-round holes are cut through these projecting pieces so that they are flush with the sides. When the seat is in its place, a peg made by cutting a piece of tapering turned wood in a longitudinal ',\n",
       " 'direction is hammered in tight. This is shown in the illustration, and holds the sides and seat firmly together. To form the back, two horizontal rails are dovetailed to the sides, one at the bottom and the other at the top. The inner edges of these are grooved to fit a series of vertical boards, which are J^ inch thick and chamfered at the edges. The top edge of the settle is moulded or left square. ',\n",
       " 'Some settles are made five or six feet high. The back of these is upholstered for about 3 feet above the seat, and the remainder of the space is filled with solid or fretted panels. A narrow shelf for china, &c, is sometimes fixed near the top. ',\n",
       " 'Settles (No. 2, Fig. 187) are sometimes made of only two end-pieces and a seat. The former are made of 1 y* -inch oak, cut to any suitable shape. Settles of this kind serve as seats or for holding large pieces of china. ',\n",
       " 'Another kind of settle which is very suitable for halls, has a seat 4 or 5 feet wide, and arms at the ends. The lower part forms a box, and is 1 foot deep, the lid being the seat. The sides and back are similar to those of an arm-chair. The four legs are usually of 2-inch scantling; the two back legs project above the seat and are joined by two horizontal i-inch rails, one at the top and the other nearly at the level of the seat. Two rails, which are fitted with panels, join each pair of legs and form the sides of the box. Panels of ^ -inch stuff are grooved to these. The framing of the lid is formed of ',\n",
       " 'i-inch stuff, and is 2 or 3 inches wide. This kind of settle may be left plain, or finished with flat or chip carving. ',\n",
       " 'Settles which are intended for drawing-rooms are similar in structural details to those made for the hall, but they are much lighter, and the greater part of the back and sides is upholstered. Many are fitted with a narrow shelf at the top, and the back is curved instead of being square. ',\n",
       " 'Staining is the process of imparting to the surface of wood a color different from its natural one. It consists of two varieties, surface-staining and body-staining. In the former, as the name implies, the staining is effected by various compounds in the nature of pigments, laid upon the surface like paint, and forming a thin opaque coating, which does not, to any considerable degree, affect the fibre of the wood. In the latter the changes are chemical, the stain being usually applied as a thin wash, which, entering the pores of the wood, colors it to some depth below the surface. Staining requires no preliminary preparation, the stain being applied directly to the wood. As most stains raise the grain of the wood to a considerable extent, it is necessary before applying the varnish, to sand-paper the wood enough to render the grain quite smooth; this sometimes renders a second coat necessary, after which the sand-paper must be again applied. ',\n",
       " 'A Good Black Stain. — I. Gall-nuts coarsely broken, 2 ounces; rain water, i quart; boil until reduced onehalf. 2. White vinegar, I pint ; iron filings, 2 ounces ; antimony (powdered) 2 ounces; vitriol, i ounce; logwood, a small handful. Infuse in bottle eight days, tying the cork down. To stain a piece of wood, give the wood a coating of No. i, which acts as a mordant; ',\n",
       " 'Another. — Boil y 2 lb. of chip logwood in 2 quarts of water, add 1 oz. of pearl-ash, and apply it hot to the work with a brush; then take y> lb. of logwood, boil it as before in 2 quarts of water, and add y 2 oz. of verdigris and y 2 oz. of copperas; strain it off, put in y 2 lb. of rusty steel filings, and with this go over the work a second time. ',\n",
       " 'Another. — Boil the extract of logwood in water, and to it add slowly a little of the yellow prussiate of potash. Brush on hot. ',\n",
       " 'Another. — Boil 1 lb. logwood in 4 quarts of water; add a double handful of walnut-peel or shells, boil it up again, take out the chips, add a pint of the best vinegar and it will be fit for use ; apply hot. This will be improved by applying over the first stain a solution of one ounce of green copperas in a quart of water. ',\n",
       " 'Other Black Stains. — 1. Drop a little sulphuric acid into a small quantity of water; brush over the wood and hold it to the fire ; it will be a fine black and receive a good polish. 2. For a beautiful black, on wood, nothing can exceed black japan. Apply two coats; after which, varnish and polish it. 3. To 1 gallon vinegar, add a quarter of a pound of iron rust; let it stand for a week ; then add a pound of dry lamp-black, and three-quarters of a pound copperas; stir it up for a couple of days. Lay on five or six coats with a sponge, ',\n",
       " \"allowing it to dry between each ; polish with linseed oil and a soft woollen rag, and it will look like ebony. 4. Vinegar, y 2 gal. ; dry lamp-black, y 2 lb. ; iron rust sifted, 3 lbs. ; mix and let stand for a week. Lay three coats of this on hot, and then rub with linseed oil, and you will have a fine deep black. 5. Add to the above stain nut-galls, 1 oz. ; logwood chips, y 2 lb. ; copperas, J4 lb. ; lay on three coats ; oil well, and you will have a black stain that will stand any kind of weather, and is well adapted for ships' combings, etc. 6. Logwood chips, y 2 lb.; Brazil-wood, % lb.; boil for 1^2 hours in 1 gallon water. Brush the wood with this decoction while hot; make a decoction of nut-galls, by gentle simmering for three or four days, a quarter of a pound of the galls in 3 qts. water ; give the wood three coats, and, while wet, lay on a solution of sulphate of iron (2 ozs. to a quart), and, when dry, oil or varnish. 7. Give three coats with a solution of copper filings in aquafortis, and repeatedly brush over with the logwood decoction until the greenness of the copper is destroyed. 8. Boil y 2 lb. logwood chips in 2 quarts water ; add an ounce of pearlash, and apply hot with a brush. Then take 2 quarts of the logwood decoction, and y 2 oz. of verdigris, and the same of copperas; strain, and throw in y 2 lb. of iron rust. Brush the work well with this, and oil. \",\n",
       " 'Brown Stain. — Boil 1 lb. of the brown pigment called Terre de Cassel with 4 quarts of water, until it is re',\n",
       " 'duced one-third. Mix two ounces (Troy) of white potash with sufficient water to dissolve it, and mix with the Terre de Cassel. This stain must be applied with a brush, two or even three times, according to the depth of the shade required. ',\n",
       " 'Walnut Stain. — Mix together, by stirring, i quart spirits of turpentine, I pint asphaltum varnish, i pint of japan, i lb. dry burnt umber, i lb. dry Venetian red; apply with a brush. This stain is transparent, and allows the grain of the wood to show through. ',\n",
       " 'Another. — Boil iyi ounces of washing-soda, and %. ounce bichromate of potash, in i quart of water; add 2y 2 ounces Vandyke brown. This stain may be used either hot or cold. ',\n",
       " 'Another. — With a brush apply a thin solution of permanganate of potassa in water, until the desired color is produced, allowing each coat to dry before another is applied. ',\n",
       " 'Oak Stain. — Add to a quart of water 2 ounces each of potash and pearlash. This is a very good stain, but it should be used carefully as it blisters the hands and softens brushes. The stain may be made lighter by adding more water. ',\n",
       " 'Liquid ammonia laid on evenly with a rag or brush will deepen the color immediately, and it will not fade, this being an artificial production of result produced naturally by age. ',\n",
       " 'Bichromate of potash, dissolved in cold water, and applied with a brush, will produce a similar result. ',\n",
       " 'Rosewood Stain. — Mix in a bottle ]/\\\\ lb. of extract of logwood, i oz. salts of tartar, and i pint of water; in another bottle, put i lb. of old iron in small pieces, and i pint of vinegar, which, after standing twentyfour hours, will be ready for use; make a hard stiff brush with a piece of rattan sharpened at one end in a wedge shape, pounding it so as to separate the fibre. Mix in i pint of varnish, *4 lb. of finely-powdered rosepink. The materials are now ready, and the first thing in the process is to stain the wood with the logwood stain; give two coats of this, allowing the first to become nearly dry before applying the second; then dip the rattan brush in the vinegar, and with it form the grain, after which give the work a coat of the varnish and rose pink. There can be no definite directions given for graining, except to study the natural wood and imitate it as near as possible. With the above materials skilfully applied, any common wood can be made to resemble rosewood so nearly that it will take a good judge to distinguish the difference. ',\n",
       " 'Another. — Boil i lb. of logwood in i gallon of water, add a double handful of walnut shells, boil the whole again, strain the liquor and add to it I pint of the best vinegar. It is then ready for use. Apply it boiling ',\n",
       " 'hot, and when the wood is dry, form red veins in imitation of the grain of rosewood with a brush dipped in the following solution: Nitric acid, i pint; metallic tin, i oz. ; sal ammoniac, i oz. Mix and set aside to dissolve, occasionally shaking. ',\n",
       " 'Cherry Stain. — Mix together, by stirring, i quart of spirits of turpentine, i pint of varnish, and i lb. of dry burnt sienna ; apply with a brush, and after it has been on about five minutes wipe it off with rags. This stain takes about 12 hours to dry. ',\n",
       " \"Another Cherry Stain. — Take 1 quart alcohol, 2 ozs. of dragon's-blood; pulverize the latter along with J4 oz. of alkanet root ; mix, and let stand in a warm place a couple of days. Shake frequently in the meantime. Apply with a sponge or brush. Two or three coats may be required. This makes a fine stain. \",\n",
       " 'Red Stain for Common Work. — Archil will produce a very good stain of itself when used cold, but if after one or two coats have been applied and suffered to get almost dry, it is brushed over with a hot solution of pearlash in water, it will improve the color. ',\n",
       " 'Mahogany Stain. — To darken mahogany, apply a weak solution of bichromate of potash in water. Apply successive coats, allowing each to dry, until the required shade is secured. ',\n",
       " 'Surface Stains. — The following are for the most part used to apply to woods of inferior quality, to make them resemble choicer woods. The colors are all to be ',\n",
       " 'mixed with very thin glue size, laid on warm with a soft woollen material, and the wood wiped dry after application. All the colors used in staining should be well pulverized, and before use the liquid should be strained. ',\n",
       " 'Imitation Walnut Stain. — Burnt umber and yellow ochre, mixed in proportions to give desired shade. ',\n",
       " 'Fine Crimson Stain. — Boil i lb. of good Brazil dust in 3 quarts of water for an hour; strain it, and add y 2 oz. of cochineal;, boil it again gently for half an hour, and it will be fit for use. ',\n",
       " 'If you will have it more of a scarlet tint, boil half an ounce of saffron in a quart of water for an hour, and pass over the work previous to the red stain. ',\n",
       " 'Fine Blue Stain. — Into i lb. of oil of vitriol (sulphuric acid) in a clean glass phial, put 4 ozs. of indigo, and proceed as above directed in dyeing purple. ',\n",
       " 'Yellow Stain. — Dissolve y lb. tumeric in 1 pint alcohol; let it stand until the tumeric settles to the bottom. ',\n",
       " 'Another. — A small piece of aloes added to the varnish will have all the effect of a bright yellow stain. ',\n",
       " 'To Brighten Stains. — Ary of the stains named (except the surface stains) will be rendered much more brilliant by an application of the following : 1 oz. nitric acid, y teaspoonful muriatic acid, y oz. grain tin, 2 ozs. rain water. Mix in a bottle, at least two days before using, and keep the bottle well corked. ',\n",
       " 'Dyeing wood is mostly applied for the purpose of veneers, while staining is more generally had recourse to to give the desired color to the article after it has been manufactured. In the one case, the color should penetrate throughout, while in the latter the surface is all that is essential. ',\n",
       " 'In dyeing, pear-tree, holly and beech, take the best black; but for most colors, holly is preferable. It is also best to have wood as young and as newly cut as possible. After the veneers are cut, they should be allowed to lie in a trough of water for four or five days before they are put into the copper ; as the water, acting as a purgative to the wood, brings out an abundance of slimy matter, which must be removed, or the wood will never be a good color. After this purificatory process, they should be dried in the open air for at least twelve hours. They are then ready for the copper. By these simple means the color will strike much quicker, and be of a brighter hue. It would also add to the improvement of the colors, if, after the veneers have boiled a few hours, they are taken out, dried in the air, and again immersed in the coloring copper. Always dry veneers in the open air, for fire invariably injures the colors. ',\n",
       " 'Fine Black Dye. — Put 6 lbs. of chip logwood into the copper, with as many veneers as it will conveniently ',\n",
       " 'hold, without pressing too tight ; fill it with water, and let it boil slowly for about three hours; then add half a pound of powdered verdigris, half a pound of copperas, and 4 ounces of bruised nut-galls ; fill the copper up with vinegar as the water evaporates; let it boil gently two hours each day till the wood is dyed through. ',\n",
       " \"Another. — Procure some liquor from a tanner's pit, or make a strong decoction of oak bark, and to every gallon of the liquor add a quarter of a pound of green copperas, and mix them well together; put the liquor into the copper, and make it quite hot, but not boil ; immerse the veneers in it, and let them remain for an hour ; take them out, and expose them to the air till it has penetrated its substance ; then add some logwood to the solution, place the veneers again in it, and let it simmer for two or three hours; let the whole cool gradually. dry the veneers in the shade, and they will be a very fine black. \",\n",
       " 'Fine Blue Dye. — Into a clean glass bottle put i lb. of oil of vitriol, and 4 ozs. of the best indigo pounded in a mortar (take care to set the bottle in a basin or earthen glazed pan, as it will ferment) ; then put the veneers into a copper or stone trough ; fill it rather more than one-third with water, and add as much of the vitriol and indigo (stirring it about) as will make a fine blue, which may be known by trying it with a piece of white paper or wood. Let the veneers remain till the dye has struck through. ',\n",
       " 'The color will be much improved if the solution of indigo in vitriol be kept a few weeks before using it. The color will strike better if the veneers are boiled in plain water till completely soaked through, and then allowed for a few hours to dry partially, previous to being immersed in the dye. ',\n",
       " 'Another. — Throw pieces of quicklime into soft water ; stir it well ; when settled, strain or pour off the clear part; then to every gallon add ten or twelve ounces of the best turnsole; put the whole into the copper with the veneers, which should be of white holly, and prepared as usual by boiling in water; let them simmer gently till the color has sufficiently penetrated, but be careful not to let them boil in it, as it would injure the color. ',\n",
       " 'A Fine Yellozv Dye. — Reduce 4 lbs. of the root of barberry, by sawing, to dust, which put in a copper or brass trough ; add 4 ozs. of turmeric and 4 gallons of water, then put in as many white holly veneers as the liquor will cover; boil them together for three hours, often turning them ; when cool, add 2 ozs. of aquafortis and the dye will strike through much sooner. ',\n",
       " 'A Bright Yellow Dye. — To every gallon of water necessary to cover the veneers, add 1 lb. of French berries; boil the veneers till the color has penetrated through ; add to the infusion of the French berries, the liquid for brightening colors given on page 43, and let the veneers remain for two or three hours, and the color will be very bright. ',\n",
       " 'Bright Green Dye. — Proceed as in either of the previous receipts to produce a yellow; but instead of adding * aquafortis or the brightening liquid, add as much vitriolated indigo (see page 44) as will produce the desired color. ',\n",
       " 'Green Dye. — Dissolve 4 ozs. of the best verdigris, and of sap-green and indigo half an ounce each, in 3 pints of the best vinegar ; put in the veneers, and gently boil till the color has penetrated sufficiently. ',\n",
       " 'The hue of the green may be varied by altering the proportion of the ingredients ; and it is advised, unless wanted for a particular purpose, to leave out the sapgreen, as it is a vegetable color very apt to change, or turn brown, when exposed to the air. ',\n",
       " 'Bright Red Dye. — To 2 lbs. of genuine Brazil dust, add 4 gallons of water ; put in as many veneers as the liquor will cover ; boil them for three hours ; then add 2 ozs. of alum, and 2 ozs. of aquafortis, and keep it lukewarm until it has struck through. ',\n",
       " 'Red Dye. — To every pound of logwood chips, add 2 gallons of water; put in the veneers, and boil as in the last ; then add a sufficient quantity of the brightening liquid (see page 43) till you see the color to your mind; keep the whole as warm as the finger can be borne in it, till the color has sufficiently penetrated. ',\n",
       " 'The logwood chips should be picked from all foreign substances, with which it generally abounds, as bark, dirt, etc. ; and it is always best when fresh cut, which ',\n",
       " 'may be known by its appearing of a bright-red color; for if stale, it will look brown, and not yield so much coloring matter. ',\n",
       " 'Purple Dye. — To 2 lbs. of chip logwood and half a pound of Brazil dust, add 4 gallons of water, and after putting in the veneers, boil them for at least three hours ; then add 6 ozs. of pearlash and 2 ozs. of alum ; let them boil for two or three hours every day, till the color has struck through. ',\n",
       " 'The Brazil dust only contributes to make the purple of a more red cast ; you may, therefore, omit it, if you require a deep bluish purple. ',\n",
       " 'Another. — Boil 2 lbs. of logwood, either in chips or powder, in 4 gallons of water, with the veneers ; after boiling till the color is well struck in, add by degrees vitriolated indigo (see page 44) till the purple is of the shade required, which may be known by trying it with a piece of paper ; let it then boil for one hour, and keep the liquid in a milk-warm state till the color has penetrated the veneer. This method, when properly managed, will produce a brilliant purple, not so likely to fade as the foregoing. ',\n",
       " 'Liquid for Brightening and Setting Colors. — To every pint of strong aquafortis, add 1 oz. of grain tin, and a piece of sal ammoniac of the size of a walnut; set it by to dissolve, shake the bottle round with the cork out, from time to time; in the course of two or three days it will be fit for use. This will be found an ',\n",
       " 'admirable liquid to add to any color, as it not only brightens it, but renders it less likely to fade from exposure to the air. ',\n",
       " 'Orange Dye. — Let the veneers be dyed by either of the methods given in page 45, of a fine deep yellow, and while they are still wet and saturated with the dye, transfer them to the bright red dye as in page 45, till the color penetrates equally throughout. ',\n",
       " 'Silver Gray Dye. — Expose to the weather in a castiron pot of six or eight gallons, old iron nails, hoops, etc., till covered with rust ; add 1 gallon of vinegar and 2 of water, boil all well for an hour; have the veneers ready, which must be hard-wood (not too dry), put them in the copper used to dye black, and pour the iron liquor over them; add 1 lb. of chip logwood and 2 ozs. of bruised nut-galls ; then boil up another pot of the iron liquor to supply the copper with, keeping the veneers covered, and boiling two hours a day, till the required color is obtained. ',\n",
       " 'Gray Dye. — Expose any quantity of old iron, or what is better, the borings of gun-barrels, etc., in any convenient vessel, and from time to time sprinkle them with spirits of salt (muriatic acid) diluted in four times its quantity of water, till they are very thickly covered with rust; then to every six pounds add a gallon of water, in which has been dissolved two ounces of salt of tartar ; lay the veneers in the copper, and cover them with this liquid; let it boil for two or three hours till ',\n",
       " 'well soaked, then to every gallon of liquor add a quarter of a pound of green copperas, and keep the whole at a moderate temperature till the dye has sufficiently penetrated. ',\n",
       " 'Gilding, Silvering and Bronzing are processes of applying to previously prepared surfaces a thin layer of gold or silver leaf, or in bronzing, of a fine powder, prepared from various metals and intended to imitate the peculiar appearance of genuine bronze. The processes of gilding and silvering being identical, the description of one will suffice to explain the other. ',\n",
       " 'Gilding. — Gold leaf, applied to articles of furniture as a means of decoration, is used in two ways; it is applied over an ordinary varnish or other finish, in which case but little special preparation is necessary; or, as when used for picture frames, cornices, etc., it is applied to a specially prepared foundation, the basis of which is whiting, mixed with various other ingredients suggested by experience or fancy. In either case, the gold leaf is caused to adhere to the work, by size specially prepared for the purpose, receipts for which follow herewith; the size being first applied to the work, and when it has become of the right consistency, the gold is laid upon it. Oil-Gilding and Burnish-Gilding are different methods used to obtain certain desired effects, the former principally for articles exposed to the weather, and for heightening the effect of incised carving or engraving, and the latter for picture-frames and articles having a specially prepared foundation, whose entire surface is. to be gilded. It is intended that the ',\n",
       " 'gold shall adhere to the work only in the places to which the size has been applied, but the smallest portion of oil or even a slight dampness may cause the gold to partially adhere to the adjoining surface, resulting in slightly ragged edges; to prevent this, before applying the size to the desired design, the entire surface is covered with a thin film of some substance perfectly free from moisture, and easily removable by water, after completion of the process. Directions regarding this preliminary process are given under the caption: To Prevent Gold Adhering. ',\n",
       " 'The Requisites. — First, a sufficient quantity of leafgold, which is of two sorts — the deep gold, as it is called, and the pale gold. The former is the best; the latter very useful, and may occasionally be introduced for variety or effect. ',\n",
       " \"Second, a gilder's cushion : an oblong piece of wood, covered with rough calf-skin, stuffed with flannel several times doubled, with a border of parchment, about four inches deep, at one end, to prevent the air blowing the leaves about when placed on the cushion. \",\n",
       " \"Fourthly, several camel-hair pencils in sizes, and tips, made of a few long camel's hairs put between two cards, in the same manner as hairs are put into tin cases for brushes, thus making a flat brush with a very few hairs. \",\n",
       " 'Sizes. — These are of two kinds: oil sizes are those which when applied, present an adhesive surface, requiring the immediate laying of the gold-leaf upon it ; of this class is the oil-size commonly used in decorating furniture; water-sizes are those that are allowed to become dry and hard when applied, and are rendered adhesive when the gold is to be laid, by brushing over with water; for burnish-gilding these are always employed, as oil-size does not dry sufficiently hard to permit of burnishing. ',\n",
       " 'Oil-Size for Oil-Gilding. — Grind calcined red-ochre with the best and oldest drying-oil. When desired for use, add sufficient oil of turpentine to make it work freely. ',\n",
       " 'Parchment-Size. — For preparing Frames, etc. — To half a pound of parchment shavings, or cuttings of white leather, add three quarts of water, and boil it in a proper vessel till reduced to nearly-half the quantity; then take it off the fire, and strain it through a sieve. Be careful in the boiling to keep it well stirred, and do not let burn. ',\n",
       " 'Gold-Size for Burnish-Gilding. — Grind fine salammoniac well with a muller and stone ; scrape into it a little beef suet, and grind all well together; after which, mix in with a pallet-knife a small proportion of parchment-size with a double proportion of water. ',\n",
       " 'Another. — Grind a lump of tobacco-pipe clay into a very stiff paste with thin size ; add a small quantity of ruddle and fine black lead, ground very fine, and temper the whole with a small piece of tallow. When ready to use, reduce with parchment-size until it will just flow from the brush. ',\n",
       " 'Another. — Grind separately in water, i lb. Armenian bole, 2 ozs. red lead, a sufficient quantity of black lead ; mix, and regrind with a small quantity of olive oil. Reduce with parchment-size to the proper consistency. ',\n",
       " 'To Prevent Gold Adhering. — Either one of the following methods will prevent gold-leaf or bronze from adhering to the surface beyond the outlines of the sizing laid on to receive it : ',\n",
       " '2. Whiting mixed in water, and applied with a soft brush. When the water has evaporated, dust off the superfluous whiting with an ordinary paint duster. By this method a very thin coating of whiting remains, which is free from any grittiness. One advantage gained by the use of whiting thus applied is, it furnishes a whitish ground over which clear varnish or oil-size may be distinctly seen as the striping progresses. After the leaf or bronze has been applied, the work must be carefully washed, so as to insure the removal of the whiting. ',\n",
       " '4. A thin wash of starch water, either brushed on with a flat camel-hair brush, or applied with a soft sponge. ',\n",
       " '5. Take ball liquorice and water, a weak solution, and apply with a soft brush. This may be kept in a bottle ready for use at any time. ',\n",
       " '6. Cut a new potato in two, and rub over the part to be sized with the raw face exposed, allowing the juice to remain until dry. ',\n",
       " 'It will be observed that any substance which interposes a film over the varnish, itself being free from tackiness and readily removed by water, will answer the purpose. ',\n",
       " 'Oil Gilding. — Applying the Gold. — If the wood to be gilded is finished with varnish or otherwise, no additional foundation is necessary upon which to lay the gold-leaf; if the wood is not finished, after it has been smoothed and dusted, give it one or two coats of parchment size, after it is perfectly dry and hard, again smoothing the surface with fine sand-paper. That the gold may not adhere to any part of the work except where the size is hard, powder the surface lightly with whiting from a pounce-bag, which is a small bag made of material sufficiently loose to permit the powdered whiting to sift through as fine dust; if preferred, any of the preceding receipts for that purpose can be used ',\n",
       " 'instead. Remove the surplus whiting with the dustingbrush, and the work is then ready for the size. Apply this with a sable or fit brush of the proper size, carefully observing to make the outer lines of the design clear and sharp, that the work may not appear ragged. Let the size remain until it feels tacky, when the gold may be applied. This is the most difficult part of the operation, and experience is necessary before gold-leaf can be laid smoothly without a wrinkle or a break. Turn a leaf of gold out of the book upon the cushion; breathe gently upon the center of the leaf and it will lay flat on the cushion; cut it to the proper size by bringing the knife perpendicularly over it, and sawing it gently until divided. Take your tip (a brush used for the purpose) and after drawing it lightly over your hair to remove any particles of dust that may be upon it, breathe upon it gently, which will dampen it sufficiently to cause the leaf of gold to adhere to it ; lay the tip upon the leaf of gold and carefully transfer it to the work; blow upon it gently and it will straighten out and adhere. It may be rendered quite smooth by slightly dabbing it with a bit of cotton. In about an hour wash off the superfluous gold from the edges, with a sponge and water. If the article is to be exposed to the weather or much wear, the gilding may be varnished with copal varnish. ',\n",
       " 'Burnish-Gilding. — As previously stated, this process requires a specially prepared foundation upon which to ',\n",
       " 'lay the gold, and as the preparation of this foundation is a distinct trade, the furniture dealer or cabinet-maker seldom finds it necessary to undertake it, the articles coming to his hand ready-prepared for gilding; but as in repairing picture-frames, cornices, mirror frames, etc., it frequently becomes necessary to renew the foundation, a comprehensive description of the whole process is given. ',\n",
       " 'Preparing the Wood-work. — After smoothing and dusting the work, coat the frames in every part with boiling-hot parchment-size, as previously described, then mix a sufficient quantity of whiting with size to the consistency of thick cream, and with it by means of a brush, coat every part of the frame several times, permitting each coat to become perfectly dry before proceeding with the next. The wood will thus be covered with a layer of hard whiting nearly or quite a sixteenth of an inch in thickness. The size must not be too thick, and when mixed with the whiting should not be so hot as the preliminary coat of size. ',\n",
       " 'Polishing. — When the prepared frames are quite dry, clean and polish them. To do this, wet a small piece at a time, and, with a smooth, fine piece of cloth, dipped in water, rub the part till all the bumps and inequalities are removed ; and for those parts where the fingers will not enter, as the mouldings, etc., wind the wet cloth round a piece of wood, and by this means make the surface all smooth and even alike. ',\n",
       " 'Where there is carved work, etc., it will sometimes be necessary to bring the mouldings to their original sharpness by means of chisels, gouges, etc., as the preparation will be apt to fill up all the finer parts of the work, which must be thus restored. It is sometimes the practice, after polishing, to go over the work once with fine yellow or Roman ochre; but this is rarely necessary. ',\n",
       " 'Applying the Size. — Select the proper gold size from the receipts previously given ; add parchment size until it will just flow from the brush ; make it quite hot, and apply it to the work with a very soft brush, taking care not to make the first coat too thick ; let it dry and give two or three successive coats, after the last brushing it with a stiff brush to remove any inequalities. The work is then ready for the gold. ',\n",
       " 'Laying the Gold. — The manipulation of the gold-leaf has been described under the heading Oil-Gilding. In the process now being described, the size used (being water-size, which as previously explained is permitted to become hard and dry after being applied) must be moistened to cause the gold-leaf to adhere to it. For this purpose, with a long-haired camel-hair pencil, dipped in water, go over as much of the work as you intend the piece of gold to cover; then lay the gold upon it in the manner previously explained. Be sure that the part to which the gold is applied is sufficiently wet; indeed it must be floating, or the gold will be apt ',\n",
       " 'to crack. Proceed in this manner a little at a time, and do not attempt to cover too much at once, until by experience you are able to handle the gold with freedom. In proceeding with the work, if any flows or cracks appear, immediately apply a portion of gold sufficient to cover them. Sometimes when the gold does not appear to adhere sufficiently tight, it will be necessary to draw a pencil quite filled with water close to the edge of the gold, that the water may run underneath it and soften the size. ',\n",
       " 'Burnishing. — When the work is covered with gold, set it by to dry; there is a particular state or degree of dryness, known only by experience in which the moulding is in a fit state for burnishing ; it will probably be ready to burnish in about eight of ten hours, but it will depend on the warmth of the room or state of the air. ',\n",
       " 'When it is ready, those parts intended to be burnished must be dusted with a soft brush; then wiping the burnisher with a piece of soft wash-leather (quite dry) begin to burnish about an inch or two in length at a time, taking care not to bear too hard, but with a gentle and quick motion, applying the tool until all the parts of the surface are equally bright. ',\n",
       " 'Matting or Dead Gold. — Certain portions only of the work are burnished, according to the fancy, and the facility with which the burnishing-tool can be applied; the remaining parts are now to be deprived of ',\n",
       " 'their metallic lustre, to make a more effective contrast with the burnishing. The parts thus treated are said to be matted or dead-gold. The process is as follows *. ',\n",
       " 'Grind some vermilion or yellow ochre very fine, and mix a very small portion either with the parchment size or with the white of an egg, and with a very soft brush lay it evenly on the parts to be dulled; if well done, it will add greatly to the beauty of the work. Previous to matting, the work must be well cleared of superfluous gold, by means of a soft brush. ',\n",
       " 'Finishing. — In elaborate works it is frequently impossible to lay gold-leaf into all the intricacies of an elaborate design, and the parts thus left bare must be finished by touching up with a small brush charged with shell-gold, or gold-powder, mixed with gum-Arabic to the proper consistency. The following receipt describes the preparation of shell-gold : ',\n",
       " 'Shell Gold. — Take any quantity of leaf-gold and grind it with a small portion of honey, to a fine powder, add a little gum-Arabic and sugar-candy, with a little water, and mix it well together ; let it dry. ',\n",
       " 'Silver She. — Grind pipe-clay fine with a little blacklead and good soap, and add parchment-size as directed for gold-size. ',\n",
       " 'Composition for Frame Ornaments. — The ornaments for gilded mirror-frames, etc., are usually moulded from some plastic substance that is somewhat tougher and more durable than the ordinary gilding founda',\n",
       " 'tion of whiting and size. The proper moulds being prepared they are thoroughly rubbed upon the inside with sweet oil, and the composition firmly pressed in; after removing the mould the cast may be dried by a gentle heat, or while still plastic it can be applied in its proper place and bent into any position. Following are receipts for composition : ',\n",
       " 'Dissolve i lb. of glue in i gallon of water. In another kettle boil together 2 lbs. of resin, 1 gill of Venice turpentine, and 1 pint of linseed oil ; mix altogether in one kettle, and boil and stir till the water has evaporated. Turn the whole into a tub of finely-rolled whiting, and work it till it is of the consistency of dough. ',\n",
       " 'Boil 7 lbs. of best glue in 7 half-pints of water. Melt 3 lbs. of white resin in 3 pints of raw linseed oil. When the above has been well boiled put them into a large vessel and simmer them for half an hour, stirring the mixture and taking care that it does not boil over. The whole must then be turned into a box of whiting rolled and sifted, and mixed till it is of the consistency of dough. ',\n",
       " 'To Manipulate Gold Leaf. — Get a piece of paper, thin enough to show shadow of gold-leaf through, slightly wax.it, lay it on .gold-leaf, the latter will then adhere, and can be easily worked, and will come off clean. The paper should be slightly larger than the gold-leaf, and the fingers passed over the paper to make the gold-leaf adhere. ',\n",
       " 'Bronzing. — This is a process for imitating on metal, plaster, wood, or other material, the peculiar appearance produced by chemical action upon the surface of bronze metal. It is accomplished by spreading over the surface of the material to be ornamented a very thin coating of bronze-powder, which is caused to adhere either by applying it directly upon a coating of any of the sizes mentioned in the foregoing pages, or by mixing with a vehicle, such as gum-Arabic or transparent varnish. The latter is most desirable, as in the other case, being subject to the direct action of the atmosphere, the bronzepowder soon tarnishes. In ornamenting furniture, bronzing is generally employed to represent gilding, a variety of bronze called gold-bronze being used, which affords an excellent imitation but is not very lasting. It is usually applied after the completion of the other finishing processes, the ground work being prepared in the manner described under Oil-Gilding, and the size likewise applied as there described. A small wad of cotton-batting is then dipped in the bronze and passed gently over the sized portions, causing the bronze to adhere. In the other method — that of applying the bronze by means of a vehicle — the preliminaries of whiting the ground and sizing are not necessary, a small quantity of bronze being simply mixed with the vehicle employed to such a degree of fluidity that it will flow easily, and in that condition applied with a fine brush. Many preparations are ',\n",
       " 'used as vehicles, such as transparent varnish thinned with turpentine, gum-Arabic dissolved in water, and gold-size reduced with parchment-size. There are a variety of colors in bronze-powders, and to produce the best effect the size or vehicle should be of a color similar to that of the bronze used; in gold-size the coloring pigment is ochre, and in its place, for greenbronze, red-bronze, or blue-bronze, may be employed respectively verditer, vermilion or Prussian blue, a very small quantity being sufficient. In bronzing on painted work the ground should be as nearly as possible the color of the bronze to be applied. ',\n",
       " 'Glue. — Glue is prepared from waste pieces of skin, horns, hoofs, and other animal offal. These are steeped, washed, boiled, strained, melted, reboiled and cast into square cakes, which are then dried. The strongest kind of glue is made from the hides of oxen ; that from the bones and sinews is weaker. The older the animal the stronger the glue. Good glue should be hard in the cake, of a strong, dark color, almost transparent, free from black or cloudy spots, and with little or no smell. The best sorts are transparent and of a clear amber color. Inferior kinds are sometimes contaminated with the lime used for removing the hair from the skins of which they are made. The best glue swells considerably (the more the better) when immersed in cold water, but does not dissolve, and returns to its former size when dry. Inferior glue made from bones, will, however, dissolve almost entirely in cold water. ',\n",
       " 'To Prepare Glue. — To prepare glue for use it should be broken up into small pieces, and soaked in as much cold water as will cover it, for about twelve hours. It should then be melted in a double glue pot, covered to keep the glue from dirt. Care must be taken to keep the outer vessel full of water, so that the glue shall not burn, or be brought to a temperature higher than that of boiling water. The glue is allowed to simmer for ',\n",
       " 'two or three hours, then gradually melted, so much hot water being added as will make it liquid enough, just to run off a brush in a continuous stream, without breaking into drops. When the glue is done with, some boiling water should be added to make it very thin before it is put away. Freshly-made glue is stronger than that which has been repeatedly melted. Too large a quantity should not therefore be made at a time. Glue may be freed from the foreign animal matter generally in it by softening it in cold water, washing it with the same several times, till it no longer gives out any color, then bruising it with the hand, and suspending it in a linen bag beneath the surface of a large quantity of water at 66° Fahr. By doing this the pure glue is retained in the bag, and the soluble impurities pass through. If the softened glue be heated to 122 without water, and filtered, some other impurities will be retained by the filter, and a colorless solution of glue be obtained. ',\n",
       " 'The addition of a little bichromate of potash will render glue impervious to moisture after exposing to the light, and a small quantity of methylated spirits will greatly improve its keeping qualities. ',\n",
       " 'Mixing Glue. — A minimum amount of glue should be used in good work, and it should be applied as hot as possible. The surfaces of the wood to be united should be clean, dry, and true ; they should be brought together as tightly as possible, so that the superfluous ',\n",
       " 'glue is squeezed out. The cohesion of a piece of solid glue, or the force required to separate one square inch, is four thousand pounds. The strength of common glue for coarse work is increased by the addition of a little powdered chalk. The hotter the glue the greater its cohesion; therefore in all large and long joints the glue should be applied immediately after boiling. Glue loses much of its strength by frequent re-melting ; that glue, therefore, which is newly made, is much preferable to that which has been re-boiled. ',\n",
       " 'Glue Pot. — A glue pot recently perfected consists of a circular kerosene lamp, made of tin, resting upon a tin bottom 8y 2 inches in diameter. The lamp is fitted with a tin chimney in place of glass, and fitted with a small aperture, covered with mica, so as to see how to regulate the flame. The glue pot is made of copper, tinned on the inside and supported upon a rim setting up about six inches from the bottom of the lamp, the rim supported by three legs, soldered and riveted to the rim and bottom of lamp rest. The pot in which the bottom is placed has a portion of the bottom arched, to give more heating surface, and connecting with the chamber under the pot is a flue, passing out and up alongside of the pot, which carries off any smoke from the lamp, and also acts as a draft to the flame. This pot is five inches in diameter, and about six inches high. The pot for the reception of the glue is set in the same as an ordinary glue pot, and will hold about a ',\n",
       " 'quart of glue. The whole can be carried to any place where you wish to use it, and still have the heat kept up. The cost of oil is but a few cents a week. ',\n",
       " 'Another improvement is in the pot being of copper, tinned. It will not corrode and spoil the glue, as is the case with iron. ',\n",
       " 'French cabinet-makers use a glue pot with an inside pan made of glazed earthenware and divided radially into three divisions, in one of which is kept strong glue, in another weaker, and in the third water only, with a brush or piece of sponge for cleaning off superfluous glue from the work. ',\n",
       " 'A few holes bored near the top of the inner vessel of a glue pot by admitting steam from the outer vessel will prevent the glue from solidifying on the side. They need not be bored round the whole circumference of the pot, to allow of pouring out the glue if necessary. ',\n",
       " 'To Prevent Glue Cracking. — Glue frequently cracks because of the dryness of the air in rooms warmed by .stoves. The addition of chloride of calcium to glue will prevent this disagreeable property of cracking. Chloride of calcium is such a deliquescent salt that it attracts enough moisture to prevent the glue from cracking. Glue thus prepared will adhere to glass, metal, etc., and can be used for putting on labels without danger of their dropping off. ',\n",
       " 'Strong Glue to Resist Moisture. — Dissolve gumsandarac and mastic, of each a quarter of an ounce, in ',\n",
       " 'a quarter of a pint of spirits of wine, to which add a\" quarter of an ounce of clear turpentine; now take strong glue, or that in which isinglass has been dissolved; then, putting the gums into a double glue-pot, add by degrees the glue, constantly stirring it over the fire till the whole is well incorporated ; strain it through a cloth, and it is ready for use. You may now return it to the glue pot, and add half an ounce of very finelypowdered glass ; use it quite hot. If you join two pieces, of wood together with it, you may, when perfectly hard and dry, immerse it in water, and the joint will not separate. ',\n",
       " 'Glue to Resist Moisture. — To two quarts of skimmed milk add half a pound of the best glue ; melt them together, taking care they do not boil over, and you will have a very strong glue, which will resist damp or moisture. ',\n",
       " 'Portable Glue. — Boil one pound of the best glue, strain it very clear; boil also four ounces of isinglass; put it into a double glue-pot, with half a pound of fine brown sugar, and boil it pretty thick ; then pour it into plates or moulds. When cold you may cut and dry them for the pocket. ',\n",
       " 'This glue is very useful to draughtsmen, architects* etc., as it immediately dilutes in warm water, and fastens the paper without the process of dampening; or, it may be used by softening it in the mouth/ and applying it to the paper. ',\n",
       " 'How to get fresh air in the glue room during the hot periods of summer, and at the same time not have the disturbing drafts that evaporate thinly-spread glue, is quite a problem. Yet, like many other problems, it is largely a matter of attention to details. . There are various ways of ventilating rooms so as to get fresh air without getting a strong current. The temptation is naturally strong to throw open windows and doors in hot weather, so as to have a breeze, but generally this is the very thing one must guard against. ',\n",
       " 'Some glue rooms that have windows on one side and the other three sides carefully inclosed, may have the windows opened without producing a strong draft, but, even so, it is better to have window screens made of fine, close-meshed wire, something like those used on railway trains to keep out the dust. They will help keep out the dust, keep out the draft, and also keep out insects that are tempted by the odor of the glue to make a visit to the glue room. There are other variations, such as letting down the top windows instead of raising the bottom ones; others in which a box-like arrangement opening upward instead of straight in, is inserted under the window to let in the fresh air and turn it upward instead of across the room. These are mechanical ventilators that can be used for scientifically ventilating a room without producing currents. And ',\n",
       " 'there are, in fact, many ways to get around this draft business, and while their use may deprive the glue room of some of the breeziness that is inviting in summer, still they will furnish fresh air in a manner that is more healthful to those working in it, as well as less damaging to the glue work than strong currents. ',\n",
       " 'To Raise Old Veneers. — First, wash the surface with boiling water, and, with a coarse cloth, remove dirt or grease; then place it before the fire, or heat it with a caul; oil its surface with common linseed-oil, place it again to the fire, and the heat will make the oil penetrate quite through the veneer, and soften the glue underneath ; then, while hot, raise the edge gently with a chisel, and it will separate completely from the ground ; be careful not to use too great force, or the work will be spoiled. Again, if it should get cold during the operation, apply more oil, and heat it again. Repeat this process till the veneer is entirely separated, then wash off the old glue and proceed to lay it again as a new veneer. ',\n",
       " 'To Take Out Bruises in Furniture. — Wet the part with warm water; double a piece of brown paper five or six times, soak it, and lay it on the place ; apply on that a hot flat-iron till the moisture is evaporated. If the bruise be not gone, repeat the process. After two or three applications, the dent or bruise will be raised level with the surface. If the bruise be small, merely soak it with warm water, and apply a red-hot poker very near the surface; keep it continually wet, and in a few minutes the bruise will disappear. ',\n",
       " 'To Make Paste for Laying Cloth or Leather. — To a pint of the best wheaten flour add resin, very finely ',\n",
       " 'powdered, about two large spoonfuls; of alum, one spoonful, in powder; mix them all well together, put them into a pan, and add by degrees soft or rain water, carefully stirring it till it is of the consistence of thinnish cream; put it into a saucepan over a clear fire, keeping it constantly stirred, that it may not get lumpy. When it is of a stiff consistence, so that the spoon will stand upright in it, it is done enough. Be careful to stir it well from the bottom, for it will burn if not well attended to. Empty it out into a pan and cover it over till cold, to prevent a skin forming on the top, which would make it lumpy. ',\n",
       " 'This paste is very superior for the purpose, and adhesive. To use it for cloth or baize, spread the paste evenly and smoothly on the top of the table, and lay the cloth on it, pressing and smoothing it with a flat piece of wood; let it remain till dry; then trim the edges close to the cross-banding. If you cut it close at first, it will, in drying, shrink and look bad where it meets the banding all round. If used for leather, the leather must be first previously damped, and then the paste spread over it; then lay it on the table, and rub it smooth and level with a linen cloth, and cut the edges close to the banding with a short knife. Some lay their table cover with glue instead of paste, and for cloth perhaps it is the best method; but for leather it is not proper, as glue is apt to run through. In using it for cloth, great care must be taken that the glue be ',\n",
       " 'not too thin, and that the cloth be well rubbed down with a thick piece of wood made hot at the fire, for the glue soon chills. By this method, the edges may be cut off close to the border at once. ',\n",
       " 'Cements for Stopping Flaws in Wood. — Put any quantity of fine sawdust of the same wood your work is made with into an earthen pan, and pour boiling water on it, stir it well, and let it remain for a week or ten days, occasionally stirring it; then boil it for some time, and it will be of the consistence of pulp or paste ; put it into a coarse cloth, and squeeze all the moisture from it. Keep for use, and, when wanted, mix a sufficient quantity of thin glue to make it into a paste ; rub it well into the cracks, or fill up the holes in your work with it. When quite hard and dry, clean your work off, and if carefully done, you will scarcely discern the imperfection. ',\n",
       " 'Mahogany-Colored Cement. — Melt two ounces of beeswax and half an ounce of Indian red,, and a small quantity of yellow ochre, to bring the. cement to the desired color ; keep it in a pipkin for use. , ',\n",
       " 'Cement for Turners. — Melt together beeswax, one ounce ; resin, half an ounce ; and pitch, half an ounce ; stir in the mixture some very fine brickdust to give it a body. If too soft, add more resin; if too hard, more wax. When nearly cold, make it up into cakes or rolls, which keep for use. ',\n",
       " 'piece of wood on the chuck, which is done by applying the roller of cement to the chuck and it will adhere with sufficient force. ',\n",
       " 'To Cut Good Steel Scrapers. — Part of the blade of a broken saw makes the best scrapers ; but, as it is hard, it is very difficult to cut it into the required form. The best and most expeditious way is to mark it out to the size wanted, and then to place the blade or steel plate in a vice whose chaps shut very close, placing the mark even with the face of the vise, and the part to be cut to waste above the vise. Then with a cold-chisel, or a common steel-firmer that has its basil broken off, holding it close to the vise and rather inclined upwards, begin at one end of the steel plate, and with a sharp blow of the hammer it will cut it. Keep going on by degrees, and you will with ease cut it to the shape required ; then grind the edges of your scraper level, and finish by rubbing it on your oil stone. ',\n",
       " 'To Clean Oil Paintings. — Wash with a sponge or a soft leather and water, and dry by rubbing with a silk handkerchief. When the picture is very dirty, take it out of its frame, procure a clean towel, and making it quite wet, lay it on the face of the picture, sprinkling it from time to time with clear soft water ; let it remain wet for two or three days ; take the cloth off and renew it with a fresh one; after wiping the picture with a clean wet sponge, repeat the process till all the dirt is soaked out ; then wash it well with a soft sponge, and let ',\n",
       " 'it get dry; rub it with some clear nut or linseed oil. Spirits of wine and turpentine may be used to dissolve the hard old varnish, but they will attack the paint as well as the varnish if the further action of the spirits is not stopped at the proper time by using water freely. ',\n",
       " 'Cleaning Varnished Pictures. — There are conditions where the above simple process will not accomplish what is required ; where a thick coating of varnish has been applied to the picture, and it has been hung in a smoky room, and dust and dirt has been allowed to gather and remain; then it is that no high lights will be visible, the sky will be dirty, no distance visible, and perhaps the figures in the foreground very indistinct. Under these conditions the varnish must be either removed or the smoke and dirt must be brought out of the varnish. If it is thought desirable to try the latter, the following receipt will be found valuable for the purpose: 2 oz. wood naptha, 1 oz. spirits of salts, % pint of linseed-oil. ',\n",
       " 'Mix the above well together, and before using shake the bottle. It can be used as follows : Get some soft linen rag, and make up a soft pad, which place on the mouth of the bottle and shake up some of the mixture into the pad, then commence rubbing the picture with a circular motion, and when nearly dry again give the pad another dressing of mixture, and continue this mode of procedure for some time, when the picture will gradually come out in all its detail. ',\n",
       " \"Cleaning Engravings. — Put the engraving on a smooth board, cover it thinly with common salt finely powdered. Squeeze lemon juice upon the salt so as to dissolve a considerable portion of it; elevate one end of the board so that it may form an angle of about '45 or 50 degrees. Pour on the engraving boiling water from a tea kettle until the salt and lemon juice be all washed off. The engraving then will be perfectly clean and free from stains. It must be dried on the board or some smooth surface gradually. If dried by the fire or the sun it will be tinged with a yellow color. \",\n",
       " 'Cleaning Engravings. — Presuming these to be mounted, proceed in the following manner: Cut a stale loaf in half, with a perfectly clean knife ; pare the crust away from the edges. Now place the engravings on a perfectly flat table, and rubbing the surface with the fresh-cut bread, in circular sweeps, lightly but firmly performed, will remove 1 all superficial markings: Now soak the prints for a short time in a dilute solution of hydrochloric acid,\" say 1 part acid to rocrof water, and then remove them into -a vessel containing a sufficient quantity of clear chloride lime -water to cover them. Leave them there until bleached to the desired point: Now remove, rinse well by allowing to stand an hour in a pan in which a constant stream of water is allowed to flow, and finally dry off by spreading on clean cloths. Perhaps -the sheetsmay -require ironing between two sheets of clean paper; ',\n",
       " 'To Smooth a Damaged Picture. — Paintings sometimes get convex and concave patches on their surface, owing to pressure on one side or the other, and these inequalities cause a great deal of trouble to bring out. The most successful way is to well wet both sides of the picture on the spot, and keep it under pressure till dry. With small pictures the quickest way would be to take them off the stretcher and lay them in a press, with a light pressure between soft sheets of paper. ',\n",
       " 'Embossed Gilding for Illuminating. — Gilding of figures and letters on paper and for the embellishment of manuscripts, is performed with shell gold tempered with gum water; or the characters may be drawn with a milky solutionof gum ammanacum made in water, and ^old leaf applied upon them when almost dry ; they may again be sufficiently moistened for receiving the gold by breathing on them. Letters raised from the surface, if paper or parchment in the manner of embossed work, such as are seen on ancient manuscripts, may be formed either by friction on a proper body with a solid piece of gold, or by leaf gold. ',\n",
       " \"The former method is practiced by tempering pulverizers' crystal with strong gum water, and with this paste forming the letters ; when they are dry, they are rubbed with a piece of solid gold as in polishing, and the letters will appear as if gilt with burnished gold. The letters are formed with an embossed figure, either of the separate letters or of whole words cut in steel, \",\n",
       " 'and each letter of these stamps when they are used, is oiled evenly with a feather. Then fill these concave letters with the above paste, and strike the stamps in a perpendicular direction on the paper or vellum laid on sheets of soft paper. ',\n",
       " 'When the embossed letters are formed with leaf gold, the following or a similar composition must be used. Thicken beaten whites of eggs with as much vermilion as is necessary to give them the consistence of paste ; use the stamps as before, and when the letters are dry moisten them by a small pencil with strong gum water, and when this is almost dry cover the letters with leaf gold, pressing it close to every part of them with cotton wood ; when dry, burnish. ',\n",
       " 'Skip to main content Search UPLOAD SIGN UP | LOG IN BOOKS VIDEO AUDIO SOFTWARE IMAGESABOUT BLOG PROJECTS HELP DONATE  CONTACT JOBS VOLUNTEER PEOPLE Search Metadata Search text contents Search TV news captions Search radio transcripts Search archived websitesAdvanced SearchSign up for freeLog inFull text of \"The practical cabinet maker and furniture designer\\'s assistant, with essays on history of furniture, taste in design, color and materials, with full explanation of the canons of good taste in furniture ..\"See other formats^ ',\n",
       " 'HISTORY OF FURNITURE, TASTE IN DESIGN, COLOR AND MATERIALS, WITH FULL EXPLANATION OF THE CANONS OF GOOD TASTE IN FURNITURE ',\n",
       " 'Together with Many Practical Directions for Making Cabinet Work Generally, and a Number of Pieces of Furniture in Particular, along with Hundreds of Recipes for Finishing, Staining, Varnishing, Polishing and Gilding all kinds of Cabinet Work :: :: :: ',\n",
       " 'Author of \"Practical Treatise on the Steel Sojmrk,\" \"Modern Carpentry,*\\' \"Hardwood Finisher, Wood-Carving,\" Etc., Etc. ',\n",
       " 'In preparing this work, I think it unnecessary to waste time and space in publishing a preface, which would at least occupy from three to five pages, and which at best, would be of little service to my readers ; so I will content myself, and perhaps serve my readers better by inserting in these remarks the gist of what would be expected to appear in a preface, along with other material that may be both interesting and useful. ',\n",
       " 'In these days, specialization in \"Furniture-making\" has in a great measure robbed the trade of many of its charms, as well as its claims to the dignified position it once held. ',\n",
       " 'In the \"good old times\" every man who could hold up his head and say truthfully \"I am a CabinetMaker,\" meant that he had given long years of apprenticeship to every branch and every detail of the business. His assertion, when interpreted, meant \"that he could take timber, saw it, plane it, mould it, glue it, veneer it, join it, carve it, finish it, and upholster it, all by hand.\" It meant a full knowledge of everything connected with the manufacture from the entrance to the yard and to that of the wareroom. What might be expected of such workmen, in the way of completeness ',\n",
       " 'and thoroughness, could be had for the hiring. Their experience was indelibly stamped upon their work. ',\n",
       " 'Invention has disarranged this most certainly. The labor-saving machinery of later years has dispensed with something of the old-time necessity. Circular saws, jig and band saws, stickers, planers, jointers, carvers, and the many contrivances, for economizing time, have made those long terms of apprenticeship in a measure, unnecessary, and to-day men are not Cabinet-Makers in the sense we have referred to, but they are competent to do either circular-sawing, band-sawing, moulding, or planing, etc., alone, and but little else. This subdivision of labor has been the outgrowth of the advance of invention. ',\n",
       " 'Often you will have among your applicants for work, men who belong to both classes — representatives of the \"old school\" as it were, and fledgelings who, having rubbed furniture three months in some manufactory, and consider themselves fit subjects for a diploma. It will be found to be advantageous to mix these two elements. Each has claims which are worthy of consideration. The former class, from having been drilled so faithfully in every department of the work; although, workmen of this class are apt to be wedded a little too firmly to the methods in use when they were apprentices. Workmen of the latter kind are progressive, and restless under restraint; perhaps a little too much so sometimes. But the two average well, and the ',\n",
       " 'The bench hands, bear in mind, must be men of experience, with this quality more or less extended as the quality of the work may require. In cases where most of the work is machine work, the manufacturer will readily perceive that he can, with advantage to himself, engage the services of a class of men whose knowledge is confined exclusively to the machine they pledge themselves to run. Migratory workmen are a curse to themselves and the manufacturer. They are the best examples of the saying: \"A rolling stone gathers no moss.\" ',\n",
       " 'The close subdivision of work in our best manufactories is conducive to uniform and generally good results, that is, that the tools and machines produced are of equable quality and uniform in build. ',\n",
       " 'The system that includes the individual workman only as the intelligent part of the machinery is admirable as making him an exact reproducing agent, and consequently aiding in uniform results ; but it is to be questioned whether it is the best plan to make intelligent practical machines. It may be that possible excellence by it will be sacrificed to tolerable uniformity. Good mechanics of fifty-five years ago have little sympathy with a system that lowers the status of mechanical conditions to the level of the machine attendant, or the monotonous worker at a single branch. This system is ',\n",
       " \"not consonant with the freedom of individual endeavour that seems to be a part of the American mechanics' aspirations. \",\n",
       " 'After all the old-time job shop was about as reasonable a school as the embryo mechanic could desire. The foreman of one of the best known establishments in this country recently died. In conversation long ago he stated that his intimate knowledge of the different departments of the work was got from his experience in a \"job shop,\" where he had a chance at everything, from the lathe to the carving room. He made his own drawings (sketches), and frequently made his own designs. These accomplishments may have been crude, but they gave him the idea of how a job should be done, as well as what was to be accomplished. He was an example of one sort of a practical mechanic, of which there should be more. ',\n",
       " 'Since the grand art movement, of which Victor Hugo\\'s \"Notre-Dame de Paris\" was the most brilliant expression, the taste for art objects has gradually developed with an intensity almost incredible. The stuffs, the china-ware, and above all the furniture of preceding centuries, are, now that they are old and battered, always sold for prices far higher, because of their excellence of construction and design. In this tendency it would be wrong to see nothing but a single fashion, a mania and an exaggeration, based upon fantasy and imitation; all the men of taste of one nation, ',\n",
       " 'or, we might well say, of all great nations in the world, could not possibly be deceived to this extent, and with this unanimity of their fantasy, had it not a solid and serious basis. And this fashion for antique furniture does not rest upon a very reasonable and very logical foundation, — at first in its disdain for phantom furniture, which, through the perfecting of wood-working machines, has arrived at the last degrees of veneer, scarcely presenting the slightest degree of solidity, the mahogany, oak, walnut, and rose-wood with which they are coated cracking at the slightest shock, and peeling off at the least change in the dampness or dryness of the weather. All the world, too, knows equally well that the homely furniture of thirty years ago, Queen Anne and Eastlake, is equally inelegant in appearance, and uncomfortable in use. There is, then, in the desire of purchasing antique furniture, the just idea of procuring articles altogether solidly built, the form of which is always, if not absolutely conformable to the rules of art, at least entirely different from the veneer articles which, from their nature, can only be subject to very limited number of combinations, and can never furnish to the taste of architects and designers the same resources as solid wood. A longing to escape from the cold and monotonous furniture of the preceding generation added to the renaissance movement of the year of 1800, caused a greedy demand for antique furniture to suddenly arise ; but when all of those arti',\n",
       " 'cles which had remained sound and solid were sold off, it was necessary to repair, restore, and strengthen those articles which were only discovered in fragments. ',\n",
       " 'While the introduction of machinery had had much to do with changing the character and working methods of the cabinet maker, it has proved a great boon to humanity generally, and has given to the masses, a class of furniture they never could have enjoyed but for the cheaper productions by the aid of power, and machines, and in these remarks, I do not wish to give the impression that machine made furniture is not good, or that it has not a beauty of its own, or that a majority of the designs are not graceful and well adapted to the days in which it was executed. In fact, I am of the belief that woodworking machinery has proved a blessing to both producer and user of cabinet work, while at the same time it has proved almost fatal to the distinctive and individual beauty of artistic handmade furniture. ',\n",
       " 'The object of the writer of this book, is to aid the young cabinet-maker — and the old one too — in obtaining a knowledge of the art from A to Z, and to enable him to take his material from the rough, and work it up until it reaches a finished state ready to take the place for which it was intended. I also purpose reproducing a number of designs of, what was generally considered to be some of the finest examples of furniture, from which the young workman and designer, may absorb inspiration and give to his work a charm ',\n",
       " 'and character to such work as he may undertake to execute, that can never be conveyed to articles made by the machine. ',\n",
       " \"It may be said, and with justice, that there is little or no demand for handmade art furniture, but I am persuaded this condition is occasioned because of the little of it there is jn the market, and the very high prices demanded for it by the owners. These high prices are placed on the articles, not by the maker, designer or workman, but by dealers, and the prices are often from four to five times the actual cost of the original work, and are only bought by rich people, whereas, if the prices were normal, the middle classes, whos'e taste is equal — and often superior — to that of the very rich, would indulge in handmade work to a very much larger extent than they now do. \",\n",
       " 'The bright sharp workman, of whom there are hundreds in our cabinet factories, who have been trained from the lumber yards to the running of the most delicate machinery in the shop, who by a little study, and a little practical work, may soon become able to make and finish furniture — by hand — of the finest sort, furniture too, that will find a ready market if the maker does his best. Many fine pieces of furniture have been made by advanced students after work-hours or during holidays. I have in mind at this writing, a splendid oak side-board, that was made in Newark, N. J., by a young man who was serving some years in a furniture ',\n",
       " \"shop, in that city, as an apprentice. The work was all done by hand, and in a shed in the rear of the house, polishing and all. The sideboard was intended for his father, but a wealthy neighbor of the latter, a man of taste, seeing the work before it was quite completed, offered to buy it, and thus, when finished was sold for the sum of $280.00. The materials, including mirrors, stained and leaded glass, hardware, and other stuff, all told, cost about $55.00. When it is considered, the work was done, nearly all after hours, between the fifteenth of October and the end of April, the amount was quite a comfortable addition to the young man's slender yearly salary. But the money gained, was but a fraction of the benefit he derived, as the experience, and the knowledge obtained in making the furniture, were worth to him many times the money he received for it. \",\n",
       " 'Of course, I do not think every apprentice, or even a large percentage of them, could make such pieces of furniture, or find purchasers for them after they were made, but every apprentice or student could make something, that would be useful and ornamental, and have a cash value, besides opening a way for the cultivation of a broader and more exact artistic taste. ',\n",
       " 'Taste was the founder of all our styles in furniture from the prehistoric log stool all the way down through the Egyptian, Babylonian, Chinese, Greek, Roman, Medieval, Byzantine, French, Gothic and the more ',\n",
       " 'modern styles of Chipendale, Shereton, Adams, and our colonial styles, and it is essential that every cabinetmaker who aspires to know his business, should cultivate taste, make himself conversant with the various styles, and be able at a glance to tell to what style, or on what lines any given piece of furniture is intended to represent. ',\n",
       " 'In this connection, I may say, it is proposed to lay before my readers a chapter or two on the various styles of furniture, with illustrations, explanations and some details. It is also intended to offer some instructions for performing such work as gilding, staining, polishing, and finishing the work complete. ',\n",
       " \"There are but a few books of value, on the art of cabinet-making, available to the American reader, though in French, and German, and even in Italian, there are quite a number, but most of their renderings would be of little use to the English or American workman, however, I will try and cull from them, whatever I deem suitable to these pages. The cullings from these works will consist mostly of illustrations, representing some of the best works of French, Italian, and German masters, with such explanations as may be necessary. The only American work, of a real practical nature, that I have any knowledge of is, first, Cabinet-maker's Companion, by J. Stokes, published by Henry Carey Baird, Philadelphia, Pa., 1870. This is an excellent little work and contains quite a number of good re\",\n",
       " 'ceipts on dyeing, staining, and other useful matter. Another book, a still more modern one by Alvan Crocker Nye, Ph. B. and deals nearly altogether with the constructional principle of cabinet-making, but it has little to say regarding the styles or historical peculiarities of furniture. This book is published by Wm. Comstock, New York, and is dated 1900. Some other Manuals are very good in their way, but they are written chiefly for boys who have had little or no experience in woodworking, and who may not intend making Cabinet-making a life work, are suited more for amateur workers rather than for those intending to follow woodworking for a living. These manuals however, will prove useful to every one who intends to work in wood, either professionally or a,s an amateur. ',\n",
       " 'There have been many essays on the art of furniture making, in our journals and art magazines, but these have generally been of an academic character, with a few exceptions, and have proved but of little service to the practical workman. ',\n",
       " 'A brief history of furniture and its growth, may not be out of place, though I do not purpose going into the subject at great length, so I will devote one illustrated chapter only to it. ',\n",
       " 'The first well-known reference to woodwork is to be found in the Book of Genesis in the instructions given to Noah to make an Ark of \"Gopher Wood,\" to make a window, to pitch it within and without with pitch, and to observe definite measurements. From the specific directions thus handed down to us we may gather that mankind had acquired at a very early period of the World\\'s history a knowledge of the different kinds of wood, and the use of the various tools. ',\n",
       " \"We know also, from the various bas-reliefs and papyri to be found in the World's museums, how advanced were the Old Egyptians in the arts of civilization, and that the manufacture of comfortable and even luxurious furniture was well known. It is quite evident the Hebrews must have had the best of workmen for their teachers and taskmasters to have enabled them to acquire sufficient skill and experience to carry out such precise instructions as were given for the building of the ark, and the erection of the Tabernacle, the latter of which was built some 1 500 years before Christ — as to the kinds of wood, measurements, ornaments, fastenings (loops and taches), curtains of linen, and coverings of dried skins. We have only to turn for \",\n",
       " 'a moment to the 25th chapter of Exodus to be convinced that all the directions there mentioned were given to a people who had considerable experience in the methods of carrying out work, which must have resulted from some generations of cabinet-makers, carpenters, joiners, weavers, dyers, goldsmiths, and other craftsmen. ',\n",
       " 'A thousand years before Christ, we have those descriptions of the building and fitting by Solomon of the glorious work of his reign, the great temple, and of his own, \"the King\\'s house,\" which gathered from different countries the most skilful artificers of the time, an event which marks an era of advance in \\'the knowledge and skill of those who were thus brought together to do their best work towards carrying out the grand scheme. It is worth while, too, when we are referring to Old Testament information bearing upon the subject, to notice some details of furniture which are given, with their approximate dates as generally accepted, not because there is any particular importance attached to the precise chronology of the events concerned but because, speaking generally, they form landmarks in the history of furniture. One of these is the verse (2 Kings chap, lv) which tells us the contents of the \"little chamber in the wall,\" when Elisha visited the Shunamite, about B. C. 895; and we are told of the preparations for the reception of the prophet: \"And let us set for him there a bed and a table and a stool ',\n",
       " 'and a candlestick.\" Another incident is some 420 years later, when, in the allusion to the grandeur of the Palace of Ahasuerus, we catch a glimpse of Eastern magnificence in the description of the drapery which furnished the apartment: \"Where were white, green, and blue hangings, fastened with cords of fine linen and purple, to silver rings and pillars of marble: the beds were of gold and silver, upon a pavement of red and blue and white and black marble.\" (Esther 1:6). ',\n",
       " 'There are, unfortunately, no trustworthy descriptions of ancient Hebrew furniture. The illustrations in Kitto\\'s Bible, Mr. Henry Soltau\\'s \"The Tabernacle, The Priesthood and the Offerings,\" and other similar books, are apparently drawn from imagination, founded on descriptions in the Old Testament. In these, the \"table for shew-bread\" is generally represented as having legs partly turned, with the upper portions square, to which rings were attached for the poles by which it was carried. As a nomadic people, their furniture would be but primitive, and we may take it that as the Jews and Assyrians came from the same stock, and spoke the same language, such ornamental furniture as there was would, with the exception of the representations of figures of men or of animals, be of a similar character. At least this is what Litchfield says, and he is no mean authority. ',\n",
       " 'Doubtless prehistoric men made use of stones, logs, or piled-up sods, for seats, and for spots to rest their ',\n",
       " 'heads ; the use of stones for pillows being quite common as late as early historic times. Be this as it may however, we find, the Egyptians had chairs, beds, tables and other furniture, some of which was highly wrought and ornamented, at least 4000 years before Christ, as shown by the monuments, and by the papyri that have come down to us. We also possess some fragments of bronze furniture of both Egyptian and Assyrian make. ',\n",
       " 'The British Museum and the Louvre contain a few Egyptian chairs or seats that have been made in ebony and ivory, which owe their preservation to the lasting nature of the material. ',\n",
       " \"Two Egyptian chairs or thrones are illustrated at Figs. 1 and 2, in the first part of this work. At Fig. 3, cabinet-makers are represented as occupied in chair making, the feet and legs of the chairs being designed from animals' limbs, and the stools on which the workmen are sitting are blocks of wood hollowed out at the top. The Egyptian couch was of a straight-lined design in the body with a curved head like an ordinary sofa, the legs, feet and other salient points being carved with heads, feet and tails of animals. \",\n",
       " 'Some boxes and coffers with gable tops dovetailed together, small toilet boxes having carved or painted decoration, and Mummy cases of cedar-wood having elaborate hieroglyphic decorations, may be seen in the British Museum and in the Louvre. Chariot and horse furniture are well represented in the reliefs and wall ',\n",
       " 'paintings. Egypt was famed for chariot building, and exported them in trade to the surrounding nations. We read that King Solomon imported his war-chariots from Egypt. ',\n",
       " 'If examples of Egyptian furniture are scarce, the furniture of Assyria is practically non-existent, as the climate of the latter country was not so dry or preservative as that of Egypt, so that all examples thathave not been wilfully destroyed have long ago perished. Many ornaments of bronze and of ivory decorations have been discovered that have been used as mountings to feet, ends of legs of seats, chairs, or thrones. The ',\n",
       " 'bas-reliefs of the latter enables us to form a fairly accurate judgment of the nature and style of Assyrian furniture, the decoration of which was of a heavier and coarser character than that of the more elegant Egyptian ( Fig. 4 and 5 ) . Forms and parts of animals ',\n",
       " 'were used by the Assyrians and nearly all Oriental nations as furniture decorations. The human figure was also used, but generally in the representation of slaves or conquered peoples, who were degraded to the position of bearing the weight of the seat or throne of the monarch. The Egyptian chairs had also carved human figures as captives tied under the seat. ',\n",
       " \"The furniture of the Hebrews was doubtless of the same kind as the Assyrian. From the description of King Solomon's throne it was apparently similar to those of the Assyrian kings. It had lions for the arm supports, and had six lions in gold and ivory on the six steps on either side of the throne. \",\n",
       " 'In the manufacture of the furniture of the nations of antiquity the principal materials were — in woods, ebony, rosewood, walnut, pine, teak, and, above all, cedarwood; ivory, gold, silver, bronze, and electrum were also much used for inlays and for solid mountings. ',\n",
       " 'The furniture and the chariots of the Greeks in their early period were simply copied from Egyptian and Asiatic sources, with less of the animal forms and more of plant forms as decorative details (Figs. 6, 7). Folding stools and chairs were made in wood and in metal and the backs of the chairs Fl ^ re 4 were upright, or nearly so ',\n",
       " '(Figs. 8, 9 and 10) ; couches resembling modern sofas, elaborate foot-stools, and arm-chairs with the sphinxes for the arms were made by the Greeks. ',\n",
       " 'In the British Museum are some small models of Greek chairs made in lead, and wooden boxes showing the dovetail construction. ',\n",
       " 'In the later Greek periods the furniture was inlaid with ivory, ebony, gold, and silver. Tripods were made of bronze, and had ornamented legs in the shapes of the limbs of lions, leopards, and sphinxes. The Roman bronze tripods were very similar to the Grecian ones ',\n",
       " 'in design, and were not only used for sacred purposes in the temples, but also to support braziers for heating purposes, or for burning perfumes in the houses of private people (Fig. 10). ',\n",
       " 'Hand-mirrors and cistae were made in great quantities in bronze or in other metal alloys, in silver, and ',\n",
       " 'sometimes in gold. The mirrors were polished on the face, and had often rich designs of figure subjects. The Greek cistae were cylindrical metal boxes that rested on feet designed from those of various animals, having a lid or cover, with a handle or knot usually of figure design, the whole surface of the body being covered with engraved figure compositions and ornamental borders. They were probably used to contain jewelry ',\n",
       " 'and trinkets. Some very fine specimens of these handmirrors and cistae may be seen in the British Museum. ',\n",
       " 'The furnishing of the houses of the Romans was very much of the same character as that of the Greeks ',\n",
       " 'The interior plan and aspects of the Roman houses were such as those of Pompeii and Herculaneum. Tables and tripods of bronze or braziers were supported ',\n",
       " 'on three legs, some of which were made with hinges for folding purposes (Fig. n), and others were of sphinx and animal forms of a rich design (Fig. 12). Lamp-stand designs were quaint and elegant and were ',\n",
       " 'made in bronze (Fig. 13). Candelabra of architectural design were carved in marble and were from six to ten feet in height (Fig. 15). ',\n",
       " 'The Romans highly prized and paid good sums for tables that were made from the pollard cross grain of different hard woods in which the knots and grain showed to advantage, the beauty of the wood being brought out by hand-polishing and by the staining it ',\n",
       " \"with various colored dyes. Bird's eye maple and the wood of the cedrus atlantica were much prized. The smaller tables, abaci, rested usually on one foot— monopodium — and larger tables had three or four legs, \",\n",
       " 'which had ivory claws or heads of animals as carved decoration (Fig. 14). Boxwood, beech, and palm, inlaid with ivory, ebony, and precious metals, were used in the materials of chairs and couches. The latter were often made in bronze (Figs. 15 and 16), and chairs of state were carved in marble, one of this kind being in the Louvre, a cast of which is now in the Kensington Museum (Fig. 17). The form of the Roman curule chair was like the letter X, and was so called because it ',\n",
       " \"could be folded and carried easily in the curules or chariots. It was used from the earliest times of the Romans down to modern days in Italy, and was often constructed of elephants' tusks, wood, or metal, with ivory feet. The curule chairs were carried about for outdoor use and for the theatre. The sella or bisellium. \",\n",
       " 'to seat two persons, was often a very ornate kind of seat with turned legs similar to the couches (Fig. 18). ',\n",
       " 'In the houses of the Romans a separate room or wardrobe was fitted up to keep the dresses and cloths of the family ; this room had cupboards with doors and shelves, drawers, and lockers. ',\n",
       " \"Portable coffers and chests were used, in which they packed their cloths and valuables when carrying them to and from their town and country houses. The Roman furniture and wooden construction of their houses were decorated with paintings and carvings of animals' heads, limbs, and feet, and with the usual architectural acanthus foliage — veneering of woods was an art in which the Romans were skilled; both large and small design in Tazsia work were the chief decorations of the best furniture. \",\n",
       " 'The representations we have of what was used by the Egyptians, the Greeks, and the Romans, are those only of the most finished and tasteful specimens; and, consequently, materials do not exist for the formation of a chronological series. But if we examine such as are of subsequent date in Europe, the reply will be found amply to repay the trouble. ',\n",
       " 'In endeavoring to obtain some little insight into the forms and materials of the furniture of ancient times, we are dependent on different sources, according to the country under consideration. If it be ancient Rome or Greece, the descriptions by the classical writers and the paintings at Pompeii are our chief authorities; if ancient Egypt, the paintings on the walls at Thebes and other places ; if in China or India, or Asia generally, the specimens still existing, for the Asiatics are more stationary in their usages than the inhabitants of any other quarter of the globe. Footstools seemed to have formed part of the furniture of a sitting-room; ',\n",
       " 'they were made both solid and open at the sides, and were covered at the top with leather or interlaced string. ',\n",
       " 'The distinction between a bed and a couch does not seem to have been very clearly marked. They had couches of wood with one end raised and receding in a graceful curve, with feet fashioned to resemble those of some wild animal. It is supposed that those couches had a rich covering by day and bedding by night. The use of wooden pillows was customary ; they were made of various materials, according to the rank of the possessor, and had a singular kind of cavity in which the head or the back of the neck might rest. Wicker bedsteads were sometimes made of palmbranches, forming a light kind of grating on which the bed and bedding were placed. The tables used were of various forms — round, square and ob',\n",
       " 'lar, and supported by a central pillar, which was often the figure of a man as a captive. Other tables had three or four legs, and the material of the tables themselves, though generally wood, was sometimes metal or stone. ',\n",
       " 'It is curious to remark that Egypt exhibited, three or four thousand years ago, articles of furniture bearing a much closer resemblance to those of modern Europe than Egypt does at the present day. The chairs of the early times might in many cases be readily mistaken for those now in use among ourselves; whereas the divans and cushions of modern Egypt, on which the natives indolently recline, belong to the oriental system of furniture. In Cairo no chambers are furnished as bed-rooms. The bed, in the day-time, is rolled up and placed on one side, or in an adjoining closet, which is a sleeping-place in the winter. In summer many persons sleep upon the house-tops. The furniture of a room is comprised pretty nearly by the mat or carpet spread upon the floor, and the divans or cushioned couches. For meals a round tray is brought in and placed upon a low stool, and the company sit round it on the ground. There is no fire-place, the room being warmed when necessary by charcoal burning in a chafing-dish. ',\n",
       " 'Passing from Egypt to China, we find, in treating of the furniture of a room, as in many other matters, how singularly isolated the Chinese are from the other ',\n",
       " 'nations of Asia, and how much more closely they resemble Europeans. The Chinese are the only Asiatic ',\n",
       " 'people who customarily use chairs; they resemble the solid and heavy chairs in fashion during the early part of the 1 8th century; (see illustration of Chinese chair). The seat of the chair has often a cushion, and the back a hanging of scarlet silk or woolen embroidered with silk. In the forms of their Figure 17 furniture the Chinese gen',\n",
       " 'erally avoid straight and uniform lines; even in their doorways, instead of a regular right-angled opening, they often have one presenting the form of a circle, or an oval, or a leaf, or a jar. These fanciful doorways, however, are only used when there are no doors, the opening being covered with hanging screens of silk or cloth, or with bamboo blinds, like those used in India. The Chinese beds are generally simple in form, with cotton or silk curtains in winter, and a fine mosquito-screen during the heat of summer; the bed of an individual among the middle classes usually consists of two or three boards laid upon a couple of narrow benches, a mat to lie upon, and four bamboo-sticks to support the mosquito-curtains. It may readily be sup',\n",
       " 'posed that in the original country of porcelain a very usual ornament of dwellings consists in vases and jars of that material, of which the antiquity is valued above ',\n",
       " 'every other quality. This taste has led to the manufacture of fictitious antiques, not only in porcelain, but in bronze and other substances — points in which strangers are lgure often very egregiously ',\n",
       " 'taken in at Canton. The shapes of their tripods and other ancient vessels, real or imitated, are often fantastical, and not unlike similar vestiges in Europe. ',\n",
       " 'The furniture, such as tables, chairs, beds, and the chariots of the Byzantine period, was like the architecture in having something of the classic Roman mixture with some Asiatic Greek forms in its design. Scarcely any remains of such are now in existence, although we have evidences of the extreme richness of the sumptuary furniture and vessels of the great houses and palaces of Constantinople, for owing to the decadence and destruction of the Roman empire in the provinces, the capital of the East became enriched by treasures of the Roman families, who naturally fled to Constantinople for protection for themselves and their valuable effects. ',\n",
       " 'different varieties of seats, chairs, and footstools, on which the consuls are seated, represented in the carving. Many originals of these and casts from others, are now in the Kensington Museum, London. ',\n",
       " 'The chair of St. Maximian, preserved at Ravenna, is covered with ivory carvings, and is one of the finest examples of Byzantine work. ',\n",
       " 'Much of the furniture of the early centuries of Christian art is represented in the Byzantine illuminated manuscripts. Beds and couches kept the old Roman forms with the turned legs. Chariots must have been used very much, as the old game of chariot racing was kept up by the Byzantines. The Iconoclasts of the Eastern Empire under Leo the Isaurian (A. D. 726) — ',\n",
       " 'whose injurious rule lasted about one hundred and twenty years — were responsible for much destruction ',\n",
       " 'of sumptuary furniture, as well as for other productions of an artistic nature, but at the same time they were the indirect means of causing a new development in art in the western parts of Europe, and more particularly in ',\n",
       " 'the Rhenish Provinces, by driving the Byzantine artists and craftsmen to these places, where they were welcomed by Charlemagne, and by his powerful nobles and churchmen. In the course of time they succeeded in founding the school of art known as Rhenish-Byzantine. The finest illustrations of this art are seen in the magnificent enamelled reliquaries or shrines. The giltbronze chair of Dagobert is of Romanesque design, and is one of the earliest pieces of furniture of the Middle Ages (see Fig. 19). Another mediaeval chair or throne is high seated, and exceedingly rich in design (Fig. 20). It is of Scandinavian origin, and is a good example of the Romanesque style of Northern Europe. Many forms of the Romanesque are seen in the furniture and carving of the Gothic style that immediately succeeded the former. ',\n",
       " 'During the Anglo-Saxon period in England the ordinary houses usually consisted of one room. Sometimes a shed-like structure was erected against the wall of the room to contain the bed of the mistress of the house, and as a rule the inmates slept on a large table placed in the center of the room, or on benches on which bags of straw were placed. Seats without backs, or stools, long settles or benches with backs and carved ends or arms, were the chief articles in furniture. ',\n",
       " 'After the Norman Conquest domestic improvements were multiplied, more rooms were added to the houses, such as the solar or upper room, and the parlor or ',\n",
       " 'talking room, and some of the rooms had fireplaces, but not chimneys. The principal room was the hall or assembly-room, which had a fireplace in the center, the smoke escaping through the lantern light in the roof. In the Norman times the principal additions to the furniture of English manor-houses and castles were the cupboard, presses or armoires, and chests. These pieces ',\n",
       " 'of furniture were introduced from France. Sometimes the portable presses and the chests were painted with tempera decorations, and were bound with wroughtiron clasps and hinges, which were just beginning to come into use. ',\n",
       " 'The bed-clothes and personal clothing of the nobles and rich landowners began to assume a rich character, and were often embroidered. ',\n",
       " 'Tapestry and painted cloth hangings were imported ; also pottery of an ornamental description was not only imported, but made in England at this time. All this ',\n",
       " 'applies to the homes of the rich only, for the poorer classes remained for a long period in a very primitive condition as regards their style of houses and their furniture. ',\n",
       " 'The construction of furniture and the panelling of chests began to exhibit some workmanlike appearances of good carpentry. Panels were placed in framework that was mortised and fastened with wooden pegs, which became the universal method of panelling throughout the Gothic period. Room paneling came into use in England in the early part of the thirteenth century, Figure 23 when pine timber was used at first ',\n",
       " 'for this work, but was displaced later by the more substantial oak. This oak panelling during the Gothic periods was often carved with elaborate tracery of an architectural character (Figs. 21, 22), and a common design was a carved imitation of a carefully folded textile, known as the \"linen panel\" (Fig. 23). ',\n",
       " 'Chests were used as tables, and the tops had inlaid checkers to be used as chessboards. They were also used as sideboards on which to place dishes of food, the dining-table being a board which was placed on trestles, that could be removed and packed away when not required (Figs. 24, 25). A crossed-legged chair and a three-legged stool is shown at Fig. 2j, which ',\n",
       " 'were common shapes in the fourteenth century. The illustration, Fig. 26, is that of a bedroom of the same ',\n",
       " 'period, and is taken from an English manuscript of the date of 1400. For these illustrations, and many others ',\n",
       " 'on the subject of furniture, we are indebted to the work of Mr. J. H. Pollen on \"Furniture and Woodwork.\" ',\n",
       " 'The bed in the latter illustration has a flat canopy, or tester, with embroidered hangings. The walls of the room are panelled, and the floor is in checkered par',\n",
       " 'quetry. There is a curious seat that is partly an open press, with pottery, and metal vases placed as decoration on the top. ',\n",
       " 'Chests, trunks, or bahuts, were at this period, and in the time of the Normans, the most important articles in furniture; they were often made with inlaid wood decorations, and had strapwork of iron and ornate ',\n",
       " 'hinges. They were the usual repositories of the household valuables, money, and other treasures, and were carried on horses or mules when the family moved about from place to place. By degrees the chest, with the addition of a back and arms, became the settles or principal seats in the living-room, and the back developed with an added hood or projecting covering into ',\n",
       " 'Another and later development of the chest was to raise it on legs, and to add a back arrangement to it, with shelves for the display of household plate, to which was given the name of dressoir, or dresser, the latter in time developing into the modern sideboard. ',\n",
       " \"Chests were also important articles of church furniture, in which the sacred vessels, treasures, books, and priests' garments couljd be locked up, and a particular \",\n",
       " 'form of chest kept in church vestries was the cope chest, which took the semicircular shape of the copes when laid out flat in these chests. Examples of these chests are still to be seen in some of the larger cathedrals. ',\n",
       " 'The coronation chair (Fig. 28) gives a good idea of a state chair of the early Gothic period in England. ',\n",
       " 'Carriages of the fourteenth century were used for the conveyance of women and children, but were not very common. They were longshaped covered vehicles on four wheels, with or without paneled sides, and were painted and decorated (Figs. 29, 30). Carts for carrying and for agricultural purposes were used in the Anglo-Saxon and Norman periods in England, and in France at the same dates; these were twowheeled vehicles, each being usually of one solid piece of wood. ',\n",
       " 'The Saracens were very ingenious in the using of wood, as in carpentry, carving, and turning in the lathe. Their ingenuity and skill in carpentry and turning is seen in the Meshrebiya work and lattice, and in the carvings of the pulpit and door panels. ',\n",
       " 'Regarding the furniture of the domestic dwellings of the Saracens, whether of Egypt, Arabia, or elsewhere, there was very little of a movable nature except the small tables and reading-desks. The tables of Saracenic design are usually small and of a greater height than width ( Fig. 31). These tables or kursys are sometimes panelled with turned, latticed, or carved decoration, having stalactites under the top, as in the illustration, ',\n",
       " 'or in the kursys of a lighter construction are generally inlaid with ivory, ebony, and mother-of-pearl. Some of the richest variety are hexagonal in shape, are inlaid with brass and silver filigree ornamentation, and are of splendid workmanship. The next important article in movable furniture is the Saracen reading-desk, which is made in the form of a camp-stool, with cross legs. It is usually inlaid and decorated like the tables. ',\n",
       " 'The divans are platforms raised slightly from the ground, and covered with cushions on the seats and backs. The carved cupboards or shelves on brackets ',\n",
       " 'placed behind and above the divans, on which vases and trays are kept for ornament or when not in use, complete the usual furniture. of the Saracenic livingroom. Seats or chairs or lattice-work (dikkas), on ',\n",
       " 'which the doorkeeper sits, are usually found in entrance-halls, and if we add the elaborate metal and colored-glass lamps, the vases, the large metal salvers or trays, and the rugs and carpets, the furniture of a Saracenic house is complete. ',\n",
       " 'In the early part of the fifteenth century and during the whole of the century the furniture of Europe generally was designed more or less on Gothic lines, but gradually the new forms that were now rapidly developing in the architecture of the Renaissance, but in a slower measure, began to assert themselves in furniture designs. Consequently, we find in many articles, such as armoires or presses, and cabinets, a mixture of style in the design — as, for instance, the upper panels would be in the Mediaeval, and the lower ones in the Renaissance style, or the general construction would be Gothic, and the details and decoration would be Italian. ',\n",
       " 'This was more often the case in the furniture and other art in Germany, where the Renaissance was tardily welcomed. ',\n",
       " 'Styles of design in furniture overlap each other so much, especially in the Renaissance period, that it became very difficult to assign a correct date to many pieces of important work. Gothic designs continued to be used during the sixteenth century, although the Renaissance had been developing for a hundred years ',\n",
       " 'earlier. The most authentic means of fixing the date is when certain work can be proved to have come from the hand of a particular artist, or when there is a record of its having been made for a king or some great person, for the style is not always a sure proof of the correct date. ',\n",
       " 'In the \"Quattrocento\" period (1400-1500), or fifteenth century, Italian furniture made for churches, palaces, or private houses, was usually decorated with paintings, sometimes on a gilt ground, which was prepared in a gesso material before the gold was applied, some parts of which had relief ornamentation. ',\n",
       " 'Reliquaries, altar-fronts, panels or cabinets, chests, and marriage coffers were decorated in this way. ',\n",
       " 'The work known as \"tarsia,\" or certosina work, was made in great perfection about this time in Italy. It is inlaid work of a geometric character in design, or is composed of floral ornament, and sometimes consists of representations of landscapes and buildings. This kind of inlay derived from Persian sources, was developed chiefly by the Venetians, and was used mostly by them in the decoration of their stalls, tables, chairs, cabinets, &c. Ebony, ivory, and metals were also employed in the Italian inlays of this period. ',\n",
       " 'The Italian cassoni, or marriage coffers, were the most ornate and most imposing articles of furniture of the fifteenth and sixteenth centuries. They were placed in the long halls and corridors of the palaces and great ',\n",
       " \"houses, and were usually given as presents to newly married couples. They were generally used as the receptacle for the bride's trousseau and other treasures. In the latter century they were carved in walnut with sculptural mythological subjects, and had endings or corners of half-figures and half-foliage, as caryatids, \",\n",
       " 'with feet designed from the claws of animals to raise them from the ground (Fig. 32). The carving was relieved by gilding in parts, and sometimes the whole of it was gilt. ',\n",
       " 'Other examples of an earlier date were covered with a finely modelled decoration of gesso work, and gilded, and in other cases the large panels in the front were painted with figure subjects in brilliant colors and heightened with gold. ',\n",
       " 'A less costly kind of marriage coffer was made in cypress-wood, and fitted up in the inside with drawers, having the decoration on the surface engraved or etched ',\n",
       " 'in brown lines, with the ground slightly recessed and punched or stamped with a fine ornamentation. ',\n",
       " 'In the Kensington Museum there is an extensive collection of Italian cassoni embracing all the above varieties. Chairs carved and gilt of the same style and period as the coffers were usually placed between the rows of the latter in the halls of the Italian palaces (Fig. 33). These chairs had their backs and legs richly carved, each part being made out of a single slab of wood. ',\n",
       " 'The pair of bellows (Fig. 34) is a further illustration of the design and excellence of workmanship as shown in the work of the wood carvers of Italy in the sixteenth century, or \"Cinquecento\" period. ',\n",
       " 'Another fine specimen of wood carving is the Italian stool (Fig. 35) of the same date, which is remarkable for its delicacy of treatment. ',\n",
       " 'Another form of chair of a rectangular character, with or without arms, having an embossed leather or velvet covering on the back and seat, with turned and carved legs and rails, was made in Italy about this time (Fig. 36) ; it was much used subsequently in Spain, France, and in England, and has continued to be in favor down to the present day. ',\n",
       " 'Cabinets were made in Italy and in France in which slabs of beautifully colored and veined marbles and rare stones were inserted as panels in various shapes, to which the name of \"pietradura\" work was given. ',\n",
       " 'In the seventeenth and eighteenth centuries painted plaques of porcelain took the place of these marbles. ',\n",
       " \"In England, France, Spain, and Germany, the great houses, both private and religious, and the king's palaces were elaborately furnished, and kept in a state of great splendor. \",\n",
       " 'Churches were also furnished with elaborate stalls, pulpits, and rich utensils, but in the latter the style of the designs was still Mediaeval. ',\n",
       " \"In the reigns of Henry VII. and Henry VIII. in England the style gradually altered to the Italian forms of the Renaissance, and great quantities of Italian, Flemish, and French furniture were largely imported. Jean de Mabuse and Torrigiano were employed as architects and sculptors by Henry VII. , and Holbein and some Italian artists designed furniture and goldsmith's work for Henry VIII. \",\n",
       " 'In France, during the reigns of Francois I., Catherine de Medici, and Henry II., a great activity took place in architecture and in all the industrial arts, in which that country was not only imitated, but sought to excel, the work of the Italian schools. ',\n",
       " \"As already mentioned, the French kings and Medicean princesses in the sixteenth century had invited from Italy Cellini, Primaticcio, II Rosso, Serlio, and others, who succeeded in founding the style of the Renaissance in France, and about the same time many French artists journeyed to Italy to acquire the newer style which had been evolved from the study of the old classic remains of that country. Among the names of the principal French artists, sculptors, and carvers of this period are those of Jean Goujon, Nicholas Bachelier of Toulouse, Jean Cousin, Germain Pilon, Philibert de L'Orme, Du Cerceau, who published \",\n",
       " 'designs for all kinds of decorations and carvings, and Hugues Sambin of Dijon. Most of these men were ',\n",
       " 'architects and also designers of the heavy and rich furniture that was characteristic of the French Renaissance. Some of these artists and their works have been noticed in the chapters on Renaissance architecture and metal work. The cabinet (Fig. 37) is a good example of the architecturic style of French furniture of the sixteenth century. French wood carving is distinguished from the ',\n",
       " 'Italian of this period by the great use of the cartouche and strap-work (Fig. 38), which was so characteristic of the Henri-Deux style. ',\n",
       " 'When the Renaissance had taken a firm root in Germany, the designers and carvers of altar-pieces and of furniture generally proved themselves thorough masters of the style, and were especially skilful in the carving of wood, both on a gigantic and on a minute scale. Whole fronts of houses were elaborately carved in designs consisting of figure work, animals, ornament, and grotesques of a quaint and humorous description, while exceedingly minute works of figure subjects and animals were carved in box and other woods with a delicacy and quaintness often excelling the ivory carvings of the Japanese. Escritoires, buffets, cabinets, and other furniture, were made and exported from Germany into Spain and other countries. ',\n",
       " 'Flemish and English furniture and carving were pretty much alike in the reigns of Elizabeth — the Tudor period of English art — and of James L, the Stuart of Jacobean. The pieces of carved furniture, both Flemish and English, were very solid and heavy both in the design and thickness of material, which was generally of oak or chestnut. So much Flemish furniture was imported into England at this time, and the Englishmade work, being so close in resemblance to the former, that a great difficulty is experienced in classifying examples of this period. The table, Fig. 39, and the socalled \"Great Bed of Ware,\" are examples of the furniture of the Elizabethan period (Fig. 40). ',\n",
       " 'duced in the first instance by the great importations from Italy and Germany, but under such excellent native carvers and designers as Felipe de Borgona (six',\n",
       " 'teenth century), and Berruguete (i 480-1 561), the style of the Renaissance soon spread from Toledo to Seville and Valladolid, where great quantities of carved and inlaid work and elaborate altar-pieces were executed during the prosperous Spanish period of the sixteenth century. ',\n",
       " 'During the same century Venice and Florence were famed for their marquetry — inlaid work of ivory and metal — in cypres s, walnut, and other woods, which art ',\n",
       " 'had been imported from Persia and India by the Venetians, and which spread rapidly through Europe until the furniture made with marquetry decoration by degrees supplanted the heavier classical architectural designs. ',\n",
       " 'Before leaving the Italian sixteenth-century work we must notice the mirrors, with their elaborately carved frames of Venetian design and manufacture. In this century Venice was renowned for the making of glass, for which it is still famous, and certain privileges were granted by the State exclusively to Venetian manufacturers of looking-glasses. Two Murano glass makers named Andrea and Dominico, who were the inventors, were granted in the year 1507 the sole privilege of making \"mirrors of crystal glass\" for a term of twenty years. Previous to this time the mirrors ',\n",
       " 'were made of various polished metals. The frames of the Venetian mirrors were often elaborately carved (Fig. 41), some of them being made in designs that were strictly architectural in character, representing a door, or window frame, with pilasters frieze, and cornice and sill or plinth. These carved frames were often part or wholly gilt, and were exported in considerable quantities. Pictures were framed in a similar way to the mirrors, and carved and gilt frames were soon used all over Europe as picture frames. Later on gilt furniture of all kinds was made in Venice and was in great favor in the other countries of the Continent. ',\n",
       " 'The manufacture of marquetry furniture by the Dutch in the seventeenth century has been mentioned as having helped in a great measure to change the style of furniture design from its former architectural character to a greater simplicity of construction. Large panel surfaces were used for the purpose of showing to greater advantage the rich and bright colors of different kinds of hard woods used in the marquetry. Both natural and stained varieties of various wood were arranged in the designs in juxta-position, and a free and picturesque kind of ornamental foliage was employed mixed with large tulips, roses, and birds in the Dutch marquetry decoration. Other materials such as ivory, ebony, and mother-of-pearl, were also used as inlays. In France a similar kind of marquetry ',\n",
       " 'was developed, but the design consisted more of figure subjects and imitations of ruins in landscapes. A complete change in the design of the furniture in the latter country was also effected by the same desire to get large surface on which the inlaid work could be seen to great advantage, and the spaces were not divided by architectural mouldings, and the pilasters, as they had been in the preceding earlier work. Towards the end of the sixteenth century, and during the earlier half of the seventeenth, the sumptuous furniture, the beds, and general furnishing of the better class of houses and palaces in France and other European countries, were characterized by the use of costly silk brocades, tissues, and embroidered coverings and hangings. ',\n",
       " 'By thus seeking to give the furniture an appearance of the richest possible kind, such articles as chairs, couches, and beds lost in a corresponding degree their elegance and former constructive beauty. Under their gorgeous Italian and Oriental velvet coverings, their framed construction ceased to be visible. The above pieces of furniture still retained their sumptuous upholstery during the reign of Louis XIV., but the tables, armoires. cabinets, book-cases, pedestals, clock-stands ',\n",
       " \"and cases, came under the influence of the architecture of the period, when the king's chief minister, Colbert, selected the best architects and cabinet-makers of the day to design the furniture for the palaces of the Tuileries, the Louvre, and Fontainebleau. \",\n",
       " 'The greatest name connected with the design and manufacture of the magnificent furniture of the Louis',\n",
       " 'Quatorze period is that of Andre-Charles Boulle, whose work is known under his name as \"Boulle.\" This celebrated furniture is an elaborate kind of marquetry of which the materials are rare woods, ebony, tortoiseshell, brass, mother-of-pearl, and white metal or tin. The mountings, mouldings, and other salient points are made in brass beautifully chased and finished, some of the mouldings being in the forms of masks, foliages, cartouches, and animals\\' heads and feet as termination. Andre-Charles Boulle was born in Paris in the year ',\n",
       " \"1642. His father, Pierre Boulle was also a distinguished ebeniste, or cabinet-maker, but his more eminent son possessed the artistic gift in a much higher degree. In addition to making his special marquetry from his own designs Boulle also executed a good deal of his best works from the design of Jean Berain ( 1636171 1 ), his chief collaborateur. Berain's designs were more Italian in style, more symmetrical in the composition of the ornament, and more correct from an architectural point of view, than those attributed to Boulle himself, whose designs had much of the looseness and freedom of the prevalent Louis Ouatorze. \",\n",
       " \"At the death of Jean Mace, the king's ebeniste, in 1672, who had formerly lived in the royal galleries of the Louvre, the logement and office of ebeniste to the king had become vacant, and Boulle on the recommendation of Colbert, minister to Louis XIV., was appointed as the successor of Mace, and was installed in his rooms in the Louvre in the year 1673. He na< ^ previously executed some important work for the king, and was known as the ablest ebeniste at that time in Paris. \",\n",
       " 'The origin of the Boulle marquetry can be traced to the Indian, Persian, and Damascus encrusted inlays in ivory, ebony, and metal, that found their way to Venice, Portugal, Spain, and France in the Middle Ages. These works consisted chiefly of caskets, coffers, and small pieces of furniture In the inventories of ',\n",
       " 'Charles V. of France (1380) mention is made of lecterns and coffers of inlaid ivory or bone, in ebony, and similar works are mentioned in the inventories of Charles VI. (1418), and of Anne of Brittany (1498). These are the earliest notices of marquetry furniture that was made in France, and was probably an imitation of Oriental work. ',\n",
       " \"In the Renaissance period Francois I. bought some magnificent furniture of Indian workmanship, inlaid with mother-of-pearl, from Portuguese merchants, and mention is made of chairs, tables, coffers, cabinets, and mirror-frames that belonged to Queen Marie de Medicis (1600), the Cardinal d'Amboise (1500), and other great persons of the French Court, all of which works were made in marquetry. \",\n",
       " 'In France before the sixteenth century, tortoiseshell, brass, tin, and exotic woods were used as inlays, in addition to the ivory, ebony, and nacre of the East. From this it will be seen that Boulle did not invent the celebrated marquetry that bears his name. He, however, brought this sumptuous form of cabinet work to great perfection, and under the patronage of Louis XIV. he had every opportunity to develop his artistic abilities to the utmost. ',\n",
       " 'The method of procedure in the making of the Boulle marquetry was, first, to prepare the veneers of wood, shell, tin, and brass of the same thickness, each having perfectly plain surfaces; these veneers were ',\n",
       " 'then glued together in pairs of opposite materials, according to the nature of the effect required in the ',\n",
       " 'finished work, and were held together firmly in a vice. The design was then traced on the surface of the upper leaf, and the veneers were then cut through the lines of ',\n",
       " ...]"
      ]
     },
     "execution_count": 2,
     "metadata": {},
     "output_type": "execute_result"
    }
   ],
   "source": [
    "documents_train = list(np.load('./training/train.npy')) # historical materials 4451 documents\n",
    "documents_train2 = list(np.load('./training/train2.npy'))   # census bureau 4226 documents\n",
    "documents_train.extend(documents_train2)\n",
    "documents=documents_train\n",
    "documents"
   ]
  },
  {
   "cell_type": "markdown",
   "metadata": {},
   "source": [
    "The topic model assumes input is in the form of a doc-word matrix, where rows are documents and columns are binary counts. We'll vectorize the newsgroups data, take the top 20,000 words, and convert it to a sparse matrix to save on memory usage. Note, we use binary count vectors as input to the CorEx topic model."
   ]
  },
  {
   "cell_type": "code",
   "execution_count": 25,
   "metadata": {},
   "outputs": [
    {
     "data": {
      "text/plain": [
       "24029"
      ]
     },
     "execution_count": 25,
     "metadata": {},
     "output_type": "execute_result"
    }
   ],
   "source": [
    "#find how many words in training document\n",
    "import gensim\n",
    "from gensim.utils import simple_preprocess\n",
    "def sent_to_words(sentences):\n",
    "    for sentence in sentences:\n",
    "        yield(gensim.utils.simple_preprocess(str(sentence), deacc=True))  # deacc=True removes punctuations\n",
    "data_words = list(sent_to_words(documents))\n",
    "print(data_words[:1][0][:30])\n",
    "\n",
    "from gensim.utils import simple_preprocess\n",
    "from gensim.parsing.preprocessing import STOPWORDS\n",
    "from gensim.corpora import Dictionary\n",
    "def tokenize(text):\n",
    "    return [token for token in simple_preprocess(text) if token not in STOPWORDS]\n",
    "processed_docs = [tokenize(doc) for doc in documents]\n",
    "word_count_dict = Dictionary(processed_docs)\n",
    "len(word_count_dict)"
   ]
  },
  {
   "cell_type": "markdown",
   "metadata": {},
   "source": [
    "## Tokenize words and further clean-up text"
   ]
  },
  {
   "cell_type": "code",
   "execution_count": 51,
   "metadata": {},
   "outputs": [
    {
     "name": "stdout",
     "output_type": "stream",
     "text": [
      "['skip', 'to', 'main', 'content', 'search', 'upload', 'sign', 'up', 'log', 'in', 'books', 'video', 'audio', 'software', 'imagesabout', 'blog', 'projects', 'help', 'donate', 'contact', 'jobs', 'volunteer', 'people', 'search', 'metadata', 'search', 'text', 'contents', 'search', 'tv', 'news', 'captions', 'search', 'radio', 'transcripts', 'search', 'archived', 'searchsign', 'up', 'for', 'freelog', 'infull', 'text', 'of', 'the', 'practical', 'cabinet', 'maker', 'and', 'furniture', 'designer', 'assistant', 'with', 'essays', 'on', 'history', 'of', 'furniture', 'taste', 'in', 'design', 'color', 'and', 'materials', 'with', 'full', 'explanation', 'of', 'the', 'canons', 'of', 'good', 'taste', 'in', 'furniture', 'see', 'other', 'formats']\n"
     ]
    }
   ],
   "source": [
    "import gensim\n",
    "from gensim.utils import simple_preprocess\n",
    "def sent_to_words(sentences):\n",
    "    for sentence in sentences:\n",
    "        yield(gensim.utils.simple_preprocess(str(sentence), deacc=True))  # deacc=True removes punctuations\n",
    "data_words = list(sent_to_words(documents))\n",
    "print(data_words[0])"
   ]
  },
  {
   "cell_type": "markdown",
   "metadata": {},
   "source": [
    "# 3. Remove Stopwords, Make Bigrams, Lemattization"
   ]
  },
  {
   "cell_type": "markdown",
   "metadata": {},
   "source": [
    "can remove stopwords like labor, occupation"
   ]
  },
  {
   "cell_type": "code",
   "execution_count": 53,
   "metadata": {},
   "outputs": [],
   "source": [
    "# NLTK Stop words\n",
    "# import nltk\n",
    "# nltk.download('stopwords')\n",
    "from nltk.corpus import stopwords\n",
    "stop_words = stopwords.words('english')\n",
    "stop_words.extend(['occupation','labor'])\n",
    "# Define functions for stopwords, bigrams, trigrams and lemmatization\n",
    "def remove_stopwords(texts):\n",
    "    return [[word for word in simple_preprocess(str(doc)) if word not in stop_words] for doc in texts]\n",
    "def retain_English(text):\n",
    "    return [[word for word in para if word.isalpha()] for para in text]\n",
    "def lemmatization(texts, allowed_postags=['NOUN', 'ADJ', 'VERB', 'ADV']):\n",
    "    \"\"\"https://spacy.io/api/annotation\"\"\"\n",
    "    texts_out = []\n",
    "    for sent in texts:\n",
    "        doc = nlp(\" \".join(sent)) \n",
    "        texts_out.append([token.lemma_ for token in doc if token.pos_ in allowed_postags])\n",
    "    return texts_out"
   ]
  },
  {
   "cell_type": "code",
   "execution_count": 57,
   "metadata": {
    "scrolled": true
   },
   "outputs": [
    {
     "name": "stdout",
     "output_type": "stream",
     "text": [
      "[['skip', 'main', 'content', 'search', 'upload', 'sign', 'log', 'book', 'video', 'audio', 'software', 'imagesabout', 'blog', 'project', 'help', 'donate', 'contact', 'job', 'volunteer', 'people', 'search', 'metadata', 'search', 'text', 'content', 'tv', 'news', 'caption', 'search', 'radio', 'transcript', 'search', 'archive', 'text', 'practical', 'cabinet', 'maker', 'furniture', 'designer', 'assistant', 'essay', 'history', 'furniture', 'taste', 'design', 'color', 'material', 'full', 'explanation', 'canon', 'good', 'taste', 'furniture', 'see', 'format']]\n"
     ]
    }
   ],
   "source": [
    "import spacy\n",
    "#retain only English\n",
    "data_words=retain_English(data_words)\n",
    "# Remove Stop Words\n",
    "data_words_nostops = remove_stopwords(data_words)\n",
    "# Initialize spacy 'en' model, keeping only tagger component (for efficiency)\n",
    "nlp = spacy.load(\"en_core_web_sm\", disable=['parser', 'ner'])\n",
    "# Do lemmatization keeping only noun, adj, vb, adv\n",
    "data_lemmatized = lemmatization(data_words_nostops, allowed_postags=['NOUN', 'ADJ', 'VERB', 'ADV'])\n",
    "print(data_lemmatized[:1])"
   ]
  },
  {
   "cell_type": "code",
   "execution_count": 64,
   "metadata": {
    "scrolled": true
   },
   "outputs": [
    {
     "data": {
      "text/plain": [
       "['skip main content search upload sign log book video audio software imagesabout blog project help donate contact job volunteer people search metadata search text content tv news caption search radio transcript search archive text practical cabinet maker furniture designer assistant essay history furniture taste design color material full explanation canon good taste furniture see format',\n",
       " 'history furniture taste design color material full explanation canon good taste furniture',\n",
       " 'together many practical direction make cabinet work generally number piece furniture particular hundred recipe finish stain varnish polish gilding kind cabinet work',\n",
       " 'author practical steel sojmrk modern carpentry finisher wood carve',\n",
       " 'prepare work think unnecessary waste time space publish preface would least occupy page good would little service reader content perhaps serve reader well insert remark gist would expect appear preface material may interesting useful',\n",
       " 'day specialization furniture make great measure rob trade many charm well claim dignified position hold',\n",
       " 'good old time man could hold head say truthfully cabinetmaker mean give long year apprenticeship branch detail business assertion interpret mean could take timber plane finish upholster hand mean full knowledge connect manufacture entrance yard may expected workman way completeness',\n",
       " 'thoroughness could hire experience indelibly stamp work',\n",
       " 'invention disarrange certainly save machinery later year dispense old time necessity circular saw band saw sticker planer jointer carver many contrivance economize time make long term apprenticeship measure unnecessary day man cabinet maker sense refer competent circular saw band saw moulding plane alone little else subdivision outgrowth advance invention',\n",
       " 'often applicant work man belong class old school fledgeling rub furniture month manufactory consider subject find advantageous mix element claim worthy consideration former class drill faithfully department work workman class apt wed little firmly method use apprentice workman latter progressive restless restraint perhaps little much sometimes average well',\n",
       " 'bench hand bear mind must man experience quality less extended quality work may require case work machine work manufacturer readily perceive advantage engage service class man knowledge confine exclusively machine pledge run migratory workman curse manufacturer good example say roll stone gather',\n",
       " 'close subdivision work good manufactory conducive uniform generally good result tool machine produce equable quality uniform build',\n",
       " 'system include individual intelligent part machinery admirable make exact reproduce agent consequently aid uniform result question good plan make intelligent practical machine may possible excellence sacrifice tolerable uniformity good mechanic year ago little sympathy system lower status mechanical condition level machine attendant monotonous single branch system',\n",
       " 'individual endeavour seem part mechanic aspiration',\n",
       " 'old time job shop reasonable school embryo could desire foreman well know establishment country recently die conversation long ago state intimate knowledge different department work get experience job shop chance lathe carving room make drawing sketch frequently make design accomplishment may crude give idea job do well accomplished example sort practical mechanic',\n",
       " 'brilliant taste art object gradually develop intensity almost incredible stuff ware furniture precede century old batter always sell price far high excellence construction design tendency would wrong see single fashion mania exaggeration base fantasy imitation man taste nation',\n",
       " 'may well say great nation world could possibly deceive extent unanimity fantasy solid serious basis fashion antique furniture rest reasonable logical foundation first disdain phantom furniture perfecting wood working machine arrive last degree veneer scarcely present slight degree solidity rise wood coat crack slight shock peel least change dampness dryness weather world know equally well homely furniture year ago equally inelegant appearance uncomfortable use desire purchase antique furniture idea procuring article altogether solidly build form always absolutely conformable rule art least entirely different veneer article nature subject limited number combination never furnish taste architect designer resource solid wood longing escape cold monotonous furniture precede generation add year cause greedy demand antique furniture suddenly arise arti',\n",
       " 'remain sound solid sell necessary repair restore strengthen article discover fragment',\n",
       " 'introduction machinery much change character working method cabinet maker prove great humanity generally give masse class furniture never could enjoy cheap production aid power machine wish give impression machine make furniture good beauty majority design graceful well adapt day execute fact belief woodworke machinery prove blessing producer user cabinet work time prove almost fatal distinctive individual beauty artistic handmade furniture',\n",
       " 'object writer aid young cabinet maker old obtain knowledge art enable take material rough work reach finish state ready take place intend also purpose reproduce number design generally consider fine example furniture young workman designer may absorb inspiration give work charm',\n",
       " 'character work may undertake execute never convey article make machine',\n",
       " 'say justice little demand handmade art furniture persuade condition occasion little market high price demand owner high price place article maker designer workman dealer price often time actual cost original work buy rich people price normal middle class s taste equal often superior rich would indulge handmade work much large extent',\n",
       " 'bright sharp workman hundred cabinet factory train lumber yard run delicate machinery shop little study little practical work may soon become able make finish furniture hand fine sort furniture find ready market maker well many fine piece furniture make advanced student work hour holiday mind writing splendid make young man serve year furniture',\n",
       " 'apprentice work do hand shed rear latter see work quite complete offer buy thus finish sell sum material include mirror stain leaded glass hardware stuff tell cost consider work do nearly hour fifteenth end amount quite comfortable addition young man slender salary money gain fraction benefit derive experience knowledge obtain make furniture worth many time money receive',\n",
       " 'course think apprentice even large percentage could make piece furniture find purchaser make apprentice student could make would useful ornamental cash value open way cultivation broader exact artistic taste',\n",
       " 'taste founder style furniture prehistoric babylonian chinese medieval byzantine french gothic',\n",
       " 'modern colonial style essential cabinetmaker aspire know business cultivate taste make conversant various style able glance tell style line give piece furniture intend represent',\n",
       " 'connection may say propose lay reader chapter various style furniture illustration explanation detail also intend offer instruction perform work gilding stain polishing finish work complete',\n",
       " 'book value art cabinet make available american reader french german even italian quite number rendering would little use however try cull deem suitable page culling work consist mostly illustration represent good work french italian german master explanation may necessary american work real practical nature knowledge first cabinet maker companion stoke publish excellent little work contain quite number good',\n",
       " 'ceipt dyeing stain useful matter book still modern deal nearly altogether constructional principle cabinet make little say regard style historical peculiarity furniture book publish date manual good way write chiefly boy little experience woodworking may intend make cabinet make life work suit amateur worker rather intend follow woodworke living manual however prove useful intend work wood professionally amateur',\n",
       " 'many essay art furniture make journal art magazine generally academic character exception prove little service practical workman',\n",
       " 'brief history furniture growth may place purpose go subject great length devote illustrate chapter',\n",
       " 'first well know reference woodwork find book genesis instruction give make wood make window pitch pitch observe definite measurement specific direction thus hand may gather mankind acquire early period world history knowledge different kind wood use various tool',\n",
       " 'know also various bas relief find world museum advance old art civilization manufacture comfortable even luxurious furniture well know quite evident hebrew must best workman teacher taskmaster enable acquire sufficient skill experience carry precise instruction give build build year kind wood measurement ornament fastening loop tach curtain linen covering dry skin turn',\n",
       " 'exodus convinced direction mention give people considerable experience method carry work must resulted generation cabinet maker joiner weaver dyer goldsmith craftsman',\n",
       " 'year description build fit glorious gather different country skilful artificer time event mark knowledge skill thus bring together good work carry grand scheme worth refer old testament information bear subject notice detail furniture give approximate date generally accept particular importance attach precise chronology event concerned speak generally form landmark history furniture verse king tell content little chamber visit tell preparation reception prophet let set bed table stool',\n",
       " 'candlestick incident year later allusion description drapery furnish apartment white green blue hanging fasten cord fine linen purple silver ring pillar marble bed gold silver pavement red blue white black marble esther',\n",
       " 'unfortunately trustworthy description ancient hebrew furniture illustration offering similar book apparently draw imagination found description old testament table generally represent leg partly turn upper portion square ring attach pole carry nomadic people furniture would primitive may take come stock speak language ornamental furniture would exception representation figure man animal similar character say',\n",
       " 'doubtless prehistoric man make use stone pile sod seat spot rest',\n",
       " 'head use stone pillow quite common late early historic time may however find chair bed table furniture highly work ornamented least year show monument papyrus come also possess fragment bronze furniture make',\n",
       " 'contain egyptian seat make ebony preservation lasting nature material',\n",
       " 'egyptian chair throne illustrate fig first part work fig cabinet maker represent occupied chair make foot leg chair design animal limb stool workman sit block wood hollow top egyptian couch straight line design body curve head ordinary leg foot salient point carve head foot tail animal',\n",
       " 'box coffer gable top dovetail together small toilet box carve paint decoration mummy case cedar wood elaborate hieroglyphic decoration may see british chariot horse furniture well represent',\n",
       " 'chariot building export trade surround nation read import war chariot',\n",
       " 'egyptian furniture scarce furniture practically non existent climate latter country dry preservative example thathave wilfully destroy long ago perish many ornament bronze ivory decoration discover use mounting foot end leg seat chair throne',\n",
       " 'latter enable form fairly accurate judgment nature style furniture decoration heavy character fig form part animal',\n",
       " 'use nearly oriental nation furniture decoration human figure also use generally representation slave conquer people degrade position bear weight chair also carve human figure captive tie seat',\n",
       " 'furniture doubtless kind assyrian description apparently similar assyrian king lion arm support lion gold ivory step side throne',\n",
       " 'manufacture furniture nation antiquity principal material wood electrum also much use inlay solid mounting',\n",
       " 'furniture chariot greek early period simply copy egyptian asiatic source less animal form plant form decorative detail fig fold stool chair make wood metal back chair fl upright nearly',\n",
       " 'fig couch resemble modern sofa elaborate foot stool arm chair sphinx arm make',\n",
       " 'small model greek chair make lead wooden box show dovetail construction',\n",
       " 'later greek period furniture inlay ivory ebony gold silver tripod make bronze ornament leg lion leopard sphinxe roman bronze tripod similar grecian one',\n",
       " 'design use sacred purpose temple also support brazier heating purpose burn perfume house private people fig',\n",
       " 'mirror cistae make great quantity metal alloy silver',\n",
       " 'sometimes gold mirror polish face often rich design figure subject cylindrical metal box rest foot design various animal lid cover handle usually figure design whole surface body cover engrave figure composition ornamental border probably use contain jewelry',\n",
       " 'trinket fine specimen handmirror cistae may see british museum',\n",
       " 'furnish house roman much character greek',\n",
       " 'plan aspect roman house pompeii herculaneum table tripod bronze brazier support',\n",
       " 'leg make hinge fold purpose fig other sphinx animal form rich design fig lamp stand design quaint elegant',\n",
       " 'make architectural design carve marble foot height fig',\n",
       " 'highly prize pay good sum table make different hard wood knot grain show advantage beauty wood bring hand polishing stain',\n",
       " 'various colored much prize small table abaci rest usually foot monopodium large table leg',\n",
       " 'head animal carve decoration fig boxwood inlay ebony precious metal use material chair couch latter often make bronze fig chair state carve marble kind cast curule chair call',\n",
       " 'could fold carry easily curule chariot use early time roman modern day often construct elephant tusk wood metal foot curule chair carry outdoor use theatre',\n",
       " 'seat person often ornate kind seat turn leg similar couch fig',\n",
       " 'house separate room wardrobe fit keep dress cloth family room cupboard door shelve drawer locker',\n",
       " 'portable coffer chest use packed cloth valuable carry town country house roman furniture wooden construction house decorate painting carving animal head limb foot usual veneer wood art roman skille large small design tazsia work chief decoration good furniture',\n",
       " 'representation use finish tasteful specimen consequently material exist formation examine find amply repay trouble',\n",
       " 'endeavor obtain little insight form material furniture ancient time dependent different source accord country consideration ancient greece description classical writer painting pompeii chief authority ancient painting place generally specimen still exist asiatic stationary usage quarter seem form part furniture sitting room',\n",
       " 'make solid open side cover top leather interlace string',\n",
       " 'distinction bed couch seem clearly mark couch wood end raise recede graceful curve foot fashion resemble wild suppose couch rich cover day bedding night use wooden pillow customary make various material accord singular kind cavity head back neck may rest wicker bedstead sometimes make palmbranche form light kind grate bed bedding place table use various form round square ob',\n",
       " 'support central pillar often figure man captive table leg material table generally wood sometimes metal stone',\n",
       " 'curious exhibit year ago article furniture bearing much close resemblance modern day chair early time may many case readily mistaken use cushion modern native indolently recline belong oriental system furniture chamber furnish bed room bed day time roll place side adjoining closet sleep place winter summer many person sleep house top furniture room comprise pretty nearly mat carpet spread floor divan cushion couch meal round tray bring place low stool company sit round ground fire place room warm necessary charcoal burn chafe dish',\n",
       " 'pass find treat furniture room many matter singularly isolate chinese',\n",
       " 'much closely resemble',\n",
       " 'people customarily use chair resemble solid heavy chair fashion early part th century see illustration chinese often cushion back hang scarlet silk woolen embroider silk form figure furniture chinese',\n",
       " 'erally avoid straight uniform line even doorway instead regular right angle opening often present form circle jar fanciful doorway however use door open covered hanging screen cloth bamboo blind use chinese bed generally simple form cotton silk curtain heat summer bed individual middle class usually consist board lay couple narrow bench mat lie bamboo stick support curtain may readily sup',\n",
       " 'posed original country porcelain usual ornament dwelling consist material antiquity value',\n",
       " 'quality taste lead manufacture fictitious antique porcelain bronze substance point stranger lgure often egregiously',\n",
       " 'take ancient vessel real imitate often fantastical similar vestige',\n",
       " 'furniture table chair bed chariot byzantine period architecture classic roman mixture asiatic form design scarcely remain existence evidence extreme richness sumptuary furniture vessel great house palace constantinople owe become enriched treasure roman family naturally flee constantinople protection valuable effect',\n",
       " 'different variety seat chair footstool consuls seat represent carve many original cast other',\n",
       " 'preserve cover ivory carving fine example byzantine work',\n",
       " 'much furniture early century christian art represent byzantine illuminate manuscript bed couch keep old roman form turn leg chariot must use much old game chariot racing keep byzantine iconoclast',\n",
       " 'injurious rule last year responsible much destruction',\n",
       " 'sumptuary furniture well production artistic nature time indirect mean cause new development art western part particularly',\n",
       " 'rhenish province drive byzantine artist craftsman place welcome powerful noble churchman course time succeed found school art know rhenish byzantine fine illustration art see magnificent enamel reliquary shrine early piece furniture middle age see fig mediaeval chair throne high seat exceedingly rich design fig scandinavian example style many form romanesque see furniture carve gothic style immediately succeed former',\n",
       " 'ordinary house usually consist room sometimes shed structure erect wall room contain bed mistress rule inmate sleep large table place center room bench bag straw place seat back stool long settle bench back carve end arm chief article furniture',\n",
       " 'domestic improvement multiply room add house solar upper room parlor',\n",
       " 'talk room room fireplace chimney principal center smoke escape light principal addition furniture manor house cupboard press armoire chest piece',\n",
       " 'introduce sometimes portable press chest paint tempera decoration bind clasps hinge begin come use',\n",
       " 'bed clothe personal clothing noble rich landowner begin assume rich character often embroider',\n",
       " 'paint cloth hanging import also pottery ornamental description import make time',\n",
       " 'rich poor class remain long period primitive condition regard style house furniture',\n",
       " 'construction furniture panelling chest begin exhibit appearance good carpentry panel place framework mortise fasten wooden peg become universal method panelling gothic period room paneling come early part thirteenth century figure pine timber use first',\n",
       " 'work displace later panelling gothic period often carve elaborate tracery architectural character fig common design carve imitation carefully fold textile know linen panel fig',\n",
       " 'chest use table top inlaid checker use chessboard also use sideboard place dish food dining table place trestle could remove packed away require fig cross legged chair legged stool show fig',\n",
       " 'common century illustration fig bedroom',\n",
       " 'take manuscript date illustration many other',\n",
       " 'subject furniture indebted work pollen furniture woodwork',\n",
       " 'illustration flat canopy tester embroider hanging wall room panel floor checker par',\n",
       " 'quetry curious seat partly open press pottery metal vase place decoration top',\n",
       " 'period time important article furniture often make inlaid wood decoration strapwork iron ornate',\n",
       " 'hinge usual repository household valuable money treasure carry horse family move place place degree ch addition back arm become settle principal seat live room back develop added hood projecting covering',\n",
       " 'later development chest raise leg add back arrangement shelf display household plate give name dressoir dresser latter time develop modern sideboard',\n",
       " 'chest also important article church furniture sacred vessel treasure book priest lock particular',\n",
       " 'form chest keep church vestry cope chest take semicircular shape cope lay flat chest example chest still see large cathedral',\n",
       " 'give good idea state early gothic period',\n",
       " 'century use conveyance woman child common longshape cover vehicle wheel panel side paint decorate fig cart carry agricultural purpose use date twowheele vehicle usually solid piece wood',\n",
       " 'ingenious use wood carpentry carve turn lathe ingenuity skill carpentry turn see meshrebiya work lattice carving pulpit door panel',\n",
       " 'regard furniture domestic dwelling saracen elsewhere little movable nature small table read desk table saracenic design usually small great height width fig table kursys sometimes panel turn lattice carve decoration stalactite top illustration',\n",
       " 'light construction generally inlay shape brass silver ornamentation splendid workmanship next important article movable furniture read desk make form camp cross leg usually inlay decorate table',\n",
       " 'platform raise slightly grind cover cushion seat back carve cupboard shelve bracket',\n",
       " 'place keep ornament use complete usual furniture saracenic livingroom seat chair lattice work dikkas',\n",
       " 'sit usually find entrance hall add elaborate metal color glass lamp vase large metal salver rug carpet furniture saracenic complete',\n",
       " 'early part fifteenth century whole century furniture generally design less gothic line gradually new form rapidly develop architecture renaissance slow measure begin assert furniture design consequently find many article armoire press cabinet mixture style design instance upper panel would mediaeval low one style general construction would gothic detail decoration would italian',\n",
       " 'often case tardily welcome',\n",
       " 'style design furniture overlap much especially renaissance period become difficult assign correct date many piece important work gothic design continue use sixteenth century renaissance develop year',\n",
       " 'early authentic mean fix date certain work prove come hand particular artist record make king great person style always sure proof correct date',\n",
       " 'century italian furniture make church palace private house usually decorate painting sometimes gilt ground prepare gesso material gold applied part relief ornamentation',\n",
       " 'front panel cabinet chest marriage coffer decorate way',\n",
       " 'work know make great perfection time work geometric character design compose floral ornament sometimes consist representation landscape building kind inlay derive persian source develop chiefly venetian use mostly decoration stall table chair cabinet ebony ivory metal also employ italian period',\n",
       " 'italian cassoni marriage coffer ornate impose article furniture fifteenth sixteenth century place long hall corridor palace great',\n",
       " 'house usually give present newly marry couple generally use receptacle bride treasure latter century carve sculptural mythological subject ending corner half figure half foliage caryatid',\n",
       " 'foot design claws animal raise ground fig carve relieved gilding part sometimes whole gilt',\n",
       " 'example early date cover finely model decoration work gild case large panel front paint figure subject brilliant color heighten gold',\n",
       " 'less costly kind marriage coffer make cypress wood fit drawer decoration surface engrave etched',\n",
       " 'line grind slightly recess punch stamp fine ornamentation',\n",
       " 'italian variety chair carve gilt style period coffer usually place row latter hall italian palace fig chair back leg richly carve part make single slab wood',\n",
       " 'pair bellow fig illustration design workmanship show work wood carver sixteenth century period',\n",
       " 'fine wood carve italian stool fig date remarkable delicacy treatment',\n",
       " 'form chair rectangular character arm emboss leather velvet cover seat turn carve leg rail make time fig much use subsequently continue favor present day',\n",
       " 'cabinet make slab beautifully color veined marble rare stone insert panel various shape pietradura give',\n",
       " 'seventeenth eighteenth century paint plaque porcelain take place marble',\n",
       " 'great house private religious king palace elaborately furnish keep state great splendor',\n",
       " 'church also furnish elaborate stall pulpit rich utensil latter style design still mediaeval',\n",
       " 'style gradually alter italian form great italian flemish french furniture largely import italian artist design furniture goldsmith work',\n",
       " 'great activity take place architecture industrial art country imitate seek work italian school',\n",
       " 'already mention french king medicean princess sixteenth invite other succeed found style time many french artist journey acquire new style evolve study old classic remain country name principal french artist sculptor carver period bacheli publish',\n",
       " 'design kind decoration carving hugue sambin dijon man',\n",
       " 'also designer heavy rich furniture characteristic french renaissance artist work notice chapter architecture metal work cabinet fig good example architecturic style french furniture sixteenth century french wood carving distinguish',\n",
       " 'italian period work fig characteristic style',\n",
       " 'take firm piece furniture generally prove thorough master style especially skilful carve wood gigantic minute scale whole front house elaborately carve design consist figure work animal ornament grotesque quaint humorous description exceedingly minute work figure subject animal carve box wood delicacy quaintness often excel ivory carving japanese escritoire buffet cabinet furniture make export country',\n",
       " 'flemish english furniture carving pretty much alike period piece carve furniture flemish solid heavy design thickness material generally oak chestnut much flemish furniture import time work close resemblance former great difficulty experience classify example period table fig socalle great bed ware example furniture period fig',\n",
       " 'duced first instance native carver felipe',\n",
       " 'teenth century berruguete style renaissance soon spread great quantity carve inlaid work elaborate altar piece execute prosperous spanish period sixteenth century',\n",
       " 'fame marquetry inlaid work cypre',\n",
       " 'import venetian spread rapidly furniture make marquetry decoration degree supplant heavy classical architectural design',\n",
       " 'leave italian sixteenth century work must notice mirror elaborately carve frame venetian design renowned make glass still famous certain privilege grant state exclusively venetian manufacturer look glass glass maker name inventor grant year sole privilege make mirror glass term year previous time mirror',\n",
       " 'make various polished metal frame venetian mirror often elaborately carve fig make design strictly architectural character represent window frame pilaster frieze cornice sill plinth carve frame often part wholly gild export considerable quantity picture frame similar way mirror carve gilt frame soon use picture frame later gilt furniture kind make venice great favor country continent',\n",
       " 'manufacture marquetry furniture dutch seventeenth century mention help great measure change style furniture design former architectural character great simplicity construction large panel surface use purpose show great advantage rich bright color different kind hard wood use marquetry natural stain variety various wood arrange design position foliage employ mix large tulip rose bird dutch marquetry decoration material also use inlay similar kind marquetry',\n",
       " 'develop design consist figure subject imitation ruin landscape complete change design furniture latter country also effect desire large surface inlaid work could seen great advantage space divide architectural moulding pilaster precede early work end sixteenth century early half seventeenth sumptuous furniture bed general furnish well class house european country characterize use costly silk brocade tissue embroider covering hanging',\n",
       " 'thus seek give furniture appearance rich possible kind article chair couch bed lose corresponding degree elegance former constructive beauty gorgeous italian oriental velvet covering frame construction cease visible piece furniture still retain sumptuous reign table armoire cabinet book case pedestal clock stand',\n",
       " 'case come influence architecture period select good architect cabinet maker day design furniture palace tuilerie',\n",
       " 'great connect design manufacture magnificent furniture',\n",
       " 'period work know name celebrate furniture elaborate kind marquetry material rare wood mounting moulding salient point make brass beautifully chase finished moulding form mask foliage cartouche animal head foot bear year',\n",
       " 'also distinguish ebeniste cabinet maker possess artistic gift much high degree addition make special marquetry design also execute good deal good work design berain chief collaborateur berain design italian style symmetrical composition ornament correct architectural point view attribute design much looseness freedom prevalent ouatorze',\n",
       " 'death formerly live royal gallery office ebeniste king become vacant appoint mace instal room year previously execute important work king know able time',\n",
       " 'trace indian encrust ebony metal find way work consist chiefly casket coffer small piece furniture inventory',\n",
       " 'make lectern coffer inlay ivory bone ebony similar work mention inventory early notice marquetry furniture make probably imitation oriental work',\n",
       " 'period buy magnificent furniture portuguese merchant mention make chair table coffer cabinet mirror frame belong person french court work make marquetry',\n",
       " 'sixteenth brass tin exotic wood use inlay addition east see invent celebrate marquetry bear name however bring sumptuous form cabinet work perfection patronage opportunity develop artistic ability utmost',\n",
       " 'making first prepare veneer wood shell brass thickness perfectly plain surface veneer',\n",
       " 'glue together pair opposite material accord nature effect require',\n",
       " 'finished work hold together firmly vice design trace surface upper leaf veneer cut line',\n",
       " 'sharp strong knife fine see thus piece marquetry make cut plaque form design compose tin brass afterwards engrave chase technically call form call count effect together know contrepartie',\n",
       " 'later work know second style shell veneer lay clouded vermilion gilt',\n",
       " 'sculptor metal mounting foliage mask decorate work spirit design skilfully chase finish fig execute great number costly piece famous marquetry many find way work fetch great price rare occasion make appearance sale',\n",
       " 'prominent name designer maker furniture former maker celebrate pomeranian',\n",
       " 'note carver gilder cabinet maker work extravagant style first half',\n",
       " 'piedmontese cabinet maker honor italian court execute many work ivory carve marquetry work style boulle many cabinet maker carver employ make furniture decorate palace turin may mention name',\n",
       " 'chiefly make kind marquetry light wood indebte furniture name list many other find end useful book',\n",
       " 'architect design furniture decoration heavy classical style shell work grotesque little cupid also engrave publish book study make work director decoration work heavy aim effect director gobelin manufactory style work harmony pompous idea say letter friend stateliness architecture thing would perish symmetry cause door window construct pair opposite give live palace death cold draught air',\n",
       " 'century early follow art wood carving greatly develop style',\n",
       " 'velope less realistic baroque form renaissance fig gibbon carry',\n",
       " 'carving astonishing degree realism bouquet flower festoon fruit flower bird figure drapery execute high possible relief look',\n",
       " 'tached yet usually form part solid wood background carve singular apparently hesitation part carver though may condemn florid looseness style gibbon must admire dexterity general technical excellence impart touch good work may still see',\n",
       " 'assume light fanciful character naturalistic still classic detail style gillot chief exponent pupil make great name painter pastoral scene fete galante kind light daintily treat subject theatrical artificial kind composition color silvery harmonious sometimes decorate furniture pastoral scene',\n",
       " 'style begin early man lastly great apostle designer furniture architect belong period execute work reflect loose',\n",
       " 'unrestrained character chinese naturalistic element graft mixed former addition still life duty architectural form object pottery metal work combination shell work element make style know different name',\n",
       " 'furniture make curved swelling panel show advantage marquetry painting gold ground kind panel frieze know bombe',\n",
       " 'say italian first introduce designer go far wilderness furnishe perfect example want balance symmetry design furniture woodwork silver smithery model decoration work illustrate broken shell shape panel frille scallop edging curve moulding',\n",
       " 'room line look glass moulding well adapt show good advantage glitter gold leaf use inordinately furniture decoration period',\n",
       " 'usual color decoration ceiling furniture carriage host minor article fan box latter small article well state carriage decorate paint',\n",
       " 'ing know carriage invent particular hard varnish lacquer bear name quite likely possible successful imitation japanese gold lacquer decorate article period import portuguese trader carriage table cabinet especially small article snuff box needle case paint decorate small object beautifully mount chase gold',\n",
       " 'quite common practice cover panel furniture plaque japanese chase metal ormoulu decoration unique commode illustrate fig make panel old lacquer highly decorate ormoulu mount period',\n",
       " 'latter half eighteenth century improvement design furniture ornament generally creep owing study ornamentation design classic object find bury city herculaneum pompeii city discover year later book publish illustrate bury remain help change',\n",
       " 'prevail taste apparently gratified mixture graft certain quality classic form former frivolous style',\n",
       " 'style furniture ornament develop know consist ornament composition scroll garland bow quiver arrow ribbon knot medallion classic cameo cut subject moulding fine delicately ornament straight line variety fact straight line reassert architecture furniture design see fig refresh healthy contrast totter riotous curve',\n",
       " 'beautiful furniture expressive utmost elegance make riesner decorate ormoulu mount gouthiere riesner gouthiere able man time generally work together make decorate fine furniture period fine example furniture much make antoinette fig',\n",
       " 'wood tulip wood holly maple marquetry work use oak lining foundation',\n",
       " 'good piece usually mount ormoulu bronze never equal founder chaser',\n",
       " 'class work prieur also good chaser furniture decoration period design heavy classical kind cauvet german work design graceful arabesque figure work publish book design design work may class category cauvet salembi prolific designer light free kind arabesque many design silk may see fabric design furniture carving also fame state public garden',\n",
       " 'piranesi principal designer publish extensive work bring travel bringing also classical idea develop influence great extent style architecture furniture design country adelphi building house place build design',\n",
       " 'make design fine moulding medallion rosette light garland capital classic form flute pilaster column design utmost restraint style even coldness',\n",
       " 'famous cabinet maker eighteenth century furniture even good imitation fetch good price present time publish book furniture design interior decoration year son suppose make nearly good mahogany furniture know',\n",
       " 'chair fig good example chippendale furniture chair make',\n",
       " 'know cabinet maker make excellent mahogany furniture last century publish work subject latter end century',\n",
       " 'name gillow cabinet maker decorator',\n",
       " 'decide phase dry heavy classicism apparent furniture design decoration period return classic heaviness attribute influence academic painter likely pander seem universal desire make echo reflect measure glory decoration greatness new french empire consequently heavy ponderous style period know empire style furniture empire usually make mahogany decorate mounting brass bronze sphinx griffin roman emblem antique scrollery',\n",
       " 'name french cabinetmaker designer work empire style publish book design fig',\n",
       " 'style copy endless imitation french fashion table sofa chair cabinet clock design antique ideal',\n",
       " 'century mediaeval gothic style partly revive architecture furniture mainly owe effort pugin architect design many',\n",
       " 'piece furniture publish work consist gothic design year effort pugin eminent architect purist particular lasting impression make direction',\n",
       " 'good cabinet maker shop present day furniture good design',\n",
       " 'make majority work make machinery often much work upholsterer consequently less artistic mechanical design construction',\n",
       " 'beautiful japanese chinese manufacture make carved wood lacquer black red cabinet drawer quaintly contrive cupboard recess fig make japanese finish lacquer inlay especially skilled carve work vase great dimension exquisite workmanship material may seen various museum work also execute great skilfulness native golia make various color golden decoration make tinfoil varnish yellow make copal sweet oil boil together box bedpost furniture make wood papiermache lacquer decorate flat rendering flower convenfigure',\n",
       " 'tional animal bird fig kind toy weight measure cook utensil circular playing card turnery etc object small ware make choice',\n",
       " 'look past age day supremacy listening wonderful tale magnificent luxury extreme prodigality sovereign reign lord lady live time lead suppose furniture palace kind could restore original splendour would strike eye present generation great architectural beauty dazzling gorgeousness',\n",
       " 'learned look longing eye place luxurious ease reach high attainable point human skill think harem turkish vizier must sort fairy palace line silk satin full couch soft easy recline enough send sleep',\n",
       " 'tell person proper idea furniture day go strange yet instance people know little fine furniture present day shop turn bedstead',\n",
       " 'set frame people make seldom see finish house carpet curtain completely furnish would scarcely recognize result',\n",
       " 'majority people obtain idea furniture modern well ancient reading twothird description furniture write fabrication fertile brain know therefore read account ancient furniture great superiority use first see whence authority come believe see account magnificence furniture roman time constantine table chair inlay gold silver precious stone ease barbaric startling chair table uncouth cumbersome uncomfortable people believe comfortable elegant may heavy gem gems beautiful chair',\n",
       " 'twelfth thirteenth century attention pay architectural part furniture time lack instead follow true principle architecture endeavour furnish luxury art adopt',\n",
       " 'style art little comfort set fashion glitter glare time money spend gorgeous furniture dark age even except shoddy time recollection',\n",
       " 'much fault find modern furniture time well meet want people condemn want architectural merit much particularly rich class present day superior ancient furniture twelfth thirteenth century artistic merit little comfort rude construction beauty design lose rough unfinished look present today high finish elegance construction invite look comfort much retard introduction pure architecture thing art comfort combine well may soon see inclination way say year hence people nineteenth century first turn perfect furniture ought properly say latter part nineteenth century perhaps could much old cradle bad furniture early part particu',\n",
       " 'mixture always bad english nondescript shall call let know look none would care use',\n",
       " 'sumptuous furniture old sufficient prove truth statement make advance make period wealth luxury could desire see beautiful bedroom instance visit mind attractive kind grave stateliness pervade whole mother present day may perhaps feel interested know kind article cradle century specie box coffer rocker decorate elaborately carving later time french feeling creep furniture thinking mean improve',\n",
       " 'illustration elaborate highly decorate character furniture belong sixteenth seventeenth century show page reader may derive useful suggestive hint reproduction',\n",
       " 'know great power world certain fascinating spirit call fashion control fancy compel predilection',\n",
       " 'pleasure change predilection form color practice quite independently reason seldom direct opposition commonsense',\n",
       " 'fashion nevertheless sometimes brainless spirit expression may allowed spirit sense good evil ally taste good bad moral order good bad old connect good taste wish could add good moral progress perfection maintain alliance perfection attain fashion inestimable value instance fashion find capable fix good moral order course worth still far transcendant perhaps oftener make bad taste immovable afford great example',\n",
       " 'architecture literature even dress thing settle general allow criterion perfection year spirit fashion hold persevere connection spirit common sence good taste could woman exclude general society little influence direct fashion support wayward fancy surely spirit steadiness',\n",
       " 'matter know eminent famous persevere century may hope persevere long world shall last long shall please providence english nation exist matter taste certainly',\n",
       " 'adverse good taste spirit novelty matter taste almost commonly many wrong way right novelty allow readily pass wrong right rate perseverance wrong must many time prevail fashion long country especially late day hold close alliance fashion novelty ever change moment determine thus fashion still appear easily lead way',\n",
       " 'high estimation whimsical spirit hold extensively net say universally lady enough know lady even rarely natural good taste improve often much pervert education teach infancy consider sovereignty even decently opposed live feeling charm novelty set',\n",
       " 'business furnish house range fashionable upholsterer warehouse feel sea delight seek compass look fashion polar star sail fill novelty give helm fancy',\n",
       " 'clear weather temperate license fashion handmaid variety dispensing wind ever shift fancy distract grow giddy nerve hand shake eye twinkle long day take height night discover polar star changele polar star fashion thus distress lady seek advice experience cabinet maker upholsterer call assistance',\n",
       " 'other variety object upholsterer workshop professe infinite reverence fashion loyalty fashion may happen reign day vicar ever acquiesce loyalty ever aim unsteadiness reign fashion less anxious upholsterer prepare adore rise sun difference always ready revolution devote present power dread change other may wholly un',\n",
       " 'commit advice make inquiry gain attainable information purpose direct upholsterer versed way lead',\n",
       " 'behoof maker upholsterer much talent matter taste cultivate distinguish good bad behoof know weak point nature advantageous gain prevalence new fashion bad taste grossly bad surer great benefit easy task bring change thing change beneficial',\n",
       " 'interest opposition architect put command room first purpose must overwhelm architect work elegancie marble daylight indeed little dependent must window architect stove bring use want also give say throw many fold drapery suspend golden fashioned pole shall see need architect art supply',\n",
       " 'proceed subject venture state principle trust admit hope recommend lady',\n",
       " 'decoration architecture fit see rather deserve treat upholsterer would properly treat barn style decoration respected design furniture upholstery upholstery subordinate architecture requisite fear may superadd furniture part gaudy assorted color awkward form even elegant form folding kind display may deserve however warrant thefashion day avoid idea nakedness female figure abundant complexity mystery fold drapery room receive figure accustom see harmonize fashion indeed powerful sometimes grossly perverse could reasonably do human head century successive fashion full bottom hair dressing intervene follow wig elaborate hair dress abolish fashion must confess strange power fascination even strong mind difficulty wholly resist even power exert opposition evident reason fashion obtain universal last prevalence',\n",
       " 'son compel generally large choice open reason well taste may well venture opposition partial ephemeral absurdity due exertion would prevent gain overbearing ascendency',\n",
       " 'present rage old article household use table decoration personal adornment whim fashion many instance covet article element propriety modern life valuable light beloved friend historical event',\n",
       " 'apart consideration love genuine old relic furniture especially excellent reason really valuable useful article household economy unreasoning style relegate second hand furniture store attic barn perhaps ruthlessly destroy replace modern article far inferior present spring seat tufte cushion tortoise back seat half invite restful old fashioned flat seated broad sofa long enough receive footer broad enough hold safely sleep overtake many article solid suspicion veneer form really elegant day modern veneer upholstered furniture require repair',\n",
       " 'year wear revamp recollection year old child source rage antique furniture also demand old time honesty workmanship spite sneer old style straight back chair old style furniture make convenience never convenient article furniture old cabinet bin drawer fold desk back pigeon hole desk hinge let form write shelf project far enough forward give room writer knee cupboard useful article kitchen dining room contain wide drawer door open shelf rack whole standing leg high enough admit sweeping cupboard memory recall framing end panel drawer front cherry native wood creamy white hickory contrast finely warm wine red cherry color set pendent pull key polish ungilded brass could repolished keep dilapidated appearance',\n",
       " 'warm gild brass present article furniture would give air substantial comfort modern home',\n",
       " 'inferiority modern make furniture can properly attribute machine duplicate work possible make first class work duplicate machinery hand else hand tool machine tool would much costly undeniable furniture make memory elderly portion present generation compare favorably make durability integrity workmanship quality would well manufacturer share rage antique',\n",
       " 'mediaeval furniture mobilia rightly style rare manifestation art work handicraft knowledge principally picture illustrate mss carving contrary receive opinion acknowledge authority mediaeval art convince would difficulty produce complete history mobilia material could drawn source indicate see many modern specimen bad vitiated class work make time splendid decoration reign place art indeed thing art exist period modern borrow almost model precisely unhappy choice',\n",
       " 'could make account amount useless expensive vulgar decoration lead mere system construction adopt false far happily insure last durability product workmanship furniture country echo form prevail old table seat couch preserve british museum collection testify thing copy bronze marble express exactly kind thing point extreme chastity form peculiar idiosyncrasy nation less skillful manner put together mechanical ability doing matter derive similar source example curule chair may belong pro elsewhere indeed remain strange legend attach saint questionable verity appropriateness pompeian picture bronze must rely ignorant thing seemingly much perishable fragile manufacture glass earthenware even iron innumerable specimen exist many remain old doubt gorgeous illumination',\n",
       " 'period low empire furniture use work extraordinary splendour gild incrust inlay ivory jewel degree quite marred artistic beauty much purify italian taste slight',\n",
       " 'trace find work affect thing oriental neighborhood association venetian improve work understand chasten truly enrich tawdry decoration greek conqu island commercial seat many part byzantine empire bring contact point character constructional felicity almost none byzantine example knowledge',\n",
       " 'ever current architecture art major well minor art subordinate fact subordination ever needfully bear mind student archaeological science mediaeval art find lead fact constantly forget writer art furniture particularly paint become serviceable thirteenth fourteenth fifteenth century never miss opportunity employ art way hence several painter begin life decorator many sculptor begin goldsmith marquetry effective mean decoration become estimable early period epoch careful method execution later fine form color pattern display sixteenth century much beautiful work produce early decade indeed regard culminate period furniture designing color due mean rich velvet silk brocade woven gold thread take precedence characteristic ornamentation somewhat late portion era carve many french german work testify largely employ character run ruinous next lavish magnificence take place beautiful design use thing become hidden desire waste',\n",
       " 'costliness folly extravagant ornamentation time begin still exist mania furniture make show shut room wastefully decorate merely costly ornament intend see sparingly bring use bright poker idea hence find reception room fine use frail furniture man woman dare intrust person sumptuosity ridiculous degradation taste burst preposterously tawdry gewgaw see sale room old household break overloaded jewelry vile carving generally make imitate remotest resemblance real nature article question preferably farthest thus cabinet faced world architectural frontage chest drawer miniature frontage expect political state time hideous monfigure strositie come',\n",
       " 'originate craftsman vie city dre',\n",
       " 'make monstrous foolery wasteful usual utter degradation keep fashion early date improve native gift taste current manner old inheritance see even time',\n",
       " 'later seventeenth century especially whimsicality take new hothouse sort life meretricious vitality disease often break get vogue oddly shaped form moulding inlay employ flat surface bear man live mind patient dull elaborate combination art necessarily therefore devoid real taste common sense incrustation brass copper tin even silver engrave imitate relief actual moulding wreath term mask pretty early age attach article office almost invariably hide dishonesty construction give curve weak angle strengthen spindle line eye least fact indeed notably mark characteristic class work tendency willfully false one see craftsman ignorance demand duty thing may employ give real strength need',\n",
       " 'supplementary sort willfully give look strength malicious intention lie lie sake neglect duty easy honestly fail neglect thus major art time thus life leader least thus lie surface rotten era fiery revolution could purge pure',\n",
       " 'mere costliness element art good taste see handsome chair sell price would condemn eye untrained wealth see tea table poor lowly low cost would put blush possible much high price porcelain decorate cabinet wealthy',\n",
       " 'perfect many process manufacture place disposal artist ornamental designer mean reproduction work slow avail class undoubtedly occupy definitely position leader teacher fairly entitle hope teach standard public taste raise soil cultivate rank weed intelligent laborer manufacture advance taste condition art manufacture middle age reverse reproduce skillfully',\n",
       " 'cheap rate pattern example power cheap reproduction many design worth reproduce wisely store museum good example human invention thus provide standard check vain idea may dispose entertain intellectual superiority advance taste',\n",
       " 'never world history mean spread taste art people abundant production manufacturer place cheapness bad taste design note fault hardly lay door producer many case fail secure service original even capable designer drive pander taste would willingly enough direct could call school design institute expressly provide manufacturer intelligent designer able mean lithographic print photo engraving distribute cheaply make common property length breadth land fine example good art form may appear yet comprehension good design appreciation beautiful form sentiment color barbarous people compare eastern nation gothic ancestor best say',\n",
       " 'feel inferiority look indian shawl moorish pitcher persian chinese vase try unsuccessfully reproduce actually reproduce ceramic ware th century glory vainly strive copy mediaeval stain glass window drive confess people flourish capable design gold set brooch put barbarous effort shame',\n",
       " 'spread art thing advance eye open would vain deny taste arise desire class people appropriate form art evident taste imply accuracy judgment power execution follow wake taste man know man',\n",
       " 'first name may considered vivant fond dish distinguish nicely savoury delicious flat insipid ingredient second regard cook know thing mix well together distinguish nice taste arrive happy result able compose exquisite mixture',\n",
       " 'construction ornamentation furniture building ground clothing',\n",
       " 'else character external several thing consider relation need comfort enjoyment mere necessary life really even may multiply culture high civilization certainly need many thing savage would even incumbrance increase number artificial circumstance fully supply ought satisfied may consider adapt promote comfort gratify taste minister appropriately direction enjoyment present purpose connection cabinet upholstery work sufficient consider thing novelty taste utility',\n",
       " 'novelty always source pleasure afford healthful excitement mind reason frequently sudden extreme change fashion desire visit locality scene new strange effort secure gratification sense ever new mean pleasure excitement conservative critic may find fault long human mind tire sameness seek change desire repose permanency con',\n",
       " 'dition surrounding cease acquire develop power begin decline come old age quality novelty would cater popular taste secure maintain successful business must aim connection quality excellence also unquestionably true desire effort novelty lead sometimes adoption style ornament unsymmetrical incongruous strike sometimes even almost pleasing crave greatly offend good taste certain established principle basis correct procedure rule mechanical practice even come establish custom may depart neglect infringement fix principle name fitness utility propriety seek novelty artist mechanic introduce violation principle unity harmony forfeit call sense artist let rather search union novelty beautie constant consideration reference fundamental principle end well thoroughly study detail work ancient art gothic mediaeval style remote classical may gather',\n",
       " 'exact reproduction suitable combination afford design may applied modern use excellent effect internal finish furniture',\n",
       " 'consider next place element taste construction ornamentation say art lend object value great material workmanship consist even object form precious material rare marble scarce wood silver gold material less intrinsic value yet depend art taste display figure ornament beautiful tasteful commercial value remark true good name open sentence article line manufacture follow manufacturer high degree secure production establishment shall great degree tasteful style beautiful fact secure mean advantage busy expenditure employment designer shall true artist even may seem hardly necessary profitable may prove really wise principle satisfactory result workman also may great benefit study work thus greatly enhance value become mechanic novel form',\n",
       " 'original form chair table whole detail really tasteful thing beauty truly artist laudable ambition manner rise fellow let acquaint law beauty shall able see difference reason beautiful ugly graceful deform refined coarse let study work art age great variety subject art apply open new fruitful source pleasure add mere skill use tool development talent shall command price',\n",
       " 'propose consider utility may appear independent measure consideration name manifest adaptation purpose design element decision question tasteful human mind may aside consideration use seem form comeliness assume certain appearance beauty seem precisely fit convenience user also clear purpose object intend meet structure form adjunct sake merely decoration permit interfere utility',\n",
       " 'inconsistent position occupy relation whole subject article material study adaptability form',\n",
       " 'essential article manufacture assume certain form decoration may appropriate material would equally adapted look equally well material entirely different character essential good design',\n",
       " 'industrial art adaptation natural characteristic material design realize form also must case subserve purpose article make line graceful true relative proportion part consistent convenience person may use article however objection make chair lounge can sit rest easily comfortably sufficient answer form graceful line beauty tasteful design material cover harmony proportion color article look merely chiefly use form suggestive rest refreshment repose illustration may give point however suffice illustrate position whenever utility sacrifice novelty ornamental appearance however pretty article badly design art skill exercise practically throw away',\n",
       " 'word less indefinite mean admit wide comprehensive translation accord context word idea previously exist mind hearer perhaps none difficult explain word style',\n",
       " 'shall find large range wide divergence center mark put thing signification manner write regard language manner speak appropriate particular character title appellation may right rate enough require go lengthy definition merely throw suggestion unite other seed future comprehension',\n",
       " 'think may acknowledge style instrument power emphasis expression work render intelligible form would otherwise meaningless purposeless word artist habit associate even confusing style manner repeat designate mannerism feature often enable distinguish production man even age wide difference style style advance attach make intention evident increase force expression well free impurity way help object serve good purpose fact frequently merely mirror artist may period live unconsciously reflect',\n",
       " 'style manner frequently mingle render difficult separate distinguish confess simple text put think carefully attend perhaps serve exact definition show style even tell proportion mannerism introduce',\n",
       " 'question student constantly consider tend elevate may send forth keep free much detrimental excellence time highly seductive young mind wish impressive advice can help fancy moment usual quantity mannerism pass style world art student mistake run wrong thing affect peculiarity imitate weakness belong past age quite place present day say invidious acknowledge many fine work put carry powerful emphasis spirit simply treatment part serve elucidate mean intend sculptor weed mannerism grow time mannerism derive even good',\n",
       " 'style gold color whence come relate style derive profound knowledge',\n",
       " 'style imply simple excellence treatment contradiction absence quality read mannerism always equally applicable carry art subject talk classical style think adjunct properly attach meaning word rather mean capable great extension severe style perhaps pretty much quite thing classical gothic style cling certain extent classical peculiar expression simple florid style much say directly oppose domestic style contradict entirely set defiance classical may even add grotesque style hardly claim relationship endeavour explain difference requirement',\n",
       " 'classical style would line adopt work subject treat belong',\n",
       " 'classical day old associate grand old bard distant footstep echo corridor time conception admit minute detail dwell petty thing illustration style severe simple',\n",
       " 'everyday nature less endeavour conceive even long exist ideally less clear accord capable enter feel poet become part',\n",
       " 'error modern imitator greek art generally commit exaggerate tendency straight line repetition',\n",
       " 'gothic style say retain connection classic preserve quiet',\n",
       " 'simplicity grace line much mannerism can deny arise often mistake worker fancy rudeness exaggeration form necessarily belong peculiarity however decay period time rise beauty fine art th century style certain tone feel religion quite distinct greek less earthly sensuous pure ethereal divine speak course monumental religious art thing gothic appropriate domestic homely sphere always appear place unsuited purpose',\n",
       " 'great architect way would idle assert good sculptor reason however fine work combine gothic style make quite compatible',\n",
       " 'even florid style dislike somewhat debase art feel much incline stigmatize title mannerism sometimes admissible fact must acknowledge circumstance appropriate instance room place amusement surely place',\n",
       " 'spirit suppose pervade scene',\n",
       " 'severe unaffected classical style would damper enjoyment circumstance look coldly real life take speak glance colored glass imagination',\n",
       " 'poetic drama tempest seem give florid style elevate poetical imagination scene portray lead away realm ideality florid enjoyable reality compel day take part must art rate furnish portion enjoyment best bend feeling',\n",
       " 'influence high ornamental sculpture frequently join hand together present real personage representative particular idea decoration scene create transient pleasure moment line may flow great freedom figure perform part less reserve occasion style may short florid anywhere color may introduce statue well ornament danger become sensuous refinement design execution',\n",
       " 'introduce keep way great dramatist do fairy tale allude scene character connect low feature humanity preserve relationship real imaginative work art literature entirely other creation poetic fancy serve lift upwards realm ideality make well enjoyment receive say soar region rhodomontade lose practical may tell need feel strictly bind rule style other form require true modesty nature generally may make elective departure truth rate exaggeration fact proportion nature give different object creation may deal freely alter suit rpose expression effect put high example walk art strictly speak ornamentalist sometimes attempt high art often lack correct proportion instance hardly hide practical eye want proper balance part sometimes indeed metal work use freedom license serve stvle',\n",
       " 'work belong answer purpose view rarely ever quite natural always florid style always effective',\n",
       " 'impossible work kind write length various style content touching style seem much favor certain period go matter extensively would require several volume great dimension present',\n",
       " 'art science get glimmering pertain early example furniture come source',\n",
       " 'many people imagine habit sitting practice old race way associate civilization investigation however show habit acquire mark high notch civilization advancement indeed estimate cent human family practice sit civilized plan',\n",
       " 'man sit attitude rest woman use squat heel favor body fall toe keep balance comfortably arm must hang hand dangle cross legged attitude siam country',\n",
       " 'man crouch knee raise arm fold chin rest arm woman',\n",
       " 'region rest floor sideway thus throw weight outer part thigh comfortable posture civilize',\n",
       " 'advance furniture become necessary first ruler begin throne seat honor king noble rich merchant follow provide furniture less costly perhaps equally useful own used state official work class poor doubtless content sit mat papyri stalk shelter rough cabin mud rich dynasty date twelfth thirtieth furnished house costly furniture consist principally rich bed couch bed mattress pillow cushion wooden head rest stand table chair high low back fold stool box chest hold clothe object early period high back chair use time eighteenth nineteenth dynasty import tribute stone wood object also great antiquity represent coffin sixth follow dynasty exhibit great variety shape consist curved semi elliptical portion adapt hold head support column contrivance rest base pedestal furniture various wood employ ebony soft cedar sycamore other specie determine ivory',\n",
       " 'elephant use inlay also glass paste specimen marquetry uncommon painting tomb gorgeous piece gild furniture depict cushion fowl color stuff appear use seat plaited bottom linen cord tan dyed leather throw sometimes skin panther use purpose whole egyptian house lightly furnish encumber many article use present day carpet use mat plain fiber child servant sit rather squat',\n",
       " 'chest show fig seem popular piece furniture number find depict tomb monument show fig also common article furniture ruler rich many finely upholster handsome costly fabric',\n",
       " 'fragment show still existence preserve show remain veritable chair use throne make thing lively year year far know venerable piece wooden furniture world',\n",
       " 'decorate incrust mosaic old year exhibit throne rather remain dilapidated condition secure brass band make appear lignum dark color cocus wood inlay carve portion gold plate sacred serpent show upright back however treat detail illustrate little silver ring sink probably conventional render snake skin',\n",
       " 'article furniture exhibit group fig show stool stand stool head stand photo original year old suitable stool seat precisely modern kitchen chair wood slightly concave promote sitter comfort support leg curve outward simple convenient admirably adapt long service several seat form leg principle common campstool well make low part leg carve head geese inlaying',\n",
       " 'various museum many article luxury comfort take egyptian tomb demonstrate extraordinary state civilization culture attain ancient people aid form picture domestic habit box chest table shelve great variety unearth inlay various wood little square bright turquoise blue pottery let relief other veneer wooden spoon carve intricate design representing girl flower work great artistic skill boat wood head rest carve model part house granary together write material different kind tool implement quantitie personal ornament requisite',\n",
       " 'indeed know lead believe long know enjoy remarkably high state civilization learn accompany advantage',\n",
       " 'figure give group exhibit old chair couple egyptian chairmaker work tool material scatter floor see square couple adze drill hand workmen bor',\n",
       " 'chair use bow turn drill tool much tool use today several finish chair leg see wall carve wall execute year ago',\n",
       " 'furniture use chaldean hebrew old nation similar type egyptian may see refer number illustration show also example greek roman furniture give',\n",
       " 'chair show fine example construct egyptian line later style rather example later style show fig coronation chair other show first chapter',\n",
       " 'gothic style furniture begin reign style grow byzantine style architecture introduce artist craftsman bring return crusader',\n",
       " 'thirteenth fourteenth century remarkable general development commerce merchant trade extensively grow opulent home naturally display sign wealth comfort former time impossible prince rich noble',\n",
       " 'quarter taste high rich coloring testimony old writer describe interior hotel residence several great personage give brother palace room use cloth gold embroider windmill rich carpet gold flower cushion cloth gold summer carpet',\n",
       " 'fourteenth century find canopy add chair carve oak chestnut sometimes elaborately gild pick color canopy seat bulky throne construction abandon end fifteenth century somewhat small less massive seat',\n",
       " 'high back chair show fig sample style chair table bed fitting make style interior rich carving massive stiff informal plate exhibit chamber style period show bed several piece furniture fig show german chamber somewhat later date french carve canopy period example much follow fashion last well period french furniture take place',\n",
       " 'assume style show plate french furniture continually change style early late seize empire style change imitation modification',\n",
       " 'wood chinese lacquer imitation mean give name prefer material bronze mounting set panel cut highly elaborate pattern decorate cabinet cafneri marquetry work make conform prevailing style continue heir celebrate workman',\n",
       " 'style old element introduce new one narrow much lengthen take place rich',\n",
       " 'new form become associated shell perforate stone development natural science interest manifest gathering collection shell share together popularity bring triumph style',\n",
       " 'interior style also include decorative chinese fancy carve elephant caffieri clock character italian comedy reminiscence watteau little love sport meet',\n",
       " 'pretty much everywhere ceramic jewelry box bon bonniere fan transom panel screen many quaint curious fancy peculiar era',\n",
       " 'fig carve bed fig fifteenth sixteenth century good example work period offer many suggestion designer carver workman bed show fig use rich decoration costly drapery',\n",
       " 'plate show whole series detail seize style cabinet maker may garner',\n",
       " 'many good thing nearly purpose fig show cabinet style elaborately finish decorate gold thing beauty',\n",
       " 'purchase museum cost table show fig fine style seize beautifully carve fig show good old fashioned commode ornament lavishly bronze inlay chair illustrate fig good example period finish blue gold dainty piece furniture illustration draw photo original museum beautiful piece work little ebony cabinet make celebrate french cabinet maker beautifully inlay exquisite design make nearly year ago',\n",
       " 'mention many other early period artist conceive design draw patent give name cabinet maker architect sculptor execute hand see man cultivate taste bargain add merit designer delicate appreciator work other merit good workman production need repair stout present day year use day make may fairly concede even stern rigorist work understand true spirit',\n",
       " 'construction feature choice material chase gilding marquetry work find honest kind different modern rubbish pass name false tortoise shell make horn gelatine instead brass even zinc lacquered tack make joinery usurp place true work fault produce period tradition art decline boulle use wood ebony cabinet maker successor plea difficulty work take never use varnish reason replace stained pear wood wood show extreme care severest blow loss fire destroy collection print qauntity rare wood learn inventory make time long store season bronze use honestly chisel chase gilt lacquered ornament design stamp',\n",
       " 'skill say die inventor tradition continue sobriety grandiose style master find sadly want work imitator much recognize last century sale catalogue work',\n",
       " 'conspicuously mark collector make specialty gather specimen great cabinet maker work',\n",
       " 'die age bury',\n",
       " 'leave son combine name true tradition measure positively create son employ sevre manufactory would appear first introduce decoration furniture use porcelain',\n",
       " 'plate show couple table style contain number useful suggestion suggestion utilize',\n",
       " 'period extravagant furniture make extravagant',\n",
       " 'price pay handsome specimen turn little writing table show fig specially design make queen cost large sum money table buy year ago enormous amount money small piece furniture english writer sale speaking say amused notice',\n",
       " 'require special guard little specimen many crowding round inspect',\n",
       " 'literally try get note book adjective shower upper expressive ever hear applied furniture oblong drawer fit slide shelf medallion trophy flower top trophy medallion round',\n",
       " 'side stamp riesner brand cypher really beautiful article fur',\n",
       " 'exhibit guinea bid soon run price dispute arise bid settle offer bidding continue price reach much applause become property',\n",
       " 'theimer anticipate little gem would realize large sum amount obtain certainly fabulous say however beauty workmanship must see believe',\n",
       " 'fig illustrate bed introduce bed become quite popular time run vogue revolution empire style introduce bed specially design warrior judge statesman successful leader many bed heap silly ornament cumberous rich drapery phase empire style last long however give place sensible practice construction ornamentation plate show detail ornamentation well day empire style plate show good example period',\n",
       " 'bring many good thing well bad really blessing disguise many way clear way well thing may mention empire style represent illustration plate show',\n",
       " 'many decoration style quiver torch armorial trophy freely make use tendency make ornament general form always complement accessory far diminish',\n",
       " 'next age become accentuate follow illustration empire demonstrate force fashion open fresh field',\n",
       " 'pasture new courageous decorator promoter go draw inspiration philosophical world antiquity studiously attempt revive antique rule tradition customs many inconsistent modern life broad back chair fig make fine look comfortable seat cleverly hollow catch support shoulder proffer acme comfort time',\n",
       " 'pass fig find form couch time popular country remind old high low design use fashion early fifty doubt choice rest pad prove comfort sitter matter position',\n",
       " 'design back evidently use rather display pass design can help notice increase opportunity give chair maker much habit hide work ostentatious upholstery small table fig decorative rather useful purpose design well execute add unusual classic dignity center piece belong class erstwhile know loo table background late year',\n",
       " 'still vogue large form dining table still possess tell small dinner compar',\n",
       " 'able circular friend outward bend consequent place neighbor right leave position conversation enjoyable render round table unrivalled party',\n",
       " 'sturdiness german furniture obtain french furniture latin race may seen example show plate vii piece german renaissance illustrate true piece dainty exquisitely beautiful much french work yet',\n",
       " 'dignity carving stronger vigorous french pro',\n",
       " 'duction work show fine example german work quite modern style construction',\n",
       " 'german bed show fig quite solid look piece furniture invite comfortable appearance',\n",
       " 'old german chair show fig comfortable even heavily build ponderous look substantial strong little table fig characteristic old time german work bed show fig draw photo take bed use napoleon consort unfortunate say comfortable bed rest many still use',\n",
       " 'sturdy old show chair course common enough new idea may gather upholstery consist velvet stuff properly feather quilt quilt fasten frame extra size brass stud fringe add finish seem quilt upholstery may apply many modern chair shallow stuff desirable hair substitute feather comfortable pleasing result could obtain stuffiness fragility bottom altogether old chair look command center piece large glass case preserve',\n",
       " 'may safetly turn american furniture maker eighteenth latter part seventeenth century period artistic work early work linger gothic early renaissance principle construction give respose line appearance stability permanence often lack',\n",
       " 'furniture time french century furniture reality substantially build apt fragile appearance one know grace freedom curve cost considerable loss strength keep simple rigid form english american maker preserve good tradition ornamental system seldom appropriate pure taste least good workmanship careful finish can deny',\n",
       " 'large bookcase fig see plan simple construction hotch potch designer make gothic look clustered column false pediment olive moulding classic',\n",
       " 'fig solid shelf alternate closed cupboard sensible general design proportion much',\n",
       " 'well mixture ornamental motive strike eye incongruous pretty cresting cast brass gilt need object finish top piece still keep severe geometrical tracery panel sash line end cupboard especially harmony center form pediment',\n",
       " 'night table show right pure french style',\n",
       " 'left taste uncommonly straightforward example borrow french lightness finish geometrical tracery put countenance discreet introduction scroll foot support raise part slight rail one feel much comfortable object',\n",
       " 'really soundly build air full dress familiarly treat supper stand',\n",
       " 'likewise simple sturdy elegance piece good work good make lot work kind revolution many piece work find way far quite common',\n",
       " 'odd piece occasionally find old colonial house work may known letter usually find burn way place speciman letter rudely cut brand',\n",
       " 'chippendale great designer cabinet maker revolutionize style furniture introduce many new feature seem take hold',\n",
       " 'people stay contemporary immediate follower keep public favor design line somewhat similar master meritorious thing chippendale design come lot stuff frivolous',\n",
       " 'almost absurd show artist must lost struggle novelty imitator faulty many production even brother leave much work little merit wish infer',\n",
       " 'inveighle artistic merit chippendale coadjutor speak shortcoming reminder even homer sometimes nod chair table show fig fine example master work really handsome design paragon good construction faithful workmanship',\n",
       " 'show plate nos viii chippendale design show foregoing page enable reader recognize master work sight plate viii illustrate good work especially chair back show back show chaste favorite people design show plate clever instance beautiful mean good standard chippendale work',\n",
       " 'perhaps whole popular great opinion',\n",
       " 'justly work many instance chaste design finely finish much substantial construction work turn chippendale succeed',\n",
       " 'fashionable esteem sober elegant designer piece never offend eye hand characteristic less artistic predecessor double chair fig cover style though may make ingenious invention sort numerous contrivance get double service chair table ascribe fig excellent example taste alliance straight line refine curve fame rest indeed reticence ornament study',\n",
       " 'fig dainty work design finish typical',\n",
       " 'settle show fig good example style furniture',\n",
       " 'evidently derive period diminish size rob back',\n",
       " 'class well worthy reproduction center table fig explain somewhat unusual construction show problem drawer circular plan solve fictitious quadrant',\n",
       " 'drawer really little cupboard indicate work draw manufacturer day would invest need make table properly perhaps doubtful yet element construction deserve study adaptation',\n",
       " 'little table arm chair show fig fine chaste specimen period could well afford imitate space allow would much publish plate design already devote space first intend case offer plate show quite number',\n",
       " 'good design figured illustration think make sufficient exhibit purpose',\n",
       " 'plate show fine example work choice specimen style show good work plate exhibit sideboard pedestal tea chest heppelwhite dimension sideboard',\n",
       " 'length depth note refer state ornament front may carve paint inlaid various color wood pedestal make height sideboard generally',\n",
       " 'often surmount ornamentation tea chest may accord paint varnish',\n",
       " 'height public esteem work much seek enormous price pay example fashion change somewhat well authenticate example command price place reach',\n",
       " 'dinary purse case quote single chair bring much dollar design illustrate could probably reproduce',\n",
       " 'third sum carving omit still less assume costly wood rosewood mahogany exact provide good workmanship quite artistic result may obtain original',\n",
       " 'notable difference chair heppelwhite affect large square back ultra french detail never',\n",
       " 'say idea useful article generally serviceable real life unite elegance utility blend useful agreeable elsewhere point well attain allow',\n",
       " 'workmanship full play alien style literally many anacronism heppelwhite arm chair show fig fair sample style show peculiar characteristic treatment',\n",
       " 'chair inch width front depth seat length seat frame inch especially pride paint japan decoration actual production write disclaim mere novelty fugitive decoration strongly recommend durable method',\n",
       " 'lay confesse former pretty enough lasted divergence theory practice always rule furniture choose',\n",
       " 'solely fashion appearance buyer absurd innovation fail find responsive purchaser',\n",
       " 'perhaps style furniture know appeal refine artistic feeling evolve brother',\n",
       " 'early youth become recognize master elegant design date practically impossible obtain copy work look student oblige go national copy believe original work even copy example work man scarcely ever find market case demand great ridiculously high price pay possession effort designer secure altogether royalty nobility account largely scarcity example',\n",
       " 'example work style plate xiii show number detail furniture general show portion style several piece furniture fitting style well know classic style beautiful indeed',\n",
       " 'close essay style mention cover pretty nearly various mode construction decoration worthy name style',\n",
       " 'say much gothic style suppose employ church work sometimes make use dwelling',\n",
       " 'similar purpose may say gothic later new art art nouveau vogue year ago simply fad dead properly likely even resurrect devote plate fad posterity may idea art nouveau time',\n",
       " 'dream see vyvydly must yn thys humble',\n",
       " 'draw art buy take fact see',\n",
       " 'fad nearly unartistic art nouveau easy construction likely become popular call carpenter style carpenter fair knowledge trade able make almost kind mission furniture style artistic merit simplicity honesty',\n",
       " 'plate number picturesque swiss work show offer example artistic feature appropriateness article furniture sea lakeside cottage bungalow article show easily make easily keep clean leave natural condition',\n",
       " 'fig show old scandinavian choir exhibit good solid workmanship fig show room',\n",
       " 'fitted oriental style piece oriental furniture show idea shape style decoration furniture may glean fig show',\n",
       " 'chair show fig old german type doubt pair cosy comfortable chair woodwork seem ash',\n",
       " 'dark age stiff prim looking chair show fig old dutch parentage stately lordly appearance',\n",
       " 'show old dutch chair cabriole leg rather pretentious affair italian show late italian renaissance style overload unnecessary',\n",
       " 'frivolous carving comfortable chair sit unwieldly ponderous fig exhibit neat german chair suitable library den even hall carve excellently work',\n",
       " 'piece furniture existence probably make oeban riesner show exquisite workmanship mere matter value would probably fetch thrice weight gold model fine art workmanship beautiful marquetry panel elaborately chase metal mount choice little porcelain requisite may form subject special essay table see covet convinced see description compare elegance beauty little escritoire use',\n",
       " 'table show fig german massive characteristic look intend library purpose fig show work table make',\n",
       " 'fate consider gem way value far reach ordinary mortal',\n",
       " 'table show fig mahogany execute workmanship make mass dainty little writing desk show fig french manufacture period forerunner many present beautiful writing desk make thousand',\n",
       " 'cabinet factory worth imitate contain many feature beauty good taste',\n",
       " 'step chair table cabinet large field gather intention',\n",
       " 'deal length article example must suffice call say fine piece woodwork world design',\n",
       " 'berain execute beauty color inlay brass work metal tint boldness arabesque fine proportion unusual',\n",
       " 'german cabinet show fig fine example workmanship nearly equal french work artistic merit cabinet show fig give beauty usefulness combine purpose style may prove suggestive',\n",
       " 'fine cabinet well suited receive curio artistic trinket artistically design',\n",
       " 'cabinet useful article furniture design numerous',\n",
       " 'many good give think possess several good feature design show fig simple effective may say design show fig latter use cabinet hang flat cabinet',\n",
       " 'gothic style follow develop end twelfth century country decorate gothic second stage fourteenth century perpendicular follow fifteenth',\n",
       " 'develop eighth century style mohammedan feature style extraordinary geometrical combination build thirteenth century consider perfect architecture style',\n",
       " 'belong early french renaissance freely ornament gothic develop italian influence feature minuteness build style franci',\n",
       " 'follow develop exist style line great purity closely resemble original italian many detail style applicable modern requirement',\n",
       " 'bring period late french study illustration follow clearly show tendency time prepare way magnificence style treat later',\n",
       " 'decorative era',\n",
       " 'period lead man time',\n",
       " 'daintiness suppress supersede salon lead man',\n",
       " 'empire style detail include decorate cornice caryatide pilaster',\n",
       " 'introduce begin sixteenth century golden age detail page carve panel',\n",
       " 'need little comment design include french detail also show sign chinese influence',\n",
       " 'well know need description detail give style illustrative phase work',\n",
       " 'detail architectural furniture brother chiefly construct harmonize building use',\n",
       " 'simple treatise quite impossible conveyany adequate idea art cabinet make much could say difficult know leave however fully subject may enlarge broad fact half tell must remain bud cabinetmaker learn first month apprenticeship text book country teach old roman ever experience good teacher possible start life well prospect solid foundation lay forebear aid practical suggestion may youth help upward ladder perfection cabinet maker must always strive excellence absolutely room man halfmaster craft net result incompetence level highest least efficient diminution rate wage disastrous lower quality work various style workmanship incite cabinet trade today patient thoughtful work may urge possibly truly master piece speak daily product age produce inferior work produce',\n",
       " 'may admit mere fact time work destruction sufficient evidence class work cabinet maker imitate',\n",
       " 'word work superintendence exactly make man copyist ever youth impressionable period see work novice tread footstep may safely follow let apprentice benefit master experience commence latter leave thus raise handicraft high level excellence true way success heart work toil merely standard wage create piece work sell last',\n",
       " 'apprenticeship groundwork early day foundation work stand first faulty inefficiency hereafter word influence trade unionism cabinet trade strong weak point hand demand rightly master standard rate wage beneficial insomuch put union shop level prevent cut policy alike disastrous good work sound finance hand give guarantee',\n",
       " 'efficiency bad link union result least efficient often work maintain expense skilled brother remedy seem lie let man make member pass satisfactory apprenticeship prove thoroughly acquaint trade capable honestly earn wage demand would term union man understand skill efficiency proud possession man earn degree college graduate',\n",
       " 'possibly may think proceeding line savour much ethic work high ideal form rather practical teaching compete age danger mad rush cheap badly manufacture furniture true constructive art may lost race man produce wed job year year turn work bear stamp individuality spirit good workmanship',\n",
       " 'employ usual method set work make full size detail scale drawing supply do conveniently inch line paper strain board say size find large enough job need draw',\n",
       " 'majority case center line thus show half width job half repeat thickness section sake clearness may put blue red pencil accomplish next proceeding take draw various size several piece wood allow sufficient margin finish net size length tenon many small piece obtain scrap room sort end strip stored respective class thus save cut large board purpose odd rail may render useless reason corner cut away',\n",
       " 'tool day much product machine fully equip shop furniture make stock design manual work little fitting together various part however still necessary craftsman fully acquaint use tool usually associate cabinet maker bench follow list include commonly require special tool may necessary certain case',\n",
       " 'cabinet maker joint may termed edge joint necessity cabinet make timber always obtainable wide enough counter top panel desire cost would prohibit general use joint top panel stand much well single piece chief thing aim tendency quarter avoid joint policy unsound case oak panelling much well effect obtain jointed panel throwing figure center line single unjointed board chief objection jointing seem lie idea soon later joint give may likely happen badly construct work give thoroughly dry season timber sound method joint good workman need fear',\n",
       " 'necessity jointing course govern width timber employ may however take general rule wide inch use single piece case countertop often run foot inch foot wide joint',\n",
       " 'several method joint consider detail glue joint giue anddowel tongue groove rebate double groove loose tongue',\n",
       " 'joint show fig perhaps common cabinet joint work bear weight perpendicular work carcase end method make joint briefly thus board shoot try joint plane surface edge absolutely true piece place bench cramp hold',\n",
       " 'edge together run thin glue joint work board forwards fellow superfluous glue extract joint allow set work well do wood much likely',\n",
       " 'break point joint complete success depend factor true joint plane good glue many good make latter difficulty obtain remember good glue always cheap reason adhesive quality absorption water good glue take weight water oake produce lbs weight liquid',\n",
       " 'glue thoroughly warm make glue much adhesive applied cold surface',\n",
       " 'addition dowel place joint object ensure great strength purpose countertop dowel may inch inch diameter accord thickness timber joint place say inch apart bored inch deep end dowel glue frame hammer sawn depth corresponding hole end dowel round glue edge joint dowel dowel hole knock cramp superfluous glue thus',\n",
       " 'joint fig possess advantage find precede one viz great strength joint give presence tongue prevent light show',\n",
       " 'pair match plane make groove piece onethird width timber use half inch deep make corresponding tongue piece do together see tongue move freely groove glue together fig cramp',\n",
       " 'double groove loose tongue fig main idea seem joint soft wood together hard wood tongue cut grain may insert rendering',\n",
       " 'joint less liable snap tongue cut soft wood lengthway grain proceed fig make groove width depth glue joint loose tongue cramp',\n",
       " 'previously speak straight jointing panel carcass end method describe suitable joint piece meet angle framing door panelling joint kind may considered head dovetail broad principle would seem govern viz wood employ absolutely dry joint true deviation fix rule must result failure second large extent dependent first however good workmanship may wood unseasoned shrinkage must inevitably occur result almost impossible put work right job frame hence necessity insist absolutely dry stuff essential cabinet trade',\n",
       " 'dovetail undoubtedly joint par excellence cabinet work take forrn represent ordinary open dovetail piece clp vetaile mark gauge regulator spacing dovetail accord width wood joint form use wherever',\n",
       " 'construction hidden defect end cut completely thus show expose end grain key piece desire dovetail make dovetail cut wedge shape glue hammer smooth present perfect joint',\n",
       " 'overlap conceal dovetail used drawer front desirable conceal mode construction cut entirely side third front joint therefore visible end front absolute necessity case veneer purpose absolutely flat surface must obtain otherwise key would show thin veneer spoil whole effect jointing finish precisely',\n",
       " 'dovetail adopt fine work undesirable show dovetail front side consist edge finish joint appear single mitre disclose dovetail',\n",
       " 'joint piece plane meeting angle take variety form fig main point bear mind part form',\n",
       " 'joint cut true otherwise slack joint useless tight split open mortise',\n",
       " 'tenon slightly wedge method fix joint make mortise large enough admit wedge drive side effectually key case usually put dry glue split open drive home danger',\n",
       " 'liable shoulder former case rail may split tenon fit true wedging necessary',\n",
       " 'third rail width inch wide rail use would well make mortise tenon show nos',\n",
       " 'make show full width groove make side purpose receive panel',\n",
       " 'mortise cut slightly deep tenon glue cramp',\n",
       " 'method frame wide rail mean double tenon suitable door wide rail necessary usually call joint',\n",
       " 'frame angle mould edge mould may intersected mitre scribe mitre joint mould cut angle degree mortise hole mould adjoining cut danger method leave open space impossible deal',\n",
       " 'process scribe fig cut rail pattern',\n",
       " 'intend join can easily do moulding contain many member would costly however advantage shrinkage occur joint knocked would impossible former case',\n",
       " 'invariably fig show scribe joint panel moulding vertical moulding cut away fit horizontal mould thick line ab show line make point intersection',\n",
       " 'fig often adopt economize satisfactory mortiseand tenon dowel usually inch diameter often shrink cause joint give dowel timber dry joint satisfactory usual method set doweljoint cut piece paper size rail prick center require accord',\n",
       " 'number dowel desire afterwards mark timber wood inch thick dowel set center rail straight line thick wood use put dowel fashion well way manage',\n",
       " 'small size use joint angle form piece plane usually mitre construction joint thus hide fig show ordinary degree use frame plinth cornice frieze joint strengthen block inside represent method additional safeguard key would adopt case thin wood mitre surface',\n",
       " 'small consequently liability break key usually put veneer see cut necessary insertion glue run joint level variation',\n",
       " 'fig show frame dowel edge bead break joint would use framing pilaster end carcass',\n",
       " 'fig show method frame rail intersect center leg inch square show leg size mortise dowelle copied old card table shoulder dovetail rail show advantage',\n",
       " 'cornice may work solid piece build various piece latter form usually adopt cabinet maker small cornice fig show build piece',\n",
       " 'screw together block put back give additional strength show solid hardwood moulding face mould rebate insertion dentil show dotted line ornament',\n",
       " 'cabinet maker leave design moulding case absolutely necessary thoroughly conversant moulding particular style period work gothic mould would place piece cornice',\n",
       " 'conversant grammar ornament kind incongruous mixture',\n",
       " 'create true style beautiful remark apply also carve turnery',\n",
       " 'many text book style publish absolutely excuse ignorance matter',\n",
       " 'point word may say proportion moulding building cornice let suppose stuck hand frequently possible pick series stock member size figure',\n",
       " 'strike variety cornice ring change result however mould show fig member equal depth incorrect inelegant moulding make series member conjunction depth proportion varied manner show effect apparent much well',\n",
       " 'cabinet work method hang door table leaf correspond part simple foundation joint vary little case hang door heavy projecting moulding cornice face special long shouldered butts would used main point hanging',\n",
       " 'mean hinge see hinge bear due proportion weight thus avoid strain consequent friction possibly breakage',\n",
       " 'hinge may cast malleable iron steel brass copper gun metal combination metal brass steel washer heavy work washer always use wear part strong',\n",
       " 'early form hinge seem form fig shape rail working socket cut rail door frame job form common fifteenth sixteenth century woodwork later influence flemish work',\n",
       " 'apparent pinjoint give place wrought iron hinge place face door frame artistic effect attach mean large head hail hinge delicately make cast brass fix screw',\n",
       " 'ordinary way hang show fig rebate carry wood knuckle project front side desire hinge must fix flush bead run',\n",
       " 'make well finish lid hinge would do back case small lid sufficient serve stop open',\n",
       " 'hang table leaf many form may adopt fig show bead rebated joint center hinge directly joint dust proof light tight purpose rebate necessary joint would open degree leaf door require fold back part hinp place show dotted line show position leaf',\n",
       " 'fold form leaf hang know rule joint show close open advantage conceal hinge make well finish open',\n",
       " 'otherwise would case joint somewhat difficult get true always repay effect variation show',\n",
       " 'door generally hang show fig bead joint hinge rebate',\n",
       " 'door entire thickness show method hang end carcass full clearance door desire would case fitted slide tray show show case',\n",
       " 'hanging wardrobe door show door set rebate pilaster plant hide joint sometimes joint make rule principle add expense',\n",
       " 'special hinge make card table piano varying shape size suit requirement fit exactly manner foregoing illustration indicate',\n",
       " 'intention offer much line practical example show detail dimension material method make example think instance specify full may prove use apprentice young workman may want make thing leisure hour odd time start piece work socalled mission style easy make make good table library fulfil purpose library table use bookcase library small writing desk writing material keep drawer absence low shelf make possible put foot well table interference',\n",
       " 'good use oak plain quartered suit convenience pocket book builder order mill follow insist well sanded accept greatly lessen involved building',\n",
       " 'eighth inch dowel pin use fasten shelf top leg run leg cover end wooden button drawer lining nail place nailhead show piece screw place',\n",
       " 'desire hard wood may use lieu oak whole may stained suit taste',\n",
       " 'illustration show method construction position rail figure show length position trouble lay table assemble part',\n",
       " 'fig show plan sideelevation fig show end elevation whilefig give perspective view finish work',\n",
       " 'table quite simple may easily make apprentice person understand use ordinary woodworking tool table equally suitable use parlor library living room',\n",
       " 'fig side plan dimension table bottom footboard make inch wide hold place round head brass screw end make strong neat appearance',\n",
       " 'fig show dimension specification end top bottom rail inch thick slat inch',\n",
       " 'top hold frame glue cleat top rail run screw top',\n",
       " 'joint glue end clamp first top side rail bottom board come last',\n",
       " 'example exhibit whole method mission furniture construction quite sufficient serve purpose',\n",
       " 'perspective drawer fig design specially limited experience construction mortise tenon dovetail avoid fix various part glue nail require',\n",
       " 'planed pine boarding use building purpose find suitable finished job may stained varnished suit fig half front elevation fig end elevation drawer scale',\n",
       " 'measurement may taken figure simplicity finish size various piece wood follow stuff finish thick top fig end bottom upper pediment wide part drawer drawer bracket shape shelve piece stuff door make thickness stuff stile cross rail ft back face door',\n",
       " 'stile rail stuff require finish door panel ft',\n",
       " 'wide carcass back fig sufficient matchboarding ft high end width drawer front piece fig ft piece fig drawer side fig piece',\n",
       " 'piece upper part make thickness stuff front stile fig inner stile rail rail panel',\n",
       " 'panel inner layer layer see fig allow stile rail narrow front layer fig shaped heading panel door top part thick top end wider usual width deal board joint glued white wood pine obtain wide enough join wood suitable varnishing',\n",
       " 'begin construction first plane thickness front edge end square finally take width bottom fix oval nail drive end oval nail small head less',\n",
       " 'sightly work fill varnish polishing next bearer top nail way nail nail drive',\n",
       " 'alternately lean front act dovetail prevent top lifting end draw away bot',\n",
       " 'tear latter may also prevent screw strip side bottom end show fig note top project',\n",
       " 'edge work half round section smooth plane course glasspaper look work end',\n",
       " 'door make thickness may next take hand fig show stile fix glue nail back cross rail front rail back stile next fitted note back stile rail narrow front provide rebate panel see fig enlarged section door stile panel door together shape heading may fitted well construction stile top rail could rebate receive',\n",
       " 'drawer side nail inner front fig back fig strip fig nail side bottom rest latter pass outer drawer front nail drawer side glue course method construction avoid dovetail ploughed groove bottom',\n",
       " 'frame top part fig fit end fig shelf rest top method construction similar door joint outer face show fig middle portion',\n",
       " 'show face fig front face fig center mirror may bevel edge plain silvered plate desire wood panel could fix half circular heading fix describe door corner shelf end shelf fix frame nail',\n",
       " 'low driving screw side top end also back framing',\n",
       " 'fig suitable brass copper door drawer add appearance',\n",
       " 'dissolve hot water less correct shade may get experiment odd piece wood stain give coat glue size thin coat varnish part show gloss put aside hour glasspaper apply finish coat varnish french add give mahogany color',\n",
       " 'show part elevation detail low cost sideboard make excellent practice young workman',\n",
       " 'include small side mirror upper part drawer cupboard center recess low part height say depth drawer turn introduce alternative detail selection note turn column swell elevation fig column recede corner dentil frieze line top mould solid front drawer face mould mitred strip lacquered brass handle hobb lever lock panel may repeat end less cap shelf cupboard mould thumb brass butt hinge',\n",
       " 'end back front post door stile rail bottom drawer back flush frame let rebate frame fig cupboard door wood panel mould center mirror back high upper door depth low side door leaf cut post indicate ensure good effect column support upper cupboard rest toe return intersect base mould back upper back fix low carcass dowelle top also continue upright top screw carcass cant show quadrant corner would suitable center mirror shelf indicate outlined base fig give detail refer fig section top turn enlarge small spindle lower carcass enlarge detail cornice frieze column fig cornice fig pattern show detail may carve frieze good effect section mould round center mirror alternative less column fig dotted line shelf fig detail table top fig stuff line detail fig floor line section door frame mortise',\n",
       " 'right mould geometrical framing mitred turn intersect pattern show section low carcass occur pilaster plain mould panel front end method indicate cut suitable plain end vertical grain upper rail panelling match fig',\n",
       " 'half front elevation detail fig little pretentious precede course tax skill workman proportionately think ability ordinary train workman elevation section detail draw scale therefore measurable',\n",
       " 'fig show half elevation fig show section low portion mirror portion upper work fig upper section moulding section require explanation',\n",
       " 'cabinet maker rule often call make grandfather clock case sometimes fall lot make case may amiss give simple design work give dimension style finish proper material employ make case course quarter darken answer well case good workmanship fine finish necessary give clock artistic appearance',\n",
       " 'size give example suitable clock dial remark follow render set simple matter clock case fig consist side front corner may push front mould back end side rebate fit arrangement render clock easily accessible height bottom top cornice height door rise width frame stuff glaze shut inner frame size stuff well screw glue end wide cut center glaze continued cornice springing top curve frieze cornice build thereon case build stuff bradde screw upper member cornice top rail case cut curve rebate purpose cornice project side support column taper may plain mount brass corinthian capital basis shaft reede upper finial also brass impart please finish top add clock movement rest ledge high also serve guide loose case steady position body',\n",
       " 'clock construct stuff front frame dowelled rebate wide post outer corner cant receive turn pillar side wide rebate flush post top bottom rail also rebate receive back hide joint rebate',\n",
       " 'scratch back stuff shape top fit upper curve joint wellfitte block inner angle use good strong glue purpose body bed lower upper moulding base side wide front wide back rebate together block moulding course mitred round side front door stuff rebate shut front frame project mould carve fan may embellished',\n",
       " 'name engrave dial vii figure register date month minute dial occupie upper portion',\n",
       " 'main dial entirely brass numeral disc raise eighth inch central portion minute number circumference hour latter divide hand beautiful design steel clock case ball',\n",
       " 'terminal gilt screw little wooden basis show angle dial spandrel cast brass ornament coarse style represent cupid bear cross sceptre support rise head form composition',\n",
       " 'object present design make corner chair capable afford support shoulder respect design annex somewhat original selection wood matter taste stain dark rosewood dull black suitable save expense may moreover make underframe list show strength would reduce purpose moment make practical hint may useful point first business produce mould work draw show inch scale adopt simple matter get leg long short long leg must wood allow throw scroll top wood nicely short one seat rail must solid wood beech can use block wood less see back may wood allow top glue shape front bring line top top would take piece wood allow sweep course several chair make top mark thus waste timber avoid wood enough arm bracket',\n",
       " 'drawer make fitting often say man make fit drawer make almost constructive',\n",
       " 'woodwork probably true reservation generally accept good test man skill doubt beginner find difficult thing tackle especially preparation set general method follow applied average sized drawer carefully select stuff finish side back bottom finish front stuff dry clean straight even grain piece must plan true gauge equal thickness care must',\n",
       " 'handy general method show fig mark front drawer',\n",
       " 'back back front end side mark indicate outside bottom edge piece well give number simple rule apply mistake make set drawer depth number write bearer carcase case allowance must made width length front side fit ample side square shoot board end length require never good plan let drawer stop job side least less length carcase',\n",
       " 'prepare stuff next job fit carefully joint end front fit corresponding end open mark length',\n",
       " 'tightly leave top edge final drawer fit side remember mark take care fit tight end end plane end back fit opening way front stuff ready gauge cut gauge well use gauge lap end front first see distance fig side front end side see fig set gauge thickness side strike line end face front fig line must gauge end side back lastly thickness back must gauge manner back end side note even dozen drawer make gauge shift time twice thickness side always happen wood obtainable gauge thickness care must taken set gauge little never bad fit bind follow also may happen good plane stuff cast side may cast hollow length whenever occur round side always put outside',\n",
       " 'stuff ready set cutting dovetail man experience able mark',\n",
       " 'distance cut dovetail quickly regularly less skilled begin good simple method show fig front end side square pencil line edge divide space line require number dovetail line become center pin set dovetail mark side line top bottom join point dovetail give method adopt front hole cut first various method many opinion do first safe course use know good apply work hand know simple way set dovetail explain note half pin outside leave strong enough space pin regular suitable angle',\n",
       " 'many case drawer stick find place slide ought slide part require attention',\n",
       " 'drawer run well must perfectly parallel front around side top bottom may ease extent extreme end ease extend end small drawer much less sufficient large drawer may little take',\n",
       " 'runner wood drawer slide receptacle quite parallel little wider back drawer never run well impossible give exact measurement wide high ft long would require space back wider high front',\n",
       " 'great fault drawer wind place perfectly flat table corner touch level surface difficult rectify cause may bad workmanship unseasoned wood twist dry high part may plane drawer small must made proper size glue strip wood receptacle may reduce size latter usually easy',\n",
       " 'suppose top long drawer chest drawer stick way rectified use much force pull handle may come whole front come away side unscrew carcase helper pull handle gently tap end hammer piece wood interpose take care hit end drawer move drawer may necessary remove partition drawer slide runner side carcase gently prise first previousl yremoving screw necessary',\n",
       " 'drawer must badly jam still remain fix removal warm room well try little time allow resort strong measure',\n",
       " 'drawer remove first replace partition runner ascertain latter wider apart back front well do cut length open front slide runner must reduce may happen runner force place',\n",
       " 'get runner parallel little play mention next see straight',\n",
       " 'back front side carcase may bulge bent afterwards top bottom similar way process adjustment see runner wind front ascertain place eye front bottom rail drawer slide level observing runner end plane look first end move eye require practice term take wind repeat process side top rail adjust runner require',\n",
       " 'get right drawer wind parallel straight back front side bulge sometimes knock little surplus must plane first make pencil mark part plane',\n",
       " 'try drawer see run go half way take little plane scraper wood hard tight run several time see shine carefully remove shine avoid take edge front long possible small bad fit shut open well fitting drawer little friction feel whole length',\n",
       " 'side top bottom edge next well smooth middle fine sand paper',\n",
       " 'finally runner rub linen rag use plenty pressure spermaceti sometimes crumble away use low heat pour cardboard box keep cut edge require need add use wood joint brass mathematical instrument add cent vaseline',\n",
       " 'veneer first deal consist lay expensive highly figured wood foundation cheap common wood always meet approval prevail idea piece cabinet work veneer cheap moment consideration would convince incredulous fine effect work obtain process fact also veneer give great strength article furniture solidly make valuable wood purpose many obtain far even remote siam philippine furnish supply exquisitely color figured wood obtainable small piece use ornamental inlay design devise apply hollander expert cabinet table desk article thus treat import find ready sale',\n",
       " 'good figured ornamental wood usually find butt end tree good mottle may obtain junction trunk limb buy timber veneering purpose long experience determine quality worth external appearance always true index internal often matter chance',\n",
       " 'term apply veneer cut see log place travel platform fine saw set vertical frame cut veneer simultaneously log usual number veneer inch desire obtain latter however thin serviceable veneer number consecutively match veneer may easily determine end bind veneer proper workable order must kept damp place much pliable less liable crack waste timber cutting method roughly speak inch inch thickness',\n",
       " 'waste log open steamed saturated moisture place knife work horizontally take thin shave possible usual number veneer obtain inch thickness therefore almost thin paper reliable hard wear subsequent scraping repolishe knife cut veneer use',\n",
       " 'part job liable constant wear advantage doubtful possess veneer lie readily sweep flat owing thinness',\n",
       " 'reduction time correspond abatement price apart economic reason sawn veneer always use',\n",
       " 'veneer wood suitable veneering usually select bay face toothed special hand plane thus impart rough surface wood enable glue adhere firmly solution size water use hot next allow dry heart side always veneer',\n",
       " 'reverse side go round sized lay board face ready veneer veneer may lay do way hand machine',\n",
       " 'small work moulding sweep use former method panel end latter',\n",
       " 'process quickly brush hot glue take care spread evenly veneer may laid pressed hand remove air squeeze mean caul remove blister superfluous glue weight board place job follow day',\n",
       " 'case sweep steel bow cramp contract shape wooden template secure mean cramp use',\n",
       " 'purpose show fig comprise iron framework perforate cast top series gasburner run interval inch length machine iron plate cover sheet zinc gas turn plate heat job veneer lay machine cramp place tightened mean exclude',\n",
       " 'superfluous glue squeeze may easily ascertain tap panel hollow sound indicate veneer bed veneer lay turn gas leave job cool naturally say night cramp remain',\n",
       " 'stand day work may finish find glue ooze pore general apparent proceed ordinary iron scraper iron plane smooth latter well veneer thick enough scraper may warm soften glue finish sand paper cork rubber job ready polisher',\n",
       " 'fig effective way veneer drawerfront panel take match veneer consecutive member cut log cut desire butt thus',\n",
       " 'make right left figure fall equally central joint veneer lay foundation needle point tack place side paper glue hold position dry lie describe',\n",
       " 'fig elaborate way panelveneere use match veneer quartered joint must paste',\n",
       " 'still elaborate addition cross band lay center complete',\n",
       " 'fig addition string often advantageous break line junction throw narrow band remove purpose mean cut gauge',\n",
       " 'fig defect hole veneer new piece insert match curl mottle wood edge cut shape curl follow line grain do detection almost impossible account insert square piece hard line thus produce objectionable',\n",
       " 'important branch wood working trade seldom get attention deserve common idea polish demand skill judgment even worth trouble know great mistake could made polisher hand make mar finished piece furniture cabinet maker bench briefly process frenchpolishe consist application various gum dissolve spirit order give wood surface polish bright dull require preserve wood bring beauty grain',\n",
       " 'large well ventilate build north light preference also top light keep heated give temperature say degree maintain heat night day hot water pipe wall regulate valve probably give good result steam pipe may use maintain equable temperature small enclose coke stove gas burner essential purpose melt wax obtain hot water etc',\n",
       " 'room free dust particle float air settle job process bind work produce cloudy ef',\n",
       " 'foot also small room lead main shop fumigating must air tight pane glass insert upper panel door observation purpose',\n",
       " 'require varying height inch inch loose top different length width place several wooden batten cover feel protect job also necessary',\n",
       " 'material need hardly say quality material use polishing depend largely ultimate result good bad branch trade best always cheapest find mistake lie much stock polish quickly evaporate material deteriorate rather buy small quantity mix fresh require',\n",
       " 'much way plant need fit polishing shop say half dozen pint large stopper bottle polish glaze finish varnish jar stain oil filler tin canister keep rubber value polisher part kit',\n",
       " 'make rubber piece clean white gray wadding remove skin roll shape cover thin linen rag strain tightly wad holding end hand forefinger thumb bedding extremity rubber flat',\n",
       " 'side polishing surface flat say inch proper size rubber depend polisher class work engage',\n",
       " 'new linen calico print use wash remove trace lime dress soft pliable possible different rubber use different polish easy inexpensive make reason work cloud dirty rubber cleanliness good polishing go hand hand rubber finish keep air tight canister thus keep soft may use repeatedly failure result hardness render useless ready commence work proceed first page viz',\n",
       " 'fill consist coat surface wood filler close fill grain thus make possible perfectly smooth surface polishing also save time material afterwork efficiency filling depend result finish job many good filler market may equally well adopt much well polisher make polish many man prefer consequently polisher use exactly formula work receipt well adapt particular style fill work',\n",
       " 'finely paper possible much stress can lay point well do first much save filler put flannel rub grain wood pore fill wipe paper find necessary filler raise grain dry work ready next process body',\n",
       " 'follow filler find useful exact proportion ascertain mix remember filler must consistency work freely',\n",
       " 'filler lay brush form good quick filler coat give',\n",
       " 'size ordinary glue size may use filler case hard grained wood answer purpose',\n",
       " 'white linseed oil mix together paste apply flannel filler generally adopt',\n",
       " 'disadvantage no great liability get job afterwards work way polish give surface cobweb effect know sweating',\n",
       " 'apply job quickly possible filler undoubtedly clean effectual use entirely obviate sweat',\n",
       " 'white turpentine mix paste apply prefer many',\n",
       " 'thus far filler white suitable wood ash case dark colored wood filler tint rise pink umber accord tone require',\n",
       " 'body come second stage polish wood paper fine old glass paper take rubber previously describe sprinkle little polish stock bottle cover rag hold end tightly palm hand palm hand distribute whole rubber put spot linseed oil finger rubber ready work commence lightly corner work panel carcase end series motion form interlace curve gradually work entire surface never lift rubber edge job care must taken rubber full polish press work hard case rubber leave nasty ridge job idea',\n",
       " 'good cover entire work evenly do let job stand long possible day harm shellac sink wood spirit evaporate present dull appearance feel rough touch proceed paper fact much stress can place value judicious sand paper operation repeat good body polish obtain work spare use oil ease rubber ruin job ultimately paper pumice stone pass final stage spiriting may ask many time necessary go work much depend wood work time object obtain body hard sink much modern work completely ruin day rush time allow rubber consequently proper foundation obtain month time job require redo method describe apply equally light dark wood difference polish use rather method spiriting process may call difficult portion french polish proficient man may say know trade process similar body exception last spirit use',\n",
       " 'rubber effect polish put body give work fine hard bright surface oil previously work spirit',\n",
       " 'use part polish spirit equal part afterwards spirit polish thus gradually reduce use pure spirit rubber motion previously describe clean rubber use pure spirit use series straight motion take instead circular one run direction grain wood',\n",
       " 'small moulding angle awkward corner would difficult spirit ordinary way may do glaze apply rubber work straight mould glaze quickly dry appearance spirit however soft stand wear much work could obviated polisher give job piece instance moulding mitre panel polish long length cut fit afterwards thus avoid nasty corner turn work well polish lathe frame panel polish framing bead leave loose purpose',\n",
       " 'difficulty mix polish man able process simply consist dissolve shellac methylate buy proof store cool place tightly seal soon evaporate',\n",
       " 'light color purer quality small flake require crush dissolve spirit would use ordinary polish however clear white desire bleach shellac use lump must crush use must kept water coloring pigment add desire bismarck polish mix cold shellac take little long dissolve operation much safe strain put stoppered bottle',\n",
       " 'pint methylate methylate',\n",
       " 'pint methylate spirit add purpose',\n",
       " 'preparation use restore furniture already polish neglect cause become cloudy first thing do case kind thoroughly woodwork flannel soap soap warm water mean dirt grease remove wipe soft dry duster apply follow reviver polish clean duster much old polish thus bring back',\n",
       " 'take equal part methylate spirit linseed oil malt vinegar mix shake use',\n",
       " 'turpentine bee soap water dissolve bee wax moderate heat shre soap water boil hot mix together set light paste prove excellent polisher',\n",
       " 'repair bruise make good job good plan adopt follow raise bruise mean hot iron place damp cloth wood break lift original level may sand paper polished',\n",
       " 'sometimes happen part wood darker rest event important dark part reduce',\n",
       " 'light result produce dissolve oxalic acid half pint water apply rag dry paper density sufficiently reduce repeat operation desire result obtain',\n",
       " 'sweat much oil use job surface present cobweb appearance gradually increase eat polish first detect may removed warm water soap long stand do remove repolishe',\n",
       " 'process treat oak ammonia darkening mean require shade result achieve way',\n",
       " 'expose oak work seal chamber fume require density obtain',\n",
       " 'use solution gas water specific gravity must account volatile nature keep well stopper bottle',\n",
       " 'process fumigate mean separate chamber require may ordinary room fume cabinet build corner polish shop case must air tight door open square glass observation purpose oak work place take say pint dozen saucer place floor door must close sealed mean paper paste round joint process fuming begin watch glass desire shade obtain small chamber quicker work do time may vary hour accord strength',\n",
       " 'practice alone determine time open chamber reliable safe way fumigate fact process imitation product cheapness rush',\n",
       " 'advantage process liquid touch job grain raise consequently sand paper avoid fume penetrate deep wood application exact density easily determine',\n",
       " 'disadvantage process require separate room purpose take much time require direct application ammonia',\n",
       " 'connection natural fume noticed part job may take often arise fact various oak use construction thus grow part may susceptible fume oak grow state part take must treat process care must exercise resultant color may let ammonia purpose weak let dry apply coat necessary much easy intensify bleach look bad patchy job',\n",
       " 'process consist application direct work usually apply sponge rag water may add weaken solution light tint desire wood immediately darken surface allowance make dry light objection process raise grain entail sand paper process necessarily take much sharpness moulding fillet suffer case find work take dye evenly shade tone color find necessary produce good result',\n",
       " 'process job white brass copper work silver plate liable affected ammonia fume',\n",
       " 'finish work fume foregoing process ready finish usual way follow egg shell finish wax finish',\n",
       " 'apply thin rubber ordinary polish job dull powdered pumice stone stiff brush give dull shine way fill grain wood dissolve pure bee wax turpentine apply rag rub well obtain elbow grease tedious process former much',\n",
       " 'satisfactory process carry job leave polisher hand polish constantly improve',\n",
       " 'fume assume purple tint treat',\n",
       " 'produce undoubtedly earliest adopt cabinetmaker best suit finish dark oak chestnut wood advantage appear consist fact process never complete tennyson brook may go forever much beauty piece sixteenth century carve oak due polishing result year rub use',\n",
       " 'polish ingredient necessary bee wax turpentine wax melt sufficient turpentine add form turpentine pour melt wax latter still fire highly inflammable turpentine must evaporate polish complete leave filler polisher add commencement necessary otherwise work prolong stock set hard soften warm well mix small quantity require safe method warm melt ingredient polish shop steam use kettle double pan cabinet maker use glue point lost sight insurance company',\n",
       " 'apply skill require grease patience absolutely necessary',\n",
       " 'suppose polish oak wainscote previously fume stain latter shall rub sand paper former unnecessary boss apply wax polish rub panel circular motion part receive equal polish work may advantage lay aside next day process may repeat let little often motto little order clog wax occur corner moulding wax rub even bright surface obtain free tackiness finger mark often thin coat may chance sink grain evaporation turpentine harden remember produce amount wax use elbow grease',\n",
       " 'preferred piece feel glue wooden block may use stiff flat bristle brush often use polish carve panel turn work',\n",
       " 'thus far speak polish apply questionable applied equal success wood stain ash perhaps next good wood oak method polish',\n",
       " 'floor often treat way include parquet surround plain stain surround entire floor hard wood floor usually previous',\n",
       " 'stain polish darken floor rich tone result method previously describe floor box polisher use weight wooden case say inch weight iron lead attach handle foot long work swivel thus allow sweep foot direction word clear swing foot bottom case tack piece feel proceed polish',\n",
       " 'must previously rubbed floor flannel first part polish do weight brush surface inch fit swinge handle evenly spread take superfluous quantity also produce certain amount polish afterwards bring great brilliancy finishing feel polisher method would also use prepare floor ballroom may afterwards keep condition sprinkle rub french chalk',\n",
       " 'polish original method treat oak may say equal truth oil polishing method finish mahogany day polish unknown fact questionable seventeenth eighteenth century work deal contemporary certainly adopt well suited work untouched job hand prove decision right',\n",
       " 'great objection oil polish length time require produce good result fact long go well fact day speed completely put oil polish background manufacturer want speedy return capital public require furniture day give order impossible job polisher hand month speedier method consequently adopt',\n",
       " 'unquestionable oil polishing bring figure mahogany enrich color well method time permit large work panel dado door screen counter top good way polish',\n",
       " 'wood raw linseed oil continually rub flannel feel pad let operation repeat day day polish result process wax polish extremely tedious laborious oil polish always revive year afterwards process little judicious rubbing keep work constantly mark',\n",
       " 'rage effect low cost necessitate stain white wood imitate expensive one bulk call dark fitting product polisher dexterous hand produce require deception wood commonly use stained work wood',\n",
       " 'stain place wood direct size filling apply apply warm cold water dilute proper strength sponge good medium care take stain flood wood equally dry work sand paper carefully wet stain raise grain smooth surface obtain proceed finish previously describe aniline dye much use obtain shade addition follow let stain weak easy apply second coat lighten first',\n",
       " 'water',\n",
       " 'apply stain wood sponge rag rub work even surface obtain allow dry raise grain paper proceed finish varnishing may done oil spirit process oil varnish bristle brush may use spirit camelhair brush desirable first coat method work rub second finish coat apply extra fine surface require paper second coat apply third oil varnish would use work would expose weather spirit protect woodwork',\n",
       " 'hard resin quart',\n",
       " 'pint turpentine stand strain take sediment',\n",
       " 'make hard quick setting varnish',\n",
       " 'fig illustration complete revolving book case ordinary type stand foot high case revolve show make piece wood inch wide inch thick join together halve rounded end castor fix base corner top make inch board dowele together edge mould rebate cut side top may also make inch board inch mould fit round edge inch board fasten thus save material effect lightness section book case show detail construction top bottom method attach revolving part base top lath keep book position fix base show base revolving part make inch board rebate cut round low edge receive inch plinth mitred corner fasten rebate low edge plinth rebate thin board fix',\n",
       " 'perspective frame shelf fasten make board equal',\n",
       " 'width thickness join groove overlap square tube form board must width fasten place',\n",
       " 'width base part frame inch long rest way fasten shelf require less material make square tube shelve strip wood inch wide fasten top bottom shelf',\n",
       " 'position board would come strip keep book position end row lath end',\n",
       " 'pivot revolving part show circular pillar turn fit interior square tube low end turn form pivot fit hole fix base little pivot groove cut pillar form neck work hole cut piece attach',\n",
       " 'side piece wood saw half place position pillar glue pillar extend foot top tube steel spindle point top screw upper end',\n",
       " 'fig spindle side metal plate attach block wood exactly fit tube attach screw',\n",
       " 'revolving apparatus also make fasten castor wheel low side base castor roll metal plate fasten upper side fix base latter attach revolving part spindle pass frame base secure nut',\n",
       " 'top bottom attach tube shelf place lath attach shelf also',\n",
       " 'essentially sometimes revolving part make short leg add fix base also make contain tier book stand table fix book stand also make shelf arrange similarly revolving book case',\n",
       " 'chair chair infinite variety form show construct nearly principle fig illustration framework chair suitable sitting room hind part consist long piece square stuff mortise horizontal upper rail form third level seat fourth back leg usually curve backwards seat chairback slight slope foot spread sufficiently prevent tilt front leg join rail also fasten number tenon upper rail may come flush top leg show illustration fit ordinary mortise width rail level seat depend nature upholstery spring fit inch wide bottom rail omit chair heavy build side leg connect rail middle join cross piece',\n",
       " 'part chair exception back rule turn leg project seat form back join horizontal bar slightly curve joined vertical piece shallow mortise cut',\n",
       " 'latter joint strengthen screw pass front counter sink hole',\n",
       " 'head afterwards cover small turn bead glue chair paint hole fill wooden plug low rail turn rounded end fit correspond',\n",
       " 'hole bore leg secure glue sometimes front leg turn back leg',\n",
       " 'figure leave square bent slightly outward seat chair make flat piece wood',\n",
       " 'inch thick mortised together front back piece overlap back piece short front corner edge slightly round sometimes front piece curve also side front leg fit hole bore side seat back leg fit seat groove inch deep cut former rounded back make cut upper end back leg form part circle fit curved piece wood attach tenon joint dowel low cross bar cut similar manner join together form segment circle ellipse',\n",
       " 'draw room chair frame somewhat similar manner turn fret bar sometimes insert horizontally vertically part back upholstered leg square taper slightly curve also turn fluted leave plain carve',\n",
       " 'fig show frame work armchair difference back high seat large extra rail form arm add latter upholstered accord design chair turn spindle sometimes insert seat back arm chair sometimes slightly curved seat may made',\n",
       " 'leg square taper side back rail flat latter slightly curve wood may darken stain darkgreen seat upholstered leather back chair type upholster generally make top bottom rail intermediate',\n",
       " 'chair other similar type leg mortise wooden seat make slightly hollow middle part curve back make several piece cut form curve mortise dowele together attach seat turn square vertical bar fix mortise end stouter other extra piece curved wood rounded edge sometimes fix middle part top back serve shoulder rest seat make swivel round leg bend inward meet small block wood face metal seat revolve office chair sometimes slightly upholster instead leave altogether plain',\n",
       " 'chair almost arm chair side rail support seat much wide leg short thick seat stretch farther back back high make slope slightly space arm seat may left open fill carve turn work cover upholstery settee make manner large easy chair wide enough contain person framework seat back strengthen additional crosspiece',\n",
       " 'music stool make fix top top raise former leg top round square leg sometimes slope slightly outward foot obtain great stability plainer kind stool',\n",
       " 'board mould edge square oblong shape round turn lathe piece upholstered inch rebate cut round upholstery fasten brass head nail finish gimp leg square turn screw side',\n",
       " 'seat strengthen low end turn rail coarse screw cut top leg turn lathe shape make subsequently aid box screw rectangular block wood handle end pierce hole female screw correspond male screw cut top end leg turn inch fit end hole push turn round time screw cut small knife method join leg use light piece furniture fancy table leg beingusually attach tenon joint',\n",
       " 'movable seat stout turn pillar curved foot fasten inch ground top pillar cut flat hole inch deep bored steel female fix correspond male screw inch long fasten side top latter always circular upholstered',\n",
       " 'sofa settee framework fig leg represent simply square block wood fit front back rail tenon joint upper part mortise cut generally make pretty stout ensure strength',\n",
       " 'result conceal upholstery low part taper carve turn front rail strengthen additional crosspiece place similar cross piece fit back otherwise similar arm easy chair method fasten illustration consist rail mortise front back leg slant position strengthen cross piece rail generally carve front edge mould front rail may also carve top rail back sometimes curve downwards meet back rail low frame make piece mortise dowele together space sometimes rille turn bar order obtain lightness pair leg sometimes join slight rail place inch apart instead solid rail',\n",
       " 'framework simple square settee show fig woodwork usually hide upholstery reach nearly floor make common wood receive high degree finish leg turn low end leave square upper rail form seat mortise side leg also rail form back end',\n",
       " 'back strengthen necessary insert diagonal bar settee make great variety form describe light elegant piece furniture embellish turn work partly upholster sometimes leg form end piece turn seat frame insert notch cut upholstered low part latter leg visible',\n",
       " 'settee billiard room frame similarly arm chair see fig generally make foot long straight bent suit corner show fig part massive ordinary settee leg make scantle front turn pair bend slightly backwards stand platform inch high side front corner platform slightly round settee intend place platform leg make long foot rest fasten front inch floor make inch stuff round edge fasten back groove cut front leg front support stout turn foot',\n",
       " 'railway station wait room public office make manner billiard',\n",
       " 'settle darken oak suitable hall side make inch stuff groove cut receive seat thickness seat inch less width side come flush front thus leave space inch wide back attach side cut end round tenon inch wide tenon project inch mortise cut end piece half round hole cut projecting piece flush side seat place make cut piece taper turn wood longitudinal',\n",
       " 'direction hammer tight show illustration hold side seat firmly together form horizontal rail dovetail side bottom top inner edge groove vertical board inch thick chamfer edge top edge settle mould leave square',\n",
       " 'settle make foot high back upholstered foot seat remainder space fill solid fret panel narrow shelf sometimes fix top',\n",
       " 'settle fig sometimes make end piece seat former make inch oak cut suitable shape settle kind serve seat hold large piece',\n",
       " 'kind settle suitable hall seat foot wide arm end low part form foot deep lid seat side back similar arm chair leg usually inch scantle back leg project seat join horizontal inch rail top nearly level seat rail fit panel join pair leg form side box panel inch stuff groove framing lid form',\n",
       " 'inch stuff inch wide kind settle may left plain finished flat chip carve',\n",
       " 'settle intend draw room similar structural detail make hall much light great part back side upholster many fitted narrow shelf top curve instead square',\n",
       " 'stain process imparting surface wood color different natural one consist variety surface stain body stain former name imply stain effected various compound nature pigment lay surface paint form thin opaque coating considerable degree affect fibre wood latter change usually apply thin wash enter pore wood color depth surface staining require preliminary preparation stain apply directly wood stain raise grain wood considerable extent necessary apply varnish sand paper wood enough render grain quite smooth sometimes render second coat necessary sand paper must applied',\n",
       " 'good black stain gall nut coarsely broken ounce rain water boil reduce onehalf white vinegar pint filing ounce antimony powder logwood small handful infuse bottle day tie cork stain piece wood give wood coating act',\n",
       " 'boil chip logwood water add ash apply hot work brush take lb logwood boil quart water add coppera put rusty steel filing go work second time',\n",
       " 'boil extract logwood water add slowly little yellow prussiate potash brush hot',\n",
       " 'boil logwood quart water add double handful walnut peel shell boil take chip add pint good vinegar fit use apply hot improved apply first stain solution ounce green coppera water',\n",
       " 'black stain drop little sulphuric acid small quantity brush wood fire fine black receive good polish beautiful black wood exceed black apply coat varnish polish gallon vinegar add quarter pound iron rust let stand week add pound dry lamp black quarter pound coppera stir couple day lay coat sponge',\n",
       " 'allow dry polish linseed oil soft woollen rag look ebony dry iron rust sift lbs mix let stand week lie coat hot rub linsee oil fine deep black add stain gall logwood chip coppera lb lie coat oil well black stain stand kind weather well adapt ship combing logwood chip boil hour gallon water brush wood decoction hot decoction gall gentle simmer day quarter pound gall water give wood coat wet lay solution sulphate iron ozs quart dry oil varnish give coat solution copper filing aquafortis repeatedly brush copper destroy logwood chip quart water add ounce pearlash apply hot brush take quart logwood decoction coppera strain throw iron rust brush work oil',\n",
       " 'brown pigment call',\n",
       " 'duce third mix ounce troy white sufficient water dissolve must apply brush even time accord depth shade require',\n",
       " 'mix together stir quart spirit turpentine pint pint burn dry brush transparent allow grain wood',\n",
       " 'boil iyi ounce bichromate water add ounce brown stain may use hot cold',\n",
       " 'brush apply thin solution permanganate potassa water desire color produce allow coat dry apply',\n",
       " 'add water ounce potash good stain use carefully blister hand soften brush may made light add water',\n",
       " 'lay evenly rag brush deepen color immediately fade artificial production result produce naturally age',\n",
       " 'bichromate dissolve cold water apply brush produce similar result',\n",
       " 'rosewood mix bottle extract logwood pint water bottle put lb old iron small piece pint vinegar stand twentyfour hour ready use make hard stiff brush sharpen end wedge shape pound separate fibre mix pint finely powder rosepink material ready first thing process stain wood logwood give coat allow first become nearly dry apply second brush vinegar form grain give work coat rise pink definite direction give grain study natural wood imitate possible material skilfully apply common wood make resemble rosewood nearly take good judge distinguish difference',\n",
       " 'boil logwood gallon water add double handful walnut shell boil whole liquor add pint good vinegar ready use apply boil',\n",
       " 'hot wood dry form dip follow solution nitric acid sal set aside dissolve occasionally shake',\n",
       " 'cherry stain mix together stir quart spirit turpentine pint dry burn apply brush minute wipe rag stain take hour dry',\n",
       " 'cherry stain take ozs dragon blood pulverize latter root mix let stand warm place couple day shake frequently meantime apply brush coat may require make fine stain',\n",
       " 'common work produce good stain use cold coat apply suffer get almost dry brush hot solution pearlash water improve color',\n",
       " 'darken mahogany apply weak solution bichromate potash water apply successive coat allow dry require shade secure',\n",
       " 'surface stain follow part use apply wood inferior quality make resemble color',\n",
       " 'mixed thin glue size lay warm soft woollen material wood wipe dry application color use stain well pulverized use liquid strain',\n",
       " 'burn yellow ochre mixed proportion give desire shade',\n",
       " 'fine good dust hour strain add boil gently half hour fit use',\n",
       " 'scarlet tint boil half ounce saffron hour pass work previous red stain',\n",
       " 'fine blue stain oil put ozs indigo proceed direct dye purple',\n",
       " 'let stand tumeric settle bottom',\n",
       " 'small piece aloe add varnish effect yellow stain',\n",
       " 'stain ary stain name surface stain render much brilliant application follow nitric teaspoonful muriatic acid grain tin ozs rain water mix bottle least day use keep bottle well cork',\n",
       " 'dye wood mostly apply purpose veneer stain generally recourse give desire color article manufacture case color penetrate latter surface essential',\n",
       " 'tree holly take good black color holly preferable also good wood young newly cut possible veneer cut allow lie water day put copper water act purgative wood bring abundance slimy matter must remove wood never good color purificatory process dry open air least hour ready copper simple mean color strike much quick bright would also add improvement color veneer boil hour take dried air immerse color copper always dry veneer open air fire invariably injure color',\n",
       " 'fine black dye put chip logwood copper many veneer conveniently',\n",
       " 'hold press tight fill water let boil slowly hour add half pound powder half pound coppera ounce bruise gall fill copper vinegar water evaporate let boil gently hour day wood dye',\n",
       " 'procure liquor tanner pit make strong decoction oak bark gallon liquor add quarter pound green coppera mix well together put liquor copper make quite hot boil immerse veneer let remain hour take expose air penetrate substance add logwood solution place veneer let simmer hour let whole cool gradually dry veneer shade fine',\n",
       " 'fine blue dye clean glass bottle put oil vitriol ozs good pound mortar take care set earthen glaze pan ferment put stone trough fill rather third water add much indigo stir make fine blue may known try piece paper wood let veneer remain strike',\n",
       " 'color much improve solution indigo keep week use color strike well veneer boil plain water completely soak allow hour dry partially previous immerse dye',\n",
       " 'throw piece quicklime soft water stir well settle pour clear part gallon add ounce good turnsole put whole copper veneer holly prepare usual boiling water let simmer gently color sufficiently penetrate careful let boil would injure color',\n",
       " 'fine reduce lbs root barberry saw dust put copper brass trough add ozs turmeric gallon water put many liquor cover boil together hour often turn cool add ozs aquafortis dye strike much sooner',\n",
       " 'bright yellow dye gallon water necessary cover veneer add french berry boil veneer color penetrate add infusion french berry liquid brightening color give page let veneer remain hour color bright',\n",
       " 'bright green dye proceed previous receipt produce yellow instead add aquafortis brighten liquid add much vitriolate indigo see page produce desire color',\n",
       " 'green dissolve ozs good green indigo half ounce pint good vinegar put veneer gently boil color penetrate sufficiently',\n",
       " 'vary alter proportion ingredient advise want particular purpose leave sapgreen vegetable color apt change turn exposed air',\n",
       " 'bright genuine dust add gallon water put many veneer liquor cover hour add ozs alum ozs aquafortis keep lukewarm strike',\n",
       " 'red pound logwood chip add gallon water put veneer boil last add sufficient quantity brightening liquid see page see color mind keep whole warm finger bear color sufficiently penetrate',\n",
       " 'logwood chip pick foreign substance generally abound bark dirt etc always good fresh cut',\n",
       " 'may know appear bright red color stale look brown yield much coloring matter',\n",
       " 'purple chip logwood half pound dust add gallon water put veneer boil least hour add ozs pearlash ozs alum let boil hour day color strike',\n",
       " 'contribute make purple red cast may therefore omit require deep bluish purple',\n",
       " 'boil lbs logwood chip powder gallon water veneer boil color well strike add degree vitriolate indigo see page purple shade require may known try piece paper let boil hour keep liquid milk warm state color penetrate veneer method properly manage produce brilliant purple likely fade foregoing',\n",
       " 'liquid brightening setting color pint strong aquafortis add grain piece set dissolve shake bottle cork time time course day fit use find',\n",
       " 'admirable liquid add color brighten render less likely fade exposure air',\n",
       " 'let veneer dyed method give page fine deep yellow still wet saturate dye transfer bright red dye page color penetrate equally',\n",
       " 'weather castiron pot gallon old iron nail hoop cover rust add gallon vinegar water boil hour veneer ready must hard wood dry put copper use dye black iron liquor add chip logwood ozs bruise gall boil pot iron liquor supply copper keeping veneer cover boil hour day require color obtain',\n",
       " 'gray quantity old iron well boring gun barrel convenient vessel time time sprinkle spirit salt muriatic dilute time quantity water thickly cover rust pound add gallon water dissolve ounce salt tartar lie copper cover liquid let boil hour',\n",
       " 'soak gallon liquor add quarter pound green coppera keep whole moderate temperature dye sufficiently penetrate',\n",
       " 'gilding silver bronzing process apply previously prepare surface thin layer gold silver leaf bronzing fine powder prepare various metal intend imitate peculiar appearance genuine bronze process gilding silver identical description suffice explain',\n",
       " 'gilding gold leaf apply article furniture mean decoration use way apply ordinary varnish finish case little special preparation necessary use picture frame cornice apply specially prepare foundation basis white mix various ingredient suggest experience fancy case gold leaf cause work size specially prepared purpose receipt follow size first applied work become right consistency gold lay oil gilding burnish gilding different method use obtain certain desire effect former principally article expose weather heighten effect incise carve engrave latter picture frame article specially prepare foundation entire surface gild intended',\n",
       " 'gold shall adhere work place size apply small portion oil even slight dampness may cause gold partially adhere adjoining surface result slightly ragged edge prevent apply size desire design entire surface cover thin film substance perfectly free moisture easily removable water completion process direction regard preliminary process give caption prevent gold adhering',\n",
       " 'requisite first sufficient quantity leafgold sort deep gold call pale gold former good latter useful may occasionally introduce variety effect',\n",
       " 'piece wood cover rough calf skin stuff flannel several time double border parchment inch deep end prevent air blowing leave place cushion',\n",
       " 'fourthly several camel hair pencil size tip make long camel hair put card manner hair put tin case brush thus make flat brush hair',\n",
       " 'size kind oil size apply present adhesive surface require immediate lay gold leaf class oil size commonly use decorate furniture water size allow become dry hard apply render adhesive gold lay brushing water burnish gilding always employ oil size dry sufficiently hard permit burnishing',\n",
       " 'oil size oil gilding grind calcine red best old dry oil desire use add sufficient oil turpentine make work freely',\n",
       " 'size prepare frame half pound parchment shaving cutting white leather add quart water boil proper vessel reduce nearly half quantity take fire strain careful boiling keep well stirred let burn',\n",
       " 'gold size well little beef suet grind well together mix pallet knife small proportion parchment size double proportion water',\n",
       " 'grind lump tobacco pipe clay stiff paste thin size add small quantity ruddle fine black lead grind fine temper whole small piece ready use reduce parchment size flow brush',\n",
       " 'grind separately water red lead sufficient quantity black lead mix regrind small quantity olive oil reduce parchment size proper consistency',\n",
       " 'prevent gold adhere follow method prevent gold leaf bronze adhere surface outline size lay receive',\n",
       " 'white mixed water apply soft brush water evaporate dust superfluous white ordinary paint duster method thin coating whiting remain free grittiness advantage gain use white thus apply clear varnish oil size may distinctly see striping progress leaf bronze apply work must carefully wash insure removal whiting',\n",
       " 'starch water brush flat camel hair apply soft sponge',\n",
       " 'take ball liquorice water weak solution apply soft brush may keep bottle ready use time',\n",
       " 'cut new potato part sized raw face expose allow juice remain dry',\n",
       " 'observed substance interpose film free tackiness readily remove water answer purpose',\n",
       " 'oil gilding apply gold wood gild finish otherwise additional foundation necessary lay gold leaf wood finish smooth dust give coat parchment size perfectly dry hard smooth surface fine sand paper gold may adhere part work size hard powder surface lightly white pounce bag small bag make material sufficiently loose permit powder white sift fine dust prefer precede receipt purpose use',\n",
       " 'instead remove surplus whiting dustingbrush work ready size apply sable fit brush proper size carefully observe make outer line design clear sharp work may appear rag let size remain feel tacky gold may apply difficult part operation experience necessary gold leaf lay smoothly wrinkle break turn leaf gold book cushion breathe gently center leaf lie flat cushion cut proper size bring knife perpendicularly saw gently divide take tip brush use purpose draw lightly hair remove particle dust may breathe gently dampen sufficiently cause leaf gold lie tip leaf gold carefully transfer work blow gently straighten adhere may rendered quite smooth slightly dab bit cotton hour wash superfluous gold edge sponge water article expose weather much wear gilding may varnish copal varnish',\n",
       " 'previously state process require specially prepare foundation',\n",
       " 'lay foundation distinct trade furniture dealer cabinet maker seldom find necessary undertake article come hand ready prepare gilding repair picture frame cornice mirror frame frequently become necessary renew comprehensive description whole process give',\n",
       " 'prepare wood work smooth dusting work coat frame part boil hot parchment size previously describe mix sufficient quantity white size consistency thick cream mean brush coat part frame several time permit coat become perfectly dry proceeding next wood thus cover layer hard white nearly quite sixteenth inch thickness size must thick mixed white hot preliminary coat size',\n",
       " 'polish prepare frame quite dry clean polish small piece time smooth fine piece cloth dip water part bump inequalitie remove part finger enter moulding wind wet cloth round piece wood mean make surface smooth even alike',\n",
       " 'carved work sometimes necessary bring moulding original sharpness mean chisel gouge preparation apt fill fine part work must thus restore sometimes practice polishing go work fine yellow roman ochre rarely necessary',\n",
       " 'apply size select proper gold size receipt previously give add parchment size flow brush make quite hot apply work soft brush take care make first coat thick let dry give successive coat last brush stiff brush remove inequality work ready gold',\n",
       " 'lay gold manipulation gold leaf describe head oil gilding process describe size use water size previously explain permit become hard dry must moisten cause gold leaf adhere purpose long haired camel hair pencil dip water go much work intend piece gold cover lie gold manner previously explain sure part gold apply sufficiently wet indeed must float gold apt',\n",
       " 'crack manner little time attempt cover much experience able handle gold freedom proceed work flow crack appear immediately apply portion gold sufficient cover sometimes gold appear adhere sufficiently tight necessary draw pencil quite fill water close edge gold water may run underneath soften size',\n",
       " 'burnish work cover gold set dry particular state degree dryness know experience mould fit state burnishing probably ready burnish hour depend warmth room state air',\n",
       " 'ready part intend burnish must dust soft brush wipe burnisher piece soft wash leather quite dry begin burnish inch length time take care bear hard gentle quick motion apply tool part surface equally bright',\n",
       " 'mat dead gold certain portion work burnish accord fancy facility burnishing tool apply remain part deprive',\n",
       " 'make effective contrast burnish part thus treat say mat dead gold process follow',\n",
       " 'grind fine mix small portion parchment size soft brush lie evenly part dull well do add greatly beauty work previous mat work must well clear superfluous gold mean soft brush',\n",
       " 'finish elaborate work frequently impossible lie gold leaf intricacy elaborate design part thus leave must finish touch small brush charge gold powder gum arabic proper consistency follow receipt describe preparation shell gold',\n",
       " 'take quantity leaf gold grind small portion honey fine powder add little gum arabic sugar candy little water mix well together let dry',\n",
       " 'clay fine little blacklead good soap add parchment size direct gold size',\n",
       " 'composition frame ornament ornament gild mirror frame usually mould plastic substance somewhat tougher durable ordinary gilding founda',\n",
       " 'tion white size proper mould prepare thoroughly rub sweet oil composition firmly press remove mould may dry gentle heat still plastic apply proper place bent position follow receipt composition',\n",
       " 'dissolve glue gallon water kettle boil resin turpentine pint linsee oil mix altogether kettle stir water evaporate turn whole tub finely roll white work consistency dough',\n",
       " 'good glue half pint water resin pint raw linseed oil well boil put large vessel simmer half hour stir mixture take care boil whole must turn box whiting roll sift mixed consistency dough',\n",
       " 'manipulate gold leaf piece paper thin enough show shadow gold leaf slightly wax lay gold leaf easily work come clean paper slightly large gold leaf finger pass paper make gold leaf',\n",
       " 'bronzing process imitating metal plaster wood material peculiar appearance produce chemical action surface bronze metal accomplish spread surface material ornament thin coating bronze powder cause adhere apply directly coat size mention forego page mix vehicle gum arabic transparent desirable case subject direct action soon tarnish ornament furniture bronzing generally employ represent gilding variety bronze call gold bronze use afford excellent imitation last usually apply completion finishing process ground work prepare manner describe oil gilding size likewise apply describe small cotton batting dip bronze pass gently sized portion cause bronze adhere method apply bronze mean vehicle preliminary white ground size necessary small quantity bronze simply mix vehicle employ degree fluidity flow easily condition apply fine brush many preparation',\n",
       " 'use vehicle transparent thin turpentine gum dissolve water gold size reduce parchment size variety color bronze powder produce good effect size vehicle color similar bronze use gold size color pigment ochre place red bronze bronze may employ respectively verditer vermilion prussian blue small quantity sufficient bronzing paint work grind nearly possible color bronze apply',\n",
       " 'glue prepare waste piece skin horn hoofs offal wash boil strain melt reboiled square cake dry strong kind glue make hide oxen bone sinew weak old animal strong glue good glue hard cake strong dark color almost transparent free black cloudy spot little smell good sort transparent clear amber color inferior kind sometimes contaminate lime use remove hair skin make good glue swell considerably well immerse cold water dissolve return former size dry inferior glue make bone however dissolve almost entirely cold water',\n",
       " 'prepare prepare glue use broken small piece soak much cold water cover hour melt double glue pot cover keep glue dirt care must taken keep outer vessel full water glue shall burn bring temperature high boiling water glue allow',\n",
       " 'hour gradually melt much hot water add make liquid enough run brush continuous stream break drop glue do boil water add make thin put away freshly make glue strong repeatedly melt large quantity therefore make time glue may freed foreign animal matter generally soften cold water washing several time long give color bruise hand suspend linen bag surface large quantity water fahr pure glue retain bag soluble impurity pass soften glue heat water filter impurity retain filter colorless solution glue obtain',\n",
       " 'addition little potash render glue impervious moisture expose light small quantity methylate spirit greatly improve keep quality',\n",
       " 'mix minimum amount glue use good work apply hot possible surface wood true bring together tightly possible superfluous',\n",
       " 'squeeze cohesion piece solid force require separate square inch pound strength common glue coarse work increase addition little powder chalk hot glue great cohesion therefore large long joint glue apply immediately boil glue lose much strength frequent melt glue therefore newly make much preferable boil',\n",
       " 'pot glue pot recently perfect consist circular kerosene lamp make tin resting tin bottom inch fit tin chimney place glass fit small aperture cover see regulate flame glue pot make copper tin inside support rim set inch bottom lamp rim support leg solder rivet rim bottom lamp rest pot bottom place portion bottom arch give heating surface connect chamber pot flue pass pot carry smoke lamp also act draft flame pot inch diameter inch high pot reception glue set ordinary glue pot hold',\n",
       " 'whole carried place wish use still heat keep cost oil cent week',\n",
       " 'improvement pot copper tin case iron',\n",
       " 'french cabinet maker use glue pot pan make glaze earthenware divide division keep strong glue weak third water brush piece sponge clean superfluous glue work',\n",
       " 'hole bore top inner vessel glue pot admit steam solidifying side need bored round whole circumference pot allow pour glue necessary',\n",
       " 'prevent glue crack glue frequently crack dryness air room warm stove addition chloride glue prevent disagreeable property crack chloride calcium deliquescent salt attract enough moisture prevent glue crack glue thus prepare metal use put label danger drop',\n",
       " 'strong glue resist moisture dissolve gumsandarac mastic quarter ounce',\n",
       " 'quarter spirit wine add quarter ounce clear turpentine take strong glue isinglass dissolve put gum double glue pot add degree glue constantly stir fire whole well incorporate strain cloth ready use may return glue pot add half ounce finelypowdere glass use quite hot join piece wood together may perfectly hard dry immerse water joint separate',\n",
       " 'moisture quart skim milk add half pound good glue melt together take care boil strong glue resist damp moisture',\n",
       " 'portable glue boil pound good glue strain clear boil also ounce isinglass put double glue pot half pound fine brown sugar boil pretty thick pour plate mould cold may cut dry pocket',\n",
       " 'glue useful draughtsman architect immediately dilute warm water fasten paper process dampen may use soften mouth apply paper',\n",
       " 'fresh air glue room hot period summer time disturb draft evaporate thinly spread glue quite problem yet many problem largely matter attention detail various way ventilate room get fresh air get strong current temptation naturally strong throw open window door hot weather breeze generally thing must guard',\n",
       " 'glue room window side side carefully inclose window open produce strong draft even well window screen make fine close mesh wire used railway train keep dust help keep dust keep draft also keep insect tempt glue make visit glue room variation let top window instead raise bottom one other box arrangement open upward instead straight insert window let fresh air turn upward instead room mechanical ventilator use scientifically ventilate room produce current',\n",
       " 'fact many way get draft business use may deprive glue room breeziness invite summer still furnish fresh air manner healthful work well less damaging glue work strong current',\n",
       " 'raise old veneer first wash surface boil water coarse cloth remove dirt grease caul oil surface common linseed oil place fire heat make oil penetrate quite veneer soften glue hot raise edge gently chisel separate completely grind careful use great force work spoil get cold operation apply oil heat repeat process entirely separate wash old glue proceed lie new veneer',\n",
       " 'take bruise furniture wet part warm water double piece brown paper time soak lie place apply hot flat iron moisture evaporate bruise go repeat process application dent bruise raise level surface bruise small merely soak warm water apply red hot poker surface keep continually wet minute bruise disappear',\n",
       " 'make paste lay cloth leather pint good wheaten flour add resin finely',\n",
       " 'powdered large spoonful alum spoonful powder mix well together put pan add degree soft rain water carefully stir consistence thinnish cream put clear fire keep constantly stir may lumpy stiff consistence spoon stand upright do enough careful stir well bottom burn well attend empty pan cover cold prevent skin form top would make lumpy',\n",
       " 'purpose adhesive use cloth baize spread paste evenly smoothly top table lie cloth press smooth flat piece wood let remain dry trim edge close cross banding cut close first drying shrink look bad meet band round use leather leather must first previously damp paste spread lie table rub smooth level linen cloth cut edge close band short knife lay table cover glue instead paste cloth perhaps good method leather proper glue apt run use cloth great care must taken glue',\n",
       " 'thin cloth rub thick piece wood make hot fire glue soon chill method edge may cut close border',\n",
       " 'cement stop flaw wood put quantity fine wood work make boiling water stir well let remain week day occasionally stir boil time pulp paste put coarse cloth squeeze moisture keep use want mix sufficient quantity thin glue make paste well crack fill hole work quite hard dry clean work carefully do scarcely discern imperfection',\n",
       " 'mahogany colored cement melt ounce beeswax half ounce indian red small quantity yellow ochre bring cement desire color keep pipkin use',\n",
       " 'cement turner melt together beeswax ounce resin ounce pitch half ounce stir mixture fine brickdust give body soft add resin hard wax nearly cold make cake roll keep use',\n",
       " 'piece do apply roller cement sufficient force',\n",
       " 'cut good steel scraper part blade break see make good scraper hard difficult cut require form good expeditious way mark size want place blade steel plate vice chap shut close placing mark even face vise part cut waste vise cold chisel common firm basil break hold close vise rather incline upward begin end steel plate sharp blow hammer cut keep go degree ease cut shape require grind edge scraper level finish rub oil stone',\n",
       " 'clean oil painting wash sponge soft leather water dry rubbing silk handkerchief picture dirty take frame procure clean towel make quite wet lay face picture sprinkling time time clear soft water let remain wet day take cloth renew fresh wipe picture clean wet sponge repeat process dirt soak soft sponge let',\n",
       " 'dry rub clear linsee oil spirit wine turpentine may use dissolve hard old varnish attack paint well varnish action spirit stop proper time use water freely',\n",
       " 'clean varnish picture condition simple process accomplish require thick coating applied picture room dust dirt allow gather remain high light visible sky dirty distance visible perhaps figure foreground indistinct condition varnish must remove smoke dirt must brought varnish thought desirable try latter follow receipt find valuable purpose wood naptha salt pint linseed oil',\n",
       " 'mix well together use shake bottle use follow soft linen rag make soft pad place mouth bottle shake mixture pad commence rub picture circular motion nearly dry give pad dress mixture continue mode procedure time picture gradually come detail',\n",
       " 'clean engraving put engrave smooth board cover thinly common salt finely powder squeeze lemon juice salt dissolve considerable portion elevate end board may form angle degree pour engrave boiling water tea kettle wash engrave perfectly clean free stain must dry board smooth surface gradually dry fire sun tinge yellow color',\n",
       " 'clean engraving presume mount proceed follow manner cut stale loaf half perfectly clean knife crust away edge place engraving perfectly flat table rub surface fresh cut bread circular sweep lightly firmly perform remove superficial marking soak print short time dilute solution hydrochloric acid say part water remove vessel contain sufficient quantity clear chloride lime water cover leave bleach desire point remove rinse well allow stand hour pan constant stream water allow flow finally dry spread clean cloth perhaps require iron sheet clean paper',\n",
       " 'smooth damaged picture painting sometimes get patch surface owe pressure side inequality cause great deal trouble bre successful way well wet side picture spot keep pressure dry small picture quick way would take stretcher lay press light pressure soft sheet paper',\n",
       " 'emboss gilding illuminate gilding figure letter paper embellishment manuscript perform gold temper gum water character may drawn make water old leaf apply almost dry may sufficiently moisten receive gold breathing letter raise surface paper parchment manner emboss work see ancient manuscript may form friction proper body solid piece gold leaf gold',\n",
       " 'former method practice pulverizer strong gum water paste form letter dry rubbed piece solid gold polishing letter appear gild burnish gold letter form emboss figure separate letter whole word cut steel',\n",
       " 'letter stamp use oil evenly feather fill letter paste strike stamp perpendicular direction paper vellum lay sheet soft paper',\n",
       " 'emboss letter form leaf gold follow similar composition must use thicken beat white egg much vermilion necessary give consistence paste use stamp letter dry moisten small pencil strong gum water almost dry cover letter leaf gold press close part cotton wood dry',\n",
       " 'skip main content search upload sign log book video audio software imagesabout blog project help donate contact job volunteer people search metadata search text content tv news caption search radio transcript search archive text practical cabinet maker furniture designer assistant essay history furniture taste design color material full explanation canon good taste furniture see format',\n",
       " 'history furniture taste design color material full explanation canon good taste furniture',\n",
       " 'together many practical direction make cabinet work generally number piece furniture particular hundred recipe finish stain varnish polish gilding kind cabinet work',\n",
       " 'author practical steel sojmrk modern carpentry finisher wood carve',\n",
       " 'prepare work think unnecessary waste time space publish preface would least occupy page good would little service reader content perhaps serve reader well insert remark gist would expect appear preface material may interesting useful',\n",
       " 'day specialization furniture make great measure rob trade many charm well claim dignified position hold',\n",
       " 'good old time man could hold head say truthfully cabinetmaker mean give long year apprenticeship branch detail business assertion interpret mean could take timber plane finish upholster hand mean full knowledge connect manufacture entrance yard may expected workman way completeness',\n",
       " 'thoroughness could hire experience indelibly stamp work',\n",
       " 'invention disarrange certainly save machinery later year dispense old time necessity circular saw band saw sticker planer jointer carver many contrivance economize time make long term apprenticeship measure unnecessary day man cabinet maker sense refer competent circular saw band saw moulding plane alone little else subdivision outgrowth advance invention',\n",
       " 'often applicant work man belong class old school fledgeling rub furniture month manufactory consider subject find advantageous mix element claim worthy consideration former class drill faithfully department work workman class apt wed little firmly method use apprentice workman latter progressive restless restraint perhaps little much sometimes average well',\n",
       " 'bench hand bear mind must man experience quality less extended quality work may require case work machine work manufacturer readily perceive advantage engage service class man knowledge confine exclusively machine pledge run migratory workman curse manufacturer good example say roll stone gather',\n",
       " 'close subdivision work good manufactory conducive uniform generally good result tool machine produce equable quality uniform build',\n",
       " 'system include individual intelligent part machinery admirable make exact reproduce agent consequently aid uniform result question good plan make intelligent practical machine may possible excellence sacrifice tolerable uniformity good mechanic year ago little sympathy system lower status mechanical condition level machine attendant monotonous single branch system',\n",
       " 'individual endeavour seem part mechanic aspiration',\n",
       " 'old time job shop reasonable school embryo could desire foreman well know establishment country recently die conversation long ago state intimate knowledge different department work get experience job shop chance lathe carving room make drawing sketch frequently make design accomplishment may crude give idea job do well accomplished example sort practical mechanic',\n",
       " 'brilliant taste art object gradually develop intensity almost incredible stuff ware furniture precede century old batter always sell price far high excellence construction design tendency would wrong see single fashion mania exaggeration base fantasy imitation man taste nation',\n",
       " 'may well say great nation world could possibly deceive extent unanimity fantasy solid serious basis fashion antique furniture rest reasonable logical foundation first disdain phantom furniture perfecting wood working machine arrive last degree veneer scarcely present slight degree solidity rise wood coat crack slight shock peel least change dampness dryness weather world know equally well homely furniture year ago equally inelegant appearance uncomfortable use desire purchase antique furniture idea procuring article altogether solidly build form always absolutely conformable rule art least entirely different veneer article nature subject limited number combination never furnish taste architect designer resource solid wood longing escape cold monotonous furniture precede generation add year cause greedy demand antique furniture suddenly arise arti',\n",
       " 'remain sound solid sell necessary repair restore strengthen article discover fragment',\n",
       " 'introduction machinery much change character working method cabinet maker prove great humanity generally give masse class furniture never could enjoy cheap production aid power machine wish give impression machine make furniture good beauty majority design graceful well adapt day execute fact belief woodworke machinery prove blessing producer user cabinet work time prove almost fatal distinctive individual beauty artistic handmade furniture',\n",
       " 'object writer aid young cabinet maker old obtain knowledge art enable take material rough work reach finish state ready take place intend also purpose reproduce number design generally consider fine example furniture young workman designer may absorb inspiration give work charm',\n",
       " 'character work may undertake execute never convey article make machine',\n",
       " 'say justice little demand handmade art furniture persuade condition occasion little market high price demand owner high price place article maker designer workman dealer price often time actual cost original work buy rich people price normal middle class s taste equal often superior rich would indulge handmade work much large extent',\n",
       " 'bright sharp workman hundred cabinet factory train lumber yard run delicate machinery shop little study little practical work may soon become able make finish furniture hand fine sort furniture find ready market maker well many fine piece furniture make advanced student work hour holiday mind writing splendid make young man serve year furniture',\n",
       " 'apprentice work do hand shed rear latter see work quite complete offer buy thus finish sell sum material include mirror stain leaded glass hardware stuff tell cost consider work do nearly hour fifteenth end amount quite comfortable addition young man slender salary money gain fraction benefit derive experience knowledge obtain make furniture worth many time money receive',\n",
       " 'course think apprentice even large percentage could make piece furniture find purchaser make apprentice student could make would useful ornamental cash value open way cultivation broader exact artistic taste',\n",
       " 'taste founder style furniture prehistoric babylonian chinese medieval byzantine french gothic',\n",
       " 'modern colonial style essential cabinetmaker aspire know business cultivate taste make conversant various style able glance tell style line give piece furniture intend represent',\n",
       " 'connection may say propose lay reader chapter various style furniture illustration explanation detail also intend offer instruction perform work gilding stain polishing finish work complete',\n",
       " 'book value art cabinet make available american reader french german even italian quite number rendering would little use however try cull deem suitable page culling work consist mostly illustration represent good work french italian german master explanation may necessary american work real practical nature knowledge first cabinet maker companion stoke publish excellent little work contain quite number good',\n",
       " 'ceipt dyeing stain useful matter book still modern deal nearly altogether constructional principle cabinet make little say regard style historical peculiarity furniture book publish date manual good way write chiefly boy little experience woodworking may intend make cabinet make life work suit amateur worker rather intend follow woodworke living manual however prove useful intend work wood professionally amateur',\n",
       " 'many essay art furniture make journal art magazine generally academic character exception prove little service practical workman',\n",
       " 'brief history furniture growth may place purpose go subject great length devote illustrate chapter',\n",
       " 'first well know reference woodwork find book genesis instruction give make wood make window pitch pitch observe definite measurement specific direction thus hand may gather mankind acquire early period world history knowledge different kind wood use various tool',\n",
       " 'know also various bas relief find world museum advance old art civilization manufacture comfortable even luxurious furniture well know quite evident hebrew must best workman teacher taskmaster enable acquire sufficient skill experience carry precise instruction give build build year kind wood measurement ornament fastening loop tach curtain linen covering dry skin turn',\n",
       " 'exodus convinced direction mention give people considerable experience method carry work must resulted generation cabinet maker joiner weaver dyer goldsmith craftsman',\n",
       " 'year description build fit glorious gather different country skilful artificer time event mark knowledge skill thus bring together good work carry grand scheme worth refer old testament information bear subject notice detail furniture give approximate date generally accept particular importance attach precise chronology event concerned speak generally form landmark history furniture verse king tell content little chamber visit tell preparation reception prophet let set bed table stool',\n",
       " 'candlestick incident year later allusion description drapery furnish apartment white green blue hanging fasten cord fine linen purple silver ring pillar marble bed gold silver pavement red blue white black marble esther',\n",
       " 'unfortunately trustworthy description ancient hebrew furniture illustration offering similar book apparently draw imagination found description old testament table generally represent leg partly turn upper portion square ring attach pole carry nomadic people furniture would primitive may take come stock speak language ornamental furniture would exception representation figure man animal similar character say',\n",
       " 'doubtless prehistoric man make use stone pile sod seat spot rest',\n",
       " 'head use stone pillow quite common late early historic time may however find chair bed table furniture highly work ornamented least year show monument papyrus come also possess fragment bronze furniture make',\n",
       " 'contain egyptian seat make ebony preservation lasting nature material',\n",
       " 'egyptian chair throne illustrate fig first part work fig cabinet maker represent occupied chair make foot leg chair design animal limb stool workman sit block wood hollow top egyptian couch straight line design body curve head ordinary leg foot salient point carve head foot tail animal',\n",
       " 'box coffer gable top dovetail together small toilet box carve paint decoration mummy case cedar wood elaborate hieroglyphic decoration may see british chariot horse furniture well represent',\n",
       " 'chariot building export trade surround nation read import war chariot',\n",
       " 'egyptian furniture scarce furniture practically non existent climate latter country dry preservative example thathave wilfully destroy long ago perish many ornament bronze ivory decoration discover use mounting foot end leg seat chair throne',\n",
       " 'latter enable form fairly accurate judgment nature style furniture decoration heavy character fig form part animal',\n",
       " 'use nearly oriental nation furniture decoration human figure also use generally representation slave conquer people degrade position bear weight chair also carve human figure captive tie seat',\n",
       " 'furniture doubtless kind assyrian description apparently similar assyrian king lion arm support lion gold ivory step side throne',\n",
       " 'manufacture furniture nation antiquity principal material wood electrum also much use inlay solid mounting',\n",
       " 'furniture chariot greek early period simply copy egyptian asiatic source less animal form plant form decorative detail fig fold stool chair make wood metal back chair fl upright nearly',\n",
       " 'fig couch resemble modern sofa elaborate foot stool arm chair sphinx arm make',\n",
       " 'small model greek chair make lead wooden box show dovetail construction',\n",
       " 'later greek period furniture inlay ivory ebony gold silver tripod make bronze ornament leg lion leopard sphinxe roman bronze tripod similar grecian one',\n",
       " 'design use sacred purpose temple also support brazier heating purpose burn perfume house private people fig',\n",
       " 'mirror cistae make great quantity metal alloy silver',\n",
       " 'sometimes gold mirror polish face often rich design figure subject cylindrical metal box rest foot design various animal lid cover handle usually figure design whole surface body cover engrave figure composition ornamental border probably use contain jewelry',\n",
       " 'trinket fine specimen handmirror cistae may see british museum',\n",
       " 'furnish house roman much character greek',\n",
       " 'plan aspect roman house pompeii herculaneum table tripod bronze brazier support',\n",
       " 'leg make hinge fold purpose fig other sphinx animal form rich design fig lamp stand design quaint elegant',\n",
       " 'make architectural design carve marble foot height fig',\n",
       " 'highly prize pay good sum table make different hard wood knot grain show advantage beauty wood bring hand polishing stain',\n",
       " 'various colored much prize small table abaci rest usually foot monopodium large table leg',\n",
       " 'head animal carve decoration fig boxwood inlay ebony precious metal use material chair couch latter often make bronze fig chair state carve marble kind cast curule chair call',\n",
       " 'could fold carry easily curule chariot use early time roman modern day often construct elephant tusk wood metal foot curule chair carry outdoor use theatre',\n",
       " 'seat person often ornate kind seat turn leg similar couch fig',\n",
       " 'house separate room wardrobe fit keep dress cloth family room cupboard door shelve drawer locker',\n",
       " 'portable coffer chest use packed cloth valuable carry town country house roman furniture wooden construction house decorate painting carving animal head limb foot usual veneer wood art roman skille large small design tazsia work chief decoration good furniture',\n",
       " 'representation use finish tasteful specimen consequently material exist formation examine find amply repay trouble',\n",
       " 'endeavor obtain little insight form material furniture ancient time dependent different source accord country consideration ancient greece description classical writer painting pompeii chief authority ancient painting place generally specimen still exist asiatic stationary usage quarter seem form part furniture sitting room',\n",
       " 'make solid open side cover top leather interlace string',\n",
       " 'distinction bed couch seem clearly mark couch wood end raise recede graceful curve foot fashion resemble wild suppose couch rich cover day bedding night use wooden pillow customary make various material accord singular kind cavity head back neck may rest wicker bedstead sometimes make palmbranche form light kind grate bed bedding place table use various form round square ob',\n",
       " 'support central pillar often figure man captive table leg material table generally wood sometimes metal stone',\n",
       " 'curious exhibit year ago article furniture bearing much close resemblance modern day chair early time may many case readily mistaken use cushion modern native indolently recline belong oriental system furniture chamber furnish bed room bed day time roll place side adjoining closet sleep place winter summer many person sleep house top furniture room comprise pretty nearly mat carpet spread floor divan cushion couch meal round tray bring place low stool company sit round ground fire place room warm necessary charcoal burn chafe dish',\n",
       " 'pass find treat furniture room many matter singularly isolate chinese',\n",
       " 'much closely resemble',\n",
       " 'people customarily use chair resemble solid heavy chair fashion early part th century see illustration chinese often cushion back hang scarlet silk woolen embroider silk form figure furniture chinese',\n",
       " 'erally avoid straight uniform line even doorway instead regular right angle opening often present form circle jar fanciful doorway however use door open covered hanging screen cloth bamboo blind use chinese bed generally simple form cotton silk curtain heat summer bed individual middle class usually consist board lay couple narrow bench mat lie bamboo stick support curtain may readily sup',\n",
       " 'posed original country porcelain usual ornament dwelling consist material antiquity value',\n",
       " 'quality taste lead manufacture fictitious antique porcelain bronze substance point stranger lgure often egregiously',\n",
       " 'take ancient vessel real imitate often fantastical similar vestige',\n",
       " 'furniture table chair bed chariot byzantine period architecture classic roman mixture asiatic form design scarcely remain existence evidence extreme richness sumptuary furniture vessel great house palace constantinople owe become enriched treasure roman family naturally flee constantinople protection valuable effect',\n",
       " 'different variety seat chair footstool consuls seat represent carve many original cast other',\n",
       " 'preserve cover ivory carving fine example byzantine work',\n",
       " 'much furniture early century christian art represent byzantine illuminate manuscript bed couch keep old roman form turn leg chariot must use much old game chariot racing keep byzantine iconoclast',\n",
       " 'injurious rule last year responsible much destruction',\n",
       " 'sumptuary furniture well production artistic nature time indirect mean cause new development art western part particularly',\n",
       " 'rhenish province drive byzantine artist craftsman place welcome powerful noble churchman course time succeed found school art know rhenish byzantine fine illustration art see magnificent enamel reliquary shrine early piece furniture middle age see fig mediaeval chair throne high seat exceedingly rich design fig scandinavian example style many form romanesque see furniture carve gothic style immediately succeed former',\n",
       " 'ordinary house usually consist room sometimes shed structure erect wall room contain bed mistress rule inmate sleep large table place center room bench bag straw place seat back stool long settle bench back carve end arm chief article furniture',\n",
       " 'domestic improvement multiply room add house solar upper room parlor',\n",
       " 'talk room room fireplace chimney principal center smoke escape light principal addition furniture manor house cupboard press armoire chest piece',\n",
       " 'introduce sometimes portable press chest paint tempera decoration bind clasps hinge begin come use',\n",
       " 'bed clothe personal clothing noble rich landowner begin assume rich character often embroider',\n",
       " 'paint cloth hanging import also pottery ornamental description import make time',\n",
       " 'rich poor class remain long period primitive condition regard style house furniture',\n",
       " 'construction furniture panelling chest begin exhibit appearance good carpentry panel place framework mortise fasten wooden peg become universal method panelling gothic period room paneling come early part thirteenth century figure pine timber use first',\n",
       " 'work displace later panelling gothic period often carve elaborate tracery architectural character fig common design carve imitation carefully fold textile know linen panel fig',\n",
       " 'chest use table top inlaid checker use chessboard also use sideboard place dish food dining table place trestle could remove packed away require fig cross legged chair legged stool show fig',\n",
       " 'common century illustration fig bedroom',\n",
       " 'take manuscript date illustration many other',\n",
       " 'subject furniture indebted work pollen furniture woodwork',\n",
       " 'illustration flat canopy tester embroider hanging wall room panel floor checker par',\n",
       " 'quetry curious seat partly open press pottery metal vase place decoration top',\n",
       " 'period time important article furniture often make inlaid wood decoration strapwork iron ornate',\n",
       " 'hinge usual repository household valuable money treasure carry horse family move place place degree ch addition back arm become settle principal seat live room back develop added hood projecting covering',\n",
       " 'later development chest raise leg add back arrangement shelf display household plate give name dressoir dresser latter time develop modern sideboard',\n",
       " 'chest also important article church furniture sacred vessel treasure book priest lock particular',\n",
       " 'form chest keep church vestry cope chest take semicircular shape cope lay flat chest example chest still see large cathedral',\n",
       " 'give good idea state early gothic period',\n",
       " 'century use conveyance woman child common longshape cover vehicle wheel panel side paint decorate fig cart carry agricultural purpose use date twowheele vehicle usually solid piece wood',\n",
       " 'ingenious use wood carpentry carve turn lathe ingenuity skill carpentry turn see meshrebiya work lattice carving pulpit door panel',\n",
       " 'regard furniture domestic dwelling saracen elsewhere little movable nature small table read desk table saracenic design usually small great height width fig table kursys sometimes panel turn lattice carve decoration stalactite top illustration',\n",
       " 'light construction generally inlay shape brass silver ornamentation splendid workmanship next important article movable furniture read desk make form camp cross leg usually inlay decorate table',\n",
       " 'platform raise slightly grind cover cushion seat back carve cupboard shelve bracket',\n",
       " 'place keep ornament use complete usual furniture saracenic livingroom seat chair lattice work dikkas',\n",
       " 'sit usually find entrance hall add elaborate metal color glass lamp vase large metal salver rug carpet furniture saracenic complete',\n",
       " 'early part fifteenth century whole century furniture generally design less gothic line gradually new form rapidly develop architecture renaissance slow measure begin assert furniture design consequently find many article armoire press cabinet mixture style design instance upper panel would mediaeval low one style general construction would gothic detail decoration would italian',\n",
       " 'often case tardily welcome',\n",
       " 'style design furniture overlap much especially renaissance period become difficult assign correct date many piece important work gothic design continue use sixteenth century renaissance develop year',\n",
       " 'early authentic mean fix date certain work prove come hand particular artist record make king great person style always sure proof correct date',\n",
       " 'century italian furniture make church palace private house usually decorate painting sometimes gilt ground prepare gesso material gold applied part relief ornamentation',\n",
       " 'front panel cabinet chest marriage coffer decorate way',\n",
       " 'work know make great perfection time work geometric character design compose floral ornament sometimes consist representation landscape building kind inlay derive persian source develop chiefly venetian use mostly decoration stall table chair cabinet ebony ivory metal also employ italian period',\n",
       " 'italian cassoni marriage coffer ornate impose article furniture fifteenth sixteenth century place long hall corridor palace great',\n",
       " 'house usually give present newly marry couple generally use receptacle bride treasure latter century carve sculptural mythological subject ending corner half figure half foliage caryatid',\n",
       " 'foot design claws animal raise ground fig carve relieved gilding part sometimes whole gilt',\n",
       " 'example early date cover finely model decoration work gild case large panel front paint figure subject brilliant color heighten gold',\n",
       " 'less costly kind marriage coffer make cypress wood fit drawer decoration surface engrave etched',\n",
       " 'line grind slightly recess punch stamp fine ornamentation',\n",
       " 'italian variety chair carve gilt style period coffer usually place row latter hall italian palace fig chair back leg richly carve part make single slab wood',\n",
       " 'pair bellow fig illustration design workmanship show work wood carver sixteenth century period',\n",
       " 'fine wood carve italian stool fig date remarkable delicacy treatment',\n",
       " 'form chair rectangular character arm emboss leather velvet cover seat turn carve leg rail make time fig much use subsequently continue favor present day',\n",
       " 'cabinet make slab beautifully color veined marble rare stone insert panel various shape pietradura give',\n",
       " 'seventeenth eighteenth century paint plaque porcelain take place marble',\n",
       " 'great house private religious king palace elaborately furnish keep state great splendor',\n",
       " 'church also furnish elaborate stall pulpit rich utensil latter style design still mediaeval',\n",
       " 'style gradually alter italian form great italian flemish french furniture largely import italian artist design furniture goldsmith work',\n",
       " 'great activity take place architecture industrial art country imitate seek work italian school',\n",
       " 'already mention french king medicean princess sixteenth invite other succeed found style time many french artist journey acquire new style evolve study old classic remain country name principal french artist sculptor carver period bacheli publish',\n",
       " 'design kind decoration carving hugue sambin dijon man',\n",
       " 'also designer heavy rich furniture characteristic french renaissance artist work notice chapter architecture metal work cabinet fig good example architecturic style french furniture sixteenth century french wood carving distinguish',\n",
       " 'italian period work fig characteristic style',\n",
       " 'take firm piece furniture generally prove thorough master style especially skilful carve wood gigantic minute scale whole front house elaborately carve design consist figure work animal ornament grotesque quaint humorous description exceedingly minute work figure subject animal carve box wood delicacy quaintness often excel ivory carving japanese escritoire buffet cabinet furniture make export country',\n",
       " 'flemish english furniture carving pretty much alike period piece carve furniture flemish solid heavy design thickness material generally oak chestnut much flemish furniture import time work close resemblance former great difficulty experience classify example period table fig socalle great bed ware example furniture period fig',\n",
       " 'duced first instance native carver felipe',\n",
       " 'teenth century berruguete style renaissance soon spread great quantity carve inlaid work elaborate altar piece execute prosperous spanish period sixteenth century',\n",
       " 'fame marquetry inlaid work cypre',\n",
       " 'import venetian spread rapidly furniture make marquetry decoration degree supplant heavy classical architectural design',\n",
       " 'leave italian sixteenth century work must notice mirror elaborately carve frame venetian design renowned make glass still famous certain privilege grant state exclusively venetian manufacturer look glass glass maker name inventor grant year sole privilege make mirror glass term year previous time mirror',\n",
       " 'make various polished metal frame venetian mirror often elaborately carve fig make design strictly architectural character represent window frame pilaster frieze cornice sill plinth carve frame often part wholly gild export considerable quantity picture frame similar way mirror carve gilt frame soon use picture frame later gilt furniture kind make venice great favor country continent',\n",
       " 'manufacture marquetry furniture dutch seventeenth century mention help great measure change style furniture design former architectural character great simplicity construction large panel surface use purpose show great advantage rich bright color different kind hard wood use marquetry natural stain variety various wood arrange design position foliage employ mix large tulip rose bird dutch marquetry decoration material also use inlay similar kind marquetry',\n",
       " 'develop design consist figure subject imitation ruin landscape complete change design furniture latter country also effect desire large surface inlaid work could seen great advantage space divide architectural moulding pilaster precede early work end sixteenth century early half seventeenth sumptuous furniture bed general furnish well class house european country characterize use costly silk brocade tissue embroider covering hanging',\n",
       " 'thus seek give furniture appearance rich possible kind article chair couch bed lose corresponding degree elegance former constructive beauty gorgeous italian oriental velvet covering frame construction cease visible piece furniture still retain sumptuous reign table armoire cabinet book case pedestal clock stand',\n",
       " 'case come influence architecture period select good architect cabinet maker day design furniture palace tuilerie',\n",
       " 'great connect design manufacture magnificent furniture',\n",
       " 'period work know name celebrate furniture elaborate kind marquetry material rare wood mounting moulding salient point make brass beautifully chase finished moulding form mask foliage cartouche animal head foot bear year',\n",
       " 'also distinguish ebeniste cabinet maker possess artistic gift much high degree addition make special marquetry design also execute good deal good work design berain chief collaborateur berain design italian style symmetrical composition ornament correct architectural point view attribute design much looseness freedom prevalent ouatorze',\n",
       " 'death formerly live royal gallery office ebeniste king become vacant appoint mace instal room year previously execute important work king know able time',\n",
       " 'trace indian encrust ebony metal find way work consist chiefly casket coffer small piece furniture inventory',\n",
       " 'make lectern coffer inlay ivory bone ebony similar work mention inventory early notice marquetry furniture make probably imitation oriental work',\n",
       " 'period buy magnificent furniture portuguese merchant mention make chair table coffer cabinet mirror frame belong person french court work make marquetry',\n",
       " 'sixteenth brass tin exotic wood use inlay addition east see invent celebrate marquetry bear name however bring sumptuous form cabinet work perfection patronage opportunity develop artistic ability utmost',\n",
       " 'making first prepare veneer wood shell brass thickness perfectly plain surface veneer',\n",
       " 'glue together pair opposite material accord nature effect require',\n",
       " 'finished work hold together firmly vice design trace surface upper leaf veneer cut line',\n",
       " ...]"
      ]
     },
     "execution_count": 64,
     "metadata": {},
     "output_type": "execute_result"
    }
   ],
   "source": [
    "post_doc=[' '.join(data_lemmatized[i]) for i in range(len(data_lemmatized))]\n",
    "post_doc"
   ]
  },
  {
   "cell_type": "markdown",
   "metadata": {},
   "source": [
    "# Data Transformation: Corpus and Dictionary"
   ]
  },
  {
   "cell_type": "markdown",
   "metadata": {},
   "source": [
    "import gensim.corpora as corpora\n",
    " Create Dictionary\n",
    "id2word = corpora.Dictionary(data_lemmatized)\n",
    "#filter out words with frequency conditions\n",
    "id2word.filter_extremes(no_below=10, no_above=0.2)\n",
    "id2word[0]"
   ]
  },
  {
   "cell_type": "code",
   "execution_count": 65,
   "metadata": {},
   "outputs": [],
   "source": [
    "# Transform 20 newsgroup data into a sparse matrix\n",
    "def to_matrix(doc,feature_num):\n",
    "    vectorizer = CountVectorizer(stop_words='english', max_features=feature_num,binary=True)\n",
    "    doc_word = vectorizer.fit_transform(doc)\n",
    "    doc_word = ss.csr_matrix(doc_word)\n",
    "    doc_word.shape # n_docs x m_words\n",
    "    # Get words that label the columns (needed to extract readable topics and make anchoring easier)\n",
    "    words = list(np.asarray(vectorizer.get_feature_names()))\n",
    "    #preprocessing\n",
    "    #remove integers from words\n",
    "    not_digit_inds = [ind for ind,word in enumerate(words) if not word.isdigit()]\n",
    "    doc_word = doc_word[:,not_digit_inds]\n",
    "    words= [word for ind,word in enumerate(words) if not word.isdigit()]\n",
    "    print('n_docs x m_words:')\n",
    "    print(doc_word.shape) # n_docs x m_words\n",
    "    return doc_word,words"
   ]
  },
  {
   "cell_type": "code",
   "execution_count": 68,
   "metadata": {},
   "outputs": [
    {
     "name": "stdout",
     "output_type": "stream",
     "text": [
      "n_docs x m_words:\n",
      "(8677, 14063)\n"
     ]
    }
   ],
   "source": [
    "#the number is the max_features of count_vectorizer\n",
    "train_matrix,train_words=to_matrix(post_doc,20000)"
   ]
  },
  {
   "cell_type": "markdown",
   "metadata": {},
   "source": [
    "actually 25138 is the maximum features we can get, which is weird consider how 24029 is the largest number of words..."
   ]
  },
  {
   "cell_type": "markdown",
   "metadata": {},
   "source": [
    "great, now both matrices are of same dimension"
   ]
  },
  {
   "cell_type": "code",
   "execution_count": null,
   "metadata": {},
   "outputs": [],
   "source": [
    "#simply append training document to the end of test documents to increase the # of words to 18614"
   ]
  },
  {
   "cell_type": "code",
   "execution_count": 69,
   "metadata": {},
   "outputs": [
    {
     "data": {
      "text/plain": [
       "436"
      ]
     },
     "execution_count": 69,
     "metadata": {},
     "output_type": "execute_result"
    }
   ],
   "source": [
    "test=pd.read_csv('OCC_pairs.csv')['OCC_DES'].tolist()\n",
    "len(test)"
   ]
  },
  {
   "cell_type": "code",
   "execution_count": 70,
   "metadata": {},
   "outputs": [
    {
     "data": {
      "text/plain": [
       "437"
      ]
     },
     "execution_count": 70,
     "metadata": {},
     "output_type": "execute_result"
    }
   ],
   "source": [
    "test.extend(['-'.join(post_doc)])\n",
    "len(test)"
   ]
  },
  {
   "cell_type": "code",
   "execution_count": 74,
   "metadata": {},
   "outputs": [
    {
     "name": "stdout",
     "output_type": "stream",
     "text": [
      "n_docs x m_words:\n",
      "(437, 14063)\n"
     ]
    }
   ],
   "source": [
    "test_matrix,test_words=to_matrix(test,14063)"
   ]
  },
  {
   "cell_type": "markdown",
   "metadata": {},
   "source": [
    "#now the number of words in training & test set are the same, let's hope it words"
   ]
  },
  {
   "cell_type": "markdown",
   "metadata": {},
   "source": [
    "## CorEx Topic Model"
   ]
  },
  {
   "cell_type": "markdown",
   "metadata": {},
   "source": [
    "The main parameters of the CorEx topic model are:\n",
    "+ **`n_hidden`**: number of topics (\"hidden\" as in \"hidden latent topics\")\n",
    "+ **`words`**: words that label the columns of the doc-word matrix (optional)\n",
    "+ **`docs`**: document labels that label the rows of the doc-word matrix (optional)\n",
    "+ **`max_iter`**: number of iterations to run through the update equations (optional, defaults to 200)\n",
    "+ **`verbose`**:  if `verbose=1`, then CorEx will print the topic TCs with each iteration\n",
    "+ **`seed`**:     random number seed to use for model initialization (optional)\n",
    "\n",
    "We'll train a topic model with 50 topics. (This will take a few minutes.)"
   ]
  },
  {
   "cell_type": "code",
   "execution_count": null,
   "metadata": {},
   "outputs": [],
   "source": [
    "# Train the CorEx topic model with 50 topics\n",
    "topic_model = ct.Corex(n_hidden=20, words=words, max_iter=200, verbose=False, seed=1)\n",
    "topic_model.fit(doc_word, words=words);"
   ]
  },
  {
   "cell_type": "markdown",
   "metadata": {},
   "source": [
    "## CorEx Output"
   ]
  },
  {
   "cell_type": "markdown",
   "metadata": {},
   "source": [
    "### Topics"
   ]
  },
  {
   "cell_type": "markdown",
   "metadata": {},
   "source": [
    "The CorEx topic model provides functionality for easily accessing the topics. Let's take a look one of the topics."
   ]
  },
  {
   "cell_type": "code",
   "execution_count": null,
   "metadata": {},
   "outputs": [],
   "source": [
    "# Print a single topic from CorEx topic model\n",
    "topic_model.get_topics(topic=1, n_words=10)"
   ]
  },
  {
   "cell_type": "markdown",
   "metadata": {},
   "source": [
    "The topic words are those with the highest *mutual information* with the topic, rather than those with highest probability within the topic as in LDA. The mutual information with the topic is the number reported in each tuple. CorEx also returns the \"sign\" of each word, which is either 1 or -1. If the sign is -1, then that means the *absence* of a word is informative in that topic, rather than its presence. \n",
    "\n",
    "If the column labels have not been specified through **`words`**, then the code will return the column indices for the top words in each topic.\n",
    "\n",
    "We can also retrieve all of the topics at once if we would like."
   ]
  },
  {
   "cell_type": "code",
   "execution_count": null,
   "metadata": {},
   "outputs": [],
   "source": [
    "#get rid of words like occupation, "
   ]
  },
  {
   "cell_type": "code",
   "execution_count": null,
   "metadata": {},
   "outputs": [],
   "source": [
    "# Print all topics from the CorEx topic model\n",
    "topics = topic_model.get_topics()\n",
    "for n,topic in enumerate(topics):\n",
    "    topic_words,_,_ = zip(*topic)\n",
    "    print('{}: '.format(n) + ', '.join(topic_words))"
   ]
  },
  {
   "cell_type": "markdown",
   "metadata": {},
   "source": [
    "The first topic for the newsgroup data tends to be less coherent than expected because of encodings and other oddities in the newsgroups data.  \n",
    "\n",
    "We can also get the column indices instead of the column labels if necessary."
   ]
  },
  {
   "cell_type": "code",
   "execution_count": null,
   "metadata": {},
   "outputs": [],
   "source": [
    "topic_model.get_topics(topic=5, n_words=10, print_words=False)"
   ]
  },
  {
   "cell_type": "markdown",
   "metadata": {},
   "source": [
    "If we need to directly access the topic assignments for each word, they can be accessed through **`cluster`**."
   ]
  },
  {
   "cell_type": "code",
   "execution_count": null,
   "metadata": {},
   "outputs": [],
   "source": [
    "print(topic_model.clusters)\n",
    "print(topic_model.clusters.shape) # m_words"
   ]
  },
  {
   "cell_type": "markdown",
   "metadata": {},
   "source": [
    "### Document Labels"
   ]
  },
  {
   "cell_type": "markdown",
   "metadata": {},
   "source": [
    "As with the topic words, the most probable documents per topic can also be easily accessed. Documents are sorted according to log probabilities which is why the highest probability documents have a score of 0 ($e^0 = 1$) and other documents have negative scores (for example, $e^{-0.5} \\approx 0.6$)."
   ]
  },
  {
   "cell_type": "code",
   "execution_count": null,
   "metadata": {},
   "outputs": [],
   "source": [
    "# Print a single topic from CorEx topic model\n",
    "topic_model.get_top_docs(topic=1, n_docs=10, sort_by='log_prob')"
   ]
  },
  {
   "cell_type": "markdown",
   "metadata": {},
   "source": [
    "CorEx is a *discriminative* model, whereas LDA is a *generative* model. This means that while LDA outputs a probability distribution over each document, CorEx instead estimates the probability a document belongs to a topic given that document's words. As a result, the probabilities across topics for a given document do not have to add up to 1. The estimated probabilities of topics for each document can be accessed through **`log_p_y_given_x`** or **`p_y_given_x`**."
   ]
  },
  {
   "cell_type": "code",
   "execution_count": null,
   "metadata": {},
   "outputs": [],
   "source": [
    "print(topic_model.p_y_given_x.shape) # n_docs x k_topics"
   ]
  },
  {
   "cell_type": "markdown",
   "metadata": {},
   "source": [
    "We can also use a softmax to make a binary determination of which documents belong to each topic. These softmax labels can be accessed through **`labels`**."
   ]
  },
  {
   "cell_type": "code",
   "execution_count": null,
   "metadata": {},
   "outputs": [],
   "source": [
    "print(topic_model.labels.shape) # n_docs x k_topics"
   ]
  },
  {
   "cell_type": "markdown",
   "metadata": {},
   "source": [
    "Since CorEx does not prescribe a probability distribution of topics over each document, this means that a document could possibly belong to no topics (all 0's across topics in **`labels`**) or all topics (all 1's across topics in **`labels`**)."
   ]
  },
  {
   "cell_type": "markdown",
   "metadata": {},
   "source": [
    "## Total Correlation and Model Selection"
   ]
  },
  {
   "cell_type": "markdown",
   "metadata": {},
   "source": [
    "### Overall TC"
   ]
  },
  {
   "cell_type": "markdown",
   "metadata": {},
   "source": [
    "Total correlation is the measure which CorEx maximize when constructing the topic model. It can be accessed through **`tc`** and is reported in nats."
   ]
  },
  {
   "cell_type": "code",
   "execution_count": null,
   "metadata": {},
   "outputs": [],
   "source": [
    "topic_model.tc"
   ]
  },
  {
   "cell_type": "markdown",
   "metadata": {},
   "source": [
    "**Model selection:** CorEx starts its algorithm with a random initialization, and so different runs can result in different topic models. One way of finding a better topic model is to restart the CorEx algorithm several times and take the run that has the highest TC value (i.e. the run that produces topics that are most informative about the documents)."
   ]
  },
  {
   "cell_type": "markdown",
   "metadata": {},
   "source": [
    "### Topic TC"
   ]
  },
  {
   "cell_type": "markdown",
   "metadata": {},
   "source": [
    "The overall total correlation is the sum of the total correlation per each topic. These can be accessed through **`tcs`**. For an unsupervised CorEx topic model, the topics are always sorted from high to low according to their TC. For an anchored CorEx topic model, the topics are not sorted, and are outputted such that the anchored topics come first."
   ]
  },
  {
   "cell_type": "code",
   "execution_count": null,
   "metadata": {},
   "outputs": [],
   "source": [
    "topic_model.tcs.shape # k_topics"
   ]
  },
  {
   "cell_type": "code",
   "execution_count": null,
   "metadata": {},
   "outputs": [],
   "source": [
    "print(np.sum(topic_model.tcs))\n",
    "print(topic_model.tc)"
   ]
  },
  {
   "cell_type": "markdown",
   "metadata": {},
   "source": [
    "### Selecting the Number of Topics"
   ]
  },
  {
   "cell_type": "markdown",
   "metadata": {},
   "source": [
    "One way to choose the number of topics is to observe the distribution of TCs for each topic to see how much each additional topic contributes to the overall TC. We should keep adding topics until additional topics do not significantly contribute to the overall TC. This is similar to choosing a cutoff eigenvalue when doing topic modeling via LSA."
   ]
  },
  {
   "cell_type": "code",
   "execution_count": null,
   "metadata": {
    "scrolled": false
   },
   "outputs": [],
   "source": [
    "plt.figure(figsize=(10,5))\n",
    "plt.bar(range(topic_model.tcs.shape[0]), topic_model.tcs, color='#4e79a7', width=0.5)\n",
    "plt.xlabel('Topic', fontsize=16)\n",
    "plt.ylabel('Total Correlation (nats)', fontsize=16);"
   ]
  },
  {
   "cell_type": "markdown",
   "metadata": {},
   "source": [
    "We see the first topic is much more informative than the other topics. Given that we suspect that this topic is picking up on image encodings (as given by \"dsl\" and \"n3jxp\" in the topic) and other boilerplate text (as given by the high TC and lack of coherence of the rest of the topic), we could consider doing additional investigation and preprocessing to help ensure that the CorEx topic model does not pick up on these patterns which are not insightful."
   ]
  },
  {
   "cell_type": "markdown",
   "metadata": {},
   "source": [
    "### Pointwise Document TC"
   ]
  },
  {
   "cell_type": "markdown",
   "metadata": {},
   "source": [
    "We can decompose total correlation further. The topic correlation is the average of the pointwise total correlations for each individual document. The pointwise total correlations can be accessed through **`log_z`**."
   ]
  },
  {
   "cell_type": "code",
   "execution_count": null,
   "metadata": {},
   "outputs": [],
   "source": [
    "topic_model.log_z.shape # n_docs x k_topics"
   ]
  },
  {
   "cell_type": "code",
   "execution_count": null,
   "metadata": {},
   "outputs": [],
   "source": [
    "print(np.mean(topic_model.log_z, axis=0))\n",
    "print(topic_model.tcs)"
   ]
  },
  {
   "cell_type": "markdown",
   "metadata": {},
   "source": [
    "The pointwise total correlations in **`log_z`** represent the correlations within an individual document explained by a particular topic. These correlations have been used to measure how \"surprising\" documents are with respect to given topics (see references below)."
   ]
  },
  {
   "cell_type": "markdown",
   "metadata": {},
   "source": [
    "## Hierarchical Topic Models"
   ]
  },
  {
   "cell_type": "markdown",
   "metadata": {},
   "source": [
    "The **`labels`** attribute gives the binary topic expressions for each document and each topic. We can use this output as input to another CorEx topic model to get latent representations of the topics themselves. This yields a hierarchical CorEx topic model. Like the first layer of the topic model, one can determine the number of latent variables to add in higher layers through examination of the topic TCs."
   ]
  },
  {
   "cell_type": "code",
   "execution_count": null,
   "metadata": {},
   "outputs": [],
   "source": [
    "# Train a second layer to the topic model\n",
    "tm_layer2 = ct.Corex(n_hidden=10)\n",
    "tm_layer2.fit(topic_model.labels);\n",
    "\n",
    "# Train a third layer to the topic model\n",
    "tm_layer3 = ct.Corex(n_hidden=1)\n",
    "tm_layer3.fit(tm_layer2.labels);"
   ]
  },
  {
   "cell_type": "markdown",
   "metadata": {},
   "source": [
    "If you have `graphviz` installed, then you can output visualizations of the hierarchial topic model to your current working directory. One can also create custom visualizations of the hierarchy by properly making use of the **`labels`** attribute of each layer."
   ]
  },
  {
   "cell_type": "code",
   "execution_count": null,
   "metadata": {},
   "outputs": [],
   "source": [
    "vt.vis_hierarchy([topic_model, tm_layer2, tm_layer3], column_label=words, max_edges=200, prefix='topic-model-example')"
   ]
  },
  {
   "cell_type": "markdown",
   "metadata": {},
   "source": [
    "## Anchoring for Semi-Supervised Topic Modeling"
   ]
  },
  {
   "cell_type": "markdown",
   "metadata": {},
   "source": [
    "Anchored CorEx is an extension of CorEx that allows the \"anchoring\" of words to topics. When anchoring a word to a topic, CorEx is trying to maximize the mutual information between that word and the anchored topic. So, anchoring provides a way to guide the topic model towards specific subsets of words that the user would like to explore.  \n",
    "\n",
    "The anchoring mechanism is flexible, and so there are many possibilities of anchoring. We explored the following types of anchoring in our TACL paper:\n",
    "\n",
    "1. Anchoring a single set of words to a single topic. This can help promote a topic that did not naturally emerge when running an unsupervised instance of the CorEx topic model. For example, one might anchor words like \"snow,\" \"cold,\" and \"avalanche\" to a topic if one suspects there should be a snow avalanche topic within a set of disaster relief articles.\n",
    "\n",
    "2. Anchoring single sets of words to multiple topics. This can help find different aspects of a topic that may be discussed in several different contexts. For example, one might anchor \"protest\" to three topics and \"riot\" to three other topics to understand different framings that arise from tweets about political protests.\n",
    "\n",
    "3. Anchoring different sets of words to multiple topics. This can help enforce topic separability if there appear to be chimera topics. For example, one might anchor \"mountain,\" \"Bernese,\" and \"dog\" to one topic and \"mountain,\" \"rocky,\" and \"colorado\" to another topic to help separate topics that merge discussion of Bernese Mountain Dogs and the Rocky Mountains.\n",
    "\n",
    "\n",
    "We'll demonstrate how to anchor words to the the CorEx topic model and how to develop other anchoring strategies."
   ]
  },
  {
   "cell_type": "markdown",
   "metadata": {},
   "source": [
    "We can anchor multiple groups of words to multiple topics as well."
   ]
  },
  {
   "cell_type": "code",
   "execution_count": 75,
   "metadata": {},
   "outputs": [],
   "source": [
    "anchors=pd.read_excel('three_level_occupation_scores.xlsx')['Large Categories.1'][:9]"
   ]
  },
  {
   "cell_type": "code",
   "execution_count": 76,
   "metadata": {},
   "outputs": [
    {
     "data": {
      "text/plain": [
       "0    Agriculture, Forestry, and Animal Husbandry\n",
       "1                           Clerical Occupations\n",
       "2                  Domestic and Personal Service\n",
       "3                         Extraction of Minerals\n",
       "4        Manufacturing and Mechanical Industries\n",
       "5                           Professional Service\n",
       "6       Public Service, Not Elsewhere Classified\n",
       "7                                          Trade\n",
       "8                                 Transportation\n",
       "Name: Large Categories.1, dtype: object"
      ]
     },
     "execution_count": 76,
     "metadata": {},
     "output_type": "execute_result"
    }
   ],
   "source": [
    "anchors"
   ]
  },
  {
   "cell_type": "markdown",
   "metadata": {},
   "source": [
    "the model has the same hyperparameter with model 1"
   ]
  },
  {
   "cell_type": "code",
   "execution_count": 167,
   "metadata": {},
   "outputs": [
    {
     "name": "stdout",
     "output_type": "stream",
     "text": [
      "WARNING: Anchor word not in word column labels provided to CorEx: minerals\n"
     ]
    }
   ],
   "source": [
    "# The anchor-words are the unique entries in ‘Large Categories_1’ from ‘three_level_occupation_scores.xlsx’ \n",
    "# without stopwords & with some tweakings done to it\n",
    "\n",
    "anchor_words = [['agriculture','forestry','animal','husbandry'], #0\n",
    "                ['clerical'], #1\n",
    "                ['domestic','professional'], #2\n",
    "                ['extraction','minerals'], #3\n",
    "                ['manufacture','mechanical'], #4\n",
    "                ['professional'], #5\n",
    "                ['public'], #6\n",
    "                ['trade'],  #7\n",
    "                ['transportation']  #8\n",
    "               ]\n",
    "#the word 'professional' is added above since in 'three_level_occupation_scores.xlsx', \n",
    "#all 'occupations' with the word 'professional' in them are from this category, \n",
    "#so it might be helpful to be added \n",
    "    \n",
    "# number of groups set to 10\n",
    "anchored_topic_model = ct.Corex(n_hidden=10, seed=2)\n",
    "anchored_topic_model.fit(train_matrix, words=train_words, anchors=anchor_words, anchor_strength=6);"
   ]
  },
  {
   "cell_type": "code",
   "execution_count": 78,
   "metadata": {},
   "outputs": [
    {
     "name": "stdout",
     "output_type": "stream",
     "text": [
      "0\n",
      "*agriculture*\n",
      "    0: animal, agriculture, water, husbandry, forestry, boil, hot, vegetable, cook, fruit\n",
      "1\n",
      "*clerical*\n",
      "    1: method, clerical, introduction, use, obtain, necessary, occupational, status, lesson, case\n",
      "2\n",
      "*domestic*\n",
      "    2: domestic, professional, occupation, gainful, female, division, gainfully, male, occupy, enumerator\n",
      "3\n",
      "*extraction*\n",
      "    3: earner, wage, number, cent, average, employ, increase, proportion, year, age\n",
      "4\n",
      "*manufacture*\n",
      "    4: manufacture, mechanical, primarily, material, add, produce, silk, sulphuric, refining, acid\n",
      "5\n",
      "*professional*\n",
      "    5: furniture, style, professional, design, chair, cabinet, decoration, century, art, carve\n",
      "6\n",
      "*public*\n",
      "    6: public, power, electric, generate, current, engine, motor, rent, horsepower, steam\n",
      "7\n",
      "*trade*\n",
      "    7: trade, worker, local, union, member, shop, organization, condition, work, man\n",
      "8\n",
      "*transportation*\n",
      "    8: piece, wood, inch, cut, surface, fig, glue, dry, transportation, mold\n",
      "9\n",
      "9: product, industry, establishment, value, total, report, statistic, table, census, include\n"
     ]
    }
   ],
   "source": [
    "# Print all topics from the CorEx topic model with their most significant words\n",
    "topics = anchored_topic_model.get_topics()\n",
    "for topic_n,topic in enumerate(topics):\n",
    "    print(topic_n)\n",
    "    if topic==[]:\n",
    "        continue\n",
    "    # w: word, mi: mutual information, s: sign\n",
    "    topic = [(w,mi,s) if s > 0 else ('~'+w,mi,s) for w,mi,s in topic]\n",
    "    # Unpack the info about the topic\n",
    "    topic_words,mis,signs = zip(*topic)    \n",
    "    # Print topic\n",
    "    if topic_n<len(anchor_words):\n",
    "        print(f'*{anchor_words[topic_n][0]}*')\n",
    "        topic_str = '    '+str(topic_n)+': '+', '.join(topic_words)\n",
    "    else:\n",
    "        topic_str = str(topic_n)+': '+', '.join(topic_words)\n",
    "    print(topic_str)"
   ]
  },
  {
   "cell_type": "markdown",
   "metadata": {},
   "source": [
    "Note that the 2nd topic 'clerical' isn't a good topic\n",
    "\n",
    "Note that 'occupation' is considered a significant word in Topic 1. Yet, remember that we mentioning how this word doesn't have much meaning in our occupation clustering & including it will hurt out classification. \n",
    "\n",
    "*b Perhaps we should consider dropping this word entirely from our training document\n"
   ]
  },
  {
   "cell_type": "markdown",
   "metadata": {},
   "source": [
    "## CorEx Output"
   ]
  },
  {
   "cell_type": "markdown",
   "metadata": {},
   "source": [
    "#### Function: find topic of single word"
   ]
  },
  {
   "cell_type": "markdown",
   "metadata": {},
   "source": [
    "If we need to directly access the topic assignments for each word, they can be accessed through **`cluster`**."
   ]
  },
  {
   "cell_type": "code",
   "execution_count": 79,
   "metadata": {},
   "outputs": [
    {
     "data": {
      "text/plain": [
       "3"
      ]
     },
     "execution_count": 79,
     "metadata": {},
     "output_type": "execute_result"
    }
   ],
   "source": [
    "#find topic of single word\n",
    "anchored_topic_model.clusters[train_words.index('wage')]"
   ]
  },
  {
   "cell_type": "code",
   "execution_count": 80,
   "metadata": {},
   "outputs": [
    {
     "data": {
      "text/plain": [
       "[('manufacturing', 9), ('mechanical', 4), ('building', 6), ('hand', 1)]"
      ]
     },
     "execution_count": 80,
     "metadata": {},
     "output_type": "execute_result"
    }
   ],
   "source": [
    "#find words & corresponding topics in a string\n",
    "string=\"Manufacturing and Mechanical Industries Apprentices to building and hand trades Cabinetmakers' apprentices\"\n",
    "[(word,anchored_topic_model.clusters[train_words.index(word)]) for word in tokenize(string) if word in train_words]"
   ]
  },
  {
   "cell_type": "markdown",
   "metadata": {},
   "source": [
    "### Document Labels"
   ]
  },
  {
   "cell_type": "markdown",
   "metadata": {},
   "source": [
    "As with the topic words, the most probable documents per topic can also be easily accessed. Documents are sorted according to log probabilities which is why the highest probability documents have a score of 0 ($e^0 = 1$) and other documents have negative scores (for example, $e^{-0.5} \\approx 0.6$)."
   ]
  },
  {
   "cell_type": "code",
   "execution_count": 66,
   "metadata": {},
   "outputs": [
    {
     "name": "stdout",
     "output_type": "stream",
     "text": [
      "NOTE: 'docs' not provided to CorEx. Returning top docs as lists of row indices\n"
     ]
    },
    {
     "data": {
      "text/plain": [
       "[(8126, 0.0),\n",
       " (8189, 0.0),\n",
       " (111, 0.0),\n",
       " (8004, 0.0),\n",
       " (8190, 0.0),\n",
       " (8003, 0.0),\n",
       " (8065, 0.0),\n",
       " (8191, 0.0),\n",
       " (8000, 0.0),\n",
       " (7999, 0.0)]"
      ]
     },
     "execution_count": 66,
     "metadata": {},
     "output_type": "execute_result"
    }
   ],
   "source": [
    "# Print a single topic from CorEx topic model\n",
    "anchored_topic_model.get_top_docs(topic=0, n_docs=10, sort_by='log_prob')"
   ]
  },
  {
   "cell_type": "markdown",
   "metadata": {},
   "source": [
    "CorEx is a *discriminative* model, whereas LDA is a *generative* model. This means that while LDA outputs a probability distribution over each document, CorEx instead estimates the probability a document belongs to a topic given that document's words. As a result, the probabilities across topics for a given document do not have to add up to 1. The estimated probabilities of topics for each document can be accessed through **`log_p_y_given_x`** or **`p_y_given_x`**."
   ]
  },
  {
   "cell_type": "code",
   "execution_count": null,
   "metadata": {},
   "outputs": [],
   "source": [
    "print(topic_model.p_y_given_x.shape) # n_docs x k_topics"
   ]
  },
  {
   "cell_type": "markdown",
   "metadata": {},
   "source": [
    "We can also use a softmax to make a binary determination of which documents belong to each topic. These softmax labels can be accessed through **`labels`**."
   ]
  },
  {
   "cell_type": "code",
   "execution_count": null,
   "metadata": {},
   "outputs": [],
   "source": [
    "print(topic_model.labels.shape) # n_docs x k_topics"
   ]
  },
  {
   "cell_type": "markdown",
   "metadata": {},
   "source": [
    "Since CorEx does not prescribe a probability distribution of topics over each document, this means that a document could possibly belong to no topics (all 0's across topics in **`labels`**) or all topics (all 1's across topics in **`labels`**)."
   ]
  },
  {
   "cell_type": "markdown",
   "metadata": {},
   "source": [
    "## Total Correlation and Model Selection"
   ]
  },
  {
   "cell_type": "markdown",
   "metadata": {},
   "source": [
    "### Overall TC"
   ]
  },
  {
   "cell_type": "markdown",
   "metadata": {},
   "source": [
    "Total correlation is the measure which CorEx maximize when constructing the topic model. It can be accessed through **`tc`** and is reported in nats."
   ]
  },
  {
   "cell_type": "code",
   "execution_count": 82,
   "metadata": {},
   "outputs": [
    {
     "data": {
      "text/plain": [
       "13.954338173334524"
      ]
     },
     "execution_count": 82,
     "metadata": {},
     "output_type": "execute_result"
    }
   ],
   "source": [
    "anchored_topic_model.tc"
   ]
  },
  {
   "cell_type": "markdown",
   "metadata": {},
   "source": [
    "**Model selection:** CorEx starts its algorithm with a random initialization, and so different runs can result in different topic models. One way of finding a better topic model is to restart the CorEx algorithm several times and take the run that has the highest TC value (i.e. the run that produces topics that are most informative about the documents)."
   ]
  },
  {
   "cell_type": "markdown",
   "metadata": {},
   "source": [
    "### Topic TC"
   ]
  },
  {
   "cell_type": "markdown",
   "metadata": {},
   "source": [
    "The overall total correlation is the sum of the total correlation per each topic. These can be accessed through **`tcs`**. For an unsupervised CorEx topic model, the topics are always sorted from high to low according to their TC. For an anchored CorEx topic model, the topics are not sorted, and are outputted such that the anchored topics come first."
   ]
  },
  {
   "cell_type": "code",
   "execution_count": 84,
   "metadata": {},
   "outputs": [
    {
     "data": {
      "text/plain": [
       "array([1.21669545, 0.64565789, 1.06046758, 1.15372106, 1.97619983,\n",
       "       1.25674327, 0.77631735, 2.38443363, 1.92971365, 1.55438846])"
      ]
     },
     "execution_count": 84,
     "metadata": {},
     "output_type": "execute_result"
    }
   ],
   "source": [
    "anchored_topic_model.tcs # k_topics"
   ]
  },
  {
   "cell_type": "markdown",
   "metadata": {},
   "source": [
    "### Selecting the Number of Topics"
   ]
  },
  {
   "cell_type": "markdown",
   "metadata": {},
   "source": [
    "One way to choose the number of topics is to observe the distribution of TCs for each topic to see how much each additional topic contributes to the overall TC. We should keep adding topics until additional topics do not significantly contribute to the overall TC. This is similar to choosing a cutoff eigenvalue when doing topic modeling via LSA."
   ]
  },
  {
   "cell_type": "code",
   "execution_count": 92,
   "metadata": {},
   "outputs": [
    {
     "data": {
      "text/plain": [
       "range(0, 10)"
      ]
     },
     "execution_count": 92,
     "metadata": {},
     "output_type": "execute_result"
    }
   ],
   "source": [
    "range(anchored_topic_model.tcs.shape[0])"
   ]
  },
  {
   "cell_type": "code",
   "execution_count": 166,
   "metadata": {
    "scrolled": false
   },
   "outputs": [
    {
     "data": {
      "image/png": "[encoded data removed]",
      "text/plain": [
       "<Figure size 720x360 with 1 Axes>"
      ]
     },
     "metadata": {
      "needs_background": "light"
     },
     "output_type": "display_data"
    }
   ],
   "source": [
    "plt.figure(figsize=(10,5))\n",
    "plt.bar(range(anchored_topic_model.tcs.shape[0]), anchored_topic_model.tcs, color='#4e79a7', width=0.5)\n",
    "plt.xlabel('Topic', fontsize=16)\n",
    "plt.ylabel('Total Correlation (nats)', fontsize=16);"
   ]
  },
  {
   "cell_type": "markdown",
   "metadata": {},
   "source": [
    "We see the first topic is much more informative than the other topics. Given that we suspect that this topic is picking up on image encodings (as given by \"dsl\" and \"n3jxp\" in the topic) and other boilerplate text (as given by the high TC and lack of coherence of the rest of the topic), we could consider doing additional investigation and preprocessing to help ensure that the CorEx topic model does not pick up on these patterns which are not insightful."
   ]
  },
  {
   "cell_type": "markdown",
   "metadata": {},
   "source": [
    "### Pointwise Document TC"
   ]
  },
  {
   "cell_type": "markdown",
   "metadata": {},
   "source": [
    "We can decompose total correlation further. The topic correlation is the average of the pointwise total correlations for each individual document. The pointwise total correlations can be accessed through **`log_z`**."
   ]
  },
  {
   "cell_type": "code",
   "execution_count": 96,
   "metadata": {},
   "outputs": [
    {
     "data": {
      "text/plain": [
       "array([[ 6.97805366e-01,  7.30858467e-01,  3.19642219e+01, ...,\n",
       "        -4.96947761e-01, -1.62487070e+00,  2.83114359e+00],\n",
       "       [ 6.97805639e-01,  7.51298247e-01,  5.75697805e-01, ...,\n",
       "         1.13308045e+00,  2.41296682e-01,  2.00215085e+00],\n",
       "       [ 6.97771128e-01, -4.50787426e-01,  5.75771076e-01, ...,\n",
       "         1.04121711e+00, -1.42617441e-01,  2.50422078e+00],\n",
       "       ...,\n",
       "       [ 6.97837807e-01,  7.65160183e-01,  5.75778938e-01, ...,\n",
       "         2.04507846e+00,  1.68985908e+00,  2.02939312e+00],\n",
       "       [ 6.97617534e-01,  7.35555687e-01, -2.37247773e-02, ...,\n",
       "         2.04507848e+00,  2.43242522e-01,  4.68797760e-01],\n",
       "       [-2.00264937e+00,  7.45029888e-01,  5.75673168e-01, ...,\n",
       "         2.04507953e+00, -5.31892864e-01, -1.49987539e+00]])"
      ]
     },
     "execution_count": 96,
     "metadata": {},
     "output_type": "execute_result"
    }
   ],
   "source": [
    "anchored_topic_model.log_z # n_docs x k_topics"
   ]
  },
  {
   "cell_type": "code",
   "execution_count": 97,
   "metadata": {},
   "outputs": [
    {
     "name": "stdout",
     "output_type": "stream",
     "text": [
      "[1.21669545 0.64565789 1.06046758 1.15372106 1.97619983 1.25674327\n",
      " 0.77631735 2.38443363 1.92971365 1.55438846]\n",
      "[1.21669545 0.64565789 1.06046758 1.15372106 1.97619983 1.25674327\n",
      " 0.77631735 2.38443363 1.92971365 1.55438846]\n"
     ]
    }
   ],
   "source": [
    "print(np.mean(anchored_topic_model.log_z, axis=0))\n",
    "print(anchored_topic_model.tcs)"
   ]
  },
  {
   "cell_type": "markdown",
   "metadata": {},
   "source": [
    "The pointwise total correlations in **`log_z`** represent the correlations within an individual document explained by a particular topic. These correlations have been used to measure how \"surprising\" documents are with respect to given topics (see references below)."
   ]
  },
  {
   "cell_type": "markdown",
   "metadata": {},
   "source": [
    "# get top training documents for each topic"
   ]
  },
  {
   "cell_type": "code",
   "execution_count": 52,
   "metadata": {
    "scrolled": true
   },
   "outputs": [],
   "source": [
    "#function to get topic of document:\n",
    "def df_topic_of_doc(documents):\n",
    "    l=[]\n",
    "    for i,topics in enumerate(anchored_topic_model.labels):\n",
    "        try:\n",
    "            if True not in topics:\n",
    "                l.append([documents[i],np.nan])\n",
    "            else:\n",
    "                num=np.where(topics == True)[0][0] \n",
    "\n",
    "                topics = anchored_topic_model.get_topics(topic=num)\n",
    "\n",
    "                topic = [(w,mi,s) if s > 0 else ('~'+w,mi,s) for w,mi,s in topics]\n",
    "                # Unpack the info about the topic\n",
    "                words,mis,signs = zip(*topic)    \n",
    "                # convert to list\n",
    "                word_ls=list(words)\n",
    "                if num<len(anchor_words):\n",
    "                    category=anchors[num]\n",
    "                else:\n",
    "                    category=np.nan\n",
    "                    \n",
    "                l.append([documents[i],num,category,word_ls])\n",
    "        except Exception as e:\n",
    "            print(e)\n",
    "            print(i)\n",
    "            print(documents[i])\n",
    "            print(topics)\n",
    "    return pd.DataFrame(l,columns=['document','topic_num','category','words'])"
   ]
  },
  {
   "cell_type": "code",
   "execution_count": 53,
   "metadata": {},
   "outputs": [],
   "source": [
    "df_test=df_topic_of_doc(documents)"
   ]
  },
  {
   "cell_type": "code",
   "execution_count": 55,
   "metadata": {},
   "outputs": [],
   "source": [
    "#this df shows what training document is assigned to which topic\n",
    "df_test.to_excel('corex_topic_2/topics_with_top_docs.xlsx')"
   ]
  },
  {
   "cell_type": "code",
   "execution_count": null,
   "metadata": {},
   "outputs": [],
   "source": [
    "#test topic modelling on new data"
   ]
  },
  {
   "cell_type": "code",
   "execution_count": null,
   "metadata": {},
   "outputs": [],
   "source": [
    "test=pd.read_csv"
   ]
  },
  {
   "cell_type": "markdown",
   "metadata": {},
   "source": [
    "# predict"
   ]
  },
  {
   "cell_type": "code",
   "execution_count": null,
   "metadata": {
    "scrolled": true
   },
   "outputs": [],
   "source": [
    "#what is 636, is it the total number of words?\n",
    "from gensim.utils import simple_preprocess\n",
    "from gensim.parsing.preprocessing import STOPWORDS\n",
    "from gensim.corpora import Dictionary\n",
    "def tokenize(text):\n",
    "    return [token for token in simple_preprocess(text) if token not in STOPWORDS]\n",
    "processed_docs = [tokenize(doc) for doc in test_doc]\n",
    "word_count_dict = Dictionary(processed_docs)\n",
    "#word_count_dict.filter_extremes(no_below=10, no_above=0.2) # word must appear >10 times, and appear in no more than 20% documents (in order to be selected as a word in the dictionary)\n",
    "#bag_of_words_corpus = [word_count_dict.doc2bow(pdoc) for pdoc in processed_docs] # bow all document of corpus"
   ]
  },
  {
   "cell_type": "code",
   "execution_count": 169,
   "metadata": {
    "scrolled": true
   },
   "outputs": [
    {
     "data": {
      "text/plain": [
       "(array([[9.99999000e-01, 1.44115167e-03, 9.99999000e-01, ...,\n",
       "         4.85528321e-06, 6.14013755e-06, 4.74454602e-04],\n",
       "        [9.99999000e-01, 1.77081190e-03, 9.99999000e-01, ...,\n",
       "         4.85496092e-06, 6.14274673e-06, 4.78300157e-04],\n",
       "        [9.99999000e-01, 1.32818721e-03, 9.99999000e-01, ...,\n",
       "         4.85496092e-06, 6.14274739e-06, 9.98559120e-01],\n",
       "        ...,\n",
       "        [9.99999000e-01, 9.99999000e-01, 9.98026642e-01, ...,\n",
       "         1.00000000e-06, 9.65160082e-01, 4.78285796e-04],\n",
       "        [9.99999000e-01, 9.99999000e-01, 9.99999000e-01, ...,\n",
       "         1.00000000e-06, 9.65160082e-01, 4.78285796e-04],\n",
       "        [9.99999000e-01, 9.99999000e-01, 9.99999000e-01, ...,\n",
       "         9.99999000e-01, 9.99999000e-01, 9.99999000e-01]]),\n",
       " array([[-3.49525985e+00,  1.04436775e-01, -2.13520757e+00, ...,\n",
       "          1.20563178e+00,  1.68987697e+00,  2.03073454e+00],\n",
       "        [-3.48547132e+00,  9.76084958e-02, -4.52988202e+00, ...,\n",
       "          1.20565342e+00,  1.68986134e+00,  2.02939695e+00],\n",
       "        [-3.48545576e+00,  3.43137015e-01, -4.52983977e+00, ...,\n",
       "          1.20565342e+00,  1.68986132e+00, -4.63492565e+00],\n",
       "        ...,\n",
       "        [-5.10088364e+00, -2.89974908e+00, -6.92237599e+00, ...,\n",
       "          2.04507846e+00, -8.57931971e+00,  2.02939673e+00],\n",
       "        [-5.10088367e+00, -2.89994817e+00, -2.09571892e+00, ...,\n",
       "          2.04501823e+00, -8.57931971e+00,  2.02939673e+00],\n",
       "        [ 3.89352179e+03,  1.51829293e+03,  5.35189917e+03, ...,\n",
       "          2.37930627e+03,  1.09466230e+03, -2.20440108e+03]]))"
      ]
     },
     "execution_count": 169,
     "metadata": {},
     "output_type": "execute_result"
    }
   ],
   "source": [
    "predict_labels=anchored_topic_model.transform(test_matrix,details=True)\n",
    "predict_labels"
   ]
  },
  {
   "cell_type": "code",
   "execution_count": 182,
   "metadata": {},
   "outputs": [
    {
     "data": {
      "text/plain": [
       "(437, 10)"
      ]
     },
     "execution_count": 182,
     "metadata": {},
     "output_type": "execute_result"
    }
   ],
   "source": [
    "predict_labels[0].shape"
   ]
  },
  {
   "cell_type": "markdown",
   "metadata": {},
   "source": [
    "CorEx is a *discriminative* model, whereas LDA is a *generative* model. This means that while LDA outputs a probability distribution over each document, CorEx instead estimates the probability a document belongs to a topic given that document's words. As a result, the probabilities across topics for a given document do not have to add up to 1. The estimated probabilities of topics for each document can be accessed through **`log_p_y_given_x`** or **`p_y_given_x`**."
   ]
  },
  {
   "cell_type": "code",
   "execution_count": 183,
   "metadata": {},
   "outputs": [
    {
     "data": {
      "text/plain": [
       "array([[2.98216747e-05, 8.94993572e-04, 9.99999000e-01, ...,\n",
       "        1.00000000e-06, 1.13039362e-02, 1.98385681e-06],\n",
       "       [2.98229427e-05, 8.32756107e-04, 4.85603780e-05, ...,\n",
       "        5.37469730e-06, 1.25528284e-04, 5.04643655e-04],\n",
       "       [2.98277169e-05, 1.24057387e-02, 4.85421411e-05, ...,\n",
       "        1.37924205e-05, 9.99999000e-01, 1.00000000e-06],\n",
       "       ...,\n",
       "       [2.98184342e-05, 7.83009676e-04, 4.85400980e-05, ...,\n",
       "        1.00000000e-06, 6.14290673e-06, 4.78306498e-04],\n",
       "       [2.98584035e-05, 8.45799379e-04, 4.94459764e-04, ...,\n",
       "        1.00000000e-06, 2.98384738e-04, 5.90160326e-03],\n",
       "       [3.41327212e-01, 8.46038079e-04, 4.85776260e-05, ...,\n",
       "        1.00000000e-06, 1.09878238e-03, 9.70672827e-01]])"
      ]
     },
     "execution_count": 183,
     "metadata": {},
     "output_type": "execute_result"
    }
   ],
   "source": [
    "anchored_topic_model.p_y_given_x # n_docs x k_topics"
   ]
  },
  {
   "cell_type": "code",
   "execution_count": 184,
   "metadata": {},
   "outputs": [
    {
     "data": {
      "text/plain": [
       "(8677, 10)"
      ]
     },
     "execution_count": 184,
     "metadata": {},
     "output_type": "execute_result"
    }
   ],
   "source": [
    "anchored_topic_model.p_y_given_x.shape"
   ]
  },
  {
   "cell_type": "markdown",
   "metadata": {},
   "source": [
    "We can decompose total correlation further. The topic correlation is the average of the pointwise total correlations for each individual document. The pointwise total correlations can be accessed through log_z."
   ]
  },
  {
   "cell_type": "code",
   "execution_count": 185,
   "metadata": {},
   "outputs": [
    {
     "data": {
      "text/plain": [
       "array([[ 6.97805366e-01,  7.30858467e-01,  3.19642219e+01, ...,\n",
       "        -4.96947761e-01, -1.62487070e+00,  2.83114359e+00],\n",
       "       [ 6.97805639e-01,  7.51298247e-01,  5.75697805e-01, ...,\n",
       "         1.13308045e+00,  2.41296682e-01,  2.00215085e+00],\n",
       "       [ 6.97771128e-01, -4.50787426e-01,  5.75771076e-01, ...,\n",
       "         1.04121711e+00, -1.42617441e-01,  2.50422078e+00],\n",
       "       ...,\n",
       "       [ 6.97837807e-01,  7.65160183e-01,  5.75778938e-01, ...,\n",
       "         2.04507846e+00,  1.68985908e+00,  2.02939312e+00],\n",
       "       [ 6.97617534e-01,  7.35555687e-01, -2.37247773e-02, ...,\n",
       "         2.04507848e+00,  2.43242522e-01,  4.68797760e-01],\n",
       "       [-2.00264937e+00,  7.45029888e-01,  5.75673168e-01, ...,\n",
       "         2.04507953e+00, -5.31892864e-01, -1.49987539e+00]])"
      ]
     },
     "execution_count": 185,
     "metadata": {},
     "output_type": "execute_result"
    }
   ],
   "source": [
    "\n",
    "anchored_topic_model.log_z"
   ]
  },
  {
   "cell_type": "code",
   "execution_count": 103,
   "metadata": {},
   "outputs": [],
   "source": [
    "predict_labels=predict_labels[:436] #document * topic"
   ]
  },
  {
   "cell_type": "code",
   "execution_count": 105,
   "metadata": {},
   "outputs": [
    {
     "data": {
      "text/plain": [
       "array([[ True, False,  True, ..., False, False, False],\n",
       "       [ True, False,  True, ..., False, False, False],\n",
       "       [ True, False,  True, ..., False, False,  True],\n",
       "       ...,\n",
       "       [ True,  True,  True, ..., False,  True,  True],\n",
       "       [ True,  True,  True, ..., False,  True, False],\n",
       "       [ True,  True,  True, ..., False,  True, False]])"
      ]
     },
     "execution_count": 105,
     "metadata": {},
     "output_type": "execute_result"
    }
   ],
   "source": [
    "predict_labels"
   ]
  },
  {
   "cell_type": "code",
   "execution_count": 138,
   "metadata": {},
   "outputs": [],
   "source": [
    "#function to get topic of document:\n",
    "def df_topic_of_doc(documents,labels):\n",
    "    l=[]\n",
    "    for i,topics in enumerate(labels):\n",
    "        try:\n",
    "            if True not in topics:\n",
    "                l.append([documents[i],np.nan])\n",
    "            else:\n",
    "                \n",
    "                arr=np.where(predict_labels[i] == True)\n",
    "                l.append([documents[i],arr,'',''])\n",
    "                for num in arr[0]:\n",
    "\n",
    "                    topics = anchored_topic_model.get_topics(topic=num)\n",
    "\n",
    "                    topic = [(w,mi,s) if s > 0 else ('~'+w,mi,s) for w,mi,s in topics]\n",
    "                    # Unpack the info about the topic\n",
    "                    words,mis,signs = zip(*topic)    \n",
    "                    # convert to list\n",
    "                    word_ls=list(words)\n",
    "                    if num<len(anchor_words):\n",
    "                        category=anchors[num]\n",
    "                    else:\n",
    "                        category=np.nan\n",
    "                    l.append([documents[i],num,category,word_ls])\n",
    "        except Exception as e:\n",
    "            print(e)\n",
    "            print(i)\n",
    "            print(documents[i])\n",
    "            print(topics)\n",
    "    return pd.DataFrame(l,columns=['document','topic_num','category','words'])"
   ]
  },
  {
   "cell_type": "code",
   "execution_count": 139,
   "metadata": {},
   "outputs": [],
   "source": [
    "df_predict=df_topic_of_doc(test,predict_labels)"
   ]
  },
  {
   "cell_type": "code",
   "execution_count": 140,
   "metadata": {},
   "outputs": [
    {
     "data": {
      "text/html": [
       "<div>\n",
       "<style scoped>\n",
       "    .dataframe tbody tr th:only-of-type {\n",
       "        vertical-align: middle;\n",
       "    }\n",
       "\n",
       "    .dataframe tbody tr th {\n",
       "        vertical-align: top;\n",
       "    }\n",
       "\n",
       "    .dataframe thead th {\n",
       "        text-align: right;\n",
       "    }\n",
       "</style>\n",
       "<table border=\"1\" class=\"dataframe\">\n",
       "  <thead>\n",
       "    <tr style=\"text-align: right;\">\n",
       "      <th></th>\n",
       "      <th>document</th>\n",
       "      <th>topic_num</th>\n",
       "      <th>category</th>\n",
       "      <th>words</th>\n",
       "    </tr>\n",
       "  </thead>\n",
       "  <tbody>\n",
       "    <tr>\n",
       "      <th>0</th>\n",
       "      <td>Agriculture, Forestry, and Animal Husbandry Da...</td>\n",
       "      <td>([0, 2, 5, 6],)</td>\n",
       "      <td></td>\n",
       "      <td></td>\n",
       "    </tr>\n",
       "    <tr>\n",
       "      <th>1</th>\n",
       "      <td>Agriculture, Forestry, and Animal Husbandry Da...</td>\n",
       "      <td>0</td>\n",
       "      <td>Agriculture, Forestry, and Animal Husbandry</td>\n",
       "      <td>[animal, agriculture, water, husbandry, forest...</td>\n",
       "    </tr>\n",
       "    <tr>\n",
       "      <th>2</th>\n",
       "      <td>Agriculture, Forestry, and Animal Husbandry Da...</td>\n",
       "      <td>2</td>\n",
       "      <td>Domestic and Personal Service</td>\n",
       "      <td>[domestic, professional, occupation, gainful, ...</td>\n",
       "    </tr>\n",
       "    <tr>\n",
       "      <th>3</th>\n",
       "      <td>Agriculture, Forestry, and Animal Husbandry Da...</td>\n",
       "      <td>5</td>\n",
       "      <td>Professional Service</td>\n",
       "      <td>[furniture, style, professional, design, chair...</td>\n",
       "    </tr>\n",
       "    <tr>\n",
       "      <th>4</th>\n",
       "      <td>Agriculture, Forestry, and Animal Husbandry Da...</td>\n",
       "      <td>6</td>\n",
       "      <td>Public Service, Not Elsewhere Classified</td>\n",
       "      <td>[public, power, electric, generate, current, e...</td>\n",
       "    </tr>\n",
       "    <tr>\n",
       "      <th>...</th>\n",
       "      <td>...</td>\n",
       "      <td>...</td>\n",
       "      <td>...</td>\n",
       "      <td>...</td>\n",
       "    </tr>\n",
       "    <tr>\n",
       "      <th>2114</th>\n",
       "      <td>skip main content search upload sign log book ...</td>\n",
       "      <td>5</td>\n",
       "      <td>Professional Service</td>\n",
       "      <td>[furniture, style, professional, design, chair...</td>\n",
       "    </tr>\n",
       "    <tr>\n",
       "      <th>2115</th>\n",
       "      <td>skip main content search upload sign log book ...</td>\n",
       "      <td>6</td>\n",
       "      <td>Public Service, Not Elsewhere Classified</td>\n",
       "      <td>[public, power, electric, generate, current, e...</td>\n",
       "    </tr>\n",
       "    <tr>\n",
       "      <th>2116</th>\n",
       "      <td>skip main content search upload sign log book ...</td>\n",
       "      <td>7</td>\n",
       "      <td>Trade</td>\n",
       "      <td>[trade, worker, local, union, member, shop, or...</td>\n",
       "    </tr>\n",
       "    <tr>\n",
       "      <th>2117</th>\n",
       "      <td>skip main content search upload sign log book ...</td>\n",
       "      <td>8</td>\n",
       "      <td>Transportation</td>\n",
       "      <td>[piece, wood, inch, cut, surface, fig, glue, d...</td>\n",
       "    </tr>\n",
       "    <tr>\n",
       "      <th>2118</th>\n",
       "      <td>skip main content search upload sign log book ...</td>\n",
       "      <td>9</td>\n",
       "      <td>NaN</td>\n",
       "      <td>[product, industry, establishment, value, tota...</td>\n",
       "    </tr>\n",
       "  </tbody>\n",
       "</table>\n",
       "<p>2119 rows × 4 columns</p>\n",
       "</div>"
      ],
      "text/plain": [
       "                                               document        topic_num  \\\n",
       "0     Agriculture, Forestry, and Animal Husbandry Da...  ([0, 2, 5, 6],)   \n",
       "1     Agriculture, Forestry, and Animal Husbandry Da...                0   \n",
       "2     Agriculture, Forestry, and Animal Husbandry Da...                2   \n",
       "3     Agriculture, Forestry, and Animal Husbandry Da...                5   \n",
       "4     Agriculture, Forestry, and Animal Husbandry Da...                6   \n",
       "...                                                 ...              ...   \n",
       "2114  skip main content search upload sign log book ...                5   \n",
       "2115  skip main content search upload sign log book ...                6   \n",
       "2116  skip main content search upload sign log book ...                7   \n",
       "2117  skip main content search upload sign log book ...                8   \n",
       "2118  skip main content search upload sign log book ...                9   \n",
       "\n",
       "                                         category  \\\n",
       "0                                                   \n",
       "1     Agriculture, Forestry, and Animal Husbandry   \n",
       "2                   Domestic and Personal Service   \n",
       "3                            Professional Service   \n",
       "4        Public Service, Not Elsewhere Classified   \n",
       "...                                           ...   \n",
       "2114                         Professional Service   \n",
       "2115     Public Service, Not Elsewhere Classified   \n",
       "2116                                        Trade   \n",
       "2117                               Transportation   \n",
       "2118                                          NaN   \n",
       "\n",
       "                                                  words  \n",
       "0                                                        \n",
       "1     [animal, agriculture, water, husbandry, forest...  \n",
       "2     [domestic, professional, occupation, gainful, ...  \n",
       "3     [furniture, style, professional, design, chair...  \n",
       "4     [public, power, electric, generate, current, e...  \n",
       "...                                                 ...  \n",
       "2114  [furniture, style, professional, design, chair...  \n",
       "2115  [public, power, electric, generate, current, e...  \n",
       "2116  [trade, worker, local, union, member, shop, or...  \n",
       "2117  [piece, wood, inch, cut, surface, fig, glue, d...  \n",
       "2118  [product, industry, establishment, value, tota...  \n",
       "\n",
       "[2119 rows x 4 columns]"
      ]
     },
     "execution_count": 140,
     "metadata": {},
     "output_type": "execute_result"
    }
   ],
   "source": [
    "df_predict"
   ]
  },
  {
   "cell_type": "code",
   "execution_count": 51,
   "metadata": {},
   "outputs": [
    {
     "data": {
      "text/html": [
       "<div>\n",
       "<style scoped>\n",
       "    .dataframe tbody tr th:only-of-type {\n",
       "        vertical-align: middle;\n",
       "    }\n",
       "\n",
       "    .dataframe tbody tr th {\n",
       "        vertical-align: top;\n",
       "    }\n",
       "\n",
       "    .dataframe thead th {\n",
       "        text-align: right;\n",
       "    }\n",
       "</style>\n",
       "<table border=\"1\" class=\"dataframe\">\n",
       "  <thead>\n",
       "    <tr style=\"text-align: right;\">\n",
       "      <th></th>\n",
       "      <th>document</th>\n",
       "      <th>topic_num</th>\n",
       "      <th>category</th>\n",
       "      <th>words</th>\n",
       "    </tr>\n",
       "  </thead>\n",
       "  <tbody>\n",
       "    <tr>\n",
       "      <th>371</th>\n",
       "      <td>Professional Service Technical engineers Train...</td>\n",
       "      <td>3.0</td>\n",
       "      <td>Extraction of Minerals</td>\n",
       "      <td>[trade, union, local, international, workers, ...</td>\n",
       "    </tr>\n",
       "    <tr>\n",
       "      <th>403</th>\n",
       "      <td>Domestic and Personal Service Midwives and nur...</td>\n",
       "      <td>3.0</td>\n",
       "      <td>Extraction of Minerals</td>\n",
       "      <td>[trade, union, local, international, workers, ...</td>\n",
       "    </tr>\n",
       "    <tr>\n",
       "      <th>404</th>\n",
       "      <td>Domestic and Personal Service Midwives and nur...</td>\n",
       "      <td>3.0</td>\n",
       "      <td>Extraction of Minerals</td>\n",
       "      <td>[trade, union, local, international, workers, ...</td>\n",
       "    </tr>\n",
       "  </tbody>\n",
       "</table>\n",
       "</div>"
      ],
      "text/plain": [
       "                                              document  topic_num  \\\n",
       "371  Professional Service Technical engineers Train...        3.0   \n",
       "403  Domestic and Personal Service Midwives and nur...        3.0   \n",
       "404  Domestic and Personal Service Midwives and nur...        3.0   \n",
       "\n",
       "                   category                                              words  \n",
       "371  Extraction of Minerals  [trade, union, local, international, workers, ...  \n",
       "403  Extraction of Minerals  [trade, union, local, international, workers, ...  \n",
       "404  Extraction of Minerals  [trade, union, local, international, workers, ...  "
      ]
     },
     "execution_count": 51,
     "metadata": {},
     "output_type": "execute_result"
    }
   ],
   "source": [
    "df_predict[df_predict['topic_num']==3]"
   ]
  },
  {
   "cell_type": "code",
   "execution_count": 142,
   "metadata": {},
   "outputs": [],
   "source": [
    "df_predict.to_excel('corex_topic_3/predicted_1910_pre_processed.xlsx')"
   ]
  },
  {
   "cell_type": "markdown",
   "metadata": {},
   "source": [
    "### Document Labels"
   ]
  },
  {
   "cell_type": "markdown",
   "metadata": {},
   "source": [
    "As with the topic words, the most probable documents per topic can also be easily accessed. Documents are sorted according to log probabilities which is why the highest probability documents have a score of 0 ($e^0 = 1$) and other documents have negative scores (for example, $e^{-0.5} \\approx 0.6$)."
   ]
  },
  {
   "cell_type": "code",
   "execution_count": 147,
   "metadata": {
    "scrolled": false
   },
   "outputs": [
    {
     "name": "stdout",
     "output_type": "stream",
     "text": [
      "NOTE: 'docs' not provided to CorEx. Returning top docs as lists of row indices\n"
     ]
    }
   ],
   "source": [
    "# Print a single topic from CorEx topic model\n",
    "doc_ls=anchored_topic_model.get_top_docs(topic=0, n_docs=10, sort_by='log_prob')"
   ]
  },
  {
   "cell_type": "markdown",
   "metadata": {},
   "source": [
    "somehow riding sick sister to charity is categorized as agriculture, really doens't work"
   ]
  },
  {
   "cell_type": "code",
   "execution_count": null,
   "metadata": {
    "scrolled": true
   },
   "outputs": [],
   "source": [
    "for doc_num in topic_model.get_top_docs(topic=0, n_docs=10, sort_by='log_prob'):\n",
    "    print(documents[doc_num[0]])"
   ]
  },
  {
   "cell_type": "markdown",
   "metadata": {},
   "source": [
    "CorEx is a *discriminative* model, whereas LDA is a *generative* model. This means that while LDA outputs a probability distribution over each document, CorEx instead estimates the probability a document belongs to a topic given that document's words. As a result, the probabilities across topics for a given document do not have to add up to 1. The estimated probabilities of topics for each document can be accessed through **`log_p_y_given_x`** or **`p_y_given_x`**."
   ]
  },
  {
   "cell_type": "code",
   "execution_count": null,
   "metadata": {},
   "outputs": [],
   "source": [
    "print(topic_model.p_y_given_x.shape) # n_docs x k_topics"
   ]
  },
  {
   "cell_type": "markdown",
   "metadata": {},
   "source": [
    "We can also use a softmax to make a binary determination of which documents belong to each topic. These softmax labels can be accessed through **`labels`**."
   ]
  },
  {
   "cell_type": "code",
   "execution_count": 155,
   "metadata": {},
   "outputs": [
    {
     "data": {
      "text/plain": [
       "array([[False, False,  True, ..., False, False, False],\n",
       "       [False, False, False, ..., False, False, False],\n",
       "       [False, False, False, ..., False,  True, False],\n",
       "       ...,\n",
       "       [False, False, False, ..., False, False, False],\n",
       "       [False, False, False, ..., False, False, False],\n",
       "       [False, False, False, ..., False, False,  True]])"
      ]
     },
     "execution_count": 155,
     "metadata": {},
     "output_type": "execute_result"
    }
   ],
   "source": [
    "topic_model.labels"
   ]
  },
  {
   "cell_type": "code",
   "execution_count": null,
   "metadata": {},
   "outputs": [],
   "source": [
    "len(topic_model.labels[0])"
   ]
  },
  {
   "cell_type": "markdown",
   "metadata": {},
   "source": [
    "Since CorEx does not prescribe a probability distribution of topics over each document, this means that a document could possibly belong to no topics (all 0's across topics in **`labels`**) or all topics (all 1's across topics in **`labels`**)."
   ]
  },
  {
   "cell_type": "markdown",
   "metadata": {},
   "source": [
    "Note, in the above topic model, topics will no longer be sorted according to descending TC. Instead, the first topic will be the one with \"nasa\" and \"space\" anchored to it, the second topic will be the one with \"sports\" and \"stadium\" anchored to it, and so on.  \n",
    "\n",
    "Observe, the topic with \"love\" and \"hope\" anchored to it is less interpretable than the other three topics. This could be a sign that there is not a good topic around these two words, and one should consider if it is appropriate to anchor around them.\n",
    "\n",
    "We can continue to develop even more involved anchoring strategies. Here we anchor \"nasa\" by itself, as well as in two other topics each with \"politics\" and \"news\" to find different aspects around the word \"nasa\". We also create a fourth anchoring of \"war\" to a topic."
   ]
  },
  {
   "cell_type": "markdown",
   "metadata": {},
   "source": [
    "### Choosing Anchor Strength"
   ]
  },
  {
   "cell_type": "markdown",
   "metadata": {},
   "source": [
    "The anchor strength controls how much weight CorEx puts towards maximizing the mutual information between the anchor words and their respective topics. Anchor strength should always be set at a value *greater than* 1, since setting anchor strength between 0 and 1 only recovers the unsupervised CorEx objective. Empirically, setting anchor strength from 1.5-3 seems to nudge the topic model towards the anchor words. Setting anchor strength greater than 5 is strongly enforcing that the CorEx topic model find a topic associated with the anchor words.\n",
    "\n",
    "We encourage users to experiment with the anchor strength and determine what values are best for their needs."
   ]
  },
  {
   "cell_type": "markdown",
   "metadata": {},
   "source": [
    "## Other Output"
   ]
  },
  {
   "cell_type": "markdown",
   "metadata": {},
   "source": [
    "The **`vis_topic`** module provides support for outputting topics and visualizations of the CorEx topic model. The code below creates a results direcory named \"twenty\" in your working directory."
   ]
  },
  {
   "cell_type": "code",
   "execution_count": null,
   "metadata": {},
   "outputs": [],
   "source": [
    "vt.vis_rep(topic_model, column_label=words, prefix='twenty')"
   ]
  },
  {
   "cell_type": "markdown",
   "metadata": {},
   "source": [
    "## Further Reading"
   ]
  },
  {
   "cell_type": "markdown",
   "metadata": {},
   "source": [
    "Our TACL paper details the theory of the CorEx topic model, its sparsity optimization, anchoring via the information bottleneck, comparisons to LDA, and anchoring experiments. The two papers from Greg Ver Steeg and Aram Galstyan develop the CorEx theory in general and provide further motivation and details of the underlying CorEx mechanisms. Hodas et al. demonstrated early CorEx topic model results and investigated an application of pointwise total correlations to quantify \"surprising\" documents.\n",
    "\n",
    "1. [Anchored Correlation Explanation: Topic Modeling with Minimal Domain Knowledge](https://www.transacl.org/ojs/index.php/tacl/article/view/1244), Gallagher et al., TACL 2017.\n",
    "\n",
    "2. [Discovering Structure in High-Dimensional Data Through Correlation Explanation](https://arxiv.org/abs/1406.1222), Ver Steeg and Galstyan, NIPS 2014. \n",
    "\n",
    "3. [Maximally Informative Hierarchical Representions of High-Dimensional Data](https://arxiv.org/abs/1410.7404), Ver Steeg and Galstyan, AISTATS 2015.\n",
    "\n",
    "4. [Disentangling the Lexicons of Disaster Response in Twitter](https://dl.acm.org/citation.cfm?id=2741728), Hodas et al., WWW 2015."
   ]
  }
 ],
 "metadata": {
  "kernelspec": {
   "display_name": "Python 3",
   "language": "python",
   "name": "python3"
  },
  "language_info": {
   "codemirror_mode": {
    "name": "ipython",
    "version": 3
   },
   "file_extension": ".py",
   "mimetype": "text/x-python",
   "name": "python",
   "nbconvert_exporter": "python",
   "pygments_lexer": "ipython3",
   "version": "3.8.3"
  },
  "varInspector": {
   "cols": {
    "lenName": 16,
    "lenType": 16,
    "lenVar": 40
   },
   "kernels_config": {
    "python": {
     "delete_cmd_postfix": "",
     "delete_cmd_prefix": "del ",
     "library": "var_list.py",
     "varRefreshCmd": "print(var_dic_list())"
    },
    "r": {
     "delete_cmd_postfix": ") ",
     "delete_cmd_prefix": "rm(",
     "library": "var_list.r",
     "varRefreshCmd": "cat(var_dic_list()) "
    }
   },
   "types_to_exclude": [
    "module",
    "function",
    "builtin_function_or_method",
    "instance",
    "_Feature"
   ],
   "window_display": false
  }
 },
 "nbformat": 4,
 "nbformat_minor": 1
}
