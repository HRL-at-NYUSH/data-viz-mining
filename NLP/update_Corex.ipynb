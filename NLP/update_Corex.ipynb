{
 "cells": [
  {
   "cell_type": "code",
   "execution_count": 1,
   "metadata": {},
   "outputs": [
    {
     "name": "stderr",
     "output_type": "stream",
     "text": [
      "/anaconda3/lib/python3.7/site-packages/botocore/vendored/requests/packages/urllib3/_collections.py:1: DeprecationWarning: Using or importing the ABCs from 'collections' instead of from 'collections.abc' is deprecated, and in 3.8 it will stop working\n",
      "  from collections import Mapping, MutableMapping\n",
      "/anaconda3/lib/python3.7/site-packages/botocore/vendored/requests/packages/urllib3/_collections.py:1: DeprecationWarning: Using or importing the ABCs from 'collections' instead of from 'collections.abc' is deprecated, and in 3.8 it will stop working\n",
      "  from collections import Mapping, MutableMapping\n",
      "/anaconda3/lib/python3.7/site-packages/scipy/sparse/sparsetools.py:21: DeprecationWarning: `scipy.sparse.sparsetools` is deprecated!\n",
      "scipy.sparse.sparsetools is a private module for scipy.sparse, and should not be used.\n",
      "  _deprecated()\n"
     ]
    }
   ],
   "source": [
    "import numpy as np\n",
    "import scipy.sparse as ss\n",
    "import random\n",
    "import pandas as pd\n",
    "\n",
    "from corextopic import corextopic as ct\n",
    "from corextopic import vis_topic as vt # jupyter notebooks will complain matplotlib is being loaded twice\n",
    "\n",
    "from sklearn.datasets import fetch_20newsgroups\n",
    "from sklearn.feature_extraction.text import CountVectorizer\n",
    "\n",
    "import pyLDAvis\n",
    "import pyLDAvis.gensim_models\n",
    "pyLDAvis.enable_notebook()\n",
    "\n",
    "import gensim\n",
    "from sklearn.datasets import fetch_20newsgroups\n",
    "from gensim.utils import simple_preprocess\n",
    "from gensim.parsing.preprocessing import STOPWORDS\n",
    "from gensim.corpora import Dictionary\n",
    "\n",
    "import os\n",
    "import numpy as np\n",
    "import pandas as pd\n",
    "import pickle\n",
    "import pyLDAvis\n",
    "import pyLDAvis.gensim_models\n",
    "\n",
    "\n",
    "from nltk.stem import WordNetLemmatizer, SnowballStemmer\n",
    "from nltk.stem.porter import *\n",
    "import numpy as np\n",
    "\n",
    "import matplotlib\n",
    "import matplotlib.pyplot as plt\n",
    "%matplotlib inline"
   ]
  },
  {
   "cell_type": "code",
   "execution_count": 2,
   "metadata": {},
   "outputs": [],
   "source": [
    "import matplotlib.pyplot as plt\n",
    "def describe_training_documents(list_of_docs):\n",
    "    print('There are',len(list_of_docs),'documents.')\n",
    "    document_lengths = list(map(lambda x: len(x.split()),list_of_docs))\n",
    "    percentile_50 = int(np.percentile(document_lengths,50))\n",
    "    percentile_95 = int(np.percentile(document_lengths,95))\n",
    "    print('95% of the documents are below:',percentile_95,'words.')\n",
    "    plt.axvline(percentile_50, lw=1, color='g')\n",
    "    plt.axvline(percentile_95, lw=1, color='r', linestyle='--')\n",
    "    _ = plt.hist(document_lengths, bins=50, range=(0,percentile_95+100))\n",
    "    print('Solid green line indicates median, dotted red line indicates 95 percentile. Outliers may be cropped.')\n",
    "\n",
    "def flatten_list(l):\n",
    "    return [item for sublist in l for item in sublist]\n",
    "\n",
    "def tokenize(text):\n",
    "    return [token for token in simple_preprocess(text) if token not in STOPWORDS]\n",
    "\n",
    "def chop(text):\n",
    "    temp=text.split()\n",
    "    num=len(temp)//40\n",
    "    new=[]\n",
    "    for i in range(num):\n",
    "        if i !=num-1:\n",
    "            a=temp[30*i:30*(i+1)]\n",
    "        else:\n",
    "            a=temp[30*(num-1):]\n",
    "        new.append(\" \".join(a))\n",
    "    return new"
   ]
  },
  {
   "cell_type": "code",
   "execution_count": 3,
   "metadata": {},
   "outputs": [],
   "source": [
    "# Get 20 newsgroups data\n",
    "newsgroups = fetch_20newsgroups(subset='train', remove=('headers', 'footers', 'quotes'))\n",
    "documents_train = list(np.load('./training/train.npy')) # historical materials 4451 documents\n",
    "documents_train2 = list(np.load('./training/train2.npy'))   # census bureau 4226 documents\n",
    "df_occsc = pd.read_csv('OCC_pairs.csv').rename(columns={'OCC_DES':'Full Occupation'})\n",
    "assert(df_occsc['Full Occupation'].nunique() == len(df_occsc))\n",
    "occ_list = list(set(list(df_occsc['Full Occupation'])))\n",
    "\n",
    "occ_list2=[]\n",
    "#eliminate confusing words in the occ_list\n",
    "confusing_words=['occupation','occupations','Occupations','men']\n",
    "for occ in occ_list:\n",
    "    a=occ.split(' ')\n",
    "    for word in confusing_words:\n",
    "        if word in a:\n",
    "            a.remove(word)\n",
    "    occ_list2.append(' '.join(a))\n",
    "occ_list=occ_list2    "
   ]
  },
  {
   "cell_type": "code",
   "execution_count": 4,
   "metadata": {},
   "outputs": [],
   "source": [
    "with open(\"nyt_text_modified.txt\",'r') as f:\n",
    "    nyt_text2=[]\n",
    "    lines=f.readlines()\n",
    "    for line in lines:\n",
    "        nyt_text2.append(line)"
   ]
  },
  {
   "cell_type": "code",
   "execution_count": 5,
   "metadata": {},
   "outputs": [
    {
     "name": "stdout",
     "output_type": "stream",
     "text": [
      "There are 10372 documents.\n",
      "95% of the documents are below: 605 words.\n",
      "Solid green line indicates median, dotted red line indicates 95 percentile. Outliers may be cropped.\n"
     ]
    },
    {
     "data": {
      "image/png": "[encoded data removed]",
      "text/plain": [
       "<Figure size 432x288 with 1 Axes>"
      ]
     },
     "metadata": {
      "needs_background": "light"
     },
     "output_type": "display_data"
    }
   ],
   "source": [
    "twenty_news=[]\n",
    "for news in newsgroups.data:\n",
    "    if len(news.split())>15:\n",
    "        twenty_news.append(news)\n",
    "describe_training_documents(twenty_news)\n",
    "random.seed(10)\n",
    "twenty_news=random.sample(twenty_news,4000)"
   ]
  },
  {
   "cell_type": "code",
   "execution_count": 6,
   "metadata": {},
   "outputs": [],
   "source": [
    "# but fit the model with the training dataset\n",
    "# corex model requires them to be the same shape \n",
    "documents = []\n",
    "documents.extend(documents_train)\n",
    "documents.extend(documents_train2)\n",
    "documents.extend(nyt_text2)\n",
    "\n",
    "documents_mod=[]\n",
    "for doc in documents:\n",
    "    chopped=chop(doc)\n",
    "    for a in chopped:\n",
    "        tokens=simple_preprocess(a)\n",
    "        new_tokens=[]\n",
    "        for word in tokens:\n",
    "            if not word.isdigit():\n",
    "                new_tokens.append(word)\n",
    "        new=\" \".join(new_tokens)\n",
    "        documents_mod.append(new)"
   ]
  },
  {
   "cell_type": "code",
   "execution_count": 7,
   "metadata": {},
   "outputs": [
    {
     "name": "stdout",
     "output_type": "stream",
     "text": [
      "13211\n",
      "In the dataset there are 13647 textual documents\n",
      "And this is the first one:\n",
      " skip to main content search upload sign up log in books video audio software imagesabout blog projects help donate contact jobs volunteer people search metadata search text contents search\n"
     ]
    }
   ],
   "source": [
    "document_total=documents_mod[:]\n",
    "document_total.extend(occ_list)\n",
    "print(len(documents_mod))\n",
    "print(\"In the dataset there are\", len(document_total), \"textual documents\")\n",
    "print(\"And this is the first one:\\n\", documents_mod[0])"
   ]
  },
  {
   "cell_type": "markdown",
   "metadata": {},
   "source": [
    "## Transform data into a sparse matrix¶"
   ]
  },
  {
   "cell_type": "code",
   "execution_count": 8,
   "metadata": {},
   "outputs": [],
   "source": [
    "vectorizer = CountVectorizer(stop_words='english', max_features=20000, binary=True)\n",
    "doc_word = vectorizer.fit_transform(document_total)\n",
    "doc_word = ss.csr_matrix(doc_word)\n",
    "fixed_vocabulary=vectorizer.vocabulary_\n",
    "words = list(np.asarray(vectorizer.get_feature_names()))"
   ]
  },
  {
   "cell_type": "code",
   "execution_count": 9,
   "metadata": {},
   "outputs": [
    {
     "name": "stdout",
     "output_type": "stream",
     "text": [
      "WARNING: Some words never appear (or always appear)\n"
     ]
    },
    {
     "data": {
      "text/plain": [
       "<corextopic.corextopic.Corex at 0x12ddad748>"
      ]
     },
     "execution_count": 9,
     "metadata": {},
     "output_type": "execute_result"
    }
   ],
   "source": [
    "topic_num=60\n",
    "topic_model = ct.Corex(n_hidden=topic_num, words=words, eps=1e-2,max_iter=100, verbose=False, seed=1)\n",
    "topic_model.fit(doc_word[:len(documents_mod)], words=words)"
   ]
  },
  {
   "cell_type": "code",
   "execution_count": 10,
   "metadata": {},
   "outputs": [
    {
     "data": {
      "text/plain": [
       "[('art', 0.029870194376341388, 1.0),\n",
       " ('exhibition', 0.024352227939762397, 1.0),\n",
       " ('museum', 0.01310085928801712, 1.0),\n",
       " ('gallery', 0.012532774252008366, 1.0),\n",
       " ('paintings', 0.012076285912893498, 1.0),\n",
       " ('galleries', 0.01121172877703298, 1.0),\n",
       " ('collection', 0.008064483355830356, 1.0),\n",
       " ('celebrated', 0.0071930521898363135, 1.0),\n",
       " ('artists', 0.007187874426911048, 1.0),\n",
       " ('leaders', 0.006320137645830603, 1.0)]"
      ]
     },
     "execution_count": 10,
     "metadata": {},
     "output_type": "execute_result"
    }
   ],
   "source": [
    "# Print a single topic from CorEx topic model\n",
    "topic_model.get_topics(topic=20, n_words=10)"
   ]
  },
  {
   "cell_type": "code",
   "execution_count": 11,
   "metadata": {},
   "outputs": [
    {
     "name": "stdout",
     "output_type": "stream",
     "text": [
      "0: products,total,establishments,value,industry,reported,cent,table,manufacture,statistics\n",
      "1: water,wood,inch,cut,piece,surface,dry,glue,varnish,oil\n",
      "2: union,local,members,international,organization,locals,convention,labor,executive,unions\n",
      "3: furniture,style,decoration,design,century,carved,examples,designs,artistic,boulle\n",
      "4: yesterday,president,today,washington,committee,american,national,street,federal,association\n",
      "5: earners,wage,number,employed,average,according,classified,classification,salaried,ownership\n",
      "6: age,females,gainful,occupations,proportion,engaged,males,sex,years,persons\n",
      "7: mold,fig,cement,legs,cast,seat,ends,concrete,plaster,curved\n",
      "8: market,sales,prices,exchange,demand,transfers,stores,bills,posted,retail\n",
      "9: add,boil,till,apply,let,pan,liquid,gallon,warm,spirits\n",
      "10: south,north,pennsylvania,ohio,massachusetts,carolina,illinois,west,virginia,california\n",
      "11: university,law,schools,public,institute,college,society,education,examination,cambridge\n",
      "12: precinct,th,assignments,patrolmen,duty,greek,annum,temporary,patrolman,midnight\n",
      "13: forestry,rico,animal,husbandry,porto,agriculture,heart,charming,preserves,love\n",
      "14: power,electric,horsepower,gas,steam,engines,primary,motors,rented,generated\n",
      "15: rome,stitch,hanging,needle,inlays,classical,stitches,running,departure,antiquity\n",
      "16: bo,vegetable,fruit,meal,towels,ho,corn,mineral,bottles,abundant\n",
      "17: week,hours,prevailing,debits,banks,aggregated,reserve,accounts,preceding,ended\n",
      "18: steel,iron,rolling,borne,wire,mind,furnaces,rods,works,rails\n",
      "19: new,york,states,united,jersey,district,state,population,indiana,editor\n",
      "20: art,exhibition,museum,gallery,paintings,galleries,collection,celebrated,artists,leaders\n",
      "21: door,framing,murder,rebated,crowd,stories,mitred,ear,vertical,horizontal\n",
      "22: division,east,central,dr,atlantic,church,technology,charles,pacific,st\n",
      "23: avoid,carpets,rugs,disclosure,omitted,patent,extracts,pork,crude,refined\n",
      "24: sides,stuff,drawer,end,upper,inside,moulding,cornice,wide,drawers\n",
      "25: month,december,nearest,maximum,representative,minimum,day,january,circulation,months\n",
      "26: cost,materials,expenses,miscellaneous,supplies,apparatus,profits,purport,machinery,electrical\n",
      "27: milk,printing,publishing,butter,cheese,condensed,wagon,cream,carriage,music\n",
      "28: gold,leaf,gilding,applied,currency,silver,strict,necessary,embossed,spain\n",
      "29: lord,lake,contact,log,greeks,qualities,erie,romans,possess,contents\n",
      "30: man,france,people,san,europe,science,seen,gender,louis,says\n",
      "31: tho,meat,packing,sugar,slaughtering,cane,aro,canning,beet,preserving\n",
      "32: processes,sewing,dyeing,beets,finishing,soda,textiles,fabrics,woven,rug\n",
      "33: william,john,wife,farmers,tuesday,james,rev,governor,tonight,anti\n",
      "34: question,time,pay,life,interesting,think,men,worker,said,modern\n",
      "35: remove,vegetables,tin,carefully,fruits,washed,cooked,round,shelf,plate\n",
      "36: food,foods,lesson,cooking,valuable,fatigue,speed,really,frequently,unsanitary\n",
      "37: film,young,story,lady,tell,woman,girl,title,family,live\n",
      "38: coal,skins,hides,oils,mines,anthracite,mining,imported,defined,viii\n",
      "39: court,supreme,knows,open,mother,justice,farmer,judge,pearl,freedom\n",
      "40: need,health,facts,concerning,shop,insurance,schedule,does,sanitary,sound\n",
      "41: good,experience,bad,long,standing,thing,way,little,danger,quickly\n",
      "42: conditions,trade,garment,manufacturers,industrial,general,activity,improvement,information,factors\n",
      "43: chairs,old,fashion,chair,bed,executed,shell,beauty,comfortable,generally\n",
      "44: novelty,certain,styles,useful,human,particular,ornamental,relationship,difficult,historical\n",
      "45: place,cabinet,took,ready,colors,model,french,proceed,maker,set\n",
      "46: work,wages,paid,doing,scale,factory,skill,money,makers,result\n",
      "47: organized,home,house,appointed,passed,act,household,plan,funds,strikes\n",
      "48: english,success,cents,member,worth,benefit,matters,consideration,needs,relation\n",
      "49: high,school,problem,eighth,grade,low,eighteenth,pupils,competent,seventy\n",
      "50: care,taken,taking,strong,sure,leave,make,careful,ways,readily\n",
      "51: smaller,employees,percentage,gain,rank,showed,capacity,higher,officials,differences\n",
      "52: tables,introduction,earlier,period,case,properly,different,later,significance,specific\n",
      "53: used,quantity,workers,finished,produced,quantities,leather,copper,women,assigned\n",
      "54: days,comes,continue,gradually,chance,finally,watch,pleasant,stop,wanted\n",
      "55: shops,living,country,chicago,machine,philadelphia,doubt,closely,involved,associated\n",
      "56: published,book,near,holding,workman,wall,bought,setting,revolution,stands\n",
      "57: true,indicated,instead,brought,results,lines,secure,original,space,account\n",
      "58: great,times,fifth,advanced,advance,twice,sixth,substantial,remarkable,merchants\n",
      "59: hands,return,pretty,date,rise,apparently,range,friends,quarter,break\n"
     ]
    }
   ],
   "source": [
    "# Print all topics from the CorEx topic model\n",
    "topics = topic_model.get_topics()\n",
    "for n,topic in enumerate(topics):\n",
    "    topic_words,_,_ = zip(*topic)\n",
    "    print('{}: '.format(n) + ','.join(topic_words))"
   ]
  },
  {
   "cell_type": "code",
   "execution_count": 12,
   "metadata": {},
   "outputs": [
    {
     "data": {
      "text/plain": [
       "(436, 60)"
      ]
     },
     "execution_count": 12,
     "metadata": {},
     "output_type": "execute_result"
    }
   ],
   "source": [
    "results=topic_model.predict(doc_word[len(documents_mod):])\n",
    "results.shape"
   ]
  },
  {
   "cell_type": "markdown",
   "metadata": {},
   "source": [
    "## Total Corelation and Model Selection"
   ]
  },
  {
   "cell_type": "code",
   "execution_count": 13,
   "metadata": {},
   "outputs": [
    {
     "data": {
      "text/plain": [
       "12.243073832990634"
      ]
     },
     "execution_count": 13,
     "metadata": {},
     "output_type": "execute_result"
    }
   ],
   "source": [
    "topic_model.tc "
   ]
  },
  {
   "cell_type": "code",
   "execution_count": 14,
   "metadata": {},
   "outputs": [
    {
     "data": {
      "text/plain": [
       "(60,)"
      ]
     },
     "execution_count": 14,
     "metadata": {},
     "output_type": "execute_result"
    }
   ],
   "source": [
    "topic_model.tcs.shape"
   ]
  },
  {
   "cell_type": "code",
   "execution_count": 15,
   "metadata": {},
   "outputs": [
    {
     "name": "stdout",
     "output_type": "stream",
     "text": [
      "12.243073832990634\n",
      "12.243073832990634\n"
     ]
    }
   ],
   "source": [
    "print(np.sum(topic_model.tcs))\n",
    "print(topic_model.tc)"
   ]
  },
  {
   "cell_type": "code",
   "execution_count": 16,
   "metadata": {},
   "outputs": [
    {
     "data": {
      "image/png": "[encoded data removed]",
      "text/plain": [
       "<Figure size 720x360 with 1 Axes>"
      ]
     },
     "metadata": {
      "needs_background": "light"
     },
     "output_type": "display_data"
    }
   ],
   "source": [
    "#Selecting number of topics:Choosing from the data visualised\n",
    "plt.figure(figsize=(10,5))\n",
    "plt.bar(range(topic_model.tcs.shape[0]), topic_model.tcs, color='#4e79a7', width=0.5)\n",
    "plt.xlabel('Topic', fontsize=16)\n",
    "plt.ylabel('Total Correlation (nats)', fontsize=16);\n",
    "plt.savefig('Distribution of TCs for each topic', dpi=600)"
   ]
  },
  {
   "cell_type": "markdown",
   "metadata": {},
   "source": [
    "## Pointwise Document TC"
   ]
  },
  {
   "cell_type": "code",
   "execution_count": 17,
   "metadata": {},
   "outputs": [
    {
     "data": {
      "text/plain": [
       "(13211, 60)"
      ]
     },
     "execution_count": 17,
     "metadata": {},
     "output_type": "execute_result"
    }
   ],
   "source": [
    "topic_model.log_z.shape # n_docs x k_topics"
   ]
  },
  {
   "cell_type": "code",
   "execution_count": 18,
   "metadata": {},
   "outputs": [
    {
     "name": "stdout",
     "output_type": "stream",
     "text": [
      "[1.40486966 0.82137729 0.61851764 0.59277268 0.56276449 0.49527738\n",
      " 0.4709254  0.35712191 0.35134306 0.34519701 0.30927617 0.29156133\n",
      " 0.26195248 0.26193307 0.26121511 0.25627746 0.2373451  0.23387195\n",
      " 0.23377778 0.23282173 0.22642932 0.21781894 0.20604053 0.20287735\n",
      " 0.19168043 0.19099719 0.1872734  0.1799195  0.1643037  0.15919369\n",
      " 0.13046469 0.12667002 0.12180686 0.12042794 0.10506907 0.09927299\n",
      " 0.09654267 0.09184398 0.08402026 0.07660095 0.05853795 0.05791979\n",
      " 0.05730945 0.05727466 0.0546001  0.0487597  0.04875206 0.03576056\n",
      " 0.0355142  0.0313883  0.02921128 0.02763961 0.02663458 0.02599117\n",
      " 0.01448619 0.01360332 0.01257648 0.01041839 0.00963343 0.00761045]\n",
      "[1.40486966 0.82137729 0.61851764 0.59277268 0.56276449 0.49527738\n",
      " 0.4709254  0.35712191 0.35134306 0.34519701 0.30927617 0.29156133\n",
      " 0.26195248 0.26193307 0.26121511 0.25627746 0.2373451  0.23387195\n",
      " 0.23377778 0.23282173 0.22642932 0.21781894 0.20604053 0.20287735\n",
      " 0.19168043 0.19099719 0.1872734  0.1799195  0.1643037  0.15919369\n",
      " 0.13046469 0.12667002 0.12180686 0.12042794 0.10506907 0.09927299\n",
      " 0.09654267 0.09184398 0.08402026 0.07660095 0.05853795 0.05791979\n",
      " 0.05730945 0.05727466 0.0546001  0.0487597  0.04875206 0.03576056\n",
      " 0.0355142  0.0313883  0.02921128 0.02763961 0.02663458 0.02599117\n",
      " 0.01448619 0.01360332 0.01257648 0.01041839 0.00963343 0.00761045]\n"
     ]
    }
   ],
   "source": [
    "print(np.mean(topic_model.log_z, axis=0)) #The pointwise total correlations in log_z represent the correlations within an individual document explained by a particular topic. These correlations have been used to measure how \"surprising\" documents are with respect to given topics\n",
    "print(topic_model.tcs)"
   ]
  },
  {
   "cell_type": "markdown",
   "metadata": {},
   "source": [
    "## Introducing Anchoring in the semi-supervised topic mode"
   ]
  },
  {
   "cell_type": "markdown",
   "metadata": {},
   "source": [
    "CorEx is a discriminative model, whereas LDA is a generative model. This means that while LDA outputs a probability distribution over each document, CorEx instead estimates the probability a document belongs to a topic given that document's words. As a result, the probabilities across topics for a given document do not have to add up to 1. The estimated probabilities of topics for each document can be accessed through log_p_y_given_x or p_y_given_x.\n",
    "\n",
    "Hierarchical Topic Models The labels attribute gives the binary topic expressions for each document and each topic. We can use this output as input to another CorEx topic model to get latent representations of the topics themselves. This yields a hierarchical CorEx topic model. Like the first layer of the topic model, one can determine the number of latent variables to add in higher layers through examination of the topic TCs.\n",
    "\n",
    "Anchored CorEx is an extension of CorEx that allows the \"anchoring\" of words to topics. When anchoring a word to a topic, CorEx is trying to maximize the mutual information between that word and the anchored topic. So, anchoring provides a way to guide the topic model towards specific subsets of words that the user would like to explore.\n",
    "\n",
    "Anchoring a single set of words to a single topic. This can help promote a topic that did not naturally emerge when running an unsupervised instance of the CorEx topic model. For example, one might anchor words like \"snow,\" \"cold,\" and \"avalanche\" to a topic if one suspects there should be a snow avalanche topic within a set of disaster relief articles.\n",
    "\n",
    "Anchoring single sets of words to multiple topics. This can help find different aspects of a topic that may be discussed in several different contexts. For example, one might anchor \"protest\" to three topics and \"riot\" to three other topics to understand different framings that arise from tweets about political protests.\n",
    "\n",
    "Anchoring different sets of words to multiple topics. This can help enforce topic separability if there appear to be chimera topics. For example, one might anchor \"mountain,\" \"Bernese,\" and \"dog\" to one topic and \"mountain,\" \"rocky,\" and \"colorado\" to another topic to help separate topics that merge discussion of Bernese Mountain Dogs and the Rocky Mountains."
   ]
  },
  {
   "cell_type": "code",
   "execution_count": 19,
   "metadata": {},
   "outputs": [
    {
     "name": "stdout",
     "output_type": "stream",
     "text": [
      "0: products,total,establishments,value,industry,reported,cent,table,manufacture,statistics\n",
      "1: water,wood,inch,cut,piece,surface,dry,glue,varnish,oil\n",
      "2: union,local,members,international,organization,locals,convention,labor,executive,unions\n",
      "3: furniture,style,decoration,design,century,carved,examples,designs,artistic,boulle\n",
      "4: yesterday,president,today,washington,committee,american,national,street,federal,association\n",
      "5: earners,wage,number,employed,average,according,classified,classification,salaried,ownership\n",
      "6: age,females,gainful,occupations,proportion,engaged,males,sex,years,persons\n",
      "7: mold,fig,cement,legs,cast,seat,ends,concrete,plaster,curved\n",
      "8: market,sales,prices,exchange,demand,transfers,stores,bills,posted,retail\n",
      "9: add,boil,till,apply,let,pan,liquid,gallon,warm,spirits\n",
      "10: south,north,pennsylvania,ohio,massachusetts,carolina,illinois,west,virginia,california\n",
      "11: university,law,schools,public,institute,college,society,education,examination,cambridge\n",
      "12: precinct,th,assignments,patrolmen,duty,greek,annum,temporary,patrolman,midnight\n",
      "13: forestry,rico,animal,husbandry,porto,agriculture,heart,charming,preserves,love\n",
      "14: power,electric,horsepower,gas,steam,engines,primary,motors,rented,generated\n",
      "15: rome,stitch,hanging,needle,inlays,classical,stitches,running,departure,antiquity\n",
      "16: bo,vegetable,fruit,meal,towels,ho,corn,mineral,bottles,abundant\n",
      "17: week,hours,prevailing,debits,banks,aggregated,reserve,accounts,preceding,ended\n",
      "18: steel,iron,rolling,borne,wire,mind,furnaces,rods,works,rails\n",
      "19: new,york,states,united,jersey,district,state,population,indiana,editor\n",
      "20: art,exhibition,museum,gallery,paintings,galleries,collection,celebrated,artists,leaders\n",
      "21: door,framing,murder,rebated,crowd,stories,mitred,ear,vertical,horizontal\n",
      "22: division,east,central,dr,atlantic,church,technology,charles,pacific,st\n",
      "23: avoid,carpets,rugs,disclosure,omitted,patent,extracts,pork,crude,refined\n",
      "24: sides,stuff,drawer,end,upper,inside,moulding,cornice,wide,drawers\n",
      "25: month,december,nearest,maximum,representative,minimum,day,january,circulation,months\n",
      "26: cost,materials,expenses,miscellaneous,supplies,apparatus,profits,purport,machinery,electrical\n",
      "27: milk,printing,publishing,butter,cheese,condensed,wagon,cream,carriage,music\n",
      "28: gold,leaf,gilding,applied,currency,silver,strict,necessary,embossed,spain\n",
      "29: lord,lake,contact,log,greeks,qualities,erie,romans,possess,contents\n",
      "30: man,france,people,san,europe,science,seen,gender,louis,says\n",
      "31: tho,meat,packing,sugar,slaughtering,cane,aro,canning,beet,preserving\n",
      "32: processes,sewing,dyeing,beets,finishing,soda,textiles,fabrics,woven,rug\n",
      "33: william,john,wife,farmers,tuesday,james,rev,governor,tonight,anti\n",
      "34: question,time,pay,life,interesting,think,men,worker,said,modern\n",
      "35: remove,vegetables,tin,carefully,fruits,washed,cooked,round,shelf,plate\n",
      "36: food,foods,lesson,cooking,valuable,fatigue,speed,really,frequently,unsanitary\n",
      "37: film,young,story,lady,tell,woman,girl,title,family,live\n",
      "38: coal,skins,hides,oils,mines,anthracite,mining,imported,defined,viii\n",
      "39: court,supreme,knows,open,mother,justice,farmer,judge,pearl,freedom\n",
      "40: need,health,facts,concerning,shop,insurance,schedule,does,sanitary,sound\n",
      "41: good,experience,bad,long,standing,thing,way,little,danger,quickly\n",
      "42: conditions,trade,garment,manufacturers,industrial,general,activity,improvement,information,factors\n",
      "43: chairs,old,fashion,chair,bed,executed,shell,beauty,comfortable,generally\n",
      "44: novelty,certain,styles,useful,human,particular,ornamental,relationship,difficult,historical\n",
      "45: place,cabinet,took,ready,colors,model,french,proceed,maker,set\n",
      "46: work,wages,paid,doing,scale,factory,skill,money,makers,result\n",
      "47: organized,home,house,appointed,passed,act,household,plan,funds,strikes\n",
      "48: english,success,cents,member,worth,benefit,matters,consideration,needs,relation\n",
      "49: high,school,problem,eighth,grade,low,eighteenth,pupils,competent,seventy\n",
      "50: care,taken,taking,strong,sure,leave,make,careful,ways,readily\n",
      "51: smaller,employees,percentage,gain,rank,showed,capacity,higher,officials,differences\n",
      "52: tables,introduction,earlier,period,case,properly,different,later,significance,specific\n",
      "53: used,quantity,workers,finished,produced,quantities,leather,copper,women,assigned\n",
      "54: days,comes,continue,gradually,chance,finally,watch,pleasant,stop,wanted\n",
      "55: shops,living,country,chicago,machine,philadelphia,doubt,closely,involved,associated\n",
      "56: published,book,near,holding,workman,wall,bought,setting,revolution,stands\n",
      "57: true,indicated,instead,brought,results,lines,secure,original,space,account\n",
      "58: great,times,fifth,advanced,advance,twice,sixth,substantial,remarkable,merchants\n",
      "59: hands,return,pretty,date,rise,apparently,range,friends,quarter,break\n"
     ]
    }
   ],
   "source": [
    "#to automatically generate anchor words: for each label in a data set, \n",
    "#we find the words that have the highest mutual information with the label.\n",
    "# we took a very simple to automatically generate the anchor words to create a semi-supervised model\n",
    "anchor_words=[]\n",
    "for n,topic in enumerate(topics):\n",
    "    topic_words,_,_ = zip(*topic)\n",
    "    anchor_words.append(list(topic_words[:3]))\n",
    "    print('{}: '.format(n) + ','.join(topic_words))"
   ]
  },
  {
   "cell_type": "code",
   "execution_count": 20,
   "metadata": {},
   "outputs": [],
   "source": [
    "#manually adjust the anchor words based on the observation\n",
    "    \n",
    "anchor_words[0]=['manufacturing','mechanical','industry']\n",
    "anchor_words[1]=['water','wood','boil']\n",
    "anchor_words[2]=['workers','organizations','committee']\n",
    "anchor_words[3]=['furniture','wood','carve','carpenters','workmen'] \n",
    "anchor_words[7]=['forgemen','harmmermen']\n",
    "anchor_words[8]=['market','trade','stock','sales']\n",
    "anchor_words[11]=['university','institute','education','professional'] \n",
    "anchor_words[13]=['forestry','agriculture','husbandry'] \n",
    "anchor_words[14]=['electric','power','mechanic','engines'] \n",
    "anchor_words[18]=['iron','blacksmiths','steel']\n",
    "anchor_words[20]=['art','gallery','artists']\n",
    "anchor_words[26]=['machinery','machinists','apparatus']\n",
    "anchor_words[31]=['meat','butchers','slaughtering']\n",
    "anchor_words[32]=['textile','fabrics','clothing','tailors']\n",
    "anchor_words[37]=['family','house','personal']\n",
    "anchor_words[38]=['coal','miners']\n",
    "anchor_words[39]=['court','justice','lawyers','judge']\n",
    "anchor_words[47]=['household','domestic','house']\n",
    "anchor_words[49]=['public','school','teachers']\n",
    "anchor_words[51]=['clerks','shop']\n",
    "anchor_words[56]=['book','publishing','authors']"
   ]
  },
  {
   "cell_type": "code",
   "execution_count": 21,
   "metadata": {},
   "outputs": [],
   "source": [
    "def train_model(topic_num,anchor_w=anchor_words):\n",
    "    anchored_topic_model= ct.Corex(n_hidden=topic_num, seed=2)\n",
    "    anchored_topic_model.fit(doc_word[:len(documents_mod)], words=words, anchors=anchor_w, anchor_strength=10)\n",
    "    print(\"-\"*12,\"topic words\",\"-\"*12)\n",
    "    for n in range(topic_num):\n",
    "        topic_words,_,_ = zip(*anchored_topic_model.get_topics(topic=n))\n",
    "        print('{}: '.format(n) + ','.join(topic_words))\n",
    "    print(\"-\"*12,\"print total correlation\",\"-\"*12)\n",
    "    print(np.sum(anchored_topic_model.tcs))\n",
    "    print(anchored_topic_model.tc)\n",
    "    results=anchored_topic_model.predict(doc_word[len(documents_mod):])\n",
    "    results_proba,mutual_info=anchored_topic_model.predict_proba(doc_word[len(documents_mod):])\n",
    "    \n",
    "    pairs=get_predict_result(results)\n",
    "    pairs_proba=get_predict_proba(results_proba)\n",
    "    \n",
    "    has_categorized=[]\n",
    "    for a,b in pairs:\n",
    "        if a not in has_categorized:\n",
    "            has_categorized.append(a)\n",
    "    print(\"-\"*12,\"occ that have been categorized into certain types\",\"-\"*12)\n",
    "    print(len(has_categorized))\n",
    "\n",
    "    has_not_categorized=[]\n",
    "    for i in range(len(occ_list)):\n",
    "        if i not in has_categorized:\n",
    "            has_not_categorized.append(occ_list[i])\n",
    "          \n",
    "    print(\"-\"*12,\"has_not_categorized\",\"-\"*12)\n",
    "    print(has_not_categorized)\n",
    "\n",
    "    print(\"-\"*12,\"corresponding counts of topic\",\"-\"*12)\n",
    "    print(count_topics(pairs))\n",
    "    \n",
    "    return anchored_topic_model,pairs,pairs_proba"
   ]
  },
  {
   "cell_type": "code",
   "execution_count": 22,
   "metadata": {},
   "outputs": [],
   "source": [
    "def get_predict_result(results):\n",
    "    pairs=[]\n",
    "    for i in range(len(results)):\n",
    "        for j in range(len(results[i])):\n",
    "            if results[i][j]==True:\n",
    "                pairs.append([i,j])\n",
    "    return pairs\n",
    "\n",
    "def get_predict_proba(results_proba):\n",
    "    pairs_proba={i:[] for i in range(len(results_proba))}\n",
    "    for i in range(len(results_proba)):\n",
    "        for j in range(len(results_proba[i])):\n",
    "            if results_proba[i][j] >= 1e-3:\n",
    "                pairs_proba[i].append((j,results_proba[i][j]))\n",
    "    return pairs_proba\n",
    "\n",
    "def count_topics(pairs):\n",
    "    available={}\n",
    "    for a,b in pairs:\n",
    "        if b not in available.keys():\n",
    "            available[b]=1\n",
    "        else:\n",
    "            available[b]+=1\n",
    "    return available \n",
    "\n",
    "def get_topic_content(pairs,topic):\n",
    "    result=[]\n",
    "    for a,b in pairs:\n",
    "        if b == topic:\n",
    "            result.append(occ_list[a])\n",
    "    return result \n",
    "\n",
    "def get_topic_list(pairs):\n",
    "    result={}\n",
    "    for a,b in pairs:\n",
    "        if b not in result.keys():\n",
    "            result[b]=[a]\n",
    "        else:\n",
    "            result[b].append(a)\n",
    "    return result\n",
    "\n",
    "def save_topic(pairs):\n",
    "    result_dic=get_topic_list(pairs)\n",
    "    with open(\"train_result_30.txt\",'w') as f:\n",
    "        for m,n in result_dic.items():\n",
    "            topic_words,_,_ = zip(*anchored_topic_model.get_topics(topic=m))\n",
    "            title=str(m)+\":\"+(','.join(topic_words))\n",
    "            f.write(title+'\\n')\n",
    "            for file in n:\n",
    "                occ_title=occ_list[file]\n",
    "                f.write(occ_title+'\\n')\n",
    "            f.write(\"\\n \\n \\n\")"
   ]
  },
  {
   "cell_type": "code",
   "execution_count": 23,
   "metadata": {},
   "outputs": [
    {
     "name": "stdout",
     "output_type": "stream",
     "text": [
      "WARNING: Some words never appear (or always appear)\n",
      "WARNING: Anchor word not in word column labels provided to CorEx: harmmermen\n",
      "------------ topic words ------------\n",
      "0: industry,manufacturing,mechanical,branches,branch,summary,gave,growth,shipbuilding,districttable\n",
      "1: wood,water,boil,dry,hot,boiling,stain,apply,surface,brush\n",
      "2: workers,committee,organizations,organize,amalgamated,succeeded,earnings,immigrants,slack,examined\n",
      "3: wood,furniture,workmen,carpenters,carve,distillation,coffers,generally,metal,egypt\n",
      "4: yesterday,today,president,schlesinger,announced,vice,truman,ap,bank,roosevelt\n",
      "5: number,wage,earners,employed,average,employees,classified,according,minimum,salaried\n",
      "6: age,females,gainful,males,proportion,years,occupations,sex,engaged,female\n",
      "7: cent,total,products,value,establishments,reported,table,increase,industries,shows\n",
      "8: trade,market,stock,sales,exchange,posted,foreign,demand,prices,bills\n",
      "9: add,boil,till,lb,mix,veneers,dye,pint,logwood,let\n",
      "10: pennsylvania,south,north,carolina,west,georgia,virginia,dakota,alabama,mississippi\n",
      "11: university,education,institute,professional,technology,cambridge,law,examination,universities,examinations\n",
      "12: th,precinct,assignments,patrolmen,duty,annum,monthstable,temporary,patrolman,appointed\n",
      "13: agriculture,forestry,husbandry,animal,atomic,russians,corridors,floyd,footsteps,energy\n",
      "14: power,electric,engines,mechanic,horsepower,motors,steam,rented,primary,generated\n",
      "15: rome,hanging,stitch,style,century,decoration,designs,design,french,examples\n",
      "16: bo,vegetable,fruit,tho,washed,ami,dishes,ho,clean,dish\n",
      "17: week,hours,prevailing,debits,aggregated,banks,reserve,accounts,federal,preceding\n",
      "18: steel,iron,rolling,works,mills,furnaces,pig,wire,blast,rods\n",
      "19: new,states,york,united,jersey,state,ohio,illinois,massachusetts,california\n",
      "20: art,gallery,artists,exhibition,paintings,museum,galleries,sculpture,exhibitions,open\n",
      "21: door,framing,murder,oak,carved,chair,chestnut,woods,upholstered,finish\n",
      "22: division,central,east,atlantic,divisions,geographic,mountain,pacific,varied,middle\n",
      "23: avoid,carpets,rugs,disclosure,column,omitted,notein,italics,rococo,excluding\n",
      "24: sides,drawer,stuff,fig,inch,mold,piece,cut,inches,cement\n",
      "25: month,december,nearest,representative,gives,day,maximum,smallest,january,seasonal\n",
      "26: machinery,apparatus,statistics,manufacture,materials,figures,included,cost,censuses,primarily\n",
      "27: milk,printing,publishing,cheese,condensed,butter,cream,newspapers,bookbinding,blankbook\n",
      "28: gold,leaf,gilding,adhere,size,applied,bronze,silver,burnish,applying\n",
      "29: union,lake,contact,local,international,members,lord,shown,american,organization\n",
      "30: man,people,france,woman,paris,young,poor,volunteer,stage,decent\n",
      "31: meat,slaughtering,butchers,packing,feathers,pork,animals,slaughtered,meatpacking,calf\n",
      "32: clothing,textile,fabrics,tailors,goods,woolen,worsted,cotton,silk,wool\n",
      "33: john,william,wife,street,avenue,dr,mrs,city,evening,company\n",
      "34: time,question,pay,short,charley,difficulty,distant,spent,attempt,unnecessary\n",
      "35: tin,remove,vegetables,fruits,canning,bottles,preserves,lacquered,sauces,jars\n",
      "36: food,lesson,foods,teacher,cooking,girls,lessons,serve,discuss,cooked\n",
      "37: house,family,personal,commons,celler,presiding,subcommittee,supper,chauncey,manning\n",
      "38: coal,miners,anthracite,bituminous,coke,pres,mines,axis,ovens,floods\n",
      "39: court,judge,justice,lawyers,supreme,trial,repts,ussr,govt,rept\n",
      "40: need,health,facts,profits,determining,concerning,brought,properly,sanitary,sickness\n",
      "41: good,experience,bad,fairly,cheapest,beginners,makes,intentions,standing,inasmuch\n",
      "42: trade,conditions,garment,ladies,worker,ailments,morbidity,influence,unsanitary,tuberculosis\n",
      "43: old,chairs,fashion,egyptian,chariots,fashioned,papyri,curule,laugh,alliance\n",
      "44: certain,novelty,styles,sacrificed,utility,regularity,omissions,considered,involves,memories\n",
      "45: place,cabinet,took,maker,makers,dropped,projecting,fasten,absolutely,woodworking\n",
      "46: work,wages,paid,salaries,contract,doing,overtime,scale,clone,performed\n",
      "47: house,domestic,household,service,servants,clearing,imports,polar,pests,saracens\n",
      "48: english,success,cents,currency,financial,worth,irene,alien,crowned,capita\n",
      "49: public,school,teachers,schools,high,problem,pupils,courses,teaching,irving\n",
      "50: taken,care,taking,keeping,steps,motions,invariably,exercised,adults,granted\n",
      "51: shop,clerks,subordinate,chairmen,officials,foreman,employer,factory,sweat,superintendents\n",
      "52: tables,introduction,earlier,status,occupational,comparison,classification,estimate,compare,purport\n",
      "53: used,workers,quantity,fuel,consumed,required,computing,manipulation,ce,basis\n",
      "54: days,comes,continue,shake,wasteful,elephants,reminiscent,ababa,addis,sellers\n",
      "55: country,shops,living,foundries,machine,breweries,competition,sections,endorse,hood\n",
      "56: book,publishing,authors,search,books,captions,contents,audio,blog,archived\n",
      "57: true,indicated,instead,lisa,mona,raub,der,mottle,canted,gates\n",
      "58: great,times,fifth,editor,britain,twice,deal,majority,intervening,traded\n",
      "59: hands,return,pretty,romantic,feminine,gender,expedition,restaurant,funny,seemingly\n",
      "------------ print total correlation ------------\n",
      "84.13521937561357\n",
      "84.13521937561357\n",
      "------------ occ that have been categorized into certain types ------------\n",
      "400\n",
      "------------ has_not_categorized ------------\n",
      "['Extraction of Minerals Operatives in other and not specified mines Quarry operatives', 'Transportation Express, post, telegraph, and telephone, selected Agents -- express companies', 'Extraction of Minerals Operatives in other and not specified mines Mine operatives, n.s.', 'Clerical Messenger, bundle, and office boys -- except telegraph messengers No reported', 'Transportation Other transportation pursuits: oremen and overseers, not otherwise specified Road and street building and repairing', 'Extraction of Minerals Operators, officials and managers Operators', 'Transportation Inspectors Steam railroad', 'Clerical Agents, canvassers, and collectors Agents', 'Transportation Motormen Steam railroad', 'Transportation Laborers Locomotive firemen', 'Transportation Switchmen, flagmen, and yardmen Switchmen and flagmen --steam railroad', 'Clerical Bookkeepers, cashiers, and accountants Bookkeepers and cashiers', 'Transportation Laborers Steam railroad', 'Transportation Baggagemen and freight agents Freight agents', 'Transportation Baggagemen and freight agents Brakemen', 'Transportation Road and street transportation, selected Foremen of livery and transfer companies', 'Transportation Foremen and overseers Steam railroad', 'Clerical Bookkeepers, cashiers, and accountants Accountants and auditors', 'Clerical Agents, canvassers, and collectors Collectors', 'Clerical Agents, canvassers, and collectors Canvassers', 'Transportation Laborers Street railroad', 'Transportation Switchmen, flagmen, and yardmen Ticket and station agents', 'Transportation Laborers, not otherwise specified Other transportation', 'Transportation Proprietors, officials, and messengers,not otherwise specified Telegraph and telephone', 'Transportation Laborers, not otherwise specified Telegraph and telephone', 'Transportation Other occupations, semi-skilled Road and street building and repairing', 'Transportation Motormen Street railroad', 'Transportation Switchmen, flagmen, and yardmen Switchmen and flagmen -- street railroad', 'Transportation Laborers, not otherwise specified Express companies', 'Extraction of Minerals Oil, gas and salt well operatives Oil and gas well operatives', 'Transportation Laborers Locomotive engineers', 'Transportation Road and street transportation, selected Draymen, teamsters, and expressmen, n.e.c.1', 'Transportation Other occupations, semi-skilled Steam railroad', 'Transportation Other occupations, semi-skilled Other transportation', 'Transportation Other occupations, semi-skilled Street railroad', 'Transportation Other transportation pursuits: oremen and overseers, not otherwise specified Other transportation']\n",
      "------------ corresponding counts of topic ------------\n",
      "{0: 185, 31: 15, 36: 14, 11: 51, 8: 84, 38: 13, 42: 80, 19: 5, 49: 21, 16: 10, 18: 26, 21: 11, 37: 38, 47: 37, 3: 15, 59: 2, 29: 25, 56: 14, 27: 13, 51: 19, 33: 15, 39: 6, 32: 32, 13: 17, 23: 6, 1: 11, 14: 2, 35: 5, 24: 1, 26: 11, 28: 1, 48: 7, 7: 3, 2: 3, 53: 3, 55: 2, 40: 3, 4: 1, 20: 2}\n"
     ]
    }
   ],
   "source": [
    "anchored_topic_model,pairs,pairs_proba =train_model(60,anchor_words)\n",
    "anchored_topic_model.save('saved.dat')"
   ]
  },
  {
   "cell_type": "code",
   "execution_count": 24,
   "metadata": {},
   "outputs": [],
   "source": [
    "df_occsc = pd.read_csv('OCC_pairs.csv').rename(columns={'OCC_DES':'Full Occupation'})\n",
    "assert(df_occsc['Full Occupation'].nunique() == len(df_occsc))\n",
    "occ_original = list(set(list(df_occsc['Full Occupation'])))"
   ]
  },
  {
   "cell_type": "code",
   "execution_count": 25,
   "metadata": {},
   "outputs": [],
   "source": [
    "topic_score_dict = {} # key: topic, value: occscore\n",
    "topic_helper={i:[] for i in range(topic_num)}\n",
    "for job_num in pairs_proba.keys():\n",
    "    topic_prob=pairs_proba[job_num]\n",
    "    s=0\n",
    "    for pair in topic_prob:\n",
    "        occ=occ_original[job_num]\n",
    "        score = list(df_occsc[df_occsc['Full Occupation']==occ]['OCCSCORE'])[0]\n",
    "        weight = pair[1]\n",
    "        s += weight\n",
    "        topic_helper[pair[0]].append((score,weight))\n",
    "\n",
    "for topic in topic_helper.keys():\n",
    "    lst = topic_helper[topic]\n",
    "    score_list=[]\n",
    "    s=0\n",
    "    for pair in lst:\n",
    "        occ_score = 0\n",
    "        s += pair[1]\n",
    "    occ_score = 0\n",
    "    for pair in lst:\n",
    "        occ_score += pair[0] * (pair[1]/s)\n",
    "    topic_score_dict[topic] = occ_score"
   ]
  },
  {
   "cell_type": "code",
   "execution_count": 26,
   "metadata": {},
   "outputs": [
    {
     "data": {
      "text/plain": [
       "{0: 24.535135135135086,\n",
       " 1: 28.967716181409237,\n",
       " 2: 27.090879525777535,\n",
       " 3: 24.666666666666664,\n",
       " 4: 40.05625521200348,\n",
       " 5: 0,\n",
       " 6: 0,\n",
       " 7: 23.81754200081383,\n",
       " 8: 34.21225309711361,\n",
       " 9: 0,\n",
       " 10: 0,\n",
       " 11: 30.70588235294115,\n",
       " 12: 25.0,\n",
       " 13: 20.319388705650006,\n",
       " 14: 21.5,\n",
       " 15: 39.53720768746949,\n",
       " 16: 23.267144748734534,\n",
       " 17: 0,\n",
       " 18: 25.47316843555756,\n",
       " 19: 30.199999999999996,\n",
       " 20: 31.500555053937298,\n",
       " 21: 21.00000181082566,\n",
       " 22: 0,\n",
       " 23: 27.239281544794334,\n",
       " 24: 21.987752553338513,\n",
       " 25: 42.0,\n",
       " 26: 30.793008081874717,\n",
       " 27: 25.514125107548757,\n",
       " 28: 25.77221670826309,\n",
       " 29: 33.88492001701084,\n",
       " 30: 0,\n",
       " 31: 18.77651489566804,\n",
       " 32: 23.125341141372196,\n",
       " 33: 27.744874945859745,\n",
       " 34: 23.0,\n",
       " 35: 23.956044909449915,\n",
       " 36: 22.185234082084893,\n",
       " 37: 18.72183076814147,\n",
       " 38: 26.86305523214901,\n",
       " 39: 33.983358208144885,\n",
       " 40: 22.000003476672912,\n",
       " 41: 0,\n",
       " 42: 35.34999999999993,\n",
       " 43: 0,\n",
       " 44: 26.003598588842948,\n",
       " 45: 23.0,\n",
       " 46: 0,\n",
       " 47: 18.837837837837835,\n",
       " 48: 14.285702398436719,\n",
       " 49: 26.38154397031671,\n",
       " 50: 0,\n",
       " 51: 28.006170932443844,\n",
       " 52: 15.0,\n",
       " 53: 27.0,\n",
       " 54: 10.000177139925663,\n",
       " 55: 21.5,\n",
       " 56: 30.143229307509827,\n",
       " 57: 0,\n",
       " 58: 0,\n",
       " 59: 21.5}"
      ]
     },
     "execution_count": 26,
     "metadata": {},
     "output_type": "execute_result"
    }
   ],
   "source": [
    "topic_score_dict"
   ]
  },
  {
   "cell_type": "markdown",
   "metadata": {},
   "source": [
    "## Load modified occ description\n",
    "\n",
    "### Load Ancestry census data and calculate occ score¶"
   ]
  },
  {
   "cell_type": "code",
   "execution_count": 27,
   "metadata": {},
   "outputs": [
    {
     "name": "stderr",
     "output_type": "stream",
     "text": [
      "/anaconda3/lib/python3.7/site-packages/IPython/core/interactiveshell.py:3058: DtypeWarning: Columns (6,7,21,22,37) have mixed types.Specify dtype option on import or set low_memory=False.\n",
      "  interactivity=interactivity, compiler=compiler, result=result)\n"
     ]
    }
   ],
   "source": [
    "file = open('common_occupation_correction.pkl','rb')\n",
    "mapping = pickle.load(file)\n",
    "def mod_occ(occ):\n",
    "    if occ in mapping.keys():\n",
    "        return mapping[occ]\n",
    "    else:\n",
    "        return occ\n",
    "\n",
    "df_ward = pd.read_csv('1910_New York_Manhattan Ward 9.csv')\n",
    "df_ward['Occupation'] = df_ward['Occupation'].apply(lambda x : mod_occ(x))\n",
    "df_ward['Full Occupation'] = df_ward['Industry'] + ' ' + df_ward['Occupation']"
   ]
  },
  {
   "cell_type": "code",
   "execution_count": 28,
   "metadata": {},
   "outputs": [
    {
     "name": "stdout",
     "output_type": "stream",
     "text": [
      "32771\n"
     ]
    }
   ],
   "source": [
    "# 32771 full occupations are nan values\n",
    "print(df_ward['Full Occupation'].isna().sum())"
   ]
  },
  {
   "cell_type": "markdown",
   "metadata": {},
   "source": [
    "### Compute occupation score of the given occupations¶"
   ]
  },
  {
   "cell_type": "code",
   "execution_count": 29,
   "metadata": {},
   "outputs": [],
   "source": [
    "def plural(word):\n",
    "    if word.endswith('y'):\n",
    "        return word[:-1] + 'ies'\n",
    "    elif word[-1] in 'sx' or word[-2:] in ['sh', 'ch']:\n",
    "        return word + 'es'\n",
    "    elif word.endswith('an'):\n",
    "        return word[:-2] + 'en'\n",
    "    else:\n",
    "        return word + 's'\n",
    "    \n",
    "#debug\n",
    "nan_count=topics_emp=0\n",
    "not_in_dict_topicId=[]\n",
    "empty_score=0\n",
    "empty_score_occ_list=[]\n",
    "not_in_dict_occ_with_dup=[]\n",
    "#-------\n",
    "\n",
    "def match_occ(occ):\n",
    "    \n",
    "    #debug\n",
    "    global nan_count\n",
    "    global topics_emp\n",
    "    global not_in_dict_topicId\n",
    "    global empty_score\n",
    "    global not_in_dict_occ\n",
    "    global empty_score_occ_list\n",
    "    global not_in_dict_occ_with_dup\n",
    "    #-------\n",
    "    if type(occ) == float:\n",
    "        \n",
    "        #debug\n",
    "        nan_count+=1\n",
    "        #-------\n",
    "        \n",
    "        return 0\n",
    "    else:\n",
    "        vectorizer = CountVectorizer(stop_words='english', max_features=20000, vocabulary=fixed_vocabulary,binary=True)\n",
    "        temp=[i.lower() for i in occ.split()]\n",
    "        occ=\" \".join(temp)\n",
    "        doc_word1 = vectorizer.fit_transform([occ])\n",
    "        doc_word1 = ss.csr_matrix(doc_word1)\n",
    "        proba, mutual_info =anchored_topic_model.predict_proba(doc_word1)\n",
    "        pairs=get_predict_proba(proba)\n",
    "        \n",
    "        if pairs == {}:\n",
    "            \n",
    "            #debug\n",
    "            topics_emp+=1\n",
    "            #-------\n",
    "            return 0\n",
    "        else:\n",
    "            score_list = []\n",
    "            s = 0\n",
    "            for pair in pairs[0]:\n",
    "                #print(pairs[0])\n",
    "                if pair[0] in topic_score_dict.keys():\n",
    "                    score = topic_score_dict[pair[0]]\n",
    "                    weight = np.e**pair[1]\n",
    "                    s += weight\n",
    "                    score_list.append((score,weight))       \n",
    "            #debug\n",
    "                else:\n",
    "                    if pair[0] not in not_in_dict_topicId:\n",
    "                        not_in_dict_topicId.append(pair[0])\n",
    "                    not_in_dict_occ_with_dup.append(occ) \n",
    "            if score_list==[]: #when occ's score_list is completely empty (i.e. occ_score must be 0)\n",
    "                empty_score+=1\n",
    "                empty_score_occ_list.append(occ)\n",
    "                \n",
    "            #-------\n",
    "            occ_score = 0\n",
    "            for pair in score_list:\n",
    "                occ_score += pair[0] * (pair[1]/s)\n",
    "                \n",
    "            return occ_score\n"
   ]
  },
  {
   "cell_type": "code",
   "execution_count": 30,
   "metadata": {},
   "outputs": [],
   "source": [
    "df_ward['Occupation Score'] = df_ward['Full Occupation'].apply(lambda x : match_occ(x))"
   ]
  },
  {
   "cell_type": "code",
   "execution_count": 31,
   "metadata": {},
   "outputs": [
    {
     "data": {
      "text/html": [
       "<div>\n",
       "<style scoped>\n",
       "    .dataframe tbody tr th:only-of-type {\n",
       "        vertical-align: middle;\n",
       "    }\n",
       "\n",
       "    .dataframe tbody tr th {\n",
       "        vertical-align: top;\n",
       "    }\n",
       "\n",
       "    .dataframe thead th {\n",
       "        text-align: right;\n",
       "    }\n",
       "</style>\n",
       "<table border=\"1\" class=\"dataframe\">\n",
       "  <thead>\n",
       "    <tr style=\"text-align: right;\">\n",
       "      <th></th>\n",
       "      <th>DataID</th>\n",
       "      <th>RecordId</th>\n",
       "      <th>Name</th>\n",
       "      <th>HouseHoldId</th>\n",
       "      <th>Street Name</th>\n",
       "      <th>House Number</th>\n",
       "      <th>Dwelling Number</th>\n",
       "      <th>Family Number</th>\n",
       "      <th>Surname</th>\n",
       "      <th>Relationship</th>\n",
       "      <th>...</th>\n",
       "      <th>Can Read</th>\n",
       "      <th>Can Write</th>\n",
       "      <th>Attended School</th>\n",
       "      <th>Own or Rent</th>\n",
       "      <th>Home owned</th>\n",
       "      <th>Farm or House</th>\n",
       "      <th>Survivor of Confederate or Union of Army or Navy</th>\n",
       "      <th>Blind</th>\n",
       "      <th>Full Occupation</th>\n",
       "      <th>Occupation Score</th>\n",
       "    </tr>\n",
       "  </thead>\n",
       "  <tbody>\n",
       "    <tr>\n",
       "      <th>0</th>\n",
       "      <td>31776_4449715-00931</td>\n",
       "      <td>18527185</td>\n",
       "      <td>Mamie Rodgers</td>\n",
       "      <td>18527185</td>\n",
       "      <td>Barrow St</td>\n",
       "      <td>51</td>\n",
       "      <td>4</td>\n",
       "      <td>24.0</td>\n",
       "      <td>Rodgers</td>\n",
       "      <td>Wife</td>\n",
       "      <td>...</td>\n",
       "      <td>Yes</td>\n",
       "      <td>Yes</td>\n",
       "      <td>NaN</td>\n",
       "      <td>NaN</td>\n",
       "      <td>NaN</td>\n",
       "      <td>NaN</td>\n",
       "      <td>NaN</td>\n",
       "      <td>NaN</td>\n",
       "      <td>NaN</td>\n",
       "      <td>0.00000</td>\n",
       "    </tr>\n",
       "    <tr>\n",
       "      <th>1</th>\n",
       "      <td>31776_4449715-00931</td>\n",
       "      <td>18527188</td>\n",
       "      <td>William K Micheals</td>\n",
       "      <td>18527188</td>\n",
       "      <td>Barrow St</td>\n",
       "      <td>49</td>\n",
       "      <td>5</td>\n",
       "      <td>25.0</td>\n",
       "      <td>Micheals</td>\n",
       "      <td>Head</td>\n",
       "      <td>...</td>\n",
       "      <td>Yes</td>\n",
       "      <td>Yes</td>\n",
       "      <td>NaN</td>\n",
       "      <td>Own</td>\n",
       "      <td>Mortgaged</td>\n",
       "      <td>House</td>\n",
       "      <td>NaN</td>\n",
       "      <td>NaN</td>\n",
       "      <td>Storage Worker Lawyer</td>\n",
       "      <td>23.81754</td>\n",
       "    </tr>\n",
       "    <tr>\n",
       "      <th>2</th>\n",
       "      <td>31776_4449715-00931</td>\n",
       "      <td>125203061</td>\n",
       "      <td>Elizabeth Micheals</td>\n",
       "      <td>18527188</td>\n",
       "      <td>Barrow St</td>\n",
       "      <td>49</td>\n",
       "      <td>5</td>\n",
       "      <td>25.0</td>\n",
       "      <td>Micheals</td>\n",
       "      <td>Wife</td>\n",
       "      <td>...</td>\n",
       "      <td>Yes</td>\n",
       "      <td>Yes</td>\n",
       "      <td>NaN</td>\n",
       "      <td>NaN</td>\n",
       "      <td>NaN</td>\n",
       "      <td>NaN</td>\n",
       "      <td>NaN</td>\n",
       "      <td>NaN</td>\n",
       "      <td>NaN</td>\n",
       "      <td>0.00000</td>\n",
       "    </tr>\n",
       "    <tr>\n",
       "      <th>3</th>\n",
       "      <td>31776_4449715-00931</td>\n",
       "      <td>125203062</td>\n",
       "      <td>Stewart Micheals</td>\n",
       "      <td>18527188</td>\n",
       "      <td>Barrow St</td>\n",
       "      <td>49</td>\n",
       "      <td>5</td>\n",
       "      <td>25.0</td>\n",
       "      <td>Micheals</td>\n",
       "      <td>Son</td>\n",
       "      <td>...</td>\n",
       "      <td>NaN</td>\n",
       "      <td>NaN</td>\n",
       "      <td>NaN</td>\n",
       "      <td>NaN</td>\n",
       "      <td>NaN</td>\n",
       "      <td>NaN</td>\n",
       "      <td>NaN</td>\n",
       "      <td>NaN</td>\n",
       "      <td>City Waiter Worker Water Inspector</td>\n",
       "      <td>29.64623</td>\n",
       "    </tr>\n",
       "    <tr>\n",
       "      <th>4</th>\n",
       "      <td>31776_4449715-00931</td>\n",
       "      <td>125203063</td>\n",
       "      <td>William Micheals Jr.</td>\n",
       "      <td>18527188</td>\n",
       "      <td>Barrow St</td>\n",
       "      <td>49</td>\n",
       "      <td>5</td>\n",
       "      <td>25.0</td>\n",
       "      <td>Micheals Jr.</td>\n",
       "      <td>Son</td>\n",
       "      <td>...</td>\n",
       "      <td>NaN</td>\n",
       "      <td>NaN</td>\n",
       "      <td>Yes</td>\n",
       "      <td>NaN</td>\n",
       "      <td>NaN</td>\n",
       "      <td>NaN</td>\n",
       "      <td>NaN</td>\n",
       "      <td>NaN</td>\n",
       "      <td>NaN</td>\n",
       "      <td>0.00000</td>\n",
       "    </tr>\n",
       "    <tr>\n",
       "      <th>...</th>\n",
       "      <td>...</td>\n",
       "      <td>...</td>\n",
       "      <td>...</td>\n",
       "      <td>...</td>\n",
       "      <td>...</td>\n",
       "      <td>...</td>\n",
       "      <td>...</td>\n",
       "      <td>...</td>\n",
       "      <td>...</td>\n",
       "      <td>...</td>\n",
       "      <td>...</td>\n",
       "      <td>...</td>\n",
       "      <td>...</td>\n",
       "      <td>...</td>\n",
       "      <td>...</td>\n",
       "      <td>...</td>\n",
       "      <td>...</td>\n",
       "      <td>...</td>\n",
       "      <td>...</td>\n",
       "      <td>...</td>\n",
       "      <td>...</td>\n",
       "    </tr>\n",
       "    <tr>\n",
       "      <th>64790</th>\n",
       "      <td>4449600_01218</td>\n",
       "      <td>106472699</td>\n",
       "      <td>James H Ritlaw</td>\n",
       "      <td>18553238</td>\n",
       "      <td>Little West 12 St</td>\n",
       "      <td>8</td>\n",
       "      <td>60.0</td>\n",
       "      <td>234.0</td>\n",
       "      <td>Ritlaw</td>\n",
       "      <td>Son</td>\n",
       "      <td>...</td>\n",
       "      <td>NaN</td>\n",
       "      <td>NaN</td>\n",
       "      <td>NaN</td>\n",
       "      <td>NaN</td>\n",
       "      <td>NaN</td>\n",
       "      <td>NaN</td>\n",
       "      <td>NaN</td>\n",
       "      <td>NaN</td>\n",
       "      <td>NaN</td>\n",
       "      <td>0.00000</td>\n",
       "    </tr>\n",
       "    <tr>\n",
       "      <th>64791</th>\n",
       "      <td>4449600_01218</td>\n",
       "      <td>106472700</td>\n",
       "      <td>Mary B Ritlaw</td>\n",
       "      <td>18553238</td>\n",
       "      <td>Little West 12 St</td>\n",
       "      <td>8</td>\n",
       "      <td>60.0</td>\n",
       "      <td>234.0</td>\n",
       "      <td>Ritlaw</td>\n",
       "      <td>Daughter</td>\n",
       "      <td>...</td>\n",
       "      <td>NaN</td>\n",
       "      <td>NaN</td>\n",
       "      <td>NaN</td>\n",
       "      <td>NaN</td>\n",
       "      <td>NaN</td>\n",
       "      <td>NaN</td>\n",
       "      <td>NaN</td>\n",
       "      <td>NaN</td>\n",
       "      <td>NaN</td>\n",
       "      <td>0.00000</td>\n",
       "    </tr>\n",
       "    <tr>\n",
       "      <th>64792</th>\n",
       "      <td>4449600_01219</td>\n",
       "      <td>18553247</td>\n",
       "      <td>Ammar Mayne</td>\n",
       "      <td>18553247</td>\n",
       "      <td>St 14th St</td>\n",
       "      <td>452</td>\n",
       "      <td>61.0</td>\n",
       "      <td>235.0</td>\n",
       "      <td>Mayne</td>\n",
       "      <td>Head</td>\n",
       "      <td>...</td>\n",
       "      <td>Yes</td>\n",
       "      <td>Yes</td>\n",
       "      <td>NaN</td>\n",
       "      <td>Rent</td>\n",
       "      <td>NaN</td>\n",
       "      <td>House</td>\n",
       "      <td>NaN</td>\n",
       "      <td>NaN</td>\n",
       "      <td>NaN</td>\n",
       "      <td>0.00000</td>\n",
       "    </tr>\n",
       "    <tr>\n",
       "      <th>64793</th>\n",
       "      <td>4449600_01219</td>\n",
       "      <td>18553246</td>\n",
       "      <td>John J Dwyer</td>\n",
       "      <td>18553247</td>\n",
       "      <td>St 14th St</td>\n",
       "      <td>452</td>\n",
       "      <td>61.0</td>\n",
       "      <td>235.0</td>\n",
       "      <td>Dwyer</td>\n",
       "      <td>Boarder</td>\n",
       "      <td>...</td>\n",
       "      <td>Yes</td>\n",
       "      <td>Yes</td>\n",
       "      <td>NaN</td>\n",
       "      <td>NaN</td>\n",
       "      <td>NaN</td>\n",
       "      <td>NaN</td>\n",
       "      <td>NaN</td>\n",
       "      <td>NaN</td>\n",
       "      <td>Liquors Clerk</td>\n",
       "      <td>27.30867</td>\n",
       "    </tr>\n",
       "    <tr>\n",
       "      <th>64794</th>\n",
       "      <td>4449600_01219</td>\n",
       "      <td>18553248</td>\n",
       "      <td>Frederick A Meokel</td>\n",
       "      <td>18553247</td>\n",
       "      <td>St 14th St</td>\n",
       "      <td>452</td>\n",
       "      <td>61.0</td>\n",
       "      <td>235.0</td>\n",
       "      <td>Meokel</td>\n",
       "      <td>Boarder</td>\n",
       "      <td>...</td>\n",
       "      <td>Yes</td>\n",
       "      <td>Yes</td>\n",
       "      <td>NaN</td>\n",
       "      <td>NaN</td>\n",
       "      <td>NaN</td>\n",
       "      <td>NaN</td>\n",
       "      <td>NaN</td>\n",
       "      <td>NaN</td>\n",
       "      <td>Store Clerk</td>\n",
       "      <td>23.81754</td>\n",
       "    </tr>\n",
       "  </tbody>\n",
       "</table>\n",
       "<p>64795 rows × 40 columns</p>\n",
       "</div>"
      ],
      "text/plain": [
       "                    DataID   RecordId                  Name  HouseHoldId  \\\n",
       "0      31776_4449715-00931   18527185         Mamie Rodgers     18527185   \n",
       "1      31776_4449715-00931   18527188    William K Micheals     18527188   \n",
       "2      31776_4449715-00931  125203061    Elizabeth Micheals     18527188   \n",
       "3      31776_4449715-00931  125203062      Stewart Micheals     18527188   \n",
       "4      31776_4449715-00931  125203063  William Micheals Jr.     18527188   \n",
       "...                    ...        ...                   ...          ...   \n",
       "64790        4449600_01218  106472699        James H Ritlaw     18553238   \n",
       "64791        4449600_01218  106472700         Mary B Ritlaw     18553238   \n",
       "64792        4449600_01219   18553247           Ammar Mayne     18553247   \n",
       "64793        4449600_01219   18553246          John J Dwyer     18553247   \n",
       "64794        4449600_01219   18553248    Frederick A Meokel     18553247   \n",
       "\n",
       "             Street Name House Number Dwelling Number Family Number  \\\n",
       "0              Barrow St           51               4          24.0   \n",
       "1              Barrow St           49               5          25.0   \n",
       "2              Barrow St           49               5          25.0   \n",
       "3              Barrow St           49               5          25.0   \n",
       "4              Barrow St           49               5          25.0   \n",
       "...                  ...          ...             ...           ...   \n",
       "64790  Little West 12 St            8            60.0         234.0   \n",
       "64791  Little West 12 St            8            60.0         234.0   \n",
       "64792         St 14th St          452            61.0         235.0   \n",
       "64793         St 14th St          452            61.0         235.0   \n",
       "64794         St 14th St          452            61.0         235.0   \n",
       "\n",
       "            Surname Relationship  ... Can Read Can Write Attended School  \\\n",
       "0           Rodgers         Wife  ...      Yes       Yes             NaN   \n",
       "1          Micheals         Head  ...      Yes       Yes             NaN   \n",
       "2          Micheals         Wife  ...      Yes       Yes             NaN   \n",
       "3          Micheals          Son  ...      NaN       NaN             NaN   \n",
       "4      Micheals Jr.          Son  ...      NaN       NaN             Yes   \n",
       "...             ...          ...  ...      ...       ...             ...   \n",
       "64790        Ritlaw          Son  ...      NaN       NaN             NaN   \n",
       "64791        Ritlaw     Daughter  ...      NaN       NaN             NaN   \n",
       "64792         Mayne         Head  ...      Yes       Yes             NaN   \n",
       "64793         Dwyer      Boarder  ...      Yes       Yes             NaN   \n",
       "64794        Meokel      Boarder  ...      Yes       Yes             NaN   \n",
       "\n",
       "      Own or Rent Home owned Farm or House  \\\n",
       "0             NaN        NaN           NaN   \n",
       "1             Own  Mortgaged         House   \n",
       "2             NaN        NaN           NaN   \n",
       "3             NaN        NaN           NaN   \n",
       "4             NaN        NaN           NaN   \n",
       "...           ...        ...           ...   \n",
       "64790         NaN        NaN           NaN   \n",
       "64791         NaN        NaN           NaN   \n",
       "64792        Rent        NaN         House   \n",
       "64793         NaN        NaN           NaN   \n",
       "64794         NaN        NaN           NaN   \n",
       "\n",
       "      Survivor of Confederate or Union of Army or Navy Blind  \\\n",
       "0                                                  NaN   NaN   \n",
       "1                                                  NaN   NaN   \n",
       "2                                                  NaN   NaN   \n",
       "3                                                  NaN   NaN   \n",
       "4                                                  NaN   NaN   \n",
       "...                                                ...   ...   \n",
       "64790                                              NaN   NaN   \n",
       "64791                                              NaN   NaN   \n",
       "64792                                              NaN   NaN   \n",
       "64793                                              NaN   NaN   \n",
       "64794                                              NaN   NaN   \n",
       "\n",
       "                          Full Occupation  Occupation Score  \n",
       "0                                     NaN           0.00000  \n",
       "1                   Storage Worker Lawyer          23.81754  \n",
       "2                                     NaN           0.00000  \n",
       "3      City Waiter Worker Water Inspector          29.64623  \n",
       "4                                     NaN           0.00000  \n",
       "...                                   ...               ...  \n",
       "64790                                 NaN           0.00000  \n",
       "64791                                 NaN           0.00000  \n",
       "64792                                 NaN           0.00000  \n",
       "64793                       Liquors Clerk          27.30867  \n",
       "64794                         Store Clerk          23.81754  \n",
       "\n",
       "[64795 rows x 40 columns]"
      ]
     },
     "execution_count": 31,
     "metadata": {},
     "output_type": "execute_result"
    }
   ],
   "source": [
    "df_ward['Occupation Score'] =  df_ward['Occupation Score'].apply(lambda x:  round(x, 5))\n",
    "df_ward"
   ]
  },
  {
   "cell_type": "code",
   "execution_count": 32,
   "metadata": {},
   "outputs": [
    {
     "name": "stdout",
     "output_type": "stream",
     "text": [
      "864\n"
     ]
    }
   ],
   "source": [
    "print(len(empty_score_occ_list))"
   ]
  },
  {
   "cell_type": "code",
   "execution_count": 33,
   "metadata": {},
   "outputs": [
    {
     "data": {
      "text/plain": [
       "Text(0.5, 1.0, 'new: subset=all')"
      ]
     },
     "execution_count": 33,
     "metadata": {},
     "output_type": "execute_result"
    },
    {
     "data": {
      "image/png": "[encoded data removed]",
      "text/plain": [
       "<Figure size 432x288 with 1 Axes>"
      ]
     },
     "metadata": {
      "needs_background": "light"
     },
     "output_type": "display_data"
    }
   ],
   "source": [
    "df_ward['Occupation Score'].hist()\n",
    "plt.title(\"new: subset=all\")"
   ]
  },
  {
   "cell_type": "code",
   "execution_count": 34,
   "metadata": {},
   "outputs": [
    {
     "data": {
      "text/plain": [
       "Text(0.5, 1.0, 'old: subset=test,without 0 scores')"
      ]
     },
     "execution_count": 34,
     "metadata": {},
     "output_type": "execute_result"
    },
    {
     "data": {
      "image/png": "[encoded data removed]",
      "text/plain": [
       "<Figure size 432x288 with 1 Axes>"
      ]
     },
     "metadata": {
      "needs_background": "light"
     },
     "output_type": "display_data"
    }
   ],
   "source": [
    "#plot histogram without the 0 values:\n",
    "selection=(df_ward['Occupation Score']!=0)\n",
    "df_ward[selection]['Occupation Score'].hist()\n",
    "plt.title(\"old: subset=test,without 0 scores\")"
   ]
  },
  {
   "cell_type": "code",
   "execution_count": null,
   "metadata": {},
   "outputs": [],
   "source": [
    "df_ward.to_csv('with_occ.csv')"
   ]
  },
  {
   "cell_type": "markdown",
   "metadata": {},
   "source": [
    "## Train Word2Vec model "
   ]
  },
  {
   "cell_type": "code",
   "execution_count": 35,
   "metadata": {},
   "outputs": [],
   "source": [
    "all_words=[]\n",
    "for s in document_total:\n",
    "    temp=tokenize(s)\n",
    "    all_words.append(temp)"
   ]
  },
  {
   "cell_type": "code",
   "execution_count": 36,
   "metadata": {},
   "outputs": [
    {
     "name": "stdout",
     "output_type": "stream",
     "text": [
      "形成word2vec模型共花费2.89秒\n"
     ]
    }
   ],
   "source": [
    "import time\n",
    "from gensim.models import Word2Vec\n",
    "startTime = time.time()\n",
    "word2vec_model = Word2Vec(all_words, size=200, iter=10, min_count=20)\n",
    "usedTime = time.time() - startTime\n",
    "print('形成word2vec模型共花费%.2f秒' %usedTime)"
   ]
  },
  {
   "cell_type": "code",
   "execution_count": 37,
   "metadata": {},
   "outputs": [],
   "source": [
    "import warnings\n",
    "warnings.filterwarnings('ignore')"
   ]
  },
  {
   "cell_type": "code",
   "execution_count": 38,
   "metadata": {},
   "outputs": [
    {
     "data": {
      "text/plain": [
       "[('proprietors', 0.9274622201919556),\n",
       " ('officials', 0.9012784957885742),\n",
       " ('female', 0.8940273523330688),\n",
       " ('salaried', 0.8755128383636475),\n",
       " ('employment', 0.8723747730255127),\n",
       " ('earnings', 0.866268515586853),\n",
       " ('gave', 0.8645862340927124),\n",
       " ('active', 0.8555389642715454),\n",
       " ('earning', 0.8489253520965576),\n",
       " ('subordinate', 0.8468436002731323)]"
      ]
     },
     "execution_count": 38,
     "metadata": {},
     "output_type": "execute_result"
    }
   ],
   "source": [
    "word2vec_model.wv.most_similar('clerks')"
   ]
  },
  {
   "cell_type": "code",
   "execution_count": null,
   "metadata": {},
   "outputs": [],
   "source": []
  }
 ],
 "metadata": {
  "kernelspec": {
   "display_name": "Python 3",
   "language": "python",
   "name": "python3"
  },
  "language_info": {
   "codemirror_mode": {
    "name": "ipython",
    "version": 3
   },
   "file_extension": ".py",
   "mimetype": "text/x-python",
   "name": "python",
   "nbconvert_exporter": "python",
   "pygments_lexer": "ipython3",
   "version": "3.7.3"
  }
 },
 "nbformat": 4,
 "nbformat_minor": 2
}
