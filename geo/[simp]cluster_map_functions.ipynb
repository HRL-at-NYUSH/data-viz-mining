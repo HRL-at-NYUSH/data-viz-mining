{
  "nbformat": 4,
  "nbformat_minor": 0,
  "metadata": {
    "colab": {
      "name": "[simp]cluster_map_functions.ipynb",
      "provenance": [],
      "collapsed_sections": []
    },
    "kernelspec": {
      "display_name": "Python 3",
      "language": "python",
      "name": "python3"
    },
    "language_info": {
      "codemirror_mode": {
        "name": "ipython",
        "version": 3
      },
      "file_extension": ".py",
      "mimetype": "text/x-python",
      "name": "python",
      "nbconvert_exporter": "python",
      "pygments_lexer": "ipython3",
      "version": "3.7.3"
    }
  },
  "cells": [
    {
      "cell_type": "markdown",
      "metadata": {
        "id": "cNSxHbbeJfSC"
      },
      "source": [
        "# 0. Functions"
      ]
    },
    {
      "cell_type": "code",
      "metadata": {
        "id": "mPB2oaIAVxt1"
      },
      "source": [
        "import numpy as np\n",
        "from shapely.geometry import Point\n",
        "from shapely.ops import cascaded_union\n",
        "!pip install geopandas\n",
        "import geopandas as gpd\n",
        "import pandas as pd\n",
        "\n",
        "import folium, folium.plugins\n",
        "from folium import FeatureGroup, plugins, LayerControl, Map\n",
        "from folium.plugins import FeatureGroupSubGroup"
      ],
      "execution_count": null,
      "outputs": []
    },
    {
      "cell_type": "code",
      "metadata": {
        "colab": {
          "base_uri": "https://localhost:8080/"
        },
        "id": "SGFXWT3JQbv5",
        "outputId": "12d370b3-75ed-490d-8297-92dae02f1cd3"
      },
      "source": [
        "from google.colab import drive\n",
        "drive.mount('/content/drive')"
      ],
      "execution_count": null,
      "outputs": [
        {
          "output_type": "stream",
          "name": "stdout",
          "text": [
            "Mounted at /content/drive\n"
          ]
        }
      ]
    },
    {
      "cell_type": "code",
      "metadata": {
        "id": "-yZhet21Vxt5"
      },
      "source": [
        "## Source Code: https://stackoverflow.com/questions/57000606/create-equally-spaced-coordinates-on-a-california-state-map-created-with-basemap\n",
        "def generate_grid_in_polygon(spacing, polygon):\n",
        "    ''' This Function generates evenly spaced points within the given GeoDataFrame.\n",
        "        The parameter 'spacing' defines the distance between the points in coordinate units. '''\n",
        "    import numpy as np\n",
        "    from shapely.geometry import Point\n",
        "    from shapely.ops import cascaded_union\n",
        "    \n",
        "    # Convert the GeoDataFrame to a single polygon\n",
        "    poly_in = cascaded_union([poly for poly in polygon.geometry])\n",
        "\n",
        "    # Get the bounds of the polygon\n",
        "    minx, miny, maxx, maxy = poly_in.bounds    \n",
        "    \n",
        "    # Now generate the entire grid\n",
        "    x_coords = list(np.arange(np.floor(minx), int(np.ceil(maxx)), spacing))\n",
        "    y_coords = list(np.arange(np.floor(miny), int(np.ceil(maxy)), spacing))\n",
        "    \n",
        "    grid = [Point(x) for x in zip(np.meshgrid(x_coords, y_coords)[0].flatten(), np.meshgrid(x_coords, y_coords)[1].flatten())]\n",
        "    \n",
        "    # Finally only keep the points within the polygon\n",
        "    list_of_points = [point for point in grid if point.within(poly_in)]\n",
        "\n",
        "    # Transform into a normal dataframe with fields: geometry, Longitude, Latitude and ID\n",
        "    list_of_points_gdf = gpd.GeoDataFrame(geometry=list_of_points)\n",
        "    grid_points = pd.DataFrame(list_of_points_gdf)\n",
        "    grid_points['Longitude'] = grid_points.geometry.apply(lambda p: p.x)\n",
        "    grid_points['Latitude'] = grid_points.geometry.apply(lambda p: p.y)\n",
        "    grid_points['ID'] = [i for i in range(grid_points.shape[0])]\n",
        "\n",
        "    return grid_points"
      ],
      "execution_count": null,
      "outputs": []
    },
    {
      "cell_type": "code",
      "metadata": {
        "id": "PYoXASWO44gQ"
      },
      "source": [
        "def geo_scatter_plot(df=None, location=[40.767937,-73.982155], tiles=\"cartodbpositron\"):\n",
        "  '''This function creates a scatter plot of coordinates in the dataset on a base map located by the given location.\n",
        "  '''\n",
        "  base_map = folium.Map(location=location, tiles=tiles, control_scale=True, zoom_start=15)\n",
        "  for each in grid_points.iterrows():\n",
        "    folium.CircleMarker([each[1]['Latitude'],each[1]['Longitude']], radius=0.001, color='blue',\n",
        "                        popup=str('(')+str(each[1]['Longitude'])+', '+str(each[1]['Latitude'])+')', fill_color='#FD8A6C').add_to(base_map)\n",
        "  print('There are '+str(df.shape[0])+' dots on the map.')\n",
        "  return base_map"
      ],
      "execution_count": null,
      "outputs": []
    },
    {
      "cell_type": "code",
      "metadata": {
        "id": "ewZ0EpMHzpKC"
      },
      "source": [
        "def df_cleaner(df, year=None):\n",
        "    \"\"\"This function cleans geo-coded data frames by separating the field \"Coordinates\" into two fields: \"Latitude\" and \"longitude\"\n",
        "    \"\"\"\n",
        "    df_clean = df.dropna(axis=0, subset = ['Coordinates'])\n",
        "    df_clean['Latitude'] = [eval(i)[0] for i in df_clean['Coordinates']]\n",
        "    df_clean['Longitude'] = [eval(i)[1] for i in df_clean['Coordinates']]\n",
        "    print()\n",
        "    print('Number of available data in', str(year)+':', df_clean.shape)\n",
        "    print('Proportion of available data in', str(year)+':', round(df_clean.shape[0]/df.shape[0], 3))\n",
        "    print()\n",
        "    return df_clean"
      ],
      "execution_count": null,
      "outputs": []
    },
    {
      "cell_type": "code",
      "metadata": {
        "id": "4BGxw7JdRmPY"
      },
      "source": [
        "def assign_cluster(df, grid_points):\n",
        "  '''This function assigns each dots in the dataset to its closest cluster based on Euclidean distance. \n",
        "  '''\n",
        "  # 1: round coordinates to three decimal places --> in order to reduce the number of calculations in later steps\n",
        "  df['Latitude_Mag'] = df['Latitude'].apply(lambda x: round(x, 3))\n",
        "  df['Longitude_Mag'] = df['Longitude'].apply(lambda x: round(x, 3))\n",
        "  df_temp = df.groupby(['Latitude_Mag', 'Longitude_Mag'])[['RecordId']].count().reset_index()\n",
        "  df_temp['Cluster'] = [None for i in range(df_temp.shape[0])]\n",
        "\n",
        "  # 2: calculate the distances of each data point to each cluster centroid;\n",
        "  #    assign the closest cluster to the data point\n",
        "  for i in range(df_temp.shape[0]):\n",
        "    row = df_temp.loc[i,:]\n",
        "    dist = 100\n",
        "    c = None\n",
        "    for j in grid_points.iterrows():\n",
        "      d = (row['Latitude_Mag'] - j[1]['Latitude'])**2 + (row['Longitude_Mag']-j[1]['Longitude'])**2\n",
        "      if d < dist:\n",
        "        dist = d\n",
        "        c = j[1]['ID']\n",
        "    df_temp.loc[i, 'Cluster'] = c\n",
        "\n",
        "  # 3: merge df_temp with df, assign the cluster id to each data point\n",
        "  df_new = pd.merge(df, df_temp[['Latitude_Mag', 'Longitude_Mag', 'Cluster']], how='left', on=['Latitude_Mag', 'Longitude_Mag'])\n",
        "\n",
        "  return df_new"
      ],
      "execution_count": null,
      "outputs": []
    },
    {
      "cell_type": "code",
      "metadata": {
        "id": "EzNXFpVgbGgk"
      },
      "source": [
        "def label_cluster(df, grid_points, bins=[100,1000,10000]): \n",
        "  '''This function labels the degree of size of each cluster based on the number of data points it has.\n",
        "  '''\n",
        "  clusters = df.groupby('Cluster')[['RecordId']].count().reset_index()\n",
        "  new_grid_points = pd.merge(grid_points, clusters, how='left', left_on='ID', right_on='Cluster')\n",
        "  \n",
        "  if len(bins)<2:\n",
        "    return 'Error: Bins should contain at least two values.'\n",
        "  new_grid_points['Size'] = [None for i in range(grid_points.shape[0])]\n",
        "  label = 2\n",
        "  for i in range(len(bins)):\n",
        "    s0 = bins[i]\n",
        "    if i == len(bins)-1:\n",
        "      new_grid_points.loc[new_grid_points['RecordId']>=s0, 'Size']=label\n",
        "    else:\n",
        "      if i == 0:\n",
        "        new_grid_points.loc[(new_grid_points['RecordId']<s0), 'Size']=label\n",
        "        label += 1\n",
        "      s1 = bins[i+1]\n",
        "      new_grid_points.loc[(new_grid_points['RecordId']<s1)&(new_grid_points['RecordId']>=s0), 'Size']=label\n",
        "    label += 1\n",
        "\n",
        "  # clusters with no data points:\n",
        "  new_grid_points.loc[new_grid_points['Cluster'].isnull(), 'Size']=0.01 \n",
        "  new_grid_points.loc[new_grid_points['Cluster'].isnull(), 'RecordId']=0\n",
        "\n",
        "  return new_grid_points"
      ],
      "execution_count": null,
      "outputs": []
    },
    {
      "cell_type": "code",
      "metadata": {
        "id": "Oa3vGjtKhgBu"
      },
      "source": [
        "def geo_cluster_plot(df, grid_points, bins=[100,1000,10000], colors=['aliceblue', 'lightblue', 'skyblue', 'mediumblue', 'darkblue'],\n",
        "                     location=[40.767937,-73.982155], tiles=\"cartodbpositron\", name=None):\n",
        "  '''returns a map with cluster centroids showing the population density within a certain dataset.\n",
        "  '''\n",
        "  import branca\n",
        "  import branca.colormap as cm\n",
        "  colormap = cm.LinearColormap(colors=colors, vmin=0.01, vmax=2+len(bins))\n",
        "\n",
        "  new_grid_points = label_cluster(df, grid_points, bins=bins)\n",
        "  base_map = folium.Map(location=location, tiles=tiles, control_scale=True, zoom_start=13)\n",
        "  for each in new_grid_points.iterrows():\n",
        "    folium.CircleMarker([each[1]['Latitude'],each[1]['Longitude']], radius=2**np.log2(each[1]['Size']), \n",
        "                        color=colormap(each[1]['Size']), fill_color=colormap(each[1]['Size']), fill_opacity=1,\n",
        "                        popup=\"There are \"+str(each[1]['RecordId'])+\" residents in this cluster.\").add_to(base_map)\n",
        "  colormap.add_to(base_map)\n",
        "\n",
        "  if name is not None:\n",
        "        base_map.save(r'cluster_'+name+'.html')\n",
        "        print('Map saved.')\n",
        "\n",
        "  return base_map"
      ],
      "execution_count": null,
      "outputs": []
    },
    {
      "cell_type": "code",
      "metadata": {
        "id": "WVG-qdrlKkXZ"
      },
      "source": [
        "def geo_cluster_compare(df_compare, grid_points, bins=[100,1000,10000], colors=['aliceblue','lightblue','skyblue','mediumblue','darkblue'], \n",
        "                        location=[40.767937,-73.982155], tiles=\"cartodbpositron\", name=None):\n",
        "  '''returns a map with cluster centroids showing the population density by time (datasets)\n",
        "  '''\n",
        "  if df_compare is None:\n",
        "    year_list = [1940,1930,1920,1910,1900,1880]\n",
        "    df_compare = {}\n",
        "    for year in year_list:\n",
        "      df_compare[str(year)+'_population'] = eval('df_'+str(year)+'_clean')\n",
        "  \n",
        "  import branca\n",
        "  import branca.colormap as cm\n",
        "  colormap = cm.LinearColormap(colors=colors, vmin=0.01, vmax=2+len(bins))\n",
        "\n",
        "  map = folium.Map(location=location, tiles=None, zoom_start=13)\n",
        "  base_map = FeatureGroup(name='Base Map', overlay=True, control=False)\n",
        "  folium.TileLayer(tiles=tiles).add_to(base_map)\n",
        "  base_map.add_to(map)\n",
        "\n",
        "  for k, v in df_compare.items():\n",
        "    layer = FeatureGroup(name=k, overlay=False)\n",
        "    v = label_cluster(v, grid_points, bins=bins)\n",
        "    for each in v.iterrows():\n",
        "      folium.CircleMarker([each[1]['Latitude'],each[1]['Longitude']], radius=2**np.log2(each[1]['Size']), \n",
        "                        color=colormap(each[1]['Size']), fill_color=colormap(each[1]['Size']), fill_opacity=1,\n",
        "                        popup=\"There are \"+str(each[1]['RecordId'])+\" residents around this cluster center.\").add_to(layer)\n",
        "    layer.add_to(map)\n",
        "\n",
        "  colormap.add_to(map)\n",
        "  folium.LayerControl(collapsed=False).add_to(map)\n",
        "\n",
        "  if name is not None:\n",
        "        map.save(r'cluster_'+name+'.html')\n",
        "        print('Map saved.')\n",
        "\n",
        "  return map"
      ],
      "execution_count": null,
      "outputs": []
    },
    {
      "cell_type": "code",
      "metadata": {
        "id": "XAbln5qiKStT"
      },
      "source": [
        "def geo_field_compare(df, field, grid_points, bins=[100,1000,2000], colors=['lavender', 'thistle', 'mediumpurple', 'blueviolet', 'indigo'], \n",
        "                      location=[40.767937, -73.982155], tiles='cartodbpositron', name=None):\n",
        "  '''returns a map with cluster centroids showing the population density of a specified field in a dataset (time)\n",
        "  '''\n",
        "  df.dropna(axis=0, subset=[field], inplace=True)\n",
        "  d = {}\n",
        "  for value in df.groupby(field)[['RecordId']].count().reset_index().sort_values(by='RecordId', ascending=False)[field].tolist()[:10]:\n",
        "    d[value] = df[df[field]==value]\n",
        "  return geo_cluster_compare(d, grid_points, bins, colors, location, tiles, name)"
      ],
      "execution_count": null,
      "outputs": []
    },
    {
      "cell_type": "code",
      "metadata": {
        "id": "lSPlpl1qK-FZ"
      },
      "source": [
        "def geo_compare_dual(d1, d2, grid_points, bins=[100,1000,10000], colors=['aliceblue','lightblue','skyblue','mediumblue','darkblue'], \n",
        "                     location=[40.767937,-73.982155], tiles=\"cartodbpositron\", name=None):\n",
        "  '''returns a dual map.\n",
        "  '''\n",
        "  if name is None:\n",
        "    print('This map is too large to be loaded directly in notebook. Please give a file name to be saved separately.')\n",
        "    return\n",
        "\n",
        "  import branca\n",
        "  import branca.colormap as cm\n",
        "  colormap = cm.LinearColormap(colors=colors, vmin=0.01, vmax=2+len(bins))\n",
        "\n",
        "  map = plugins.DualMap(location=[40.767937,-73.982155], tiles=None, zoom_start=13)\n",
        "  base_map = FeatureGroup(name='Base Map', overlay=True, control=False)\n",
        "  folium.TileLayer(tiles=\"cartodbpositron\").add_to(base_map)\n",
        "  base_map.add_to(map)\n",
        "\n",
        "  for k, v in d1.items():\n",
        "    layer = FeatureGroup(name=k, overlay=False)\n",
        "    v = label_cluster(v, grid_points, bins=bins)\n",
        "    for each in v.iterrows():\n",
        "      folium.CircleMarker([each[1]['Latitude'],each[1]['Longitude']], radius=2**np.log2(each[1]['Size']), \n",
        "                        color=colormap(each[1]['Size']), fill_color=colormap(each[1]['Size']), fill_opacity=1,\n",
        "                        popup=\"There are \"+str(each[1]['RecordId'])+\" residents around this cluster center.\").add_to(layer)\n",
        "    layer.add_to(map.m1)\n",
        "\n",
        "  for k, v in d2.items():\n",
        "    layer = FeatureGroup(name=k, overlay=False)\n",
        "    v = label_cluster(v, grid_points, bins=bins)\n",
        "    for each in v.iterrows():\n",
        "      folium.CircleMarker([each[1]['Latitude'],each[1]['Longitude']], radius=2**np.log2(each[1]['Size']), \n",
        "                        color=colormap(each[1]['Size']), fill_color=colormap(each[1]['Size']), fill_opacity=1,\n",
        "                        popup=\"There are \"+str(each[1]['RecordId'])+\" residents around this cluster center.\").add_to(layer)\n",
        "    layer.add_to(map.m2)\n",
        "  \n",
        "  # colormap.add_to(map)\n",
        "  folium.LayerControl(collapsed=False).add_to(map)\n",
        "\n",
        "  map.save(r'cluster_'+name+'.html')\n",
        "  print('Map saved.')\n",
        "\n",
        "  return map"
      ],
      "execution_count": null,
      "outputs": []
    },
    {
      "cell_type": "code",
      "metadata": {
        "id": "5vQMWeV1K-Fl"
      },
      "source": [
        "def geo_value_compare(field, value, grid_points, bins=[100,1000,2000], colors=['aliceblue', 'lightblue','skyblue','mediumblue', 'darkblue'], \n",
        "                      location=[40.767937, -73.982155], tiles='cartodbpositron', name=None):\n",
        "  '''returns a map with cluster centroids showing the population density of a specified value of a field by time (datasets)\n",
        "  '''\n",
        "  year_list = [1940,1930,1920,1910,1900,1880]\n",
        "  if type(value) != list:\n",
        "    d = {}\n",
        "    for year in year_list:\n",
        "      df = eval('df_'+str(year)+'_clean')\n",
        "      d[str(year)+'_'+field+' is '+value] = df[df[field]==value]\n",
        "    return geo_cluster_compare(d, grid_points, bins, colors, location, tiles, name)\n",
        "\n",
        "  elif type(value) == list:\n",
        "    if len(value) != 2:\n",
        "      print('Error of field values. Only 2 inputs in a value list allowed.')\n",
        "      return\n",
        "    elif type(value[0]) == str and type(value[1]) == str:\n",
        "      d1 = {}\n",
        "      d2 = {}\n",
        "      for year in year_list:\n",
        "        df = eval('df_'+str(year)+'_clean')\n",
        "        d1[str(year)+'_'+field+' is '+value[0]] = df[df[field]==value[0]]\n",
        "        d2[str(year)+'_'+field+' is '+value[1]] = df[df[field]==value[1]]\n",
        "      return geo_compare_dual(d1, d2, grid_points, bins, colors, location, tiles, name)"
      ],
      "execution_count": null,
      "outputs": []
    },
    {
      "cell_type": "markdown",
      "metadata": {
        "id": "GTkchsj1N0UP"
      },
      "source": [
        "# 1. Preparation"
      ]
    },
    {
      "cell_type": "markdown",
      "metadata": {
        "id": "JrIh8A6qQAkZ"
      },
      "source": [
        "## 1.1 Generate cluster centroids"
      ]
    },
    {
      "cell_type": "code",
      "metadata": {
        "id": "BaK-CQj2Vxt4"
      },
      "source": [
        "df_nybb = gpd.read_file(gpd.datasets.get_path('nybb'))\n",
        "df_nybb = df_nybb.to_crs(epsg=4326)\n",
        "manhattan_map = df_nybb[df_nybb['BoroName']=='Manhattan']"
      ],
      "execution_count": null,
      "outputs": []
    },
    {
      "cell_type": "code",
      "metadata": {
        "colab": {
          "base_uri": "https://localhost:8080/",
          "height": 204
        },
        "id": "LomyjxvY69EH",
        "outputId": "249a2523-c3a4-486d-c8e8-d3f4b06068db"
      },
      "source": [
        "grid_points = generate_grid_in_polygon(0.002, manhattan_map)\n",
        "grid_points.head()"
      ],
      "execution_count": null,
      "outputs": [
        {
          "output_type": "execute_result",
          "data": {
            "text/html": [
              "<div>\n",
              "<style scoped>\n",
              "    .dataframe tbody tr th:only-of-type {\n",
              "        vertical-align: middle;\n",
              "    }\n",
              "\n",
              "    .dataframe tbody tr th {\n",
              "        vertical-align: top;\n",
              "    }\n",
              "\n",
              "    .dataframe thead th {\n",
              "        text-align: right;\n",
              "    }\n",
              "</style>\n",
              "<table border=\"1\" class=\"dataframe\">\n",
              "  <thead>\n",
              "    <tr style=\"text-align: right;\">\n",
              "      <th></th>\n",
              "      <th>geometry</th>\n",
              "      <th>Longitude</th>\n",
              "      <th>Latitude</th>\n",
              "      <th>ID</th>\n",
              "    </tr>\n",
              "  </thead>\n",
              "  <tbody>\n",
              "    <tr>\n",
              "      <th>0</th>\n",
              "      <td>POINT (-74.02400 40.68400)</td>\n",
              "      <td>-74.024</td>\n",
              "      <td>40.684</td>\n",
              "      <td>0</td>\n",
              "    </tr>\n",
              "    <tr>\n",
              "      <th>1</th>\n",
              "      <td>POINT (-74.01200 40.68400)</td>\n",
              "      <td>-74.012</td>\n",
              "      <td>40.684</td>\n",
              "      <td>1</td>\n",
              "    </tr>\n",
              "    <tr>\n",
              "      <th>2</th>\n",
              "      <td>POINT (-74.02600 40.68600)</td>\n",
              "      <td>-74.026</td>\n",
              "      <td>40.686</td>\n",
              "      <td>2</td>\n",
              "    </tr>\n",
              "    <tr>\n",
              "      <th>3</th>\n",
              "      <td>POINT (-74.02400 40.68600)</td>\n",
              "      <td>-74.024</td>\n",
              "      <td>40.686</td>\n",
              "      <td>3</td>\n",
              "    </tr>\n",
              "    <tr>\n",
              "      <th>4</th>\n",
              "      <td>POINT (-74.02200 40.68600)</td>\n",
              "      <td>-74.022</td>\n",
              "      <td>40.686</td>\n",
              "      <td>4</td>\n",
              "    </tr>\n",
              "  </tbody>\n",
              "</table>\n",
              "</div>"
            ],
            "text/plain": [
              "                     geometry  Longitude  Latitude  ID\n",
              "0  POINT (-74.02400 40.68400)    -74.024    40.684   0\n",
              "1  POINT (-74.01200 40.68400)    -74.012    40.684   1\n",
              "2  POINT (-74.02600 40.68600)    -74.026    40.686   2\n",
              "3  POINT (-74.02400 40.68600)    -74.024    40.686   3\n",
              "4  POINT (-74.02200 40.68600)    -74.022    40.686   4"
            ]
          },
          "metadata": {},
          "execution_count": 5
        }
      ]
    },
    {
      "cell_type": "code",
      "metadata": {
        "id": "mFMrc9gl57Gn"
      },
      "source": [
        "geo_scatter_plot(grid_points)"
      ],
      "execution_count": null,
      "outputs": []
    },
    {
      "cell_type": "markdown",
      "metadata": {
        "id": "XS6rIUJoQuGx"
      },
      "source": [
        "- Each blue dot on the map represents a \"cluster centroid\"\n",
        "- There are 1574 \"cluster centroids\" in Manhattan\n",
        "- **Notice**: the points are not fully equally distanced"
      ]
    },
    {
      "cell_type": "markdown",
      "metadata": {
        "id": "KLRv16zDse8Q"
      },
      "source": [
        "## 1.2 Load Raw Data"
      ]
    },
    {
      "cell_type": "code",
      "metadata": {
        "id": "YNOm5OhRcDfK"
      },
      "source": [
        "path = '/content/drive/MyDrive/geocoded_clean_data/'\n",
        "df_1940 = pd.read_csv(path + 'geocoded_census_1940.csv')\n",
        "df_1930 = pd.read_csv(path + 'geocoded_census_1930.csv')\n",
        "df_1920 = pd.read_csv(path + 'geocoded_census_1920.csv')\n",
        "df_1910 = pd.read_csv(path + 'geocoded_census_1910.csv')\n",
        "df_1900 = pd.read_csv(path + 'geocoded_census_1900.csv')\n",
        "df_1880 = pd.read_csv(path + 'geocoded_census_1880.csv')"
      ],
      "execution_count": null,
      "outputs": []
    },
    {
      "cell_type": "code",
      "metadata": {
        "id": "-_-IhZ5zeezA"
      },
      "source": [
        "df_1940_clean = df_cleaner(df_1940, 1940)\n",
        "df_1930_clean = df_cleaner(df_1930, 1930)\n",
        "df_1920_clean = df_cleaner(df_1920, 1920)\n",
        "df_1910_clean = df_cleaner(df_1910, 1910)\n",
        "df_1900_clean = df_cleaner(df_1900, 1900)\n",
        "df_1880_clean = df_cleaner(df_1880, 1880)"
      ],
      "execution_count": null,
      "outputs": []
    },
    {
      "cell_type": "markdown",
      "metadata": {
        "id": "manxVtzwQKjG"
      },
      "source": [
        "## 1.3 Assign Clusters"
      ]
    },
    {
      "cell_type": "markdown",
      "metadata": {
        "id": "UUk7EwxjSAg0"
      },
      "source": [
        "After we customized our cluster centroids (named as *grid_points*), we need to assign each data point in the dataset to its closest cluster centroid.\n",
        "<br>\n",
        "**This step takes a bit longer time than normal (8~10 mins for each dataset).** I recommend that once you finished this process, save the data frames to local/cloud drives so that you don't need to wait for the process next time you do it."
      ]
    },
    {
      "cell_type": "code",
      "metadata": {
        "id": "m1rY5MYUGEtl"
      },
      "source": [
        "df_1940_clean = assign_cluster(df_1940_clean, grid_points)"
      ],
      "execution_count": null,
      "outputs": []
    },
    {
      "cell_type": "code",
      "metadata": {
        "id": "vJuDHmtE65os"
      },
      "source": [
        "df_1930_clean = assign_cluster(df_1930_clean, grid_points)"
      ],
      "execution_count": null,
      "outputs": []
    },
    {
      "cell_type": "code",
      "metadata": {
        "id": "CihsRx1YGIeZ"
      },
      "source": [
        "df_1920_clean = assign_cluster(df_1920_clean, grid_points)"
      ],
      "execution_count": null,
      "outputs": []
    },
    {
      "cell_type": "code",
      "metadata": {
        "id": "RTDe5fYcGJ8d"
      },
      "source": [
        "df_1910_clean = assign_cluster(df_1910_clean, grid_points)"
      ],
      "execution_count": null,
      "outputs": []
    },
    {
      "cell_type": "code",
      "metadata": {
        "id": "_-M0rYlcGMjl"
      },
      "source": [
        "df_1900_clean = assign_cluster(df_1900_clean, grid_points)"
      ],
      "execution_count": null,
      "outputs": []
    },
    {
      "cell_type": "code",
      "metadata": {
        "id": "C2GFBkbTGELF"
      },
      "source": [
        "df_1880_clean = assign_cluster(df_1880_clean, grid_points)"
      ],
      "execution_count": null,
      "outputs": []
    },
    {
      "cell_type": "markdown",
      "metadata": {
        "id": "tcOLAyvNHH7q"
      },
      "source": [
        "**Save the coded files separately in avoidance of repetitive computing for next time**"
      ]
    },
    {
      "cell_type": "code",
      "metadata": {
        "id": "XuISuVm4GRpY"
      },
      "source": [
        "#path = '/content/drive/MyDrive/Colab Notebooks/'\n",
        "#year_list = [1940, 1930, 1920, 1910, 1900, 1880] \n",
        "#for year in year_list:\n",
        "#  eval('df_'+str(year)+'_clean').to_csv(path + 'df_'+str(year)+'_clean.csv', index=False)"
      ],
      "execution_count": null,
      "outputs": []
    },
    {
      "cell_type": "code",
      "metadata": {
        "id": "Jg53oIkVAB8K"
      },
      "source": [
        "path = '/content/drive/MyDrive/Maps_Functions/df_clean/'\n",
        "df_1940_clean = pd.read_csv(path + 'df_1940_clean.csv')\n",
        "df_1930_clean = pd.read_csv(path + 'df_1930_clean.csv')\n",
        "df_1920_clean = pd.read_csv(path + 'df_1920_clean.csv')\n",
        "df_1910_clean = pd.read_csv(path + 'df_1910_clean.csv')\n",
        "df_1900_clean = pd.read_csv(path + 'df_1900_clean.csv')\n",
        "df_1880_clean = pd.read_csv(path + 'df_1880_clean.csv')"
      ],
      "execution_count": null,
      "outputs": []
    },
    {
      "cell_type": "markdown",
      "metadata": {
        "id": "_Hfx6Dcd62DN"
      },
      "source": [
        "# 2. Use Cases"
      ]
    },
    {
      "cell_type": "markdown",
      "metadata": {
        "id": "9r4HHtTrIyoO"
      },
      "source": [
        "## 2.1 Cluster Plot"
      ]
    },
    {
      "cell_type": "code",
      "metadata": {
        "id": "otakS3e5OlfJ"
      },
      "source": [
        "m = geo_cluster_plot(df_1930_clean, grid_points, bins=[100, 1000, 10000], name='1930')\n",
        "m"
      ],
      "execution_count": null,
      "outputs": []
    },
    {
      "cell_type": "markdown",
      "metadata": {
        "id": "qcaj19RqMp1u"
      },
      "source": [
        "As we can see from the map:\n",
        "- Each blue dot represents a \"cluster centroid\"\n",
        "- Sizes and colors indicate the number of data points \"in\" a cluster, i.e. the cluster is the closest to these points. The larger the size and the deeper the color, the more data points a cluster contains.\n",
        "  - Sizes and colors are categorized into certain degrees, as is shown on the upper-right color bar.\n",
        "  - You can customize the degrees by setting the parameter **bins**. Each value in **bins** is a threshold that separates the clusters by the numbers of data points they have. (Default value of **bins** is [100,1000,10000], which means clusters will be separated into *below 100, 100-1000, 1000-10000, and above 10000*.\n",
        "  - You can also customize the **colors** shown on the map. The **colors** parameter should contain at least two values.\n",
        "- By clicking on each cluster centroid, you will see a pop up message telling the exact number of data points (residents) in this cluste.\n",
        "- If you want to save the map as a separate file, you should give **name** parameter a value, which will be the name of a .html file."
      ]
    },
    {
      "cell_type": "code",
      "metadata": {
        "id": "tXxgm2FQS0Lw"
      },
      "source": [
        "geo_cluster_plot(df_1880_clean, grid_points, name='1880')"
      ],
      "execution_count": null,
      "outputs": []
    },
    {
      "cell_type": "markdown",
      "metadata": {
        "id": "wZ2PSBs3IxdT"
      },
      "source": [
        "## 2.2 Compare Cluster Maps"
      ]
    },
    {
      "cell_type": "code",
      "metadata": {
        "id": "-TG60S9N9Fcn"
      },
      "source": [
        "df_compare = {'1940_population': df_1940_clean, '1930_population': df_1930_clean, '1920_population': df_1920_clean, \n",
        "                '1910_population': df_1910_clean, '1900_population': df_1900_clean, '1880_population': df_1880_clean}"
      ],
      "execution_count": null,
      "outputs": []
    },
    {
      "cell_type": "code",
      "metadata": {
        "id": "YIRePa_v2grA"
      },
      "source": [
        "geo_cluster_compare(df_compare, grid_points, name='all')"
      ],
      "execution_count": null,
      "outputs": []
    },
    {
      "cell_type": "markdown",
      "metadata": {
        "id": "BX7kfzEnqGbC"
      },
      "source": [
        "To easier compare different maps with similar structure, you can give a dictionary to the **df_compare** parameter, whose keys will be layer names and the items be the datasets.\n",
        "<br>\n",
        "As we can see from the map:\n",
        "- From 1880 to 1900s, it's obvious that residents were moving from the lower (southern) part to the upper (northern). \n",
        "- **Notice**: the number of data points shown on the map cannot fully represent the real Census data, since some of the data points were unable to be geo-codede and thus mapped. Hence the data points “increasing\" or \"decreasing\" on the map, across different times, cannot indicate the same conclusion for the actual population changes.\n",
        "- Besides the trend of population moving from south to the north, we can see there are some \"population centers\" among the clusters, such as China town in the southeast."
      ]
    },
    {
      "cell_type": "markdown",
      "metadata": {
        "id": "8iZMx4_WfhTP"
      },
      "source": [
        "## 2.3 Compare Different Values in Specified Field"
      ]
    },
    {
      "cell_type": "code",
      "metadata": {
        "id": "cCbRGZXp-Uv_"
      },
      "source": [
        "geo_field_compare(df_1930_clean, 'Race', grid_points, bins=[100, 1000, 2000], name='compare_race')"
      ],
      "execution_count": null,
      "outputs": []
    },
    {
      "cell_type": "markdown",
      "metadata": {
        "id": "lt9nch0m6oDt"
      },
      "source": [
        "As we can see:\n",
        "- White and Black residents have obvious population centers (in 1930). Since White residents take the majority of overall population, the population centers shown in 'White' layer are quite similar to those of the overall 1930 dataset. \n",
        "- In comparison, although Black residents are the second largest group, the population centers are mainly in the northern part.\n",
        "- Chinese residents mainly live around the China town. For the rest groups of races, there are no distinct population centers."
      ]
    },
    {
      "cell_type": "code",
      "metadata": {
        "id": "nPGgQvn8C8lO"
      },
      "source": [
        "geo_field_compare(df_1930_clean, 'Birth Country DV1', grid_points, bins=[100, 1000, 10000], name='compare_birth')"
      ],
      "execution_count": null,
      "outputs": []
    },
    {
      "cell_type": "markdown",
      "metadata": {
        "id": "lQghNenpFO45"
      },
      "source": [
        "As we can see:\n",
        "- Residents born in U.S. take the majority of overall population, hence their population centers are similar to those of the 1930 dataset.\n",
        "- Residents born in Italy have distinct population centers in the northeast part, while residents born in Ireland tend to live near the two sides of central part. Residents from both Russia and Poland have population centers around the China town."
      ]
    },
    {
      "cell_type": "code",
      "metadata": {
        "id": "d8Z7-zpLoTRh"
      },
      "source": [
        "geo_field_compare(df_1880_clean, 'Race', grid_points, bins=[100, 1000, 2000])"
      ],
      "execution_count": null,
      "outputs": []
    },
    {
      "cell_type": "markdown",
      "metadata": {
        "id": "0A6PwWpUoyq8"
      },
      "source": [
        "## 2.4 Compare Specified Value by Time"
      ]
    },
    {
      "cell_type": "code",
      "metadata": {
        "id": "vDxSCW0GDkq-"
      },
      "source": [
        "geo_value_compare('Race', 'Black', grid_points, bins=[100, 1000, 2000], name='race_black')"
      ],
      "execution_count": null,
      "outputs": []
    },
    {
      "cell_type": "markdown",
      "metadata": {
        "id": "JdN41Tt_-Qs0"
      },
      "source": [
        "As we compare the population of Black residents across different times, we can see that starting from 1920s, Black residents began to form population centers in the north."
      ]
    },
    {
      "cell_type": "code",
      "metadata": {
        "id": "Xr1ZnWYpV5r7",
        "colab": {
          "base_uri": "https://localhost:8080/"
        },
        "outputId": "725d72ba-024c-46cb-a8b2-e0e9864e1903"
      },
      "source": [
        "# This map is too big to be loaded in the notebook\n",
        "geo_value_compare('Race', ['Black', 'Asian'], grid_points, name='race_black_asian')"
      ],
      "execution_count": null,
      "outputs": [
        {
          "output_type": "stream",
          "name": "stdout",
          "text": [
            "Map saved.\n"
          ]
        }
      ]
    },
    {
      "cell_type": "markdown",
      "metadata": {
        "id": "9xapLrFyjb4r"
      },
      "source": [
        "# Appendix."
      ]
    },
    {
      "cell_type": "code",
      "metadata": {
        "id": "VnctLLFePtSA"
      },
      "source": [
        ""
      ],
      "execution_count": null,
      "outputs": []
    }
  ]
}